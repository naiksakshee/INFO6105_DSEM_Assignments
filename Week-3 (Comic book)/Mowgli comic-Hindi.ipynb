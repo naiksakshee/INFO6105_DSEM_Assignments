{
 "cells": [
  {
   "cell_type": "code",
   "execution_count": 9,
   "metadata": {},
   "outputs": [
    {
     "name": "stdout",
     "output_type": "stream",
     "text": [
      "1 268 27\n"
     ]
    }
   ],
   "source": [
    "from IPython.display import Image\n",
    "from PIL import Image as pili, ImageOps as piliops\n",
    "from PIL import Image as pili, ImageDraw as pild, ImageFont as pilf \n",
    "\n",
    "piliops.expand(pili.open('ipynb.images/comic book 2/0.png'), border=(10,10),fill='black').save('ipynb.images/comic book 2/edited comic book 2/0.PNG')\n",
    "Image(filename='ipynb.images/comic book 2/edited comic book 2/0.PNG', width=400)\n",
    "\n",
    "caption = \"\"\" आदमी-गांव में एक खूबसूरत सुबह.. \"\"\"\n",
    "\n",
    "TINT_COLOR = (0, 0, 0)  # Black\n",
    "TRANSPARENCY = .90  # Degree of transparency, 0-100%\n",
    "OPACITY = int(255 * TRANSPARENCY)\n",
    "\n",
    "from PIL import Image, ImageFont, ImageDraw\n",
    "\n",
    "img = pili.open('ipynb.images/comic book 2/edited comic book 2/0.PNG').convert('RGBA')\n",
    "\n",
    "overlay = pili.new('RGBA', img.size, TINT_COLOR+(0,))\n",
    "draw = pild.Draw(overlay)\n",
    "font = pilf.truetype(\"C:/Windows/Fonts/Nirmalas.ttf\", 20)\n",
    "x, y = (img.width, img.height)\n",
    "text = caption\n",
    "w, h = font.getsize(text)\n",
    "num_lines = len(text.split('\\n'))\n",
    "print(num_lines, w, h)\n",
    "x, y = 10, img.height - (num_lines-0.001*num_lines)*h\n",
    "#draw.rectangle((x, y, x + w, y + h), fill='black')\n",
    "draw.rectangle((x, y, x + img.width*3, y + img.height*3), fill=TINT_COLOR+(OPACITY,))\n",
    "draw.text((x, y), text, fill=(225, 255, 255), font=font)\n",
    "\n",
    "# Alpha composite these two images together to obtain the desired result.\n",
    "img = pili.alpha_composite(img, overlay)\n",
    "img = img.convert(\"RGB\") # Remove alpha for saving in jpg format.\n",
    "\n",
    "img.save('ipynb.images/comic book 2/edited comic book 2 with captions/0.PNG')"
   ]
  },
  {
   "cell_type": "code",
   "execution_count": 10,
   "metadata": {},
   "outputs": [
    {
     "name": "stdout",
     "output_type": "stream",
     "text": [
      "1 475 26\n"
     ]
    }
   ],
   "source": [
    "from IPython.display import Image\n",
    "from PIL import Image as pili, ImageOps as piliops\n",
    "from PIL import Image as pili, ImageDraw as pild, ImageFont as pilf \n",
    "\n",
    "piliops.expand(pili.open('ipynb.images/comic book 2/1.png'), border=(10,10),fill='black').save('ipynb.images/comic book 2/edited comic book 2/1.PNG')\n",
    "Image(filename='ipynb.images/comic book 2/edited comic book 2/1.PNG', width=400)\n",
    "\n",
    "caption = \"\"\" मोगली ने रंजन को शांती के साथ मज़ाक करने के लिए मना लिया \"\"\"\n",
    "\n",
    "TINT_COLOR = (0, 0, 0)  # Black\n",
    "TRANSPARENCY = .90  # Degree of transparency, 0-100%\n",
    "OPACITY = int(255 * TRANSPARENCY)\n",
    "\n",
    "from PIL import Image, ImageFont, ImageDraw\n",
    "\n",
    "img = pili.open('ipynb.images/comic book 2/edited comic book 2/1.PNG').convert('RGBA')\n",
    "\n",
    "overlay = pili.new('RGBA', img.size, TINT_COLOR+(0,))\n",
    "draw = pild.Draw(overlay)\n",
    "font = pilf.truetype(\"C:/Windows/Fonts/Nirmalas.ttf\", 20)\n",
    "x, y = (img.width, img.height)\n",
    "text = caption\n",
    "w, h = font.getsize(text)\n",
    "num_lines = len(text.split('\\n'))\n",
    "print(num_lines, w, h)\n",
    "x, y = 10, img.height - (num_lines-0.001*num_lines)*h\n",
    "#draw.rectangle((x, y, x + w, y + h), fill='black')\n",
    "#draw.rectangle((x, y, x + w, y + 4*h), fill=TINT_COLOR+(OPACITY,))\n",
    "draw.rectangle((x, y, x + img.width*3, y + img.height*3), fill=TINT_COLOR+(OPACITY,))\n",
    "draw.text((x, y), text, fill=(225, 255, 255), font=font)\n",
    "\n",
    "# Alpha composite these two images together to obtain the desired result.\n",
    "img = pili.alpha_composite(img, overlay)\n",
    "img = img.convert(\"RGB\") # Remove alpha for saving in jpg format.\n",
    "\n",
    "img.save('ipynb.images/comic book 2/edited comic book 2 with captions/1.PNG')"
   ]
  },
  {
   "cell_type": "code",
   "execution_count": 11,
   "metadata": {},
   "outputs": [
    {
     "name": "stdout",
     "output_type": "stream",
     "text": [
      "1 259 27\n"
     ]
    }
   ],
   "source": [
    "from IPython.display import Image\n",
    "from PIL import Image as pili, ImageOps as piliops\n",
    "from PIL import Image as pili, ImageDraw as pild, ImageFont as pilf \n",
    "\n",
    "piliops.expand(pili.open('ipynb.images/comic book 2/2.png'), border=(10,10),fill='black').save('ipynb.images/comic book 2/edited comic book 2/2.PNG')\n",
    "Image(filename='ipynb.images/comic book 2/edited comic book 2/2.PNG', width=400)\n",
    "\n",
    "caption = \"\"\" जो कुछ पानी लाने के लिए बाहर है \"\"\"\n",
    "\n",
    "TINT_COLOR = (0, 0, 0)  # Black\n",
    "TRANSPARENCY = .90  # Degree of transparency, 0-100%\n",
    "OPACITY = int(255 * TRANSPARENCY)\n",
    "\n",
    "from PIL import Image, ImageFont, ImageDraw\n",
    "\n",
    "img = pili.open('ipynb.images/comic book 2/edited comic book 2/2.PNG').convert('RGBA')\n",
    "\n",
    "overlay = pili.new('RGBA', img.size, TINT_COLOR+(0,))\n",
    "draw = pild.Draw(overlay)\n",
    "font = pilf.truetype(\"C:/Windows/Fonts/Nirmalas.ttf\", 20)\n",
    "x, y = (img.width, img.height)\n",
    "text = caption\n",
    "w, h = font.getsize(text)\n",
    "num_lines = len(text.split('\\n'))\n",
    "print(num_lines, w, h)\n",
    "x, y = 10, img.height - (num_lines-0.001*num_lines)*h\n",
    "#draw.rectangle((x, y, x + w, y + h), fill='black')\n",
    "#draw.rectangle((x, y, x + w, y + 4*h), fill=TINT_COLOR+(OPACITY,))\n",
    "draw.rectangle((x, y, x + img.width*3, y + img.height*3), fill=TINT_COLOR+(OPACITY,))\n",
    "draw.text((x, y), text, fill=(225, 255, 255), font=font)\n",
    "\n",
    "# Alpha composite these two images together to obtain the desired result.\n",
    "img = pili.alpha_composite(img, overlay)\n",
    "img = img.convert(\"RGB\") # Remove alpha for saving in jpg format.\n",
    "\n",
    "img.save('ipynb.images/comic book 2/edited comic book 2 with captions/2.PNG')"
   ]
  },
  {
   "cell_type": "code",
   "execution_count": 12,
   "metadata": {},
   "outputs": [
    {
     "name": "stderr",
     "output_type": "stream",
     "text": [
      "<ipython-input-12-322be348b546>:12: FutureWarning: arrays to stack must be passed as a \"sequence\" type such as list or tuple. Support for non-sequence iterables such as generators is deprecated as of NumPy 1.16 and will raise an error in the future.\n",
      "  imgs_comb = np.hstack( (np.asarray( i.resize(min_shape) ) for i in imgs ) )\n"
     ]
    }
   ],
   "source": [
    "import numpy as np\n",
    "import PIL\n",
    "\n",
    "list_im = ['ipynb.images/comic book 2/edited comic book 2 with captions/0.PNG',\n",
    "            'ipynb.images/comic book 2/edited comic book 2 with captions/1.PNG',\n",
    "            'ipynb.images/comic book 2/edited comic book 2 with captions/2.PNG',\n",
    "          ]\n",
    "imgs    = [ PIL.Image.open(i) for i in list_im ]\n",
    "\n",
    "# pick the image which is the smallest, and resize the others to match it (can be arbitrary image shape here)\n",
    "min_shape = sorted( [(np.sum(i.size), i.size ) for i in imgs])[0][1]\n",
    "imgs_comb = np.hstack( (np.asarray( i.resize(min_shape) ) for i in imgs ) )\n",
    "\n",
    "# save that beautiful picture\n",
    "imgs_comb = PIL.Image.fromarray( imgs_comb)\n",
    "imgs_comb.save( 'ipynb.images\\comic book 2\\combined comic book 2.3\\Strip1.png' ) "
   ]
  },
  {
   "cell_type": "code",
   "execution_count": 13,
   "metadata": {},
   "outputs": [
    {
     "name": "stdout",
     "output_type": "stream",
     "text": [
      "2 715 27\n"
     ]
    }
   ],
   "source": [
    "from IPython.display import Image\n",
    "from PIL import Image as pili, ImageOps as piliops\n",
    "from PIL import Image as pili, ImageDraw as pild, ImageFont as pilf \n",
    "\n",
    "piliops.expand(pili.open('ipynb.images/comic book 2/3.png'), border=(10,10),fill='black').save('ipynb.images/comic book 2/edited comic book 2/3.PNG')\n",
    "Image(filename='ipynb.images/comic book 2/edited comic book 2/3.PNG', width=400)\n",
    "\n",
    "caption = \"\"\" शांति खुशी से अपनी पसंदीदा धुन को नदी के पानी में मिला रही है\n",
    "उसके बर्तन में जब अचानक.. \"\"\"\n",
    "\n",
    "TINT_COLOR = (0, 0, 0)  # Black\n",
    "TRANSPARENCY = .90  # Degree of transparency, 0-100%\n",
    "OPACITY = int(255 * TRANSPARENCY)\n",
    "\n",
    "from PIL import Image, ImageFont, ImageDraw\n",
    "\n",
    "img = pili.open('ipynb.images/comic book 2/edited comic book 2/3.PNG').convert('RGBA')\n",
    "\n",
    "overlay = pili.new('RGBA', img.size, TINT_COLOR+(0,))\n",
    "draw = pild.Draw(overlay)\n",
    "font = pilf.truetype(\"C:/Windows/Fonts/Nirmalas.ttf\", 20)\n",
    "x, y = (img.width, img.height)\n",
    "text = caption\n",
    "w, h = font.getsize(text)\n",
    "num_lines = len(text.split('\\n'))\n",
    "print(num_lines, w, h)\n",
    "x, y = 10, img.height - (num_lines-0.001*num_lines)*h\n",
    "#draw.rectangle((x, y, x + w, y + h), fill='black')\n",
    "#draw.rectangle((x, y, x + w, y + 4*h), fill=TINT_COLOR+(OPACITY,))\n",
    "draw.rectangle((x, y, x + img.width*3, y + img.height*3), fill=TINT_COLOR+(OPACITY,))\n",
    "draw.text((x, y), text, fill=(225, 255, 255), font=font)\n",
    "\n",
    "# Alpha composite these two images together to obtain the desired result.\n",
    "img = pili.alpha_composite(img, overlay)\n",
    "img = img.convert(\"RGB\") # Remove alpha for saving in jpg format.\n",
    "\n",
    "img.save('ipynb.images/comic book 2/edited comic book 2 with captions/3.PNG')"
   ]
  },
  {
   "cell_type": "code",
   "execution_count": 14,
   "metadata": {},
   "outputs": [
    {
     "name": "stdout",
     "output_type": "stream",
     "text": [
      "2 402 23\n"
     ]
    }
   ],
   "source": [
    "from IPython.display import Image\n",
    "from PIL import Image as pili, ImageOps as piliops\n",
    "from PIL import Image as pili, ImageDraw as pild, ImageFont as pilf \n",
    "\n",
    "piliops.expand(pili.open('ipynb.images/comic book 2/5.png'), border=(10,10),fill='black').save('ipynb.images/comic book 2/edited comic book 2/5.PNG')\n",
    "Image(filename='ipynb.images/comic book 2/edited comic book 2/5.PNG', width=400)\n",
    "\n",
    "caption = \"\"\"                                    मोगली ने उसे चौंका दिया!\n",
    "    \"\"\"\n",
    "\n",
    "TINT_COLOR = (0, 0, 0)  # Black\n",
    "TRANSPARENCY = .90  # Degree of transparency, 0-100%\n",
    "OPACITY = int(255 * TRANSPARENCY)\n",
    "\n",
    "from PIL import Image, ImageFont, ImageDraw\n",
    "\n",
    "img = pili.open('ipynb.images/comic book 2/edited comic book 2/5.PNG').convert('RGBA')\n",
    "\n",
    "overlay = pili.new('RGBA', img.size, TINT_COLOR+(0,))\n",
    "draw = pild.Draw(overlay)\n",
    "font = pilf.truetype(\"C:/Windows/Fonts/Nirmalas.ttf\", 20)\n",
    "x, y = (img.width, img.height)\n",
    "text = caption\n",
    "w, h = font.getsize(text)\n",
    "num_lines = len(text.split('\\n'))\n",
    "print(num_lines, w, h)\n",
    "x, y = 10, img.height - (num_lines-0.001*num_lines)*h\n",
    "#draw.rectangle((x, y, x + w, y + h), fill='black')\n",
    "#draw.rectangle((x, y, x + w, y + 4*h), fill=TINT_COLOR+(OPACITY,))\n",
    "draw.rectangle((x, y, x + img.width*3, y + img.height*3), fill=TINT_COLOR+(OPACITY,))\n",
    "draw.text((x, y), text, fill=(225, 255, 255), font=font)\n",
    "\n",
    "# Alpha composite these two images together to obtain the desired result.\n",
    "img = pili.alpha_composite(img, overlay)\n",
    "img = img.convert(\"RGB\") # Remove alpha for saving in jpg format.\n",
    "\n",
    "img.save('ipynb.images/comic book 2/edited comic book 2 with captions/5.PNG')"
   ]
  },
  {
   "cell_type": "code",
   "execution_count": 16,
   "metadata": {},
   "outputs": [
    {
     "name": "stdout",
     "output_type": "stream",
     "text": [
      "4 1150 27\n"
     ]
    }
   ],
   "source": [
    "from IPython.display import Image\n",
    "from PIL import Image as pili, ImageOps as piliops\n",
    "from PIL import Image as pili, ImageDraw as pild, ImageFont as pilf \n",
    "\n",
    "piliops.expand(pili.open('ipynb.images/comic book 2/6.png'), border=(10,10),fill='black').save('ipynb.images/comic book 2/edited comic book 2/6.PNG')\n",
    "Image(filename='ipynb.images/comic book 2/edited comic book 2/6.PNG', width=400)\n",
    "\n",
    "caption = \"\"\" मोगली: \"तुम्हे  जंगल में अकेले नहीं भटकना चाहिए।\n",
    "ढीले पर एक बाघ है, उसके पास बड़े नुकीले हैं और वे कहते हैं\n",
    "वह बच्चों को खाना पसंद करता है\"\n",
    "    \"\"\"\n",
    "\n",
    "TINT_COLOR = (0, 0, 0)  # Black\n",
    "TRANSPARENCY = .90  # Degree of transparency, 0-100%\n",
    "OPACITY = int(255 * TRANSPARENCY)\n",
    "\n",
    "from PIL import Image, ImageFont, ImageDraw\n",
    "\n",
    "img = pili.open('ipynb.images/comic book 2/edited comic book 2/6.PNG').convert('RGBA')\n",
    "\n",
    "overlay = pili.new('RGBA', img.size, TINT_COLOR+(0,))\n",
    "draw = pild.Draw(overlay)\n",
    "font = pilf.truetype(\"C:/Windows/Fonts/Nirmalas.ttf\", 20)\n",
    "x, y = (img.width, img.height)\n",
    "text = caption\n",
    "w, h = font.getsize(text)\n",
    "num_lines = len(text.split('\\n'))\n",
    "print(num_lines, w, h)\n",
    "x, y = 10, img.height - (num_lines-0.001*num_lines)*h\n",
    "#draw.rectangle((x, y, x + w, y + h), fill='black')\n",
    "#draw.rectangle((x, y, x + w, y + 4*h), fill=TINT_COLOR+(OPACITY,))\n",
    "draw.rectangle((x, y, x + img.width*3, y + img.height*3), fill=TINT_COLOR+(OPACITY,))\n",
    "draw.text((x, y), text, fill=(225, 255, 255), font=font)\n",
    "\n",
    "# Alpha composite these two images together to obtain the desired result.\n",
    "img = pili.alpha_composite(img, overlay)\n",
    "img = img.convert(\"RGB\") # Remove alpha for saving in jpg format.\n",
    "\n",
    "img.save('ipynb.images/comic book 2/edited comic book 2 with captions/6.PNG')"
   ]
  },
  {
   "cell_type": "code",
   "execution_count": 17,
   "metadata": {},
   "outputs": [
    {
     "name": "stderr",
     "output_type": "stream",
     "text": [
      "<ipython-input-17-18b3fc5feba4>:12: FutureWarning: arrays to stack must be passed as a \"sequence\" type such as list or tuple. Support for non-sequence iterables such as generators is deprecated as of NumPy 1.16 and will raise an error in the future.\n",
      "  imgs_comb = np.hstack( (np.asarray( i.resize(min_shape) ) for i in imgs ) )\n"
     ]
    }
   ],
   "source": [
    "import numpy as np\n",
    "import PIL\n",
    "\n",
    "list_im = ['ipynb.images/comic book 2/edited comic book 2 with captions/3.PNG',\n",
    "            'ipynb.images/comic book 2/edited comic book 2 with captions/5.PNG',\n",
    "            'ipynb.images/comic book 2/edited comic book 2 with captions/6.PNG'\n",
    "          ]\n",
    "imgs    = [ PIL.Image.open(i) for i in list_im ]\n",
    "\n",
    "# pick the image which is the smallest, and resize the others to match it (can be arbitrary image shape here)\n",
    "min_shape = sorted( [(np.sum(i.size), i.size ) for i in imgs])[0][1]\n",
    "imgs_comb = np.hstack( (np.asarray( i.resize(min_shape) ) for i in imgs ) )\n",
    "\n",
    "# save that beautiful picture\n",
    "imgs_comb = PIL.Image.fromarray( imgs_comb)\n",
    "imgs_comb.save( 'ipynb.images\\comic book 2\\combined comic book 2.3\\Strip2.png' ) "
   ]
  },
  {
   "cell_type": "code",
   "execution_count": 18,
   "metadata": {},
   "outputs": [
    {
     "name": "stdout",
     "output_type": "stream",
     "text": [
      "3 593 27\n"
     ]
    }
   ],
   "source": [
    "from IPython.display import Image\n",
    "from PIL import Image as pili, ImageOps as piliops\n",
    "from PIL import Image as pili, ImageDraw as pild, ImageFont as pilf \n",
    "\n",
    "piliops.expand(pili.open('ipynb.images/comic book 2/7.png'), border=(10,10),fill='black').save('ipynb.images/comic book 2/edited comic book 2/7.PNG')\n",
    "Image(filename='ipynb.images/comic book 2/edited comic book 2/7.PNG', width=200)\n",
    "\n",
    "caption = \"\"\"शांति के पीछे पत्तियों की कुछ सरसराहट है\n",
    "रंजन: \"********गर्जन*******\"\n",
    "    \"\"\"\n",
    "\n",
    "TINT_COLOR = (0, 0, 0)  # Black\n",
    "TRANSPARENCY = .90  # Degree of transparency, 0-100%\n",
    "OPACITY = int(255 * TRANSPARENCY)\n",
    "\n",
    "from PIL import Image, ImageFont, ImageDraw\n",
    "\n",
    "img = pili.open('ipynb.images/comic book 2/edited comic book 2/7.PNG').convert('RGBA')\n",
    "\n",
    "overlay = pili.new('RGBA', img.size, TINT_COLOR+(0,))\n",
    "draw = pild.Draw(overlay)\n",
    "font = pilf.truetype(\"C:/Windows/Fonts/Nirmalas.ttf\", 20)\n",
    "x, y = (img.width, img.height)\n",
    "text = caption\n",
    "w, h = font.getsize(text)\n",
    "num_lines = len(text.split('\\n'))\n",
    "print(num_lines, w, h)\n",
    "x, y = 10, img.height - (num_lines-0.001*num_lines)*h\n",
    "#draw.rectangle((x, y, x + w, y + h), fill='black')\n",
    "#draw.rectangle((x, y, x + w, y + 4*h), fill=TINT_COLOR+(OPACITY,))\n",
    "draw.rectangle((x, y, x + img.width*3, y + img.height*3), fill=TINT_COLOR+(OPACITY,))\n",
    "draw.text((x, y), text, fill=(225, 255, 255), font=font)\n",
    "\n",
    "# Alpha composite these two images together to obtain the desired result.\n",
    "img = pili.alpha_composite(img, overlay)\n",
    "img = img.convert(\"RGB\") # Remove alpha for saving in jpg format.\n",
    "\n",
    "img.save('ipynb.images/comic book 2/edited comic book 2 with captions/7.PNG')"
   ]
  },
  {
   "cell_type": "code",
   "execution_count": 20,
   "metadata": {},
   "outputs": [
    {
     "name": "stdout",
     "output_type": "stream",
     "text": [
      "2 412 24\n"
     ]
    }
   ],
   "source": [
    "from IPython.display import Image\n",
    "from PIL import Image as pili, ImageOps as piliops\n",
    "from PIL import Image as pili, ImageDraw as pild, ImageFont as pilf \n",
    "\n",
    "piliops.expand(pili.open('ipynb.images/comic book 2/8.png'), border=(10,10),fill='black').save('ipynb.images/comic book 2/edited comic book 2/8.PNG')\n",
    "Image(filename='ipynb.images/comic book 2/edited comic book 2/8.PNG', width=400)\n",
    "\n",
    "caption = \"\"\"                                                    *वह हांफती है!*\n",
    "    \"\"\"\n",
    "\n",
    "TINT_COLOR = (0, 0, 0)  # Black\n",
    "TRANSPARENCY = .90  # Degree of transparency, 0-100%\n",
    "OPACITY = int(255 * TRANSPARENCY)\n",
    "\n",
    "from PIL import Image, ImageFont, ImageDraw\n",
    "\n",
    "img = pili.open('ipynb.images/comic book 2/edited comic book 2/8.PNG').convert('RGBA')\n",
    "\n",
    "overlay = pili.new('RGBA', img.size, TINT_COLOR+(0,))\n",
    "draw = pild.Draw(overlay)\n",
    "font = pilf.truetype(\"C:/Windows/Fonts/Nirmalas.ttf\", 20)\n",
    "x, y = (img.width, img.height)\n",
    "text = caption\n",
    "w, h = font.getsize(text)\n",
    "num_lines = len(text.split('\\n'))\n",
    "print(num_lines, w, h)\n",
    "x, y = 10, img.height - (num_lines-0.001*num_lines)*h\n",
    "#draw.rectangle((x, y, x + w, y + h), fill='black')\n",
    "#draw.rectangle((x, y, x + w, y + 4*h), fill=TINT_COLOR+(OPACITY,))\n",
    "draw.rectangle((x, y, x + img.width*3, y + img.height*3), fill=TINT_COLOR+(OPACITY,))\n",
    "draw.text((x, y), text, fill=(225, 255, 255), font=font)\n",
    "\n",
    "# Alpha composite these two images together to obtain the desired result.\n",
    "img = pili.alpha_composite(img, overlay)\n",
    "img = img.convert(\"RGB\") # Remove alpha for saving in jpg format.\n",
    "\n",
    "img.save('ipynb.images/comic book 2/edited comic book 2 with captions/8.PNG')"
   ]
  },
  {
   "cell_type": "code",
   "execution_count": 21,
   "metadata": {},
   "outputs": [
    {
     "name": "stdout",
     "output_type": "stream",
     "text": [
      "2 364 22\n"
     ]
    }
   ],
   "source": [
    "from IPython.display import Image\n",
    "from PIL import Image as pili, ImageOps as piliops\n",
    "from PIL import Image as pili, ImageDraw as pild, ImageFont as pilf \n",
    "\n",
    "piliops.expand(pili.open('ipynb.images/comic book 2/9.png'), border=(10,10),fill='black').save('ipynb.images/comic book 2/edited comic book 2/9.PNG')\n",
    "Image(filename='ipynb.images/comic book 2/edited comic book 2/9.PNG', width=400)\n",
    "\n",
    "caption = \"\"\"                                                    *छपाक!*\n",
    "    \"\"\"\n",
    "\n",
    "TINT_COLOR = (0, 0, 0)  # Black\n",
    "TRANSPARENCY = .90  # Degree of transparency, 0-100%\n",
    "OPACITY = int(255 * TRANSPARENCY)\n",
    "\n",
    "from PIL import Image, ImageFont, ImageDraw\n",
    "\n",
    "img = pili.open('ipynb.images/comic book 2/edited comic book 2/9.PNG').convert('RGBA')\n",
    "\n",
    "overlay = pili.new('RGBA', img.size, TINT_COLOR+(0,))\n",
    "draw = pild.Draw(overlay)\n",
    "font = pilf.truetype(\"C:/Windows/Fonts/Nirmalas.ttf\", 20)\n",
    "x, y = (img.width, img.height)\n",
    "text = caption\n",
    "w, h = font.getsize(text)\n",
    "num_lines = len(text.split('\\n'))\n",
    "print(num_lines, w, h)\n",
    "x, y = 10, img.height - (num_lines-0.001*num_lines)*h\n",
    "#draw.rectangle((x, y, x + w, y + h), fill='black')\n",
    "#draw.rectangle((x, y, x + w, y + 4*h), fill=TINT_COLOR+(OPACITY,))\n",
    "draw.rectangle((x, y, x + img.width*3, y + img.height*3), fill=TINT_COLOR+(OPACITY,))\n",
    "draw.text((x, y), text, fill=(225, 255, 255), font=font)\n",
    "\n",
    "# Alpha composite these two images together to obtain the desired result.\n",
    "img = pili.alpha_composite(img, overlay)\n",
    "img = img.convert(\"RGB\") # Remove alpha for saving in jpg format.\n",
    "\n",
    "img.save('ipynb.images/comic book 2/edited comic book 2 with captions/9.PNG')"
   ]
  },
  {
   "cell_type": "code",
   "execution_count": 24,
   "metadata": {},
   "outputs": [
    {
     "name": "stderr",
     "output_type": "stream",
     "text": [
      "<ipython-input-24-568bc19ef284>:12: FutureWarning: arrays to stack must be passed as a \"sequence\" type such as list or tuple. Support for non-sequence iterables such as generators is deprecated as of NumPy 1.16 and will raise an error in the future.\n",
      "  imgs_comb = np.hstack( (np.asarray( i.resize(min_shape) ) for i in imgs ) )\n"
     ]
    }
   ],
   "source": [
    "import numpy as np\n",
    "import PIL\n",
    "\n",
    "list_im = ['ipynb.images/comic book 2/edited comic book 2 with captions/7.PNG',\n",
    "            'ipynb.images/comic book 2/edited comic book 2 with captions/8.PNG',\n",
    "            'ipynb.images/comic book 2/edited comic book 2 with captions/9.PNG'\n",
    "          ]\n",
    "imgs    = [ PIL.Image.open(i) for i in list_im ]\n",
    "\n",
    "# pick the image which is the smallest, and resize the others to match it (can be arbitrary image shape here)\n",
    "min_shape = sorted( [(np.sum(i.size), i.size ) for i in imgs])[0][1]\n",
    "imgs_comb = np.hstack( (np.asarray( i.resize(min_shape) ) for i in imgs ) )\n",
    "\n",
    "# save that beautiful picture\n",
    "imgs_comb = PIL.Image.fromarray( imgs_comb)\n",
    "imgs_comb.save( 'ipynb.images\\comic book 2\\combined comic book 2.3\\Strip3.png' ) "
   ]
  },
  {
   "cell_type": "code",
   "execution_count": 23,
   "metadata": {},
   "outputs": [
    {
     "name": "stdout",
     "output_type": "stream",
     "text": [
      "2 324 27\n"
     ]
    }
   ],
   "source": [
    "from IPython.display import Image\n",
    "from PIL import Image as pili, ImageOps as piliops\n",
    "from PIL import Image as pili, ImageDraw as pild, ImageFont as pilf \n",
    "\n",
    "piliops.expand(pili.open('ipynb.images/comic book 2/10.png'), border=(10,10),fill='black').save('ipynb.images/comic book 2/edited comic book 2/10.PNG')\n",
    "Image(filename='ipynb.images/comic book 2/edited comic book 2/10.PNG', width=400)\n",
    "\n",
    "caption = \"\"\"मोगली और रंजन बेकाबू होकर हंसते हैं!\n",
    "    \"\"\"\n",
    "\n",
    "TINT_COLOR = (0, 0, 0)  # Black\n",
    "TRANSPARENCY = .90  # Degree of transparency, 0-100%\n",
    "OPACITY = int(255 * TRANSPARENCY)\n",
    "\n",
    "from PIL import Image, ImageFont, ImageDraw\n",
    "\n",
    "img = pili.open('ipynb.images/comic book 2/edited comic book 2/10.PNG').convert('RGBA')\n",
    "\n",
    "overlay = pili.new('RGBA', img.size, TINT_COLOR+(0,))\n",
    "draw = pild.Draw(overlay)\n",
    "font = pilf.truetype(\"C:/Windows/Fonts/Nirmalas.ttf\", 20)\n",
    "x, y = (img.width, img.height)\n",
    "text = caption\n",
    "w, h = font.getsize(text)\n",
    "num_lines = len(text.split('\\n'))\n",
    "print(num_lines, w, h)\n",
    "x, y = 10, img.height - (num_lines-0.001*num_lines)*h\n",
    "#draw.rectangle((x, y, x + w, y + h), fill='black')\n",
    "#draw.rectangle((x, y, x + w, y + 4*h), fill=TINT_COLOR+(OPACITY,))\n",
    "draw.rectangle((x, y, x + img.width*3, y + img.height*3), fill=TINT_COLOR+(OPACITY,))\n",
    "draw.text((x, y), text, fill=(225, 255, 255), font=font)\n",
    "\n",
    "# Alpha composite these two images together to obtain the desired result.\n",
    "img = pili.alpha_composite(img, overlay)\n",
    "img = img.convert(\"RGB\") # Remove alpha for saving in jpg format.\n",
    "\n",
    "img.save('ipynb.images/comic book 2/edited comic book 2 with captions/10.PNG')"
   ]
  },
  {
   "cell_type": "code",
   "execution_count": 25,
   "metadata": {},
   "outputs": [
    {
     "name": "stdout",
     "output_type": "stream",
     "text": [
      "2 256 27\n"
     ]
    }
   ],
   "source": [
    "from IPython.display import Image\n",
    "from PIL import Image as pili, ImageOps as piliops\n",
    "from PIL import Image as pili, ImageDraw as pild, ImageFont as pilf \n",
    "\n",
    "piliops.expand(pili.open('ipynb.images/comic book 2/11.png'), border=(10,10),fill='black').save('ipynb.images/comic book 2/edited comic book 2/11.PNG')\n",
    "Image(filename='ipynb.images/comic book 2/edited comic book 2/11.PNG', width=400)\n",
    "\n",
    "caption = \"\"\"शांति ने दोनों को गुस्से से देखा\n",
    "    \"\"\"\n",
    "\n",
    "TINT_COLOR = (0, 0, 0)  # Black\n",
    "TRANSPARENCY = .90  # Degree of transparency, 0-100%\n",
    "OPACITY = int(255 * TRANSPARENCY)\n",
    "\n",
    "from PIL import Image, ImageFont, ImageDraw\n",
    "\n",
    "img = pili.open('ipynb.images/comic book 2/edited comic book 2/11.PNG').convert('RGBA')\n",
    "\n",
    "overlay = pili.new('RGBA', img.size, TINT_COLOR+(0,))\n",
    "draw = pild.Draw(overlay)\n",
    "font = pilf.truetype(\"C:/Windows/Fonts/Nirmalas.ttf\", 20)\n",
    "x, y = (img.width, img.height)\n",
    "text = caption\n",
    "w, h = font.getsize(text)\n",
    "num_lines = len(text.split('\\n'))\n",
    "print(num_lines, w, h)\n",
    "x, y = 10, img.height - (num_lines-0.001*num_lines)*h\n",
    "#draw.rectangle((x, y, x + w, y + h), fill='black')\n",
    "#draw.rectangle((x, y, x + w, y + 4*h), fill=TINT_COLOR+(OPACITY,))\n",
    "draw.rectangle((x, y, x + img.width*3, y + img.height*3), fill=TINT_COLOR+(OPACITY,))\n",
    "draw.text((x, y), text, fill=(225, 255, 255), font=font)\n",
    "\n",
    "# Alpha composite these two images together to obtain the desired result.\n",
    "img = pili.alpha_composite(img, overlay)\n",
    "img = img.convert(\"RGB\") # Remove alpha for saving in jpg format.\n",
    "\n",
    "img.save('ipynb.images/comic book 2/edited comic book 2 with captions/11.PNG')"
   ]
  },
  {
   "cell_type": "code",
   "execution_count": 26,
   "metadata": {},
   "outputs": [
    {
     "name": "stdout",
     "output_type": "stream",
     "text": [
      "2 605 27\n"
     ]
    }
   ],
   "source": [
    "from IPython.display import Image\n",
    "from PIL import Image as pili, ImageOps as piliops\n",
    "from PIL import Image as pili, ImageDraw as pild, ImageFont as pilf \n",
    "\n",
    "piliops.expand(pili.open('ipynb.images/comic book 2/12.png'), border=(10,10),fill='black').save('ipynb.images/comic book 2/edited comic book 2/12.PNG')\n",
    "Image(filename='ipynb.images/comic book 2/edited comic book 2/12.PNG', width=400)\n",
    "\n",
    "caption = \"\"\"शांति मोगली और रंजन को डांटती है और जल्दी से रंजन को अंदर ले जाती है   \n",
    "    \"\"\"\n",
    "\n",
    "TINT_COLOR = (0, 0, 0)  # Black\n",
    "TRANSPARENCY = .90  # Degree of transparency, 0-100%\n",
    "OPACITY = int(255 * TRANSPARENCY)\n",
    "\n",
    "from PIL import Image, ImageFont, ImageDraw\n",
    "\n",
    "img = pili.open('ipynb.images/comic book 2/edited comic book 2/12.PNG').convert('RGBA')\n",
    "\n",
    "overlay = pili.new('RGBA', img.size, TINT_COLOR+(0,))\n",
    "draw = pild.Draw(overlay)\n",
    "font = pilf.truetype(\"C:/Windows/Fonts/Nirmalas.ttf\", 20)\n",
    "x, y = (img.width, img.height)\n",
    "text = caption\n",
    "w, h = font.getsize(text)\n",
    "num_lines = len(text.split('\\n'))\n",
    "print(num_lines, w, h)\n",
    "x, y = 10, img.height - (num_lines-0.001*num_lines)*h\n",
    "#draw.rectangle((x, y, x + w, y + h), fill='black')\n",
    "#draw.rectangle((x, y, x + w, y + 4*h), fill=TINT_COLOR+(OPACITY,))\n",
    "draw.rectangle((x, y, x + img.width*3, y + img.height*3), fill=TINT_COLOR+(OPACITY,))\n",
    "draw.text((x, y), text, fill=(225, 255, 255), font=font)\n",
    "\n",
    "# Alpha composite these two images together to obtain the desired result.\n",
    "img = pili.alpha_composite(img, overlay)\n",
    "img = img.convert(\"RGB\") # Remove alpha for saving in jpg format.\n",
    "\n",
    "img.save('ipynb.images/comic book 2/edited comic book 2 with captions/12.PNG')"
   ]
  },
  {
   "cell_type": "code",
   "execution_count": 27,
   "metadata": {},
   "outputs": [
    {
     "name": "stderr",
     "output_type": "stream",
     "text": [
      "<ipython-input-27-16e84b6831a4>:12: FutureWarning: arrays to stack must be passed as a \"sequence\" type such as list or tuple. Support for non-sequence iterables such as generators is deprecated as of NumPy 1.16 and will raise an error in the future.\n",
      "  imgs_comb = np.hstack( (np.asarray( i.resize(min_shape) ) for i in imgs ) )\n"
     ]
    }
   ],
   "source": [
    "import numpy as np\n",
    "import PIL\n",
    "\n",
    "list_im = ['ipynb.images/comic book 2/edited comic book 2 with captions/10.PNG',\n",
    "            'ipynb.images/comic book 2/edited comic book 2 with captions/11.PNG',\n",
    "            'ipynb.images/comic book 2/edited comic book 2 with captions/12.PNG'\n",
    "          ]\n",
    "imgs    = [ PIL.Image.open(i) for i in list_im ]\n",
    "\n",
    "# pick the image which is the smallest, and resize the others to match it (can be arbitrary image shape here)\n",
    "min_shape = sorted( [(np.sum(i.size), i.size ) for i in imgs])[0][1]\n",
    "imgs_comb = np.hstack( (np.asarray( i.resize(min_shape) ) for i in imgs ) )\n",
    "\n",
    "# save that beautiful picture\n",
    "imgs_comb = PIL.Image.fromarray( imgs_comb)\n",
    "imgs_comb.save( 'ipynb.images\\comic book 2\\combined comic book 2.3\\Strip4.png' ) "
   ]
  },
  {
   "cell_type": "code",
   "execution_count": 28,
   "metadata": {},
   "outputs": [
    {
     "name": "stdout",
     "output_type": "stream",
     "text": [
      "2 720 27\n"
     ]
    }
   ],
   "source": [
    "from IPython.display import Image\n",
    "from PIL import Image as pili, ImageOps as piliops\n",
    "from PIL import Image as pili, ImageDraw as pild, ImageFont as pilf \n",
    "\n",
    "piliops.expand(pili.open('ipynb.images/comic book 2/13.png'), border=(10,10),fill='black').save('ipynb.images/comic book 2/edited comic book 2/13.PNG')\n",
    "Image(filename='ipynb.images/comic book 2/edited comic book 2/13.PNG', width=400)\n",
    "\n",
    "caption = \"\"\"वह रंजन से मोगली का पीछा न करने के लिए कहती है क्योंकि वह \n",
    "उस पर बुरा प्रभाव डालता है \"\"\"\n",
    "\n",
    "TINT_COLOR = (0, 0, 0)  # Black\n",
    "TRANSPARENCY = .90  # Degree of transparency, 0-100%\n",
    "OPACITY = int(255 * TRANSPARENCY)\n",
    "\n",
    "from PIL import Image, ImageFont, ImageDraw\n",
    "\n",
    "img = pili.open('ipynb.images/comic book 2/edited comic book 2/13.PNG').convert('RGBA')\n",
    "\n",
    "overlay = pili.new('RGBA', img.size, TINT_COLOR+(0,))\n",
    "draw = pild.Draw(overlay)\n",
    "font = pilf.truetype(\"C:/Windows/Fonts/Nirmalas.ttf\", 20)\n",
    "x, y = (img.width, img.height)\n",
    "text = caption\n",
    "w, h = font.getsize(text)\n",
    "num_lines = len(text.split('\\n'))\n",
    "print(num_lines, w, h)\n",
    "x, y = 10, img.height - (num_lines-0.001*num_lines)*h\n",
    "#draw.rectangle((x, y, x + w, y + h), fill='black')\n",
    "#draw.rectangle((x, y, x + w, y + 4*h), fill=TINT_COLOR+(OPACITY,))\n",
    "draw.rectangle((x, y, x + img.width*3, y + img.height*3), fill=TINT_COLOR+(OPACITY,))\n",
    "draw.text((x, y), text, fill=(225, 255, 255), font=font)\n",
    "\n",
    "# Alpha composite these two images together to obtain the desired result.\n",
    "img = pili.alpha_composite(img, overlay)\n",
    "img = img.convert(\"RGB\") # Remove alpha for saving in jpg format.\n",
    "\n",
    "img.save('ipynb.images/comic book 2/edited comic book 2 with captions/13.PNG')"
   ]
  },
  {
   "cell_type": "code",
   "execution_count": 29,
   "metadata": {},
   "outputs": [
    {
     "name": "stdout",
     "output_type": "stream",
     "text": [
      "3 761 26\n"
     ]
    }
   ],
   "source": [
    "from IPython.display import Image\n",
    "from PIL import Image as pili, ImageOps as piliops\n",
    "from PIL import Image as pili, ImageDraw as pild, ImageFont as pilf \n",
    "\n",
    "piliops.expand(pili.open('ipynb.images/comic book 2/14.png'), border=(10,10),fill='black').save('ipynb.images/comic book 2/edited comic book 2/14.PNG')\n",
    "Image(filename='ipynb.images/comic book 2/edited comic book 2/14.PNG', width=400)\n",
    "\n",
    "caption = \"\"\"मोगली शांति से माफी मांगने की कोशिश करता है, वह उसे समझाता है \n",
    "कि जंगल कैसे मज़ेदार है!   \n",
    "    \"\"\"\n",
    "\n",
    "TINT_COLOR = (0, 0, 0)  # Black\n",
    "TRANSPARENCY = .90  # Degree of transparency, 0-100%\n",
    "OPACITY = int(255 * TRANSPARENCY)\n",
    "\n",
    "from PIL import Image, ImageFont, ImageDraw\n",
    "\n",
    "img = pili.open('ipynb.images/comic book 2/edited comic book 2/14.PNG').convert('RGBA')\n",
    "\n",
    "overlay = pili.new('RGBA', img.size, TINT_COLOR+(0,))\n",
    "draw = pild.Draw(overlay)\n",
    "font = pilf.truetype(\"C:/Windows/Fonts/Nirmalas.ttf\", 20)\n",
    "x, y = (img.width, img.height)\n",
    "text = caption\n",
    "w, h = font.getsize(text)\n",
    "num_lines = len(text.split('\\n'))\n",
    "print(num_lines, w, h)\n",
    "x, y = 10, img.height - (num_lines-0.001*num_lines)*h\n",
    "#draw.rectangle((x+w, y+h, x + w, y + h), fill='black')\n",
    "#draw.rectangle((x, y, x + w, y + 4*h), fill=TINT_COLOR+(OPACITY,))\n",
    "draw.rectangle((x, y, x + img.width*3, y + img.height*3), fill=TINT_COLOR+(OPACITY,))\n",
    "draw.text((x, y), text, fill=(225, 255, 255), font=font)\n",
    "\n",
    "# Alpha composite these two images together to obtain the desired result.\n",
    "img = pili.alpha_composite(img, overlay)\n",
    "img = img.convert(\"RGB\") # Remove alpha for saving in jpg format.\n",
    "\n",
    "img.save('ipynb.images/comic book 2/edited comic book 2 with captions/14.PNG')"
   ]
  },
  {
   "cell_type": "code",
   "execution_count": 30,
   "metadata": {},
   "outputs": [
    {
     "name": "stdout",
     "output_type": "stream",
     "text": [
      "3 1081 27\n"
     ]
    }
   ],
   "source": [
    "from IPython.display import Image\n",
    "from PIL import Image as pili, ImageOps as piliops\n",
    "from PIL import Image as pili, ImageDraw as pild, ImageFont as pilf \n",
    "\n",
    "piliops.expand(pili.open('ipynb.images/comic book 2/15.png'), border=(10,10),fill='black').save('ipynb.images/comic book 2/edited comic book 2/15.PNG')\n",
    "Image(filename='ipynb.images/comic book 2/edited comic book 2/15.PNG', width=400)\n",
    "\n",
    "caption = \"\"\" कुछ ही समय में, दूसरे गांव के बच्चे मोगली के रूप में सुनने के लिए इकट्ठा होते हैं\n",
    "जंगल कितना सुंदर और मजेदार है इसकी कहानियां सुनाते हैं\n",
    "    \"\"\"\n",
    "\n",
    "TINT_COLOR = (0, 0, 0)  # Black\n",
    "TRANSPARENCY = .90  # Degree of transparency, 0-100%\n",
    "OPACITY = int(255 * TRANSPARENCY)\n",
    "\n",
    "from PIL import Image, ImageFont, ImageDraw\n",
    "\n",
    "img = pili.open('ipynb.images/comic book 2/edited comic book 2/15.PNG').convert('RGBA')\n",
    "\n",
    "overlay = pili.new('RGBA', img.size, TINT_COLOR+(0,))\n",
    "draw = pild.Draw(overlay)\n",
    "font = pilf.truetype(\"C:/Windows/Fonts/Nirmalas.ttf\", 20)\n",
    "x, y = (img.width, img.height)\n",
    "text = caption\n",
    "w, h = font.getsize(text)\n",
    "num_lines = len(text.split('\\n'))\n",
    "print(num_lines, w, h)\n",
    "x, y = 10, img.height - (num_lines-0.001*num_lines)*h\n",
    "#draw.rectangle((x+w, y+h, x + w, y + h), fill='black')\n",
    "#draw.rectangle((x, y, x + w, y + 4*h), fill=TINT_COLOR+(OPACITY,))\n",
    "draw.rectangle((x, y, x + img.width*3, y + img.height*3), fill=TINT_COLOR+(OPACITY,))\n",
    "draw.text((x, y), text, fill=(225, 255, 255), font=font)\n",
    "\n",
    "# Alpha composite these two images together to obtain the desired result.\n",
    "img = pili.alpha_composite(img, overlay)\n",
    "img = img.convert(\"RGB\") # Remove alpha for saving in jpg format.\n",
    "\n",
    "img.save('ipynb.images/comic book 2/edited comic book 2 with captions/15.PNG')"
   ]
  },
  {
   "cell_type": "code",
   "execution_count": 31,
   "metadata": {},
   "outputs": [
    {
     "name": "stderr",
     "output_type": "stream",
     "text": [
      "<ipython-input-31-0fe27a5114e9>:12: FutureWarning: arrays to stack must be passed as a \"sequence\" type such as list or tuple. Support for non-sequence iterables such as generators is deprecated as of NumPy 1.16 and will raise an error in the future.\n",
      "  imgs_comb = np.hstack( (np.asarray( i.resize(min_shape) ) for i in imgs ) )\n"
     ]
    }
   ],
   "source": [
    "import numpy as np\n",
    "import PIL\n",
    "\n",
    "list_im = ['ipynb.images/comic book 2/edited comic book 2 with captions/13.PNG',\n",
    "            'ipynb.images/comic book 2/edited comic book 2 with captions/14.PNG',\n",
    "            'ipynb.images/comic book 2/edited comic book 2 with captions/15.PNG'\n",
    "          ]\n",
    "imgs    = [ PIL.Image.open(i) for i in list_im ]\n",
    "\n",
    "# pick the image which is the smallest, and resize the others to match it (can be arbitrary image shape here)\n",
    "min_shape = sorted( [(np.sum(i.size), i.size ) for i in imgs])[0][1]\n",
    "imgs_comb = np.hstack( (np.asarray( i.resize(min_shape) ) for i in imgs ) )\n",
    "\n",
    "# save that beautiful picture\n",
    "imgs_comb = PIL.Image.fromarray( imgs_comb)\n",
    "imgs_comb.save( 'ipynb.images\\comic book 2\\combined comic book 2.3\\Strip5.png' ) "
   ]
  },
  {
   "cell_type": "code",
   "execution_count": 32,
   "metadata": {},
   "outputs": [
    {
     "name": "stdout",
     "output_type": "stream",
     "text": [
      "2 524 27\n"
     ]
    }
   ],
   "source": [
    "from IPython.display import Image\n",
    "from PIL import Image as pili, ImageOps as piliops\n",
    "from PIL import Image as pili, ImageDraw as pild, ImageFont as pilf \n",
    "\n",
    "piliops.expand(pili.open('ipynb.images/comic book 2/16.png'), border=(10,10),fill='black').save('ipynb.images/comic book 2/edited comic book 2/16.PNG')\n",
    "Image(filename='ipynb.images/comic book 2/edited comic book 2/16.PNG', width=400)\n",
    "\n",
    "caption = \"\"\"गाते और नाचते हुए, वे मोगली का जंगल में पीछा करना शुरू करते हैं!\n",
    "    \"\"\"\n",
    "\n",
    "TINT_COLOR = (0, 0, 0)  # Black\n",
    "TRANSPARENCY = .90  # Degree of transparency, 0-100%\n",
    "OPACITY = int(255 * TRANSPARENCY)\n",
    "\n",
    "from PIL import Image, ImageFont, ImageDraw\n",
    "\n",
    "img = pili.open('ipynb.images/comic book 2/edited comic book 2/16.PNG').convert('RGBA')\n",
    "\n",
    "overlay = pili.new('RGBA', img.size, TINT_COLOR+(0,))\n",
    "draw = pild.Draw(overlay)\n",
    "font = pilf.truetype(\"C:/Windows/Fonts/Nirmalas.ttf\", 20)\n",
    "x, y = (img.width, img.height)\n",
    "text = caption\n",
    "w, h = font.getsize(text)\n",
    "num_lines = len(text.split('\\n'))\n",
    "print(num_lines, w, h)\n",
    "x, y = 10, img.height - (num_lines-0.001*num_lines)*h\n",
    "#draw.rectangle((x+w, y+h, x + w, y + h), fill='black')\n",
    "#draw.rectangle((x, y, x + w, y + 4*h), fill=TINT_COLOR+(OPACITY,))\n",
    "draw.rectangle((x, y, x + img.width*3, y + img.height*3), fill=TINT_COLOR+(OPACITY,))\n",
    "draw.text((x, y), text, fill=(225, 255, 255), font=font)\n",
    "\n",
    "# Alpha composite these two images together to obtain the desired result.\n",
    "img = pili.alpha_composite(img, overlay)\n",
    "img = img.convert(\"RGB\") # Remove alpha for saving in jpg format.\n",
    "\n",
    "img.save('ipynb.images/comic book 2/edited comic book 2 with captions/16.PNG')"
   ]
  },
  {
   "cell_type": "code",
   "execution_count": 33,
   "metadata": {},
   "outputs": [
    {
     "name": "stdout",
     "output_type": "stream",
     "text": [
      "1 550 27\n"
     ]
    }
   ],
   "source": [
    "from IPython.display import Image\n",
    "from PIL import Image as pili, ImageOps as piliops\n",
    "from PIL import Image as pili, ImageDraw as pild, ImageFont as pilf \n",
    "\n",
    "piliops.expand(pili.open('ipynb.images/comic book 2/17.png'), border=(10,10),fill='black').save('ipynb.images/comic book 2/edited comic book 2/17.PNG')\n",
    "Image(filename='ipynb.images/comic book 2/edited comic book 2/17.PNG', width=400)\n",
    "\n",
    "caption = \"\"\"सरपंच उन्हें समय पर देखता है और उन्हें गुस्से में गेट के अंदर ले जाता है  \"\"\"\n",
    "\n",
    "TINT_COLOR = (0, 0, 0)  # Black\n",
    "TRANSPARENCY = .90  # Degree of transparency, 0-100%\n",
    "OPACITY = int(255 * TRANSPARENCY)\n",
    "\n",
    "from PIL import Image, ImageFont, ImageDraw\n",
    "\n",
    "img = pili.open('ipynb.images/comic book 2/edited comic book 2/17.PNG').convert('RGBA')\n",
    "\n",
    "overlay = pili.new('RGBA', img.size, TINT_COLOR+(0,))\n",
    "draw = pild.Draw(overlay)\n",
    "font = pilf.truetype(\"C:/Windows/Fonts/Nirmalas.ttf\", 20)\n",
    "x, y = (img.width, img.height)\n",
    "text = caption\n",
    "w, h = font.getsize(text)\n",
    "num_lines = len(text.split('\\n'))\n",
    "print(num_lines, w, h)\n",
    "x, y = 10, img.height - (num_lines-0.001*num_lines)*h\n",
    "#draw.rectangle((x+w, y+h, x + w, y + h), fill='black')\n",
    "#draw.rectangle((x, y, x + w, y + 4*h), fill=TINT_COLOR+(OPACITY,))\n",
    "draw.rectangle((x, y, x + img.width*3, y + img.height*3), fill=TINT_COLOR+(OPACITY,))\n",
    "draw.text((x, y), text, fill=(225, 255, 255), font=font)\n",
    "\n",
    "# Alpha composite these two images together to obtain the desired result.\n",
    "img = pili.alpha_composite(img, overlay)\n",
    "img = img.convert(\"RGB\") # Remove alpha for saving in jpg format.\n",
    "\n",
    "img.save('ipynb.images/comic book 2/edited comic book 2 with captions/17.PNG')"
   ]
  },
  {
   "cell_type": "code",
   "execution_count": 34,
   "metadata": {},
   "outputs": [
    {
     "name": "stdout",
     "output_type": "stream",
     "text": [
      "2 1078 27\n"
     ]
    }
   ],
   "source": [
    "from IPython.display import Image\n",
    "from PIL import Image as pili, ImageOps as piliops\n",
    "from PIL import Image as pili, ImageDraw as pild, ImageFont as pilf \n",
    "\n",
    "piliops.expand(pili.open('ipynb.images/comic book 2/19.png'), border=(10,10),fill='black').save('ipynb.images/comic book 2/edited comic book 2/19.PNG')\n",
    "Image(filename='ipynb.images/comic book 2/edited comic book 2/19.PNG', width=200)\n",
    "\n",
    "caption = \"\"\"उन्होंने मोगली को उसके लापरवाह व्यवहार के लिए फटकार लगाई और उसे \n",
    "जोखिम में डालने के लिए दंडित किया गाँव के अन्य बच्चों का जीवन\"\"\"\n",
    "\n",
    "TINT_COLOR = (0, 0, 0)  # Black\n",
    "TRANSPARENCY = .90  # Degree of transparency, 0-100%\n",
    "OPACITY = int(255 * TRANSPARENCY)\n",
    "\n",
    "from PIL import Image, ImageFont, ImageDraw\n",
    "\n",
    "img = pili.open('ipynb.images/comic book 2/edited comic book 2/19.PNG').convert('RGBA')\n",
    "\n",
    "overlay = pili.new('RGBA', img.size, TINT_COLOR+(0,))\n",
    "draw = pild.Draw(overlay)\n",
    "font = pilf.truetype(\"C:/Windows/Fonts/Nirmalas.ttf\", 20)\n",
    "x, y = (img.width, img.height)\n",
    "text = caption\n",
    "w, h = font.getsize(text)\n",
    "num_lines = len(text.split('\\n'))\n",
    "print(num_lines, w, h)\n",
    "x, y = 10, img.height - (num_lines-0.001*num_lines)*h\n",
    "#draw.rectangle((x+w, y+h, x + w, y + h), fill='black')\n",
    "#draw.rectangle((x, y, x + w, y + 4*h), fill=TINT_COLOR+(OPACITY,))\n",
    "draw.rectangle((x, y, x + img.width*3, y + img.height*3), fill=TINT_COLOR+(OPACITY,))\n",
    "draw.text((x, y), text, fill=(225, 255, 255), font=font)\n",
    "\n",
    "# Alpha composite these two images together to obtain the desired result.\n",
    "img = pili.alpha_composite(img, overlay)\n",
    "img = img.convert(\"RGB\") # Remove alpha for saving in jpg format.\n",
    "\n",
    "img.save('ipynb.images/comic book 2/edited comic book 2 with captions/19.PNG')"
   ]
  },
  {
   "cell_type": "code",
   "execution_count": 35,
   "metadata": {},
   "outputs": [
    {
     "name": "stderr",
     "output_type": "stream",
     "text": [
      "<ipython-input-35-8274089a11b5>:12: FutureWarning: arrays to stack must be passed as a \"sequence\" type such as list or tuple. Support for non-sequence iterables such as generators is deprecated as of NumPy 1.16 and will raise an error in the future.\n",
      "  imgs_comb = np.hstack( (np.asarray( i.resize(min_shape) ) for i in imgs ) )\n"
     ]
    }
   ],
   "source": [
    "import numpy as np\n",
    "import PIL\n",
    "\n",
    "list_im = ['ipynb.images/comic book 2/edited comic book 2 with captions/16.PNG',\n",
    "            'ipynb.images/comic book 2/edited comic book 2 with captions/17.PNG',\n",
    "            'ipynb.images/comic book 2/edited comic book 2 with captions/19.PNG'\n",
    "          ]\n",
    "imgs    = [ PIL.Image.open(i) for i in list_im ]\n",
    "\n",
    "# pick the image which is the smallest, and resize the others to match it (can be arbitrary image shape here)\n",
    "min_shape = sorted( [(np.sum(i.size), i.size ) for i in imgs])[0][1]\n",
    "imgs_comb = np.hstack( (np.asarray( i.resize(min_shape) ) for i in imgs ) )\n",
    "\n",
    "# save that beautiful picture\n",
    "imgs_comb = PIL.Image.fromarray( imgs_comb)\n",
    "imgs_comb.save( 'ipynb.images\\comic book 2\\combined comic book 2.3\\Strip6.png' ) "
   ]
  },
  {
   "cell_type": "code",
   "execution_count": 37,
   "metadata": {},
   "outputs": [
    {
     "name": "stdout",
     "output_type": "stream",
     "text": [
      "3 1293 27\n"
     ]
    }
   ],
   "source": [
    "from IPython.display import Image\n",
    "from PIL import Image as pili, ImageOps as piliops\n",
    "from PIL import Image as pili, ImageDraw as pild, ImageFont as pilf \n",
    "\n",
    "piliops.expand(pili.open('ipynb.images/comic book 2/20.png'), border=(10,10),fill='black').save('ipynb.images/comic book 2/edited comic book 2/20.PNG')\n",
    "Image(filename='ipynb.images/comic book 2/edited comic book 2/20.PNG', width=400)\n",
    "\n",
    "caption = \"\"\"इस बीच वापस जंगल में, बालू अपने सबसे अच्छे दोस्त को याद करता है। कुछ भी नहीं लगता\n",
    "वही मोगली के बिना ।।\n",
    "उसने उस रात मोगली को जंगल में घुसने का फैसला किया!\"\"\"\n",
    "\n",
    "TINT_COLOR = (0, 0, 0)  # Black\n",
    "TRANSPARENCY = .90  # Degree of transparency, 0-100%\n",
    "OPACITY = int(255 * TRANSPARENCY)\n",
    "\n",
    "from PIL import Image, ImageFont, ImageDraw\n",
    "\n",
    "img = pili.open('ipynb.images/comic book 2/edited comic book 2/20.PNG').convert('RGBA')\n",
    "\n",
    "overlay = pili.new('RGBA', img.size, TINT_COLOR+(0,))\n",
    "draw = pild.Draw(overlay)\n",
    "font = pilf.truetype(\"C:/Windows/Fonts/Nirmalas.ttf\", 20)\n",
    "x, y = (img.width, img.height)\n",
    "text = caption\n",
    "w, h = font.getsize(text)\n",
    "num_lines = len(text.split('\\n'))\n",
    "print(num_lines, w, h)\n",
    "x, y = 10, img.height - (num_lines-0.001*num_lines)*h\n",
    "#draw.rectangle((x+w, y+h, x + w, y + h), fill='black')\n",
    "#draw.rectangle((x, y, x + w, y + 4*h), fill=TINT_COLOR+(OPACITY,))\n",
    "draw.rectangle((x, y, x + img.width*3, y + img.height*3), fill=TINT_COLOR+(OPACITY,))\n",
    "draw.text((x, y), text, fill=(225, 255, 255), font=font)\n",
    "\n",
    "# Alpha composite these two images together to obtain the desired result.\n",
    "img = pili.alpha_composite(img, overlay)\n",
    "img = img.convert(\"RGB\") # Remove alpha for saving in jpg format.\n",
    "\n",
    "img.save('ipynb.images/comic book 2/edited comic book 2 with captions/20.PNG')"
   ]
  },
  {
   "cell_type": "code",
   "execution_count": 38,
   "metadata": {},
   "outputs": [
    {
     "name": "stdout",
     "output_type": "stream",
     "text": [
      "2 703 27\n"
     ]
    }
   ],
   "source": [
    "from IPython.display import Image\n",
    "from PIL import Image as pili, ImageOps as piliops\n",
    "from PIL import Image as pili, ImageDraw as pild, ImageFont as pilf \n",
    "\n",
    "piliops.expand(pili.open('ipynb.images/comic book 2/20.2.png'), border=(10,10),fill='black').save('ipynb.images/comic book 2/edited comic book 2/20.2.PNG')\n",
    "Image(filename='ipynb.images/comic book 2/edited comic book 2/20.2.PNG', width=400)\n",
    "\n",
    "caption = \"\"\"बालू मोगली को बघीरा तक ले जाने की अपनी योजना बताता है, जो है\n",
    "पूरी तरह से इसके खिलाफ\"\"\"\n",
    "\n",
    "TINT_COLOR = (0, 0, 0)  # Black\n",
    "TRANSPARENCY = .90  # Degree of transparency, 0-100%\n",
    "OPACITY = int(255 * TRANSPARENCY)\n",
    "\n",
    "from PIL import Image, ImageFont, ImageDraw\n",
    "\n",
    "img = pili.open('ipynb.images/comic book 2/edited comic book 2/20.2.PNG').convert('RGBA')\n",
    "\n",
    "overlay = pili.new('RGBA', img.size, TINT_COLOR+(0,))\n",
    "draw = pild.Draw(overlay)\n",
    "font = pilf.truetype(\"C:/Windows/Fonts/Nirmalas.ttf\", 20)\n",
    "x, y = (img.width, img.height)\n",
    "text = caption\n",
    "w, h = font.getsize(text)\n",
    "num_lines = len(text.split('\\n'))\n",
    "print(num_lines, w, h)\n",
    "x, y = 10, img.height - (num_lines-0.001*num_lines)*h\n",
    "#draw.rectangle((x+w, y+h, x + w, y + h), fill='black')\n",
    "#draw.rectangle((x, y, x + w, y + 4*h), fill=TINT_COLOR+(OPACITY,))\n",
    "draw.rectangle((x, y, x + img.width*3, y + img.height*3), fill=TINT_COLOR+(OPACITY,))\n",
    "draw.text((x, y), text, fill=(225, 255, 255), font=font)\n",
    "\n",
    "# Alpha composite these two images together to obtain the desired result.\n",
    "img = pili.alpha_composite(img, overlay)\n",
    "img = img.convert(\"RGB\") # Remove alpha for saving in jpg format.\n",
    "\n",
    "img.save('ipynb.images/comic book 2/edited comic book 2 with captions/20.2.PNG')"
   ]
  },
  {
   "cell_type": "code",
   "execution_count": 39,
   "metadata": {},
   "outputs": [
    {
     "name": "stdout",
     "output_type": "stream",
     "text": [
      "2 746 27\n"
     ]
    }
   ],
   "source": [
    "from IPython.display import Image\n",
    "from PIL import Image as pili, ImageOps as piliops\n",
    "from PIL import Image as pili, ImageDraw as pild, ImageFont as pilf \n",
    "\n",
    "piliops.expand(pili.open('ipynb.images/comic book 2/20.3.png'), border=(10,10),fill='black').save('ipynb.images/comic book 2/edited comic book 2/20.3.PNG')\n",
    "Image(filename='ipynb.images/comic book 2/edited comic book 2/20.3.PNG', width=400)\n",
    "\n",
    "caption = \"\"\"शेर खान पूरी योजना को सुनता है ...\n",
    "वह बालू के करने से पहले मोगली को ले जाने की साजिश करता है\"\"\"\n",
    "\n",
    "TINT_COLOR = (0, 0, 0)  # Black\n",
    "TRANSPARENCY = .90  # Degree of transparency, 0-100%\n",
    "OPACITY = int(255 * TRANSPARENCY)\n",
    "\n",
    "from PIL import Image, ImageFont, ImageDraw\n",
    "\n",
    "img = pili.open('ipynb.images/comic book 2/edited comic book 2/20.3.PNG').convert('RGBA')\n",
    "\n",
    "overlay = pili.new('RGBA', img.size, TINT_COLOR+(0,))\n",
    "draw = pild.Draw(overlay)\n",
    "font = pilf.truetype(\"C:/Windows/Fonts/Nirmalas.ttf\", 20)\n",
    "x, y = (img.width, img.height)\n",
    "text = caption\n",
    "w, h = font.getsize(text)\n",
    "num_lines = len(text.split('\\n'))\n",
    "print(num_lines, w, h)\n",
    "x, y = 10, img.height - (num_lines-0.001*num_lines)*h\n",
    "#draw.rectangle((x+w, y+h, x + w, y + h), fill='black')\n",
    "#draw.rectangle((x, y, x + w, y + 4*h), fill=TINT_COLOR+(OPACITY,))\n",
    "draw.rectangle((x, y, x + img.width*3, y + img.height*3), fill=TINT_COLOR+(OPACITY,))\n",
    "draw.text((x, y), text, fill=(225, 255, 255), font=font)\n",
    "\n",
    "# Alpha composite these two images together to obtain the desired result.\n",
    "img = pili.alpha_composite(img, overlay)\n",
    "img = img.convert(\"RGB\") # Remove alpha for saving in jpg format.\n",
    "\n",
    "img.save('ipynb.images/comic book 2/edited comic book 2 with captions/20.3.PNG')"
   ]
  },
  {
   "cell_type": "code",
   "execution_count": 40,
   "metadata": {},
   "outputs": [
    {
     "name": "stderr",
     "output_type": "stream",
     "text": [
      "<ipython-input-40-ec6b6682936f>:12: FutureWarning: arrays to stack must be passed as a \"sequence\" type such as list or tuple. Support for non-sequence iterables such as generators is deprecated as of NumPy 1.16 and will raise an error in the future.\n",
      "  imgs_comb = np.hstack( (np.asarray( i.resize(min_shape) ) for i in imgs ) )\n"
     ]
    }
   ],
   "source": [
    "import numpy as np\n",
    "import PIL\n",
    "\n",
    "list_im = ['ipynb.images/comic book 2/edited comic book 2 with captions/20.PNG',\n",
    "            'ipynb.images/comic book 2/edited comic book 2 with captions/20.2.PNG',\n",
    "            'ipynb.images/comic book 2/edited comic book 2 with captions/20.3.PNG'\n",
    "          ]\n",
    "imgs    = [ PIL.Image.open(i) for i in list_im ]\n",
    "\n",
    "# pick the image which is the smallest, and resize the others to match it (can be arbitrary image shape here)\n",
    "min_shape = sorted( [(np.sum(i.size), i.size ) for i in imgs])[0][1]\n",
    "imgs_comb = np.hstack( (np.asarray( i.resize(min_shape) ) for i in imgs ) )\n",
    "\n",
    "# save that beautiful picture\n",
    "imgs_comb = PIL.Image.fromarray( imgs_comb)\n",
    "imgs_comb.save( 'ipynb.images\\comic book 2\\combined comic book 2.3\\Strip7.png' )"
   ]
  },
  {
   "cell_type": "code",
   "execution_count": 41,
   "metadata": {},
   "outputs": [
    {
     "name": "stdout",
     "output_type": "stream",
     "text": [
      "2 723 27\n"
     ]
    }
   ],
   "source": [
    "from IPython.display import Image\n",
    "from PIL import Image as pili, ImageOps as piliops\n",
    "from PIL import Image as pili, ImageDraw as pild, ImageFont as pilf \n",
    "\n",
    "piliops.expand(pili.open('ipynb.images/comic book 2/21.png'), border=(10,10),fill='black').save('ipynb.images/comic book 2/edited comic book 2/21.PNG')\n",
    "Image(filename='ipynb.images/comic book 2/edited comic book 2/21.PNG', width=400)\n",
    "\n",
    "caption = \"\"\"योजना के अनुसार, बालू मोगली से मिलने के लिए उस आदमी के गाँव में जाता है\n",
    "सबके सोने के बाद\"\"\"\n",
    "\n",
    "TINT_COLOR = (0, 0, 0)  # Black\n",
    "TRANSPARENCY = .90  # Degree of transparency, 0-100%\n",
    "OPACITY = int(255 * TRANSPARENCY)\n",
    "\n",
    "from PIL import Image, ImageFont, ImageDraw\n",
    "\n",
    "img = pili.open('ipynb.images/comic book 2/edited comic book 2/21.PNG').convert('RGBA')\n",
    "\n",
    "overlay = pili.new('RGBA', img.size, TINT_COLOR+(0,))\n",
    "draw = pild.Draw(overlay)\n",
    "font = pilf.truetype(\"C:/Windows/Fonts/Nirmalas.ttf\", 20)\n",
    "x, y = (img.width, img.height)\n",
    "text = caption\n",
    "w, h = font.getsize(text)\n",
    "num_lines = len(text.split('\\n'))\n",
    "print(num_lines, w, h)\n",
    "x, y = 10, img.height - (num_lines-0.001*num_lines)*h\n",
    "#draw.rectangle((x+w, y+h, x + w, y + h), fill='black')\n",
    "#draw.rectangle((x, y, x + w, y + 4*h), fill=TINT_COLOR+(OPACITY,))\n",
    "draw.rectangle((x, y, x + img.width*3, y + img.height*3), fill=TINT_COLOR+(OPACITY,))\n",
    "draw.text((x, y), text, fill=(225, 255, 255), font=font)\n",
    "\n",
    "# Alpha composite these two images together to obtain the desired result.\n",
    "img = pili.alpha_composite(img, overlay)\n",
    "img = img.convert(\"RGB\") # Remove alpha for saving in jpg format.\n",
    "\n",
    "img.save('ipynb.images/comic book 2/edited comic book 2 with captions/21.PNG')"
   ]
  },
  {
   "cell_type": "code",
   "execution_count": 44,
   "metadata": {},
   "outputs": [
    {
     "name": "stdout",
     "output_type": "stream",
     "text": [
      "3 778 27\n"
     ]
    }
   ],
   "source": [
    "from IPython.display import Image\n",
    "from PIL import Image as pili, ImageOps as piliops\n",
    "from PIL import Image as pili, ImageDraw as pild, ImageFont as pilf \n",
    "\n",
    "piliops.expand(pili.open('ipynb.images/comic book 2/23.png'), border=(10,10),fill='black').save('ipynb.images/comic book 2/edited comic book 2/23.PNG')\n",
    "Image(filename='ipynb.images/comic book 2/edited comic book 2/23.PNG', width=400)\n",
    "\n",
    "caption = \"\"\"शांति उन्हें एक साथ देखती है और सोचती है कि बालू मोगली का अपहरण करने \n",
    "की कोशिश कर रहा है!\n",
    "\"\"\"\n",
    "\n",
    "TINT_COLOR = (0, 0, 0)  # Black\n",
    "TRANSPARENCY = .90  # Degree of transparency, 0-100%\n",
    "OPACITY = int(255 * TRANSPARENCY)\n",
    "\n",
    "from PIL import Image, ImageFont, ImageDraw\n",
    "\n",
    "img = pili.open('ipynb.images/comic book 2/edited comic book 2/23.PNG').convert('RGBA')\n",
    "\n",
    "overlay = pili.new('RGBA', img.size, TINT_COLOR+(0,))\n",
    "draw = pild.Draw(overlay)\n",
    "font = pilf.truetype(\"C:/Windows/Fonts/Nirmalas.ttf\", 20)\n",
    "x, y = (img.width, img.height)\n",
    "text = caption\n",
    "w, h = font.getsize(text)\n",
    "num_lines = len(text.split('\\n'))\n",
    "print(num_lines, w, h)\n",
    "x, y = 10, img.height - (num_lines-0.001*num_lines)*h\n",
    "#draw.rectangle((x+w, y+h, x + w, y + h), fill='black')\n",
    "#draw.rectangle((x, y, x + w, y + 4*h), fill=TINT_COLOR+(OPACITY,))\n",
    "draw.rectangle((x, y, x + img.width*3, y + img.height*3), fill=TINT_COLOR+(OPACITY,))\n",
    "draw.text((x, y), text, fill=(225, 255, 255), font=font)\n",
    "\n",
    "# Alpha composite these two images together to obtain the desired result.\n",
    "img = pili.alpha_composite(img, overlay)\n",
    "img = img.convert(\"RGB\") # Remove alpha for saving in jpg format.\n",
    "\n",
    "img.save('ipynb.images/comic book 2/edited comic book 2 with captions/23.PNG')"
   ]
  },
  {
   "cell_type": "code",
   "execution_count": 45,
   "metadata": {},
   "outputs": [
    {
     "name": "stdout",
     "output_type": "stream",
     "text": [
      "2 549 27\n"
     ]
    }
   ],
   "source": [
    "from IPython.display import Image\n",
    "from PIL import Image as pili, ImageOps as piliops\n",
    "from PIL import Image as pili, ImageDraw as pild, ImageFont as pilf \n",
    "\n",
    "piliops.expand(pili.open('ipynb.images/comic book 2/24.png'), border=(10,10),fill='black').save('ipynb.images/comic book 2/edited comic book 2/24.PNG')\n",
    "Image(filename='ipynb.images/comic book 2/edited comic book 2/24.PNG', width=400)\n",
    "\n",
    "caption = \"\"\"वह चीखी और जोर से चिल्लाई,\"गाँव में एक जंगली जानवर है, मदद करें!\" \n",
    "\"\"\"\n",
    "\n",
    "TINT_COLOR = (0, 0, 0)  # Black\n",
    "TRANSPARENCY = .90  # Degree of transparency, 0-100%\n",
    "OPACITY = int(255 * TRANSPARENCY)\n",
    "\n",
    "from PIL import Image, ImageFont, ImageDraw\n",
    "\n",
    "img = pili.open('ipynb.images/comic book 2/edited comic book 2/24.PNG').convert('RGBA')\n",
    "\n",
    "overlay = pili.new('RGBA', img.size, TINT_COLOR+(0,))\n",
    "draw = pild.Draw(overlay)\n",
    "font = pilf.truetype(\"C:/Windows/Fonts/Nirmalas.ttf\", 20)\n",
    "x, y = (img.width, img.height)\n",
    "text = caption\n",
    "w, h = font.getsize(text)\n",
    "num_lines = len(text.split('\\n'))\n",
    "print(num_lines, w, h)\n",
    "x, y = 10, img.height - (num_lines-0.001*num_lines)*h\n",
    "#draw.rectangle((x+w, y+h, x + w, y + h), fill='black')\n",
    "#draw.rectangle((x, y, x + w, y + 4*h), fill=TINT_COLOR+(OPACITY,))\n",
    "draw.rectangle((x, y, x + img.width*3, y + img.height*3), fill=TINT_COLOR+(OPACITY,))\n",
    "draw.text((x, y), text, fill=(225, 255, 255), font=font)\n",
    "\n",
    "# Alpha composite these two images together to obtain the desired result.\n",
    "img = pili.alpha_composite(img, overlay)\n",
    "img = img.convert(\"RGB\") # Remove alpha for saving in jpg format.\n",
    "\n",
    "img.save('ipynb.images/comic book 2/edited comic book 2 with captions/24.PNG')"
   ]
  },
  {
   "cell_type": "code",
   "execution_count": 46,
   "metadata": {},
   "outputs": [
    {
     "name": "stderr",
     "output_type": "stream",
     "text": [
      "<ipython-input-46-dfa176ce6bd5>:12: FutureWarning: arrays to stack must be passed as a \"sequence\" type such as list or tuple. Support for non-sequence iterables such as generators is deprecated as of NumPy 1.16 and will raise an error in the future.\n",
      "  imgs_comb = np.hstack( (np.asarray( i.resize(min_shape) ) for i in imgs ) )\n"
     ]
    }
   ],
   "source": [
    "import numpy as np\n",
    "import PIL\n",
    "\n",
    "list_im = ['ipynb.images/comic book 2/edited comic book 2 with captions/21.PNG',\n",
    "            'ipynb.images/comic book 2/edited comic book 2 with captions/23.PNG',\n",
    "            'ipynb.images/comic book 2/edited comic book 2 with captions/24.PNG'\n",
    "          ]\n",
    "imgs    = [ PIL.Image.open(i) for i in list_im ]\n",
    "\n",
    "# pick the image which is the smallest, and resize the others to match it (can be arbitrary image shape here)\n",
    "min_shape = sorted( [(np.sum(i.size), i.size ) for i in imgs])[0][1]\n",
    "imgs_comb = np.hstack( (np.asarray( i.resize(min_shape) ) for i in imgs ) )\n",
    "\n",
    "# save that beautiful picture\n",
    "imgs_comb = PIL.Image.fromarray( imgs_comb)\n",
    "imgs_comb.save( 'ipynb.images\\comic book 2\\combined comic book 2.3\\Strip8.png' )"
   ]
  },
  {
   "cell_type": "code",
   "execution_count": 48,
   "metadata": {},
   "outputs": [
    {
     "name": "stdout",
     "output_type": "stream",
     "text": [
      "4 1895 27\n"
     ]
    }
   ],
   "source": [
    "from IPython.display import Image\n",
    "from PIL import Image as pili, ImageOps as piliops\n",
    "from PIL import Image as pili, ImageDraw as pild, ImageFont as pilf \n",
    "\n",
    "piliops.expand(pili.open('ipynb.images/comic book 2/25.png'), border=(10,10),fill='black').save('ipynb.images/comic book 2/edited comic book 2/25.PNG')\n",
    "Image(filename='ipynb.images/comic book 2/edited comic book 2/25.PNG', width=400)\n",
    "\n",
    "caption = \"\"\"एक ग्रामीण उसका रोना सुनता है और दरवाजे से बाहर निकलता है, \n",
    "और वह शेर को देखता है खान चुपचाप एक पेड़ के पास झाँकने लगा। यह मानते हुए कि \n",
    "शेर खान जंगली हैं जानवर शांति का हवाला दे रहा है, वह उसके पीछे दौड़ती मशाल लेकर \n",
    "दौड़ता है!\"\"\"\n",
    "\n",
    "TINT_COLOR = (0, 0, 0)  # Black\n",
    "TRANSPARENCY = .90  # Degree of transparency, 0-100%\n",
    "OPACITY = int(255 * TRANSPARENCY)\n",
    "\n",
    "from PIL import Image, ImageFont, ImageDraw\n",
    "\n",
    "img = pili.open('ipynb.images/comic book 2/edited comic book 2/25.PNG').convert('RGBA')\n",
    "\n",
    "overlay = pili.new('RGBA', img.size, TINT_COLOR+(0,))\n",
    "draw = pild.Draw(overlay)\n",
    "font = pilf.truetype(\"C:/Windows/Fonts/Nirmalas.ttf\", 20)\n",
    "x, y = (img.width, img.height)\n",
    "text = caption\n",
    "w, h = font.getsize(text)\n",
    "num_lines = len(text.split('\\n'))\n",
    "print(num_lines, w, h)\n",
    "x, y = 10, img.height - (num_lines-0.001*num_lines)*h\n",
    "#draw.rectangle((x+w, y+h, x + w, y + h), fill='black')\n",
    "#draw.rectangle((x, y, x + w, y + 4*h), fill=TINT_COLOR+(OPACITY,))\n",
    "draw.rectangle((x, y, x + img.width*3, y + img.height*3), fill=TINT_COLOR+(OPACITY,))\n",
    "draw.text((x, y), text, fill=(225, 255, 255), font=font)\n",
    "\n",
    "# Alpha composite these two images together to obtain the desired result.\n",
    "img = pili.alpha_composite(img, overlay)\n",
    "img = img.convert(\"RGB\") # Remove alpha for saving in jpg format.\n",
    "\n",
    "img.save('ipynb.images/comic book 2/edited comic book 2 with captions/25.PNG')"
   ]
  },
  {
   "cell_type": "code",
   "execution_count": 49,
   "metadata": {},
   "outputs": [
    {
     "name": "stdout",
     "output_type": "stream",
     "text": [
      "2 642 27\n"
     ]
    }
   ],
   "source": [
    "from IPython.display import Image\n",
    "from PIL import Image as pili, ImageOps as piliops\n",
    "from PIL import Image as pili, ImageDraw as pild, ImageFont as pilf \n",
    "\n",
    "piliops.expand(pili.open('ipynb.images/comic book 2/26.png'), border=(10,10),fill='black').save('ipynb.images/comic book 2/edited comic book 2/26.PNG')\n",
    "Image(filename='ipynb.images/comic book 2/edited comic book 2/26.PNG', width=400)\n",
    "\n",
    "caption = \"\"\"जल्द ही, अन्य ग्रामीण उससे जुड़ते हैं और बुराई के बाद जाते हैं\n",
    "मशालों के साथ बाघ! \"\"\"\n",
    "\n",
    "TINT_COLOR = (0, 0, 0)  # Black\n",
    "TRANSPARENCY = .90  # Degree of transparency, 0-100%\n",
    "OPACITY = int(255 * TRANSPARENCY)\n",
    "\n",
    "from PIL import Image, ImageFont, ImageDraw\n",
    "\n",
    "img = pili.open('ipynb.images/comic book 2/edited comic book 2/26.PNG').convert('RGBA')\n",
    "\n",
    "overlay = pili.new('RGBA', img.size, TINT_COLOR+(0,))\n",
    "draw = pild.Draw(overlay)\n",
    "font = pilf.truetype(\"C:/Windows/Fonts/Nirmalas.ttf\", 20)\n",
    "x, y = (img.width, img.height)\n",
    "text = caption\n",
    "w, h = font.getsize(text)\n",
    "num_lines = len(text.split('\\n'))\n",
    "print(num_lines, w, h)\n",
    "x, y = 10, img.height - (num_lines-0.001*num_lines)*h\n",
    "#draw.rectangle((x+w, y+h, x + w, y + h), fill='black')\n",
    "#draw.rectangle((x, y, x + w, y + 4*h), fill=TINT_COLOR+(OPACITY,))\n",
    "draw.rectangle((x, y, x + img.width*3, y + img.height*3), fill=TINT_COLOR+(OPACITY,))\n",
    "draw.text((x, y), text, fill=(225, 255, 255), font=font)\n",
    "\n",
    "# Alpha composite these two images together to obtain the desired result.\n",
    "img = pili.alpha_composite(img, overlay)\n",
    "img = img.convert(\"RGB\") # Remove alpha for saving in jpg format.\n",
    "\n",
    "img.save('ipynb.images/comic book 2/edited comic book 2 with captions/26.PNG')"
   ]
  },
  {
   "cell_type": "code",
   "execution_count": 50,
   "metadata": {},
   "outputs": [
    {
     "name": "stdout",
     "output_type": "stream",
     "text": [
      "2 917 27\n"
     ]
    }
   ],
   "source": [
    "from IPython.display import Image\n",
    "from PIL import Image as pili, ImageOps as piliops\n",
    "from PIL import Image as pili, ImageDraw as pild, ImageFont as pilf \n",
    "\n",
    "piliops.expand(pili.open('ipynb.images/comic book 2/27.png'), border=(10,10),fill='black').save('ipynb.images/comic book 2/edited comic book 2/27.PNG')\n",
    "Image(filename='ipynb.images/comic book 2/edited comic book 2/27.PNG', width=400)\n",
    "\n",
    "caption = \"\"\"इस बीच, शांति, अभी भी सोच रही है कि बालू ने मोगली का अपहरण \n",
    "कर लिया है, उसे अकेला देख कर जंगल की ओर जाता है\"\"\"\n",
    "\n",
    "TINT_COLOR = (0, 0, 0)  # Black\n",
    "TRANSPARENCY = .90  # Degree of transparency, 0-100%\n",
    "OPACITY = int(255 * TRANSPARENCY)\n",
    "\n",
    "from PIL import Image, ImageFont, ImageDraw\n",
    "\n",
    "img = pili.open('ipynb.images/comic book 2/edited comic book 2/27.PNG').convert('RGBA')\n",
    "\n",
    "overlay = pili.new('RGBA', img.size, TINT_COLOR+(0,))\n",
    "draw = pild.Draw(overlay)\n",
    "font = pilf.truetype(\"C:/Windows/Fonts/Nirmalas.ttf\", 20)\n",
    "x, y = (img.width, img.height)\n",
    "text = caption\n",
    "w, h = font.getsize(text)\n",
    "num_lines = len(text.split('\\n'))\n",
    "print(num_lines, w, h)\n",
    "x, y = 10, img.height - (num_lines-0.001*num_lines)*h\n",
    "#draw.rectangle((x+w, y+h, x + w, y + h), fill='black')\n",
    "#draw.rectangle((x, y, x + w, y + 4*h), fill=TINT_COLOR+(OPACITY,))\n",
    "draw.rectangle((x, y, x + img.width*3, y + img.height*3), fill=TINT_COLOR+(OPACITY,))\n",
    "draw.text((x, y), text, fill=(225, 255, 255), font=font)\n",
    "\n",
    "# Alpha composite these two images together to obtain the desired result.\n",
    "img = pili.alpha_composite(img, overlay)\n",
    "img = img.convert(\"RGB\") # Remove alpha for saving in jpg format.\n",
    "\n",
    "img.save('ipynb.images/comic book 2/edited comic book 2 with captions/27.PNG')"
   ]
  },
  {
   "cell_type": "code",
   "execution_count": 51,
   "metadata": {},
   "outputs": [
    {
     "name": "stderr",
     "output_type": "stream",
     "text": [
      "<ipython-input-51-6fecf83b5419>:12: FutureWarning: arrays to stack must be passed as a \"sequence\" type such as list or tuple. Support for non-sequence iterables such as generators is deprecated as of NumPy 1.16 and will raise an error in the future.\n",
      "  imgs_comb = np.hstack( (np.asarray( i.resize(min_shape) ) for i in imgs ) )\n"
     ]
    }
   ],
   "source": [
    "import numpy as np\n",
    "import PIL\n",
    "\n",
    "list_im = ['ipynb.images/comic book 2/edited comic book 2 with captions/25.PNG',\n",
    "            'ipynb.images/comic book 2/edited comic book 2 with captions/26.PNG',\n",
    "            'ipynb.images/comic book 2/edited comic book 2 with captions/27.PNG'\n",
    "          ]\n",
    "imgs    = [ PIL.Image.open(i) for i in list_im ]\n",
    "\n",
    "# pick the image which is the smallest, and resize the others to match it (can be arbitrary image shape here)\n",
    "min_shape = sorted( [(np.sum(i.size), i.size ) for i in imgs])[0][1]\n",
    "imgs_comb = np.hstack( (np.asarray( i.resize(min_shape) ) for i in imgs ) )\n",
    "\n",
    "# save that beautiful picture\n",
    "imgs_comb = PIL.Image.fromarray( imgs_comb)\n",
    "imgs_comb.save( 'ipynb.images\\comic book 2\\combined comic book 2.3\\Strip9.png' )"
   ]
  },
  {
   "cell_type": "code",
   "execution_count": 52,
   "metadata": {},
   "outputs": [
    {
     "name": "stdout",
     "output_type": "stream",
     "text": [
      "2 677 27\n"
     ]
    }
   ],
   "source": [
    "from IPython.display import Image\n",
    "from PIL import Image as pili, ImageOps as piliops\n",
    "from PIL import Image as pili, ImageDraw as pild, ImageFont as pilf \n",
    "\n",
    "piliops.expand(pili.open('ipynb.images/comic book 2/28.png'), border=(10,10),fill='black').save('ipynb.images/comic book 2/edited comic book 2/28.PNG')\n",
    "Image(filename='ipynb.images/comic book 2/edited comic book 2/28.PNG', width=400)\n",
    "\n",
    "caption = \"\"\"हालांकि शुरू में झिझक रही थी, लेकिन शांति जंगल की गहराई में चली गई\n",
    "मोगली की खातिर! \"\"\"\n",
    "\n",
    "TINT_COLOR = (0, 0, 0)  # Black\n",
    "TRANSPARENCY = .90  # Degree of transparency, 0-100%\n",
    "OPACITY = int(255 * TRANSPARENCY)\n",
    "\n",
    "from PIL import Image, ImageFont, ImageDraw\n",
    "\n",
    "img = pili.open('ipynb.images/comic book 2/edited comic book 2/28.PNG').convert('RGBA')\n",
    "\n",
    "overlay = pili.new('RGBA', img.size, TINT_COLOR+(0,))\n",
    "draw = pild.Draw(overlay)\n",
    "font = pilf.truetype(\"C:/Windows/Fonts/Nirmalas.ttf\", 20)\n",
    "x, y = (img.width, img.height)\n",
    "text = caption\n",
    "w, h = font.getsize(text)\n",
    "num_lines = len(text.split('\\n'))\n",
    "print(num_lines, w, h)\n",
    "x, y = 10, img.height - (num_lines-0.001*num_lines)*h\n",
    "#draw.rectangle((x+w, y+h, x + w, y + h), fill='black')\n",
    "#draw.rectangle((x, y, x + w, y + 4*h), fill=TINT_COLOR+(OPACITY,))\n",
    "draw.rectangle((x, y, x + img.width*3, y + img.height*3), fill=TINT_COLOR+(OPACITY,))\n",
    "draw.text((x, y), text, fill=(225, 255, 255), font=font)\n",
    "\n",
    "# Alpha composite these two images together to obtain the desired result.\n",
    "img = pili.alpha_composite(img, overlay)\n",
    "img = img.convert(\"RGB\") # Remove alpha for saving in jpg format.\n",
    "\n",
    "img.save('ipynb.images/comic book 2/edited comic book 2 with captions/28.PNG')"
   ]
  },
  {
   "cell_type": "code",
   "execution_count": 53,
   "metadata": {},
   "outputs": [
    {
     "name": "stdout",
     "output_type": "stream",
     "text": [
      "2 733 27\n"
     ]
    }
   ],
   "source": [
    "from IPython.display import Image\n",
    "from PIL import Image as pili, ImageOps as piliops\n",
    "from PIL import Image as pili, ImageDraw as pild, ImageFont as pilf \n",
    "\n",
    "piliops.expand(pili.open('ipynb.images/comic book 2/29.png'), border=(10,10),fill='black').save('ipynb.images/comic book 2/edited comic book 2/29.PNG')\n",
    "Image(filename='ipynb.images/comic book 2/edited comic book 2/29.PNG', width=400)\n",
    "\n",
    "caption = \"\"\"'का', जंगली अजगर उसे जंगल से गुजरते हुए देखता है और\n",
    "उसका शिकार करने का फैसला करता है\"\"\"\n",
    "\n",
    "TINT_COLOR = (0, 0, 0)  # Black\n",
    "TRANSPARENCY = .90  # Degree of transparency, 0-100%\n",
    "OPACITY = int(255 * TRANSPARENCY)\n",
    "\n",
    "from PIL import Image, ImageFont, ImageDraw\n",
    "\n",
    "img = pili.open('ipynb.images/comic book 2/edited comic book 2/29.PNG').convert('RGBA')\n",
    "\n",
    "overlay = pili.new('RGBA', img.size, TINT_COLOR+(0,))\n",
    "draw = pild.Draw(overlay)\n",
    "font = pilf.truetype(\"C:/Windows/Fonts/Nirmalas.ttf\", 20)\n",
    "x, y = (img.width, img.height)\n",
    "text = caption\n",
    "w, h = font.getsize(text)\n",
    "num_lines = len(text.split('\\n'))\n",
    "print(num_lines, w, h)\n",
    "x, y = 10, img.height - (num_lines-0.001*num_lines)*h\n",
    "#draw.rectangle((x+w, y+h, x + w, y + h), fill='black')\n",
    "#draw.rectangle((x, y, x + w, y + 4*h), fill=TINT_COLOR+(OPACITY,))\n",
    "draw.rectangle((x, y, x + img.width*3, y + img.height*3), fill=TINT_COLOR+(OPACITY,))\n",
    "draw.text((x, y), text, fill=(225, 255, 255), font=font)\n",
    "\n",
    "# Alpha composite these two images together to obtain the desired result.\n",
    "img = pili.alpha_composite(img, overlay)\n",
    "img = img.convert(\"RGB\") # Remove alpha for saving in jpg format.\n",
    "\n",
    "img.save('ipynb.images/comic book 2/edited comic book 2 with captions/29.PNG')"
   ]
  },
  {
   "cell_type": "code",
   "execution_count": 54,
   "metadata": {},
   "outputs": [
    {
     "name": "stdout",
     "output_type": "stream",
     "text": [
      "2 572 27\n"
     ]
    }
   ],
   "source": [
    "from IPython.display import Image\n",
    "from PIL import Image as pili, ImageOps as piliops\n",
    "from PIL import Image as pili, ImageDraw as pild, ImageFont as pilf \n",
    "\n",
    "piliops.expand(pili.open('ipynb.images/comic book 2/30.png'), border=(10,10),fill='black').save('ipynb.images/comic book 2/edited comic book 2/30.PNG')\n",
    "Image(filename='ipynb.images/comic book 2/edited comic book 2/30.PNG', width=400)\n",
    "\n",
    "caption = \"\"\"वह खुद को उसके सामने प्रकट करता है और तुरंत उसे सम्मोहित करता है!\n",
    "\"\"\"\n",
    "\n",
    "TINT_COLOR = (0, 0, 0)  # Black\n",
    "TRANSPARENCY = .90  # Degree of transparency, 0-100%\n",
    "OPACITY = int(255 * TRANSPARENCY)\n",
    "\n",
    "from PIL import Image, ImageFont, ImageDraw\n",
    "\n",
    "img = pili.open('ipynb.images/comic book 2/edited comic book 2/30.PNG').convert('RGBA')\n",
    "\n",
    "overlay = pili.new('RGBA', img.size, TINT_COLOR+(0,))\n",
    "draw = pild.Draw(overlay)\n",
    "font = pilf.truetype(\"C:/Windows/Fonts/Nirmalas.ttf\", 20)\n",
    "x, y = (img.width, img.height)\n",
    "text = caption\n",
    "w, h = font.getsize(text)\n",
    "num_lines = len(text.split('\\n'))\n",
    "print(num_lines, w, h)\n",
    "x, y = 10, img.height - (num_lines-0.001*num_lines)*h\n",
    "#draw.rectangle((x+w, y+h, x + w, y + h), fill='black')\n",
    "#draw.rectangle((x, y, x + w, y + 4*h), fill=TINT_COLOR+(OPACITY,))\n",
    "draw.rectangle((x, y, x + img.width*3, y + img.height*3), fill=TINT_COLOR+(OPACITY,))\n",
    "draw.text((x, y), text, fill=(225, 255, 255), font=font)\n",
    "\n",
    "# Alpha composite these two images together to obtain the desired result.\n",
    "img = pili.alpha_composite(img, overlay)\n",
    "img = img.convert(\"RGB\") # Remove alpha for saving in jpg format.\n",
    "\n",
    "img.save('ipynb.images/comic book 2/edited comic book 2 with captions/30.PNG')"
   ]
  },
  {
   "cell_type": "code",
   "execution_count": 55,
   "metadata": {},
   "outputs": [
    {
     "name": "stderr",
     "output_type": "stream",
     "text": [
      "<ipython-input-55-c0a2a103dcd3>:12: FutureWarning: arrays to stack must be passed as a \"sequence\" type such as list or tuple. Support for non-sequence iterables such as generators is deprecated as of NumPy 1.16 and will raise an error in the future.\n",
      "  imgs_comb = np.hstack( (np.asarray( i.resize(min_shape) ) for i in imgs ) )\n"
     ]
    }
   ],
   "source": [
    "import numpy as np\n",
    "import PIL\n",
    "\n",
    "list_im = ['ipynb.images/comic book 2/edited comic book 2 with captions/28.PNG',\n",
    "            'ipynb.images/comic book 2/edited comic book 2 with captions/29.PNG',\n",
    "            'ipynb.images/comic book 2/edited comic book 2 with captions/30.PNG'\n",
    "          ]\n",
    "imgs    = [ PIL.Image.open(i) for i in list_im ]\n",
    "\n",
    "# pick the image which is the smallest, and resize the others to match it (can be arbitrary image shape here)\n",
    "min_shape = sorted( [(np.sum(i.size), i.size ) for i in imgs])[0][1]\n",
    "imgs_comb = np.hstack( (np.asarray( i.resize(min_shape) ) for i in imgs ) )\n",
    "\n",
    "# save that beautiful picture\n",
    "imgs_comb = PIL.Image.fromarray( imgs_comb)\n",
    "imgs_comb.save( 'ipynb.images\\comic book 2\\combined comic book 2.3\\Strip10.png' )"
   ]
  },
  {
   "cell_type": "code",
   "execution_count": 56,
   "metadata": {},
   "outputs": [
    {
     "name": "stdout",
     "output_type": "stream",
     "text": [
      "2 1211 27\n"
     ]
    }
   ],
   "source": [
    "from IPython.display import Image\n",
    "from PIL import Image as pili, ImageOps as piliops\n",
    "from PIL import Image as pili, ImageDraw as pild, ImageFont as pilf \n",
    "\n",
    "piliops.expand(pili.open('ipynb.images/comic book 2/31.png'), border=(10,10),fill='black').save('ipynb.images/comic book 2/edited comic book 2/31.PNG')\n",
    "Image(filename='ipynb.images/comic book 2/edited comic book 2/31.PNG', width=400)\n",
    "\n",
    "caption = \"\"\"का छोटी लड़की को डराने का प्रबंधन करती है और उसे एक आघात में \n",
    "डाल देती है वह धीरे-धीरे खुद को उसके चारों ओर सहलाता है ताकि जीवन उससे दूर हो जाए \"\"\"\n",
    "\n",
    "TINT_COLOR = (0, 0, 0)  # Black\n",
    "TRANSPARENCY = .90  # Degree of transparency, 0-100%\n",
    "OPACITY = int(255 * TRANSPARENCY)\n",
    "\n",
    "from PIL import Image, ImageFont, ImageDraw\n",
    "\n",
    "img = pili.open('ipynb.images/comic book 2/edited comic book 2/31.PNG').convert('RGBA')\n",
    "\n",
    "overlay = pili.new('RGBA', img.size, TINT_COLOR+(0,))\n",
    "draw = pild.Draw(overlay)\n",
    "font = pilf.truetype(\"C:/Windows/Fonts/Nirmalas.ttf\", 20)\n",
    "x, y = (img.width, img.height)\n",
    "text = caption\n",
    "w, h = font.getsize(text)\n",
    "num_lines = len(text.split('\\n'))\n",
    "print(num_lines, w, h)\n",
    "x, y = 10, img.height - (num_lines-0.001*num_lines)*h\n",
    "#draw.rectangle((x+w, y+h, x + w, y + h), fill='black')\n",
    "#draw.rectangle((x, y, x + w, y + 4*h), fill=TINT_COLOR+(OPACITY,))\n",
    "draw.rectangle((x, y, x + img.width*3, y + img.height*3), fill=TINT_COLOR+(OPACITY,))\n",
    "draw.text((x, y), text, fill=(225, 255, 255), font=font)\n",
    "\n",
    "# Alpha composite these two images together to obtain the desired result.\n",
    "img = pili.alpha_composite(img, overlay)\n",
    "img = img.convert(\"RGB\") # Remove alpha for saving in jpg format.\n",
    "\n",
    "img.save('ipynb.images/comic book 2/edited comic book 2 with captions/31.PNG')"
   ]
  },
  {
   "cell_type": "code",
   "execution_count": 57,
   "metadata": {},
   "outputs": [
    {
     "name": "stdout",
     "output_type": "stream",
     "text": [
      "2 1039 27\n"
     ]
    }
   ],
   "source": [
    "from IPython.display import Image\n",
    "from PIL import Image as pili, ImageOps as piliops\n",
    "from PIL import Image as pili, ImageDraw as pild, ImageFont as pilf \n",
    "\n",
    "piliops.expand(pili.open('ipynb.images/comic book 2/32.png'), border=(10,10),fill='black').save('ipynb.images/comic book 2/edited comic book 2/32.PNG')\n",
    "Image(filename='ipynb.images/comic book 2/edited comic book 2/32.PNG', width=400)\n",
    "\n",
    "caption = \"\"\"का जैसे ही वह हड़ताल करने की तैयारी करता है, उसे एक बोल्डर पर खड़ा कर दिया जाता है।\n",
    "लेकिन जैसे वह उसका उपभोग करने वाला है...\"\"\"\n",
    "\n",
    "TINT_COLOR = (0, 0, 0)  # Black\n",
    "TRANSPARENCY = .90  # Degree of transparency, 0-100%\n",
    "OPACITY = int(255 * TRANSPARENCY)\n",
    "\n",
    "from PIL import Image, ImageFont, ImageDraw\n",
    "\n",
    "img = pili.open('ipynb.images/comic book 2/edited comic book 2/32.PNG').convert('RGBA')\n",
    "\n",
    "overlay = pili.new('RGBA', img.size, TINT_COLOR+(0,))\n",
    "draw = pild.Draw(overlay)\n",
    "font = pilf.truetype(\"C:/Windows/Fonts/Nirmalas.ttf\", 20)\n",
    "x, y = (img.width, img.height)\n",
    "text = caption\n",
    "w, h = font.getsize(text)\n",
    "num_lines = len(text.split('\\n'))\n",
    "print(num_lines, w, h)\n",
    "x, y = 10, img.height - (num_lines-0.001*num_lines)*h\n",
    "#draw.rectangle((x+w, y+h, x + w, y + h), fill='black')\n",
    "#draw.rectangle((x, y, x + w, y + 4*h), fill=TINT_COLOR+(OPACITY,))\n",
    "draw.rectangle((x, y, x + img.width*3, y + img.height*3), fill=TINT_COLOR+(OPACITY,))\n",
    "draw.text((x, y), text, fill=(225, 255, 255), font=font)\n",
    "\n",
    "# Alpha composite these two images together to obtain the desired result.\n",
    "img = pili.alpha_composite(img, overlay)\n",
    "img = img.convert(\"RGB\") # Remove alpha for saving in jpg format.\n",
    "\n",
    "img.save('ipynb.images/comic book 2/edited comic book 2 with captions/32.PNG')"
   ]
  },
  {
   "cell_type": "code",
   "execution_count": 58,
   "metadata": {},
   "outputs": [
    {
     "name": "stdout",
     "output_type": "stream",
     "text": [
      "2 753 27\n"
     ]
    }
   ],
   "source": [
    "from IPython.display import Image\n",
    "from PIL import Image as pili, ImageOps as piliops\n",
    "from PIL import Image as pili, ImageDraw as pild, ImageFont as pilf \n",
    "\n",
    "piliops.expand(pili.open('ipynb.images/comic book 2/33.png'), border=(10,10),fill='black').save('ipynb.images/comic book 2/edited comic book 2/33.PNG')\n",
    "Image(filename='ipynb.images/comic book 2/edited comic book 2/33.PNG', width=400)\n",
    "\n",
    "caption = \"\"\"शांति रंजन द्वारा बचाई जाती है! \n",
    "उसने चुपके से पीछा किया क्योंकि शांति अकेले जंगल की ओर भागी\"\"\"\n",
    "\n",
    "TINT_COLOR = (0, 0, 0)  # Black\n",
    "TRANSPARENCY = .90  # Degree of transparency, 0-100%\n",
    "OPACITY = int(255 * TRANSPARENCY)\n",
    "\n",
    "from PIL import Image, ImageFont, ImageDraw\n",
    "\n",
    "img = pili.open('ipynb.images/comic book 2/edited comic book 2/33.PNG').convert('RGBA')\n",
    "\n",
    "overlay = pili.new('RGBA', img.size, TINT_COLOR+(0,))\n",
    "draw = pild.Draw(overlay)\n",
    "font = pilf.truetype(\"C:/Windows/Fonts/Nirmalas.ttf\", 20)\n",
    "x, y = (img.width, img.height)\n",
    "text = caption\n",
    "w, h = font.getsize(text)\n",
    "num_lines = len(text.split('\\n'))\n",
    "print(num_lines, w, h)\n",
    "x, y = 10, img.height - (num_lines-0.001*num_lines)*h\n",
    "#draw.rectangle((x+w, y+h, x + w, y + h), fill='black')\n",
    "#draw.rectangle((x, y, x + w, y + 4*h), fill=TINT_COLOR+(OPACITY,))\n",
    "draw.rectangle((x, y, x + img.width*3, y + img.height*3), fill=TINT_COLOR+(OPACITY,))\n",
    "draw.text((x, y), text, fill=(225, 255, 255), font=font)\n",
    "\n",
    "# Alpha composite these two images together to obtain the desired result.\n",
    "img = pili.alpha_composite(img, overlay)\n",
    "img = img.convert(\"RGB\") # Remove alpha for saving in jpg format.\n",
    "\n",
    "img.save('ipynb.images/comic book 2/edited comic book 2 with captions/33.PNG')"
   ]
  },
  {
   "cell_type": "code",
   "execution_count": 59,
   "metadata": {},
   "outputs": [
    {
     "name": "stderr",
     "output_type": "stream",
     "text": [
      "<ipython-input-59-f6295050a139>:12: FutureWarning: arrays to stack must be passed as a \"sequence\" type such as list or tuple. Support for non-sequence iterables such as generators is deprecated as of NumPy 1.16 and will raise an error in the future.\n",
      "  imgs_comb = np.hstack( (np.asarray( i.resize(min_shape) ) for i in imgs ) )\n"
     ]
    }
   ],
   "source": [
    "import numpy as np\n",
    "import PIL\n",
    "\n",
    "list_im = ['ipynb.images/comic book 2/edited comic book 2 with captions/31.PNG',\n",
    "            'ipynb.images/comic book 2/edited comic book 2 with captions/32.PNG',\n",
    "            'ipynb.images/comic book 2/edited comic book 2 with captions/33.PNG'\n",
    "          ]\n",
    "imgs    = [ PIL.Image.open(i) for i in list_im ]\n",
    "\n",
    "# pick the image which is the smallest, and resize the others to match it (can be arbitrary image shape here)\n",
    "min_shape = sorted( [(np.sum(i.size), i.size ) for i in imgs])[0][1]\n",
    "imgs_comb = np.hstack( (np.asarray( i.resize(min_shape) ) for i in imgs ) )\n",
    "\n",
    "# save that beautiful picture\n",
    "imgs_comb = PIL.Image.fromarray( imgs_comb)\n",
    "imgs_comb.save( 'ipynb.images\\comic book 2\\combined comic book 2.3\\Strip11.png' )"
   ]
  },
  {
   "cell_type": "code",
   "execution_count": 60,
   "metadata": {},
   "outputs": [
    {
     "name": "stdout",
     "output_type": "stream",
     "text": [
      "3 1288 27\n"
     ]
    }
   ],
   "source": [
    "from IPython.display import Image\n",
    "from PIL import Image as pili, ImageOps as piliops\n",
    "from PIL import Image as pili, ImageDraw as pild, ImageFont as pilf \n",
    "\n",
    "piliops.expand(pili.open('ipynb.images/comic book 2/34.png'), border=(10,10),fill='black').save('ipynb.images/comic book 2/edited comic book 2/34.PNG')\n",
    "Image(filename='ipynb.images/comic book 2/edited comic book 2/34.PNG', width=400)\n",
    "\n",
    "caption = \"\"\"चालाक सांप इसके बजाय एक बड़ी चट्टान को पकड़ लेता है और हो जाता है\n",
    "रंजन ने मारपीट की\n",
    "शांति जमीन से टकराती है और झटपट उसकी तन्द्रा से बाहर निकल जाती है \"\"\"\n",
    "\n",
    "TINT_COLOR = (0, 0, 0)  # Black\n",
    "TRANSPARENCY = .90  # Degree of transparency, 0-100%\n",
    "OPACITY = int(255 * TRANSPARENCY)\n",
    "\n",
    "from PIL import Image, ImageFont, ImageDraw\n",
    "\n",
    "img = pili.open('ipynb.images/comic book 2/edited comic book 2/34.PNG').convert('RGBA')\n",
    "\n",
    "overlay = pili.new('RGBA', img.size, TINT_COLOR+(0,))\n",
    "draw = pild.Draw(overlay)\n",
    "font = pilf.truetype(\"C:/Windows/Fonts/Nirmalas.ttf\", 20)\n",
    "x, y = (img.width, img.height)\n",
    "text = caption\n",
    "w, h = font.getsize(text)\n",
    "num_lines = len(text.split('\\n'))\n",
    "print(num_lines, w, h)\n",
    "x, y = 10, img.height - (num_lines-0.001*num_lines)*h\n",
    "#draw.rectangle((x+w, y+h, x + w, y + h), fill='black')\n",
    "#draw.rectangle((x, y, x + w, y + 4*h), fill=TINT_COLOR+(OPACITY,))\n",
    "draw.rectangle((x, y, x + img.width*3, y + img.height*3), fill=TINT_COLOR+(OPACITY,))\n",
    "draw.text((x, y), text, fill=(225, 255, 255), font=font)\n",
    "\n",
    "# Alpha composite these two images together to obtain the desired result.\n",
    "img = pili.alpha_composite(img, overlay)\n",
    "img = img.convert(\"RGB\") # Remove alpha for saving in jpg format.\n",
    "\n",
    "img.save('ipynb.images/comic book 2/edited comic book 2 with captions/34.PNG')"
   ]
  },
  {
   "cell_type": "code",
   "execution_count": 61,
   "metadata": {},
   "outputs": [
    {
     "name": "stdout",
     "output_type": "stream",
     "text": [
      "2 804 27\n"
     ]
    }
   ],
   "source": [
    "from IPython.display import Image\n",
    "from PIL import Image as pili, ImageOps as piliops\n",
    "from PIL import Image as pili, ImageDraw as pild, ImageFont as pilf \n",
    "\n",
    "piliops.expand(pili.open('ipynb.images/comic book 2/35.png'), border=(10,10),fill='black').save('ipynb.images/comic book 2/edited comic book 2/35.PNG')\n",
    "Image(filename='ipynb.images/comic book 2/edited comic book 2/35.PNG', width=400)\n",
    "\n",
    "caption = \"\"\"शांति ने रंजन को अपनी जान बचाने के लिए धन्यवाद दिया और वे दोनों सेट हो गए\n",
    "मोगली को एक साथ खोजें! \"\"\"\n",
    "\n",
    "TINT_COLOR = (0, 0, 0)  # Black\n",
    "TRANSPARENCY = .90  # Degree of transparency, 0-100%\n",
    "OPACITY = int(255 * TRANSPARENCY)\n",
    "\n",
    "from PIL import Image, ImageFont, ImageDraw\n",
    "\n",
    "img = pili.open('ipynb.images/comic book 2/edited comic book 2/35.PNG').convert('RGBA')\n",
    "\n",
    "overlay = pili.new('RGBA', img.size, TINT_COLOR+(0,))\n",
    "draw = pild.Draw(overlay)\n",
    "font = pilf.truetype(\"C:/Windows/Fonts/Nirmalas.ttf\", 20)\n",
    "x, y = (img.width, img.height)\n",
    "text = caption\n",
    "w, h = font.getsize(text)\n",
    "num_lines = len(text.split('\\n'))\n",
    "print(num_lines, w, h)\n",
    "x, y = 10, img.height - (num_lines-0.001*num_lines)*h\n",
    "#draw.rectangle((x+w, y+h, x + w, y + h), fill='black')\n",
    "#draw.rectangle((x, y, x + w, y + 4*h), fill=TINT_COLOR+(OPACITY,))\n",
    "draw.rectangle((x, y, x + img.width*3, y + img.height*3), fill=TINT_COLOR+(OPACITY,))\n",
    "draw.text((x, y), text, fill=(225, 255, 255), font=font)\n",
    "\n",
    "# Alpha composite these two images together to obtain the desired result.\n",
    "img = pili.alpha_composite(img, overlay)\n",
    "img = img.convert(\"RGB\") # Remove alpha for saving in jpg format.\n",
    "\n",
    "img.save('ipynb.images/comic book 2/edited comic book 2 with captions/35.PNG')"
   ]
  },
  {
   "cell_type": "code",
   "execution_count": 62,
   "metadata": {},
   "outputs": [
    {
     "name": "stdout",
     "output_type": "stream",
     "text": [
      "3 1442 27\n"
     ]
    }
   ],
   "source": [
    "from IPython.display import Image\n",
    "from PIL import Image as pili, ImageOps as piliops\n",
    "from PIL import Image as pili, ImageDraw as pild, ImageFont as pilf \n",
    "\n",
    "piliops.expand(pili.open('ipynb.images/comic book 2/36.png'), border=(10,10),fill='black').save('ipynb.images/comic book 2/edited comic book 2/36.PNG')\n",
    "Image(filename='ipynb.images/comic book 2/edited comic book 2/36.PNG', width=400)\n",
    "\n",
    "caption = \"\"\"शेरे ख़ान, जो गाँव से भाग निकला था, साँप देने के लिए ज़बरदस्ती कर रहा था\n",
    "शांति, रंजन और मोगली के स्थान! \n",
    "शेरे ख़ान: \"मैं उन्हें मार डालूंगा और उन्होंने मेरे साथ जो किया, उसका बदला लेंगे! \" \"\"\"\n",
    "\n",
    "TINT_COLOR = (0, 0, 0)  # Black\n",
    "TRANSPARENCY = .90  # Degree of transparency, 0-100%\n",
    "OPACITY = int(255 * TRANSPARENCY)\n",
    "\n",
    "from PIL import Image, ImageFont, ImageDraw\n",
    "\n",
    "img = pili.open('ipynb.images/comic book 2/edited comic book 2/36.PNG').convert('RGBA')\n",
    "\n",
    "overlay = pili.new('RGBA', img.size, TINT_COLOR+(0,))\n",
    "draw = pild.Draw(overlay)\n",
    "font = pilf.truetype(\"C:/Windows/Fonts/Nirmalas.ttf\", 20)\n",
    "x, y = (img.width, img.height)\n",
    "text = caption\n",
    "w, h = font.getsize(text)\n",
    "num_lines = len(text.split('\\n'))\n",
    "print(num_lines, w, h)\n",
    "x, y = 10, img.height - (num_lines-0.001*num_lines)*h\n",
    "#draw.rectangle((x+w, y+h, x + w, y + h), fill='black')\n",
    "#draw.rectangle((x, y, x + w, y + 4*h), fill=TINT_COLOR+(OPACITY,))\n",
    "draw.rectangle((x, y, x + img.width*3, y + img.height*3), fill=TINT_COLOR+(OPACITY,))\n",
    "draw.text((x, y), text, fill=(225, 255, 255), font=font)\n",
    "\n",
    "# Alpha composite these two images together to obtain the desired result.\n",
    "img = pili.alpha_composite(img, overlay)\n",
    "img = img.convert(\"RGB\") # Remove alpha for saving in jpg format.\n",
    "\n",
    "img.save('ipynb.images/comic book 2/edited comic book 2 with captions/36.PNG')"
   ]
  },
  {
   "cell_type": "code",
   "execution_count": 63,
   "metadata": {},
   "outputs": [
    {
     "name": "stderr",
     "output_type": "stream",
     "text": [
      "<ipython-input-63-1b58ecb62fd6>:12: FutureWarning: arrays to stack must be passed as a \"sequence\" type such as list or tuple. Support for non-sequence iterables such as generators is deprecated as of NumPy 1.16 and will raise an error in the future.\n",
      "  imgs_comb = np.hstack( (np.asarray( i.resize(min_shape) ) for i in imgs ) )\n"
     ]
    }
   ],
   "source": [
    "import numpy as np\n",
    "import PIL\n",
    "\n",
    "list_im = ['ipynb.images/comic book 2/edited comic book 2 with captions/34.PNG',\n",
    "            'ipynb.images/comic book 2/edited comic book 2 with captions/35.PNG',\n",
    "            'ipynb.images/comic book 2/edited comic book 2 with captions/36.PNG'\n",
    "          ]\n",
    "imgs    = [ PIL.Image.open(i) for i in list_im ]\n",
    "\n",
    "# pick the image which is the smallest, and resize the others to match it (can be arbitrary image shape here)\n",
    "min_shape = sorted( [(np.sum(i.size), i.size ) for i in imgs])[0][1]\n",
    "imgs_comb = np.hstack( (np.asarray( i.resize(min_shape) ) for i in imgs ) )\n",
    "\n",
    "# save that beautiful picture\n",
    "imgs_comb = PIL.Image.fromarray( imgs_comb)\n",
    "imgs_comb.save( 'ipynb.images\\comic book 2\\combined comic book 2.3\\Strip12.png' )"
   ]
  },
  {
   "cell_type": "code",
   "execution_count": 64,
   "metadata": {},
   "outputs": [
    {
     "name": "stdout",
     "output_type": "stream",
     "text": [
      "2 961 27\n"
     ]
    }
   ],
   "source": [
    "from IPython.display import Image\n",
    "from PIL import Image as pili, ImageOps as piliops\n",
    "from PIL import Image as pili, ImageDraw as pild, ImageFont as pilf \n",
    "\n",
    "piliops.expand(pili.open('ipynb.images/comic book 2/37.png'), border=(10,10),fill='black').save('ipynb.images/comic book 2/edited comic book 2/37.PNG')\n",
    "Image(filename='ipynb.images/comic book 2/edited comic book 2/37.PNG', width=400)\n",
    "\n",
    "caption = \"\"\"बघीरा को पता चलता है कि बल्लू अपनी योजना के साथ आगे बढ़ा और लाया\n",
    "अपनी तमाम चेतावनियों के बावजूद मोगली जंगल में।  \"\"\"\n",
    "\n",
    "TINT_COLOR = (0, 0, 0)  # Black\n",
    "TRANSPARENCY = .90  # Degree of transparency, 0-100%\n",
    "OPACITY = int(255 * TRANSPARENCY)\n",
    "\n",
    "from PIL import Image, ImageFont, ImageDraw\n",
    "\n",
    "img = pili.open('ipynb.images/comic book 2/edited comic book 2/37.PNG').convert('RGBA')\n",
    "\n",
    "overlay = pili.new('RGBA', img.size, TINT_COLOR+(0,))\n",
    "draw = pild.Draw(overlay)\n",
    "font = pilf.truetype(\"C:/Windows/Fonts/Nirmalas.ttf\", 20)\n",
    "x, y = (img.width, img.height)\n",
    "text = caption\n",
    "w, h = font.getsize(text)\n",
    "num_lines = len(text.split('\\n'))\n",
    "print(num_lines, w, h)\n",
    "x, y = 10, img.height - (num_lines-0.001*num_lines)*h\n",
    "#draw.rectangle((x+w, y+h, x + w, y + h), fill='black')\n",
    "#draw.rectangle((x, y, x + w, y + 4*h), fill=TINT_COLOR+(OPACITY,))\n",
    "draw.rectangle((x, y, x + img.width*3, y + img.height*3), fill=TINT_COLOR+(OPACITY,))\n",
    "draw.text((x, y), text, fill=(225, 255, 255), font=font)\n",
    "\n",
    "# Alpha composite these two images together to obtain the desired result.\n",
    "img = pili.alpha_composite(img, overlay)\n",
    "img = img.convert(\"RGB\") # Remove alpha for saving in jpg format.\n",
    "\n",
    "img.save('ipynb.images/comic book 2/edited comic book 2 with captions/37.PNG')"
   ]
  },
  {
   "cell_type": "code",
   "execution_count": 67,
   "metadata": {},
   "outputs": [
    {
     "name": "stdout",
     "output_type": "stream",
     "text": [
      "3 1106 27\n"
     ]
    }
   ],
   "source": [
    "from IPython.display import Image\n",
    "from PIL import Image as pili, ImageOps as piliops\n",
    "from PIL import Image as pili, ImageDraw as pild, ImageFont as pilf \n",
    "\n",
    "piliops.expand(pili.open('ipynb.images/comic book 2/38.png'), border=(10,10),fill='black').save('ipynb.images/comic book 2/edited comic book 2/38.PNG')\n",
    "Image(filename='ipynb.images/comic book 2/edited comic book 2/38.PNG', width=400)\n",
    "\n",
    "caption = \"\"\"शांति अभी भी मोगली की तलाश में आम के छिलके को ढूंढती है\n",
    "एक चाल के समान, जो उसने उसे सिखाया था, वह तुरंत वह कर देती है\n",
    "वह करीब है!   \"\"\"\n",
    "\n",
    "TINT_COLOR = (0, 0, 0)  # Black\n",
    "TRANSPARENCY = .90  # Degree of transparency, 0-100%\n",
    "OPACITY = int(255 * TRANSPARENCY)\n",
    "\n",
    "from PIL import Image, ImageFont, ImageDraw\n",
    "\n",
    "img = pili.open('ipynb.images/comic book 2/edited comic book 2/38.PNG').convert('RGBA')\n",
    "\n",
    "overlay = pili.new('RGBA', img.size, TINT_COLOR+(0,))\n",
    "draw = pild.Draw(overlay)\n",
    "font = pilf.truetype(\"C:/Windows/Fonts/Nirmalas.ttf\", 20)\n",
    "x, y = (img.width, img.height)\n",
    "text = caption\n",
    "w, h = font.getsize(text)\n",
    "num_lines = len(text.split('\\n'))\n",
    "print(num_lines, w, h)\n",
    "x, y = 10, img.height - (num_lines-0.001*num_lines)*h\n",
    "#draw.rectangle((x+w, y+h, x + w, y + h), fill='black')\n",
    "#draw.rectangle((x, y, x + w, y + 4*h), fill=TINT_COLOR+(OPACITY,))\n",
    "draw.rectangle((x, y, x + img.width*3, y + img.height*3), fill=TINT_COLOR+(OPACITY,))\n",
    "draw.text((x, y), text, fill=(225, 255, 255), font=font)\n",
    "\n",
    "# Alpha composite these two images together to obtain the desired result.\n",
    "img = pili.alpha_composite(img, overlay)\n",
    "img = img.convert(\"RGB\") # Remove alpha for saving in jpg format.\n",
    "\n",
    "img.save('ipynb.images/comic book 2/edited comic book 2 with captions/38.PNG')"
   ]
  },
  {
   "cell_type": "code",
   "execution_count": 68,
   "metadata": {},
   "outputs": [
    {
     "name": "stdout",
     "output_type": "stream",
     "text": [
      "1 331 27\n"
     ]
    }
   ],
   "source": [
    "from IPython.display import Image\n",
    "from PIL import Image as pili, ImageOps as piliops\n",
    "from PIL import Image as pili, ImageDraw as pild, ImageFont as pilf \n",
    "\n",
    "piliops.expand(pili.open('ipynb.images/comic book 2/39.png'), border=(10,10),fill='black').save('ipynb.images/comic book 2/edited comic book 2/39.PNG')\n",
    "Image(filename='ipynb.images/comic book 2/edited comic book 2/39.PNG', width=400)\n",
    "\n",
    "caption = \"\"\"वह आसपास के क्षेत्रों की खोज करती है    \"\"\"\n",
    "\n",
    "TINT_COLOR = (0, 0, 0)  # Black\n",
    "TRANSPARENCY = .90  # Degree of transparency, 0-100%\n",
    "OPACITY = int(255 * TRANSPARENCY)\n",
    "\n",
    "from PIL import Image, ImageFont, ImageDraw\n",
    "\n",
    "img = pili.open('ipynb.images/comic book 2/edited comic book 2/39.PNG').convert('RGBA')\n",
    "\n",
    "overlay = pili.new('RGBA', img.size, TINT_COLOR+(0,))\n",
    "draw = pild.Draw(overlay)\n",
    "font = pilf.truetype(\"C:/Windows/Fonts/Nirmalas.ttf\", 20)\n",
    "x, y = (img.width, img.height)\n",
    "text = caption\n",
    "w, h = font.getsize(text)\n",
    "num_lines = len(text.split('\\n'))\n",
    "print(num_lines, w, h)\n",
    "x, y = 10, img.height - (num_lines-0.001*num_lines)*h\n",
    "#draw.rectangle((x+w, y+h, x + w, y + h), fill='black')\n",
    "#draw.rectangle((x, y, x + w, y + 4*h), fill=TINT_COLOR+(OPACITY,))\n",
    "draw.rectangle((x, y, x + img.width*3, y + img.height*3), fill=TINT_COLOR+(OPACITY,))\n",
    "draw.text((x, y), text, fill=(225, 255, 255), font=font)\n",
    "\n",
    "# Alpha composite these two images together to obtain the desired result.\n",
    "img = pili.alpha_composite(img, overlay)\n",
    "img = img.convert(\"RGB\") # Remove alpha for saving in jpg format.\n",
    "\n",
    "img.save('ipynb.images/comic book 2/edited comic book 2 with captions/39.PNG')"
   ]
  },
  {
   "cell_type": "code",
   "execution_count": 69,
   "metadata": {},
   "outputs": [
    {
     "name": "stderr",
     "output_type": "stream",
     "text": [
      "<ipython-input-69-4e9729152f93>:12: FutureWarning: arrays to stack must be passed as a \"sequence\" type such as list or tuple. Support for non-sequence iterables such as generators is deprecated as of NumPy 1.16 and will raise an error in the future.\n",
      "  imgs_comb = np.hstack( (np.asarray( i.resize(min_shape) ) for i in imgs ) )\n"
     ]
    }
   ],
   "source": [
    "import numpy as np\n",
    "import PIL\n",
    "\n",
    "list_im = ['ipynb.images/comic book 2/edited comic book 2 with captions/37.PNG',\n",
    "            'ipynb.images/comic book 2/edited comic book 2 with captions/38.PNG',\n",
    "            'ipynb.images/comic book 2/edited comic book 2 with captions/39.PNG'\n",
    "          ]\n",
    "imgs    = [ PIL.Image.open(i) for i in list_im ]\n",
    "\n",
    "# pick the image which is the smallest, and resize the others to match it (can be arbitrary image shape here)\n",
    "min_shape = sorted( [(np.sum(i.size), i.size ) for i in imgs])[0][1]\n",
    "imgs_comb = np.hstack( (np.asarray( i.resize(min_shape) ) for i in imgs ) )\n",
    "\n",
    "# save that beautiful picture\n",
    "imgs_comb = PIL.Image.fromarray( imgs_comb)\n",
    "imgs_comb.save( 'ipynb.images\\comic book 2\\combined comic book 2.3\\Strip13.png' )"
   ]
  },
  {
   "cell_type": "code",
   "execution_count": 70,
   "metadata": {},
   "outputs": [
    {
     "name": "stdout",
     "output_type": "stream",
     "text": [
      "2 860 27\n"
     ]
    }
   ],
   "source": [
    "from IPython.display import Image\n",
    "from PIL import Image as pili, ImageOps as piliops\n",
    "from PIL import Image as pili, ImageDraw as pild, ImageFont as pilf \n",
    "\n",
    "piliops.expand(pili.open('ipynb.images/comic book 2/40.png'), border=(10,10),fill='black').save('ipynb.images/comic book 2/edited comic book 2/40.PNG')\n",
    "Image(filename='ipynb.images/comic book 2/edited comic book 2/40.PNG', width=400)\n",
    "\n",
    "caption = \"\"\"वह पाता है कि मोगली को एक द्वारा उलटा लटका दिया गया था\n",
    "एक पेड़ की शाखा, उसे देखने के लिए बहुत खुश थी! \"\"\"\n",
    "\n",
    "TINT_COLOR = (0, 0, 0)  # Black\n",
    "TRANSPARENCY = .90  # Degree of transparency, 0-100%\n",
    "OPACITY = int(255 * TRANSPARENCY)\n",
    "\n",
    "from PIL import Image, ImageFont, ImageDraw\n",
    "\n",
    "img = pili.open('ipynb.images/comic book 2/edited comic book 2/40.PNG').convert('RGBA')\n",
    "\n",
    "overlay = pili.new('RGBA', img.size, TINT_COLOR+(0,))\n",
    "draw = pild.Draw(overlay)\n",
    "font = pilf.truetype(\"C:/Windows/Fonts/Nirmalas.ttf\", 20)\n",
    "x, y = (img.width, img.height)\n",
    "text = caption\n",
    "w, h = font.getsize(text)\n",
    "num_lines = len(text.split('\\n'))\n",
    "print(num_lines, w, h)\n",
    "x, y = 10, img.height - (num_lines-0.001*num_lines)*h\n",
    "#draw.rectangle((x+w, y+h, x + w, y + h), fill='black')\n",
    "#draw.rectangle((x, y, x + w, y + 4*h), fill=TINT_COLOR+(OPACITY,))\n",
    "draw.rectangle((x, y, x + img.width*3, y + img.height*3), fill=TINT_COLOR+(OPACITY,))\n",
    "draw.text((x, y), text, fill=(225, 255, 255), font=font)\n",
    "\n",
    "# Alpha composite these two images together to obtain the desired result.\n",
    "img = pili.alpha_composite(img, overlay)\n",
    "img = img.convert(\"RGB\") # Remove alpha for saving in jpg format.\n",
    "\n",
    "img.save('ipynb.images/comic book 2/edited comic book 2 with captions/40.PNG')"
   ]
  },
  {
   "cell_type": "code",
   "execution_count": 71,
   "metadata": {},
   "outputs": [
    {
     "name": "stdout",
     "output_type": "stream",
     "text": [
      "3 1208 27\n"
     ]
    }
   ],
   "source": [
    "from IPython.display import Image\n",
    "from PIL import Image as pili, ImageOps as piliops\n",
    "from PIL import Image as pili, ImageDraw as pild, ImageFont as pilf \n",
    "\n",
    "piliops.expand(pili.open('ipynb.images/comic book 2/42.png'), border=(10,10),fill='black').save('ipynb.images/comic book 2/edited comic book 2/42.PNG')\n",
    "Image(filename='ipynb.images/comic book 2/edited comic book 2/42.PNG', width=400)\n",
    "\n",
    "caption = \"\"\"इस बीच, बालू, मोगली द्वारा शांति को डराने से पहले निर्देश देता है\n",
    "(जब वह उस पर सरपंच को बताने के लिए उससे नाराज था) अनजाने में\n",
    "रंजन और उसे डराता है!\"\"\"\n",
    "\n",
    "TINT_COLOR = (0, 0, 0)  # Black\n",
    "TRANSPARENCY = .90  # Degree of transparency, 0-100%\n",
    "OPACITY = int(255 * TRANSPARENCY)\n",
    "\n",
    "from PIL import Image, ImageFont, ImageDraw\n",
    "\n",
    "img = pili.open('ipynb.images/comic book 2/edited comic book 2/42.PNG').convert('RGBA')\n",
    "\n",
    "overlay = pili.new('RGBA', img.size, TINT_COLOR+(0,))\n",
    "draw = pild.Draw(overlay)\n",
    "font = pilf.truetype(\"C:/Windows/Fonts/Nirmalas.ttf\", 20)\n",
    "x, y = (img.width, img.height)\n",
    "text = caption\n",
    "w, h = font.getsize(text)\n",
    "num_lines = len(text.split('\\n'))\n",
    "print(num_lines, w, h)\n",
    "x, y = 10, img.height - (num_lines-0.001*num_lines)*h\n",
    "#draw.rectangle((x+w, y+h, x + w, y + h), fill='black')\n",
    "#draw.rectangle((x, y, x + w, y + 4*h), fill=TINT_COLOR+(OPACITY,))\n",
    "draw.rectangle((x, y, x + img.width*3, y + img.height*3), fill=TINT_COLOR+(OPACITY,))\n",
    "draw.text((x, y), text, fill=(225, 255, 255), font=font)\n",
    "\n",
    "# Alpha composite these two images together to obtain the desired result.\n",
    "img = pili.alpha_composite(img, overlay)\n",
    "img = img.convert(\"RGB\") # Remove alpha for saving in jpg format.\n",
    "\n",
    "img.save('ipynb.images/comic book 2/edited comic book 2 with captions/42.PNG')"
   ]
  },
  {
   "cell_type": "code",
   "execution_count": 72,
   "metadata": {},
   "outputs": [
    {
     "name": "stdout",
     "output_type": "stream",
     "text": [
      "3 1014 27\n"
     ]
    }
   ],
   "source": [
    "from IPython.display import Image\n",
    "from PIL import Image as pili, ImageOps as piliops\n",
    "from PIL import Image as pili, ImageDraw as pild, ImageFont as pilf \n",
    "\n",
    "piliops.expand(pili.open('ipynb.images/comic book 2/41.1.png'), border=(10,10),fill='black').save('ipynb.images/comic book 2/edited comic book 2/41.1.PNG')\n",
    "Image(filename='ipynb.images/comic book 2/edited comic book 2/41.1.PNG', width=400)\n",
    "\n",
    "caption = \"\"\"शांति और रंजन बालू से बिल्कुल डरते हैं!\n",
    "मोगली ने अपने दोस्तों को डराने के लिए बल्लू का हस्तक्षेप किया और उसका पीछा किया\n",
    "    \"\"\"\n",
    "\n",
    "TINT_COLOR = (0, 0, 0)  # Black\n",
    "TRANSPARENCY = .90  # Degree of transparency, 0-100%\n",
    "OPACITY = int(255 * TRANSPARENCY)\n",
    "\n",
    "from PIL import Image, ImageFont, ImageDraw\n",
    "\n",
    "img = pili.open('ipynb.images/comic book 2/edited comic book 2/41.1.PNG').convert('RGBA')\n",
    "\n",
    "overlay = pili.new('RGBA', img.size, TINT_COLOR+(0,))\n",
    "draw = pild.Draw(overlay)\n",
    "font = pilf.truetype(\"C:/Windows/Fonts/Nirmalas.ttf\", 20)\n",
    "x, y = (img.width, img.height)\n",
    "text = caption\n",
    "w, h = font.getsize(text)\n",
    "num_lines = len(text.split('\\n'))\n",
    "print(num_lines, w, h)\n",
    "x, y = 10, img.height - (num_lines-0.001*num_lines)*h\n",
    "#draw.rectangle((x+w, y+h, x + w, y + h), fill='black')\n",
    "#draw.rectangle((x, y, x + w, y + 4*h), fill=TINT_COLOR+(OPACITY,))\n",
    "draw.rectangle((x, y, x + img.width*3, y + img.height*3), fill=TINT_COLOR+(OPACITY,))\n",
    "draw.text((x, y), text, fill=(225, 255, 255), font=font)\n",
    "\n",
    "# Alpha composite these two images together to obtain the desired result.\n",
    "img = pili.alpha_composite(img, overlay)\n",
    "img = img.convert(\"RGB\") # Remove alpha for saving in jpg format.\n",
    "\n",
    "img.save('ipynb.images/comic book 2/edited comic book 2 with captions/41.1.PNG')"
   ]
  },
  {
   "cell_type": "code",
   "execution_count": 73,
   "metadata": {},
   "outputs": [
    {
     "name": "stderr",
     "output_type": "stream",
     "text": [
      "<ipython-input-73-e56d9722858c>:12: FutureWarning: arrays to stack must be passed as a \"sequence\" type such as list or tuple. Support for non-sequence iterables such as generators is deprecated as of NumPy 1.16 and will raise an error in the future.\n",
      "  imgs_comb = np.hstack( (np.asarray( i.resize(min_shape) ) for i in imgs ) )\n"
     ]
    }
   ],
   "source": [
    "import numpy as np\n",
    "import PIL\n",
    "\n",
    "list_im = ['ipynb.images/comic book 2/edited comic book 2 with captions/40.PNG',\n",
    "            'ipynb.images/comic book 2/edited comic book 2 with captions/42.PNG',\n",
    "            'ipynb.images/comic book 2/edited comic book 2 with captions/41.1.PNG'\n",
    "          ]\n",
    "imgs    = [ PIL.Image.open(i) for i in list_im ]\n",
    "\n",
    "# pick the image which is the smallest, and resize the others to match it (can be arbitrary image shape here)\n",
    "min_shape = sorted( [(np.sum(i.size), i.size ) for i in imgs])[0][1]\n",
    "imgs_comb = np.hstack( (np.asarray( i.resize(min_shape) ) for i in imgs ) )\n",
    "\n",
    "# save that beautiful picture\n",
    "imgs_comb = PIL.Image.fromarray( imgs_comb)\n",
    "imgs_comb.save( 'ipynb.images\\comic book 2\\combined comic book 2.3\\Strip14.png' )"
   ]
  },
  {
   "cell_type": "code",
   "execution_count": 74,
   "metadata": {},
   "outputs": [
    {
     "name": "stdout",
     "output_type": "stream",
     "text": [
      "4 1847 27\n"
     ]
    }
   ],
   "source": [
    "from IPython.display import Image\n",
    "from PIL import Image as pili, ImageOps as piliops\n",
    "from PIL import Image as pili, ImageDraw as pild, ImageFont as pilf \n",
    "\n",
    "piliops.expand(pili.open('ipynb.images/comic book 2/43.png'), border=(10,10),fill='black').save('ipynb.images/comic book 2/edited comic book 2/43.PNG')\n",
    "Image(filename='ipynb.images/comic book 2/edited comic book 2/43.PNG', width=400)\n",
    "\n",
    "caption = \"\"\"बालू, भ्रमित याद करते हैं कि मोगली ने ऐसा करने के लिए कहा, बहुत कुछ\n",
    "शांति और रंजन का आश्चर्य!\n",
    "मोगली: *पछतावा फैलाने की कोशिश करता है* \"शांति, रंजन, यह एक है गलतफहमी, मैं आपको \n",
    "दो देखकर बहुत खुश हूँ! कृपया मुझे माफ़ करें!\" \"\"\"\n",
    "\n",
    "TINT_COLOR = (0, 0, 0)  # Black\n",
    "TRANSPARENCY = .90  # Degree of transparency, 0-100%\n",
    "OPACITY = int(255 * TRANSPARENCY)\n",
    "\n",
    "from PIL import Image, ImageFont, ImageDraw\n",
    "\n",
    "img = pili.open('ipynb.images/comic book 2/edited comic book 2/43.PNG').convert('RGBA')\n",
    "\n",
    "overlay = pili.new('RGBA', img.size, TINT_COLOR+(0,))\n",
    "draw = pild.Draw(overlay)\n",
    "font = pilf.truetype(\"C:/Windows/Fonts/Nirmalas.ttf\", 20)\n",
    "x, y = (img.width, img.height)\n",
    "text = caption\n",
    "w, h = font.getsize(text)\n",
    "num_lines = len(text.split('\\n'))\n",
    "print(num_lines, w, h)\n",
    "x, y = 10, img.height - (num_lines-0.001*num_lines)*h\n",
    "#draw.rectangle((x+w, y+h, x + w, y + h), fill='black')\n",
    "#draw.rectangle((x, y, x + w, y + 4*h), fill=TINT_COLOR+(OPACITY,))\n",
    "draw.rectangle((x, y, x + img.width*3, y + img.height*3), fill=TINT_COLOR+(OPACITY,))\n",
    "draw.text((x, y), text, fill=(225, 255, 255), font=font)\n",
    "\n",
    "# Alpha composite these two images together to obtain the desired result.\n",
    "img = pili.alpha_composite(img, overlay)\n",
    "img = img.convert(\"RGB\") # Remove alpha for saving in jpg format.\n",
    "\n",
    "img.save('ipynb.images/comic book 2/edited comic book 2 with captions/43.PNG')"
   ]
  },
  {
   "cell_type": "code",
   "execution_count": 75,
   "metadata": {},
   "outputs": [
    {
     "name": "stdout",
     "output_type": "stream",
     "text": [
      "2 746 27\n"
     ]
    }
   ],
   "source": [
    "from IPython.display import Image\n",
    "from PIL import Image as pili, ImageOps as piliops\n",
    "from PIL import Image as pili, ImageDraw as pild, ImageFont as pilf \n",
    "\n",
    "piliops.expand(pili.open('ipynb.images/comic book 2/44.png'), border=(10,10),fill='black').save('ipynb.images/comic book 2/edited comic book 2/44.PNG')\n",
    "Image(filename='ipynb.images/comic book 2/edited comic book 2/44.PNG', width=400)\n",
    "\n",
    "caption = \"\"\"शांति, हर्षित, गुस्से में रंजन के साथ उसके टो में चली गई\n",
    "इससे पहले कि मोगली खुद को समझा सके \"\"\"\n",
    "\n",
    "TINT_COLOR = (0, 0, 0)  # Black\n",
    "TRANSPARENCY = .90  # Degree of transparency, 0-100%\n",
    "OPACITY = int(255 * TRANSPARENCY)\n",
    "\n",
    "from PIL import Image, ImageFont, ImageDraw\n",
    "\n",
    "img = pili.open('ipynb.images/comic book 2/edited comic book 2/44.PNG').convert('RGBA')\n",
    "\n",
    "overlay = pili.new('RGBA', img.size, TINT_COLOR+(0,))\n",
    "draw = pild.Draw(overlay)\n",
    "font = pilf.truetype(\"C:/Windows/Fonts/Nirmalas.ttf\", 20)\n",
    "x, y = (img.width, img.height)\n",
    "text = caption\n",
    "w, h = font.getsize(text)\n",
    "num_lines = len(text.split('\\n'))\n",
    "print(num_lines, w, h)\n",
    "x, y = 10, img.height - (num_lines-0.001*num_lines)*h\n",
    "#draw.rectangle((x+w, y+h, x + w, y + h), fill='black')\n",
    "#draw.rectangle((x, y, x + w, y + 4*h), fill=TINT_COLOR+(OPACITY,))\n",
    "draw.rectangle((x, y, x + img.width*3, y + img.height*3), fill=TINT_COLOR+(OPACITY,))\n",
    "draw.text((x, y), text, fill=(225, 255, 255), font=font)\n",
    "\n",
    "# Alpha composite these two images together to obtain the desired result.\n",
    "img = pili.alpha_composite(img, overlay)\n",
    "img = img.convert(\"RGB\") # Remove alpha for saving in jpg format.\n",
    "\n",
    "img.save('ipynb.images/comic book 2/edited comic book 2 with captions/44.PNG')"
   ]
  },
  {
   "cell_type": "code",
   "execution_count": 76,
   "metadata": {},
   "outputs": [
    {
     "name": "stdout",
     "output_type": "stream",
     "text": [
      "3 928 27\n"
     ]
    }
   ],
   "source": [
    "from IPython.display import Image\n",
    "from PIL import Image as pili, ImageOps as piliops\n",
    "from PIL import Image as pili, ImageDraw as pild, ImageFont as pilf \n",
    "\n",
    "piliops.expand(pili.open('ipynb.images/comic book 2/45.png'), border=(10,10),fill='black').save('ipynb.images/comic book 2/edited comic book 2/45.PNG')\n",
    "Image(filename='ipynb.images/comic book 2/edited comic book 2/45.PNG', width=400)\n",
    "\n",
    "caption = \"\"\"मोगली: \"शांति! रुको!\"\n",
    "* उच्छ्वास के रूप में वह उसकी दृष्टि खो देता है *\n",
    "वह शांति और रंजन से माफी मांगने के बाद जाता है \"\"\"\n",
    "\n",
    "TINT_COLOR = (0, 0, 0)  # Black\n",
    "TRANSPARENCY = .90  # Degree of transparency, 0-100%\n",
    "OPACITY = int(255 * TRANSPARENCY)\n",
    "\n",
    "from PIL import Image, ImageFont, ImageDraw\n",
    "\n",
    "img = pili.open('ipynb.images/comic book 2/edited comic book 2/45.PNG').convert('RGBA')\n",
    "\n",
    "overlay = pili.new('RGBA', img.size, TINT_COLOR+(0,))\n",
    "draw = pild.Draw(overlay)\n",
    "font = pilf.truetype(\"C:/Windows/Fonts/Nirmalas.ttf\", 20)\n",
    "x, y = (img.width, img.height)\n",
    "text = caption\n",
    "w, h = font.getsize(text)\n",
    "num_lines = len(text.split('\\n'))\n",
    "print(num_lines, w, h)\n",
    "x, y = 10, img.height - (num_lines-0.001*num_lines)*h\n",
    "#draw.rectangle((x+w, y+h, x + w, y + h), fill='black')\n",
    "#draw.rectangle((x, y, x + w, y + 4*h), fill=TINT_COLOR+(OPACITY,))\n",
    "draw.rectangle((x, y, x + img.width*3, y + img.height*3), fill=TINT_COLOR+(OPACITY,))\n",
    "draw.text((x, y), text, fill=(225, 255, 255), font=font)\n",
    "\n",
    "# Alpha composite these two images together to obtain the desired result.\n",
    "img = pili.alpha_composite(img, overlay)\n",
    "img = img.convert(\"RGB\") # Remove alpha for saving in jpg format.\n",
    "\n",
    "img.save('ipynb.images/comic book 2/edited comic book 2 with captions/45.PNG')"
   ]
  },
  {
   "cell_type": "code",
   "execution_count": 77,
   "metadata": {},
   "outputs": [
    {
     "name": "stderr",
     "output_type": "stream",
     "text": [
      "<ipython-input-77-8878d521e5ea>:12: FutureWarning: arrays to stack must be passed as a \"sequence\" type such as list or tuple. Support for non-sequence iterables such as generators is deprecated as of NumPy 1.16 and will raise an error in the future.\n",
      "  imgs_comb = np.hstack( (np.asarray( i.resize(min_shape) ) for i in imgs ) )\n"
     ]
    }
   ],
   "source": [
    "import numpy as np\n",
    "import PIL\n",
    "\n",
    "list_im = ['ipynb.images/comic book 2/edited comic book 2 with captions/43.PNG',\n",
    "            'ipynb.images/comic book 2/edited comic book 2 with captions/44.PNG',\n",
    "            'ipynb.images/comic book 2/edited comic book 2 with captions/45.PNG'\n",
    "          ]\n",
    "imgs    = [ PIL.Image.open(i) for i in list_im ]\n",
    "\n",
    "# pick the image which is the smallest, and resize the others to match it (can be arbitrary image shape here)\n",
    "min_shape = sorted( [(np.sum(i.size), i.size ) for i in imgs])[0][1]\n",
    "imgs_comb = np.hstack( (np.asarray( i.resize(min_shape) ) for i in imgs ) )\n",
    "\n",
    "# save that beautiful picture\n",
    "imgs_comb = PIL.Image.fromarray( imgs_comb)\n",
    "imgs_comb.save( 'ipynb.images\\comic book 2\\combined comic book 2.3\\Strip15.png' )"
   ]
  },
  {
   "cell_type": "code",
   "execution_count": 78,
   "metadata": {},
   "outputs": [
    {
     "name": "stdout",
     "output_type": "stream",
     "text": [
      "2 761 27\n"
     ]
    }
   ],
   "source": [
    "from IPython.display import Image\n",
    "from PIL import Image as pili, ImageOps as piliops\n",
    "from PIL import Image as pili, ImageDraw as pild, ImageFont as pilf \n",
    "\n",
    "piliops.expand(pili.open('ipynb.images/comic book 2/46.png'), border=(10,10),fill='black').save('ipynb.images/comic book 2/edited comic book 2/46.PNG')\n",
    "Image(filename='ipynb.images/comic book 2/edited comic book 2/46.PNG', width=400)\n",
    "\n",
    "caption = \"\"\"शांति और रंजन के जाने के लंबे समय बाद भी उनका सामना किसी से नहीं हुआ\n",
    "के अलावा .. शेरे खान !! \"\"\"\n",
    "\n",
    "TINT_COLOR = (0, 0, 0)  # Black\n",
    "TRANSPARENCY = .90  # Degree of transparency, 0-100%\n",
    "OPACITY = int(255 * TRANSPARENCY)\n",
    "\n",
    "from PIL import Image, ImageFont, ImageDraw\n",
    "\n",
    "img = pili.open('ipynb.images/comic book 2/edited comic book 2/46.PNG').convert('RGBA')\n",
    "\n",
    "overlay = pili.new('RGBA', img.size, TINT_COLOR+(0,))\n",
    "draw = pild.Draw(overlay)\n",
    "font = pilf.truetype(\"C:/Windows/Fonts/Nirmalas.ttf\", 20)\n",
    "x, y = (img.width, img.height)\n",
    "text = caption\n",
    "w, h = font.getsize(text)\n",
    "num_lines = len(text.split('\\n'))\n",
    "print(num_lines, w, h)\n",
    "x, y = 10, img.height - (num_lines-0.001*num_lines)*h\n",
    "#draw.rectangle((x+w, y+h, x + w, y + h), fill='black')\n",
    "#draw.rectangle((x, y, x + w, y + 4*h), fill=TINT_COLOR+(OPACITY,))\n",
    "draw.rectangle((x, y, x + img.width*3, y + img.height*3), fill=TINT_COLOR+(OPACITY,))\n",
    "draw.text((x, y), text, fill=(225, 255, 255), font=font)\n",
    "\n",
    "# Alpha composite these two images together to obtain the desired result.\n",
    "img = pili.alpha_composite(img, overlay)\n",
    "img = img.convert(\"RGB\") # Remove alpha for saving in jpg format.\n",
    "\n",
    "img.save('ipynb.images/comic book 2/edited comic book 2 with captions/46.PNG')"
   ]
  },
  {
   "cell_type": "code",
   "execution_count": 79,
   "metadata": {},
   "outputs": [
    {
     "name": "stdout",
     "output_type": "stream",
     "text": [
      "2 690 27\n"
     ]
    }
   ],
   "source": [
    "from IPython.display import Image\n",
    "from PIL import Image as pili, ImageOps as piliops\n",
    "from PIL import Image as pili, ImageDraw as pild, ImageFont as pilf \n",
    "\n",
    "piliops.expand(pili.open('ipynb.images/comic book 2/447.png'), border=(10,10),fill='black').save('ipynb.images/comic book 2/edited comic book 2/447.PNG')\n",
    "Image(filename='ipynb.images/comic book 2/edited comic book 2/46.PNG', width=400)\n",
    "\n",
    "caption = \"\"\"मोगली कुछ ही समय में अपने दोस्तों को डर के रूप में खड़ा पाते हैं\n",
    "शेरे खान ने उन्हें मंजूरी दी \"\"\"\n",
    "\n",
    "TINT_COLOR = (0, 0, 0)  # Black\n",
    "TRANSPARENCY = .90  # Degree of transparency, 0-100%\n",
    "OPACITY = int(255 * TRANSPARENCY)\n",
    "\n",
    "from PIL import Image, ImageFont, ImageDraw\n",
    "\n",
    "img = pili.open('ipynb.images/comic book 2/edited comic book 2/447.PNG').convert('RGBA')\n",
    "\n",
    "overlay = pili.new('RGBA', img.size, TINT_COLOR+(0,))\n",
    "draw = pild.Draw(overlay)\n",
    "font = pilf.truetype(\"C:/Windows/Fonts/Nirmalas.ttf\", 20)\n",
    "x, y = (img.width, img.height)\n",
    "text = caption\n",
    "w, h = font.getsize(text)\n",
    "num_lines = len(text.split('\\n'))\n",
    "print(num_lines, w, h)\n",
    "x, y = 10, img.height - (num_lines-0.001*num_lines)*h\n",
    "#draw.rectangle((x+w, y+h, x + w, y + h), fill='black')\n",
    "#draw.rectangle((x, y, x + w, y + 4*h), fill=TINT_COLOR+(OPACITY,))\n",
    "draw.rectangle((x, y, x + img.width*3, y + img.height*3), fill=TINT_COLOR+(OPACITY,))\n",
    "draw.text((x, y), text, fill=(225, 255, 255), font=font)\n",
    "\n",
    "# Alpha composite these two images together to obtain the desired result.\n",
    "img = pili.alpha_composite(img, overlay)\n",
    "img = img.convert(\"RGB\") # Remove alpha for saving in jpg format.\n",
    "\n",
    "img.save('ipynb.images/comic book 2/edited comic book 2 with captions/447.PNG')"
   ]
  },
  {
   "cell_type": "code",
   "execution_count": 80,
   "metadata": {},
   "outputs": [
    {
     "name": "stdout",
     "output_type": "stream",
     "text": [
      "2 517 27\n"
     ]
    }
   ],
   "source": [
    "from IPython.display import Image\n",
    "from PIL import Image as pili, ImageOps as piliops\n",
    "from PIL import Image as pili, ImageDraw as pild, ImageFont as pilf \n",
    "\n",
    "piliops.expand(pili.open('ipynb.images/comic book 2/47.1.png'), border=(10,10),fill='black').save('ipynb.images/comic book 2/edited comic book 2/47.1.PNG')\n",
    "Image(filename='ipynb.images/comic book 2/edited comic book 2/47.1.PNG', width=400)\n",
    "\n",
    "caption = \"\"\"मोगली ने उन्हें बाघ के पास जाने के लिए सुरक्षा चलाने के लिए कहा\n",
    "\"\"\"\n",
    "\n",
    "TINT_COLOR = (0, 0, 0)  # Black\n",
    "TRANSPARENCY = .90  # Degree of transparency, 0-100%\n",
    "OPACITY = int(255 * TRANSPARENCY)\n",
    "\n",
    "from PIL import Image, ImageFont, ImageDraw\n",
    "\n",
    "img = pili.open('ipynb.images/comic book 2/edited comic book 2/47.1.PNG').convert('RGBA')\n",
    "\n",
    "overlay = pili.new('RGBA', img.size, TINT_COLOR+(0,))\n",
    "draw = pild.Draw(overlay)\n",
    "font = pilf.truetype(\"C:/Windows/Fonts/Nirmalas.ttf\", 20)\n",
    "x, y = (img.width, img.height)\n",
    "text = caption\n",
    "w, h = font.getsize(text)\n",
    "num_lines = len(text.split('\\n'))\n",
    "print(num_lines, w, h)\n",
    "x, y = 10, img.height - (num_lines-0.001*num_lines)*h\n",
    "#draw.rectangle((x+w, y+h, x + w, y + h), fill='black')\n",
    "#draw.rectangle((x, y, x + w, y + 4*h), fill=TINT_COLOR+(OPACITY,))\n",
    "draw.rectangle((x, y, x + img.width*3, y + img.height*3), fill=TINT_COLOR+(OPACITY,))\n",
    "draw.text((x, y), text, fill=(225, 255, 255), font=font)\n",
    "\n",
    "# Alpha composite these two images together to obtain the desired result.\n",
    "img = pili.alpha_composite(img, overlay)\n",
    "img = img.convert(\"RGB\") # Remove alpha for saving in jpg format.\n",
    "\n",
    "img.save('ipynb.images/comic book 2/edited comic book 2 with captions/47.1.PNG')"
   ]
  },
  {
   "cell_type": "code",
   "execution_count": 81,
   "metadata": {},
   "outputs": [
    {
     "name": "stderr",
     "output_type": "stream",
     "text": [
      "<ipython-input-81-da8a4afa87dd>:12: FutureWarning: arrays to stack must be passed as a \"sequence\" type such as list or tuple. Support for non-sequence iterables such as generators is deprecated as of NumPy 1.16 and will raise an error in the future.\n",
      "  imgs_comb = np.hstack( (np.asarray( i.resize(min_shape) ) for i in imgs ) )\n"
     ]
    }
   ],
   "source": [
    "import numpy as np\n",
    "import PIL\n",
    "\n",
    "list_im = ['ipynb.images/comic book 2/edited comic book 2 with captions/46.PNG',\n",
    "            'ipynb.images/comic book 2/edited comic book 2 with captions/447.PNG',\n",
    "            'ipynb.images/comic book 2/edited comic book 2 with captions/47.1.PNG'\n",
    "          ]\n",
    "imgs    = [ PIL.Image.open(i) for i in list_im ]\n",
    "\n",
    "# pick the image which is the smallest, and resize the others to match it (can be arbitrary image shape here)\n",
    "min_shape = sorted( [(np.sum(i.size), i.size ) for i in imgs])[0][1]\n",
    "imgs_comb = np.hstack( (np.asarray( i.resize(min_shape) ) for i in imgs ) )\n",
    "\n",
    "# save that beautiful picture\n",
    "imgs_comb = PIL.Image.fromarray( imgs_comb)\n",
    "imgs_comb.save( 'ipynb.images\\comic book 2\\combined comic book 2.3\\Strip16.png' )"
   ]
  },
  {
   "cell_type": "code",
   "execution_count": 82,
   "metadata": {},
   "outputs": [
    {
     "name": "stdout",
     "output_type": "stream",
     "text": [
      "2 469 27\n"
     ]
    }
   ],
   "source": [
    "from IPython.display import Image\n",
    "from PIL import Image as pili, ImageOps as piliops\n",
    "from PIL import Image as pili, ImageDraw as pild, ImageFont as pilf \n",
    "\n",
    "piliops.expand(pili.open('ipynb.images/comic book 2/47.2.png'), border=(10,10),fill='black').save('ipynb.images/comic book 2/edited comic book 2/47.2.PNG')\n",
    "Image(filename='ipynb.images/comic book 2/edited comic book 2/47.2.PNG', width=400)\n",
    "\n",
    "caption = \"\"\"वह फिर शेर खान की आंखों में धूल झोंकता है, और दौड़ता है\n",
    "    \"\"\"\n",
    "\n",
    "TINT_COLOR = (0, 0, 0)  # Black\n",
    "TRANSPARENCY = .90  # Degree of transparency, 0-100%\n",
    "OPACITY = int(255 * TRANSPARENCY)\n",
    "\n",
    "from PIL import Image, ImageFont, ImageDraw\n",
    "\n",
    "img = pili.open('ipynb.images/comic book 2/edited comic book 2/47.2.PNG').convert('RGBA')\n",
    "\n",
    "overlay = pili.new('RGBA', img.size, TINT_COLOR+(0,))\n",
    "draw = pild.Draw(overlay)\n",
    "font = pilf.truetype(\"C:/Windows/Fonts/Nirmalas.ttf\", 20)\n",
    "x, y = (img.width, img.height)\n",
    "text = caption\n",
    "w, h = font.getsize(text)\n",
    "num_lines = len(text.split('\\n'))\n",
    "print(num_lines, w, h)\n",
    "x, y = 10, img.height - (num_lines-0.001*num_lines)*h\n",
    "#draw.rectangle((x+w, y+h, x + w, y + h), fill='black')\n",
    "#draw.rectangle((x, y, x + w, y + 4*h), fill=TINT_COLOR+(OPACITY,))\n",
    "draw.rectangle((x, y, x + img.width*3, y + img.height*3), fill=TINT_COLOR+(OPACITY,))\n",
    "draw.text((x, y), text, fill=(225, 255, 255), font=font)\n",
    "\n",
    "# Alpha composite these two images together to obtain the desired result.\n",
    "img = pili.alpha_composite(img, overlay)\n",
    "img = img.convert(\"RGB\") # Remove alpha for saving in jpg format.\n",
    "\n",
    "img.save('ipynb.images/comic book 2/edited comic book 2 with captions/47.2.PNG')"
   ]
  },
  {
   "cell_type": "code",
   "execution_count": 83,
   "metadata": {},
   "outputs": [
    {
     "name": "stdout",
     "output_type": "stream",
     "text": [
      "2 309 25\n"
     ]
    }
   ],
   "source": [
    "from IPython.display import Image\n",
    "from PIL import Image as pili, ImageOps as piliops\n",
    "from PIL import Image as pili, ImageDraw as pild, ImageFont as pilf \n",
    "\n",
    "piliops.expand(pili.open('ipynb.images/comic book 2/47.4.png'), border=(10,10),fill='black').save('ipynb.images/comic book 2/edited comic book 2/47.4.PNG')\n",
    "Image(filename='ipynb.images/comic book 2/edited comic book 2/47.4.PNG', width=400)\n",
    "\n",
    "caption = \"\"\"शेर खान, सबसे पहले उसका पीछा किया\n",
    "\"\"\"\n",
    "\n",
    "TINT_COLOR = (0, 0, 0)  # Black\n",
    "TRANSPARENCY = .90  # Degree of transparency, 0-100%\n",
    "OPACITY = int(255 * TRANSPARENCY)\n",
    "\n",
    "from PIL import Image, ImageFont, ImageDraw\n",
    "\n",
    "img = pili.open('ipynb.images/comic book 2/edited comic book 2/47.4.PNG').convert('RGBA')\n",
    "\n",
    "overlay = pili.new('RGBA', img.size, TINT_COLOR+(0,))\n",
    "draw = pild.Draw(overlay)\n",
    "font = pilf.truetype(\"C:/Windows/Fonts/Nirmalas.ttf\", 20)\n",
    "x, y = (img.width, img.height)\n",
    "text = caption\n",
    "w, h = font.getsize(text)\n",
    "num_lines = len(text.split('\\n'))\n",
    "print(num_lines, w, h)\n",
    "x, y = 10, img.height - (num_lines-0.001*num_lines)*h\n",
    "#draw.rectangle((x+w, y+h, x + w, y + h), fill='black')\n",
    "#draw.rectangle((x, y, x + w, y + 4*h), fill=TINT_COLOR+(OPACITY,))\n",
    "draw.rectangle((x, y, x + img.width*3, y + img.height*3), fill=TINT_COLOR+(OPACITY,))\n",
    "draw.text((x, y), text, fill=(225, 255, 255), font=font)\n",
    "\n",
    "# Alpha composite these two images together to obtain the desired result.\n",
    "img = pili.alpha_composite(img, overlay)\n",
    "img = img.convert(\"RGB\") # Remove alpha for saving in jpg format.\n",
    "\n",
    "img.save('ipynb.images/comic book 2/edited comic book 2 with captions/47.4.PNG')"
   ]
  },
  {
   "cell_type": "code",
   "execution_count": 84,
   "metadata": {},
   "outputs": [
    {
     "name": "stdout",
     "output_type": "stream",
     "text": [
      "2 563 26\n"
     ]
    }
   ],
   "source": [
    "from IPython.display import Image\n",
    "from PIL import Image as pili, ImageOps as piliops\n",
    "from PIL import Image as pili, ImageDraw as pild, ImageFont as pilf \n",
    "\n",
    "piliops.expand(pili.open('ipynb.images/comic book 2/47.5.png'), border=(10,10),fill='black').save('ipynb.images/comic book 2/edited comic book 2/47.5.PNG')\n",
    "Image(filename='ipynb.images/comic book 2/edited comic book 2/47.5.PNG', width=400)\n",
    "\n",
    "caption = \"\"\"मोगली ने शांति और राजन को छिपे रहने के लिए कहा और दौड़ना जारी रखा\n",
    "\"\"\"\n",
    "\n",
    "TINT_COLOR = (0, 0, 0)  # Black\n",
    "TRANSPARENCY = .90  # Degree of transparency, 0-100%\n",
    "OPACITY = int(255 * TRANSPARENCY)\n",
    "\n",
    "from PIL import Image, ImageFont, ImageDraw\n",
    "\n",
    "img = pili.open('ipynb.images/comic book 2/edited comic book 2/47.5.PNG').convert('RGBA')\n",
    "\n",
    "overlay = pili.new('RGBA', img.size, TINT_COLOR+(0,))\n",
    "draw = pild.Draw(overlay)\n",
    "font = pilf.truetype(\"C:/Windows/Fonts/Nirmalas.ttf\", 20)\n",
    "x, y = (img.width, img.height)\n",
    "text = caption\n",
    "w, h = font.getsize(text)\n",
    "num_lines = len(text.split('\\n'))\n",
    "print(num_lines, w, h)\n",
    "x, y = 10, img.height - (num_lines-0.001*num_lines)*h\n",
    "#draw.rectangle((x+w, y+h, x + w, y + h), fill='black')\n",
    "#draw.rectangle((x, y, x + w, y + 4*h), fill=TINT_COLOR+(OPACITY,))\n",
    "draw.rectangle((x, y, x + img.width*3, y + img.height*3), fill=TINT_COLOR+(OPACITY,))\n",
    "draw.text((x, y), text, fill=(225, 255, 255), font=font)\n",
    "\n",
    "# Alpha composite these two images together to obtain the desired result.\n",
    "img = pili.alpha_composite(img, overlay)\n",
    "img = img.convert(\"RGB\") # Remove alpha for saving in jpg format.\n",
    "\n",
    "img.save('ipynb.images/comic book 2/edited comic book 2 with captions/47.5.PNG')"
   ]
  },
  {
   "cell_type": "code",
   "execution_count": 85,
   "metadata": {},
   "outputs": [
    {
     "name": "stderr",
     "output_type": "stream",
     "text": [
      "<ipython-input-85-e281dbd43c0b>:12: FutureWarning: arrays to stack must be passed as a \"sequence\" type such as list or tuple. Support for non-sequence iterables such as generators is deprecated as of NumPy 1.16 and will raise an error in the future.\n",
      "  imgs_comb = np.hstack( (np.asarray( i.resize(min_shape) ) for i in imgs ) )\n"
     ]
    }
   ],
   "source": [
    "import numpy as np\n",
    "import PIL\n",
    "\n",
    "list_im = ['ipynb.images/comic book 2/edited comic book 2 with captions/47.2.PNG',\n",
    "            'ipynb.images/comic book 2/edited comic book 2 with captions/47.4.PNG',\n",
    "            'ipynb.images/comic book 2/edited comic book 2 with captions/47.5.PNG'\n",
    "          ]\n",
    "imgs    = [ PIL.Image.open(i) for i in list_im ]\n",
    "\n",
    "# pick the image which is the smallest, and resize the others to match it (can be arbitrary image shape here)\n",
    "min_shape = sorted( [(np.sum(i.size), i.size ) for i in imgs])[0][1]\n",
    "imgs_comb = np.hstack( (np.asarray( i.resize(min_shape) ) for i in imgs ) )\n",
    "\n",
    "# save that beautiful picture\n",
    "imgs_comb = PIL.Image.fromarray( imgs_comb)\n",
    "imgs_comb.save( 'ipynb.images\\comic book 2\\combined comic book 2.3\\Strip17.png' )"
   ]
  },
  {
   "cell_type": "code",
   "execution_count": 86,
   "metadata": {},
   "outputs": [
    {
     "name": "stdout",
     "output_type": "stream",
     "text": [
      "3 1300 27\n"
     ]
    }
   ],
   "source": [
    "from IPython.display import Image\n",
    "from PIL import Image as pili, ImageOps as piliops\n",
    "from PIL import Image as pili, ImageDraw as pild, ImageFont as pilf \n",
    "\n",
    "piliops.expand(pili.open('ipynb.images/comic book 2/47.7.png'), border=(10,10),fill='black').save('ipynb.images/comic book 2/edited comic book 2/47.7.PNG')\n",
    "Image(filename='ipynb.images/comic book 2/edited comic book 2/47.7.PNG', width=400)\n",
    "\n",
    "caption = \"\"\"मोगली के लिए शांति की चिंता जंगल से उसके डर को खत्म करती है\n",
    "जैसा कि वह रंजन से एक जगह रुकने के लिए कहती है क्योंकि वह मोगली की मदद के \n",
    "लिए पीछा करती है \"\"\"\n",
    "\n",
    "TINT_COLOR = (0, 0, 0)  # Black\n",
    "TRANSPARENCY = .90  # Degree of transparency, 0-100%\n",
    "OPACITY = int(255 * TRANSPARENCY)\n",
    "\n",
    "from PIL import Image, ImageFont, ImageDraw\n",
    "\n",
    "img = pili.open('ipynb.images/comic book 2/edited comic book 2/47.7.PNG').convert('RGBA')\n",
    "\n",
    "overlay = pili.new('RGBA', img.size, TINT_COLOR+(0,))\n",
    "draw = pild.Draw(overlay)\n",
    "font = pilf.truetype(\"C:/Windows/Fonts/Nirmalas.ttf\", 20)\n",
    "x, y = (img.width, img.height)\n",
    "text = caption\n",
    "w, h = font.getsize(text)\n",
    "num_lines = len(text.split('\\n'))\n",
    "print(num_lines, w, h)\n",
    "x, y = 10, img.height - (num_lines-0.001*num_lines)*h\n",
    "#draw.rectangle((x+w, y+h, x + w, y + h), fill='black')\n",
    "#draw.rectangle((x, y, x + w, y + 4*h), fill=TINT_COLOR+(OPACITY,))\n",
    "draw.rectangle((x, y, x + img.width*3, y + img.height*3), fill=TINT_COLOR+(OPACITY,))\n",
    "draw.text((x, y), text, fill=(225, 255, 255), font=font)\n",
    "\n",
    "# Alpha composite these two images together to obtain the desired result.\n",
    "img = pili.alpha_composite(img, overlay)\n",
    "img = img.convert(\"RGB\") # Remove alpha for saving in jpg format.\n",
    "\n",
    "img.save('ipynb.images/comic book 2/edited comic book 2 with captions/47.7.PNG')"
   ]
  },
  {
   "cell_type": "code",
   "execution_count": 87,
   "metadata": {},
   "outputs": [
    {
     "name": "stdout",
     "output_type": "stream",
     "text": [
      "3 1086 27\n"
     ]
    }
   ],
   "source": [
    "from IPython.display import Image\n",
    "from PIL import Image as pili, ImageOps as piliops\n",
    "from PIL import Image as pili, ImageDraw as pild, ImageFont as pilf \n",
    "\n",
    "piliops.expand(pili.open('ipynb.images/comic book 2/47.6.png'), border=(10,10),fill='black').save('ipynb.images/comic book 2/edited comic book 2/47.6.PNG')\n",
    "Image(filename='ipynb.images/comic book 2/edited comic book 2/47.6.PNG', width=400)\n",
    "\n",
    "caption = \"\"\"पहले तो रंजन उसका पीछा करने की कोशिश करता है लेकिन जल्द ही\n",
    "उसका सामना बल्लू और से होता है उसे चेतावनी देता है कि क्या हो रहा है\n",
    "\"\"\"\n",
    "\n",
    "TINT_COLOR = (0, 0, 0)  # Black\n",
    "TRANSPARENCY = .90  # Degree of transparency, 0-100%\n",
    "OPACITY = int(255 * TRANSPARENCY)\n",
    "\n",
    "from PIL import Image, ImageFont, ImageDraw\n",
    "\n",
    "img = pili.open('ipynb.images/comic book 2/edited comic book 2/47.6.PNG').convert('RGBA')\n",
    "\n",
    "overlay = pili.new('RGBA', img.size, TINT_COLOR+(0,))\n",
    "draw = pild.Draw(overlay)\n",
    "font = pilf.truetype(\"C:/Windows/Fonts/Nirmalas.ttf\", 20)\n",
    "x, y = (img.width, img.height)\n",
    "text = caption\n",
    "w, h = font.getsize(text)\n",
    "num_lines = len(text.split('\\n'))\n",
    "print(num_lines, w, h)\n",
    "x, y = 10, img.height - (num_lines-0.001*num_lines)*h\n",
    "#draw.rectangle((x+w, y+h, x + w, y + h), fill='black')\n",
    "#draw.rectangle((x, y, x + w, y + 4*h), fill=TINT_COLOR+(OPACITY,))\n",
    "draw.rectangle((x, y, x + img.width*3, y + img.height*3), fill=TINT_COLOR+(OPACITY,))\n",
    "draw.text((x, y), text, fill=(225, 255, 255), font=font)\n",
    "\n",
    "# Alpha composite these two images together to obtain the desired result.\n",
    "img = pili.alpha_composite(img, overlay)\n",
    "img = img.convert(\"RGB\") # Remove alpha for saving in jpg format.\n",
    "\n",
    "img.save('ipynb.images/comic book 2/edited comic book 2 with captions/47.6.PNG')"
   ]
  },
  {
   "cell_type": "code",
   "execution_count": 88,
   "metadata": {},
   "outputs": [
    {
     "name": "stdout",
     "output_type": "stream",
     "text": [
      "3 725 27\n"
     ]
    }
   ],
   "source": [
    "from IPython.display import Image\n",
    "from PIL import Image as pili, ImageOps as piliops\n",
    "from PIL import Image as pili, ImageDraw as pild, ImageFont as pilf \n",
    "\n",
    "piliops.expand(pili.open('ipynb.images/comic book 2/49.png'), border=(10,10),fill='black').save('ipynb.images/comic book 2/edited comic book 2/49.PNG')\n",
    "Image(filename='ipynb.images/comic book 2/edited comic book 2/49.PNG', width=400)\n",
    "\n",
    "caption = \"\"\"बघीरा रंजन की देखभाल करता है जबकि बल्लू मंदिर में जाता है\n",
    "बच्चों की सहायता करने के लिए\n",
    "\"\"\"\n",
    "\n",
    "TINT_COLOR = (0, 0, 0)  # Black\n",
    "TRANSPARENCY = .90  # Degree of transparency, 0-100%\n",
    "OPACITY = int(255 * TRANSPARENCY)\n",
    "\n",
    "from PIL import Image, ImageFont, ImageDraw\n",
    "\n",
    "img = pili.open('ipynb.images/comic book 2/edited comic book 2/49.PNG').convert('RGBA')\n",
    "\n",
    "overlay = pili.new('RGBA', img.size, TINT_COLOR+(0,))\n",
    "draw = pild.Draw(overlay)\n",
    "font = pilf.truetype(\"C:/Windows/Fonts/Nirmalas.ttf\", 20)\n",
    "x, y = (img.width, img.height)\n",
    "text = caption\n",
    "w, h = font.getsize(text)\n",
    "num_lines = len(text.split('\\n'))\n",
    "print(num_lines, w, h)\n",
    "x, y = 10, img.height - (num_lines-0.001*num_lines)*h\n",
    "#draw.rectangle((x+w, y+h, x + w, y + h), fill='black')\n",
    "#draw.rectangle((x, y, x + w, y + 4*h), fill=TINT_COLOR+(OPACITY,))\n",
    "draw.rectangle((x, y, x + img.width*3, y + img.height*3), fill=TINT_COLOR+(OPACITY,))\n",
    "draw.text((x, y), text, fill=(225, 255, 255), font=font)\n",
    "\n",
    "# Alpha composite these two images together to obtain the desired result.\n",
    "img = pili.alpha_composite(img, overlay)\n",
    "img = img.convert(\"RGB\") # Remove alpha for saving in jpg format.\n",
    "\n",
    "img.save('ipynb.images/comic book 2/edited comic book 2 with captions/49.PNG')"
   ]
  },
  {
   "cell_type": "code",
   "execution_count": 89,
   "metadata": {},
   "outputs": [
    {
     "name": "stderr",
     "output_type": "stream",
     "text": [
      "<ipython-input-89-5bb7d911b1a2>:12: FutureWarning: arrays to stack must be passed as a \"sequence\" type such as list or tuple. Support for non-sequence iterables such as generators is deprecated as of NumPy 1.16 and will raise an error in the future.\n",
      "  imgs_comb = np.hstack( (np.asarray( i.resize(min_shape) ) for i in imgs ) )\n"
     ]
    }
   ],
   "source": [
    "import numpy as np\n",
    "import PIL\n",
    "\n",
    "list_im = ['ipynb.images/comic book 2/edited comic book 2 with captions/47.7.PNG',\n",
    "            'ipynb.images/comic book 2/edited comic book 2 with captions/47.6.PNG',\n",
    "            'ipynb.images/comic book 2/edited comic book 2 with captions/49.PNG'\n",
    "          ]\n",
    "imgs    = [ PIL.Image.open(i) for i in list_im ]\n",
    "\n",
    "# pick the image which is the smallest, and resize the others to match it (can be arbitrary image shape here)\n",
    "min_shape = sorted( [(np.sum(i.size), i.size ) for i in imgs])[0][1]\n",
    "imgs_comb = np.hstack( (np.asarray( i.resize(min_shape) ) for i in imgs ) )\n",
    "\n",
    "# save that beautiful picture\n",
    "imgs_comb = PIL.Image.fromarray( imgs_comb)\n",
    "imgs_comb.save( 'ipynb.images\\comic book 2\\combined comic book 2.3\\Strip18.png' )"
   ]
  },
  {
   "cell_type": "code",
   "execution_count": 90,
   "metadata": {},
   "outputs": [
    {
     "name": "stdout",
     "output_type": "stream",
     "text": [
      "2 859 27\n"
     ]
    }
   ],
   "source": [
    "from IPython.display import Image\n",
    "from PIL import Image as pili, ImageOps as piliops\n",
    "from PIL import Image as pili, ImageDraw as pild, ImageFont as pilf \n",
    "\n",
    "piliops.expand(pili.open('ipynb.images/comic book 2/48.png'), border=(10,10),fill='black').save('ipynb.images/comic book 2/edited comic book 2/48.PNG')\n",
    "Image(filename='ipynb.images/comic book 2/edited comic book 2/48.PNG', width=400)\n",
    "\n",
    "caption = \"\"\"शांति ने शेरे खान का पीछा करते हुए मोगली को एक प्राचीन के रूप में देखा\n",
    "मंदिर जहां वे छाया में छिपने को मजबूर हैं \"\"\"\n",
    "\n",
    "TINT_COLOR = (0, 0, 0)  # Black\n",
    "TRANSPARENCY = .90  # Degree of transparency, 0-100%\n",
    "OPACITY = int(255 * TRANSPARENCY)\n",
    "\n",
    "from PIL import Image, ImageFont, ImageDraw\n",
    "\n",
    "img = pili.open('ipynb.images/comic book 2/edited comic book 2/48.PNG').convert('RGBA')\n",
    "\n",
    "overlay = pili.new('RGBA', img.size, TINT_COLOR+(0,))\n",
    "draw = pild.Draw(overlay)\n",
    "font = pilf.truetype(\"C:/Windows/Fonts/Nirmalas.ttf\", 20)\n",
    "x, y = (img.width, img.height)\n",
    "text = caption\n",
    "w, h = font.getsize(text)\n",
    "num_lines = len(text.split('\\n'))\n",
    "print(num_lines, w, h)\n",
    "x, y = 10, img.height - (num_lines-0.001*num_lines)*h\n",
    "#draw.rectangle((x+w, y+h, x + w, y + h), fill='black')\n",
    "#draw.rectangle((x, y, x + w, y + 4*h), fill=TINT_COLOR+(OPACITY,))\n",
    "draw.rectangle((x, y, x + img.width*3, y + img.height*3), fill=TINT_COLOR+(OPACITY,))\n",
    "draw.text((x, y), text, fill=(225, 255, 255), font=font)\n",
    "\n",
    "# Alpha composite these two images together to obtain the desired result.\n",
    "img = pili.alpha_composite(img, overlay)\n",
    "img = img.convert(\"RGB\") # Remove alpha for saving in jpg format.\n",
    "\n",
    "img.save('ipynb.images/comic book 2/edited comic book 2 with captions/48.PNG')"
   ]
  },
  {
   "cell_type": "code",
   "execution_count": 91,
   "metadata": {},
   "outputs": [
    {
     "name": "stdout",
     "output_type": "stream",
     "text": [
      "5 2950 27\n"
     ]
    }
   ],
   "source": [
    "from IPython.display import Image\n",
    "from PIL import Image as pili, ImageOps as piliops\n",
    "from PIL import Image as pili, ImageDraw as pild, ImageFont as pilf \n",
    "\n",
    "piliops.expand(pili.open('ipynb.images/comic book 2/51.png'), border=(10,10),fill='black').save('ipynb.images/comic book 2/edited comic book 2/51.PNG')\n",
    "Image(filename='ipynb.images/comic book 2/edited comic book 2/51.PNG', width=400)\n",
    "\n",
    "caption = \"\"\"वह बालू में भाग जाती है और वे जल्दी से एक दूसरे को पहचान लेते हैं\n",
    "(बल्लू शांति को उस लड़की के रूप में पहचानता है जिसने गांव में मोगली को फुसलाया था\n",
    "2 साल पहले, और शांति ने बल्लू को जंगली भालू के रूप में पहचाना\n",
    "मोगली को जंगल में छोड़ दिया और उसे और रंजन को डरा दिया), और बहस करने लगे\n",
    "जब तक उन्हें मोगली की मदद करने के अपने पारस्परिक लक्ष्य का एहसास नहीं होता \"\"\"\n",
    "\n",
    "TINT_COLOR = (0, 0, 0)  # Black\n",
    "TRANSPARENCY = .90  # Degree of transparency, 0-100%\n",
    "OPACITY = int(255 * TRANSPARENCY)\n",
    "\n",
    "from PIL import Image, ImageFont, ImageDraw\n",
    "\n",
    "img = pili.open('ipynb.images/comic book 2/edited comic book 2/51.PNG').convert('RGBA')\n",
    "\n",
    "overlay = pili.new('RGBA', img.size, TINT_COLOR+(0,))\n",
    "draw = pild.Draw(overlay)\n",
    "font = pilf.truetype(\"C:/Windows/Fonts/Nirmalas.ttf\", 20)\n",
    "x, y = (img.width, img.height)\n",
    "text = caption\n",
    "w, h = font.getsize(text)\n",
    "num_lines = len(text.split('\\n'))\n",
    "print(num_lines, w, h)\n",
    "x, y = 10, img.height - (num_lines-0.001*num_lines)*h\n",
    "#draw.rectangle((x+w, y+h, x + w, y + h), fill='black')\n",
    "#draw.rectangle((x, y, x + w, y + 4*h), fill=TINT_COLOR+(OPACITY,))\n",
    "draw.rectangle((x, y, x + img.width*3, y + img.height*3), fill=TINT_COLOR+(OPACITY,))\n",
    "draw.text((x, y), text, fill=(225, 255, 255), font=font)\n",
    "\n",
    "# Alpha composite these two images together to obtain the desired result.\n",
    "img = pili.alpha_composite(img, overlay)\n",
    "img = img.convert(\"RGB\") # Remove alpha for saving in jpg format.\n",
    "\n",
    "img.save('ipynb.images/comic book 2/edited comic book 2 with captions/51.PNG')"
   ]
  },
  {
   "cell_type": "code",
   "execution_count": 92,
   "metadata": {},
   "outputs": [
    {
     "name": "stdout",
     "output_type": "stream",
     "text": [
      "3 1348 27\n"
     ]
    }
   ],
   "source": [
    "from IPython.display import Image\n",
    "from PIL import Image as pili, ImageOps as piliops\n",
    "from PIL import Image as pili, ImageDraw as pild, ImageFont as pilf \n",
    "\n",
    "piliops.expand(pili.open('ipynb.images/comic book 2/53.png'), border=(10,10),fill='black').save('ipynb.images/comic book 2/edited comic book 2/53.PNG')\n",
    "Image(filename='ipynb.images/comic book 2/edited comic book 2/53.PNG', width=400)\n",
    "\n",
    "caption = \"\"\"बालू सुझाव देते हैं कि वे सहयोग करते हैं और वे पीछे छिपते हैं\n",
    "शेन्ग खान को भ्रमित करने के लिए, उसे डायवर्ट करते हुए घडि़याल और बैंग\n",
    "मोगली को बचाने के लिए ध्यान दिया गया \"\"\"\n",
    "\n",
    "TINT_COLOR = (0, 0, 0)  # Black\n",
    "TRANSPARENCY = .90  # Degree of transparency, 0-100%\n",
    "OPACITY = int(255 * TRANSPARENCY)\n",
    "\n",
    "from PIL import Image, ImageFont, ImageDraw\n",
    "\n",
    "img = pili.open('ipynb.images/comic book 2/edited comic book 2/53.PNG').convert('RGBA')\n",
    "\n",
    "overlay = pili.new('RGBA', img.size, TINT_COLOR+(0,))\n",
    "draw = pild.Draw(overlay)\n",
    "font = pilf.truetype(\"C:/Windows/Fonts/Nirmalas.ttf\", 20)\n",
    "x, y = (img.width, img.height)\n",
    "text = caption\n",
    "w, h = font.getsize(text)\n",
    "num_lines = len(text.split('\\n'))\n",
    "print(num_lines, w, h)\n",
    "x, y = 10, img.height - (num_lines-0.001*num_lines)*h\n",
    "#draw.rectangle((x+w, y+h, x + w, y + h), fill='black')\n",
    "#draw.rectangle((x, y, x + w, y + 4*h), fill=TINT_COLOR+(OPACITY,))\n",
    "draw.rectangle((x, y, x + img.width*3, y + img.height*3), fill=TINT_COLOR+(OPACITY,))\n",
    "draw.text((x, y), text, fill=(225, 255, 255), font=font)\n",
    "\n",
    "# Alpha composite these two images together to obtain the desired result.\n",
    "img = pili.alpha_composite(img, overlay)\n",
    "img = img.convert(\"RGB\") # Remove alpha for saving in jpg format.\n",
    "\n",
    "img.save('ipynb.images/comic book 2/edited comic book 2 with captions/53.PNG')"
   ]
  },
  {
   "cell_type": "code",
   "execution_count": 93,
   "metadata": {},
   "outputs": [
    {
     "name": "stderr",
     "output_type": "stream",
     "text": [
      "<ipython-input-93-01f2d367ec76>:12: FutureWarning: arrays to stack must be passed as a \"sequence\" type such as list or tuple. Support for non-sequence iterables such as generators is deprecated as of NumPy 1.16 and will raise an error in the future.\n",
      "  imgs_comb = np.hstack( (np.asarray( i.resize(min_shape) ) for i in imgs ) )\n"
     ]
    }
   ],
   "source": [
    "import numpy as np\n",
    "import PIL\n",
    "\n",
    "list_im = ['ipynb.images/comic book 2/edited comic book 2 with captions/48.PNG',\n",
    "            'ipynb.images/comic book 2/edited comic book 2 with captions/51.PNG',\n",
    "            'ipynb.images/comic book 2/edited comic book 2 with captions/53.PNG'\n",
    "          ]\n",
    "imgs    = [ PIL.Image.open(i) for i in list_im ]\n",
    "\n",
    "# pick the image which is the smallest, and resize the others to match it (can be arbitrary image shape here)\n",
    "min_shape = sorted( [(np.sum(i.size), i.size ) for i in imgs])[0][1]\n",
    "imgs_comb = np.hstack( (np.asarray( i.resize(min_shape) ) for i in imgs ) )\n",
    "\n",
    "# save that beautiful picture\n",
    "imgs_comb = PIL.Image.fromarray( imgs_comb)\n",
    "imgs_comb.save( 'ipynb.images\\comic book 2\\combined comic book 2.3\\Strip19.png' )"
   ]
  },
  {
   "cell_type": "code",
   "execution_count": 94,
   "metadata": {},
   "outputs": [
    {
     "name": "stdout",
     "output_type": "stream",
     "text": [
      "2 1259 27\n"
     ]
    }
   ],
   "source": [
    "from IPython.display import Image\n",
    "from PIL import Image as pili, ImageOps as piliops\n",
    "from PIL import Image as pili, ImageDraw as pild, ImageFont as pilf \n",
    "\n",
    "piliops.expand(pili.open('ipynb.images/comic book 2/55.png'), border=(10,10),fill='black').save('ipynb.images/comic book 2/edited comic book 2/55.PNG')\n",
    "Image(filename='ipynb.images/comic book 2/edited comic book 2/55.PNG', width=400)\n",
    "\n",
    "caption = \"\"\"दुर्भाग्य से, शांति का गोंग गिरता है, खुद को शेर खान को दिखाता है।\n",
    "वह मोगली को फोन करता है और शांति को मारने की धमकी देता है जब तक कि वह खुद को छोड़ न दे \"\"\"\n",
    "\n",
    "TINT_COLOR = (0, 0, 0)  # Black\n",
    "TRANSPARENCY = .90  # Degree of transparency, 0-100%\n",
    "OPACITY = int(255 * TRANSPARENCY)\n",
    "\n",
    "from PIL import Image, ImageFont, ImageDraw\n",
    "\n",
    "img = pili.open('ipynb.images/comic book 2/edited comic book 2/55.PNG').convert('RGBA')\n",
    "\n",
    "overlay = pili.new('RGBA', img.size, TINT_COLOR+(0,))\n",
    "draw = pild.Draw(overlay)\n",
    "font = pilf.truetype(\"C:/Windows/Fonts/Nirmalas.ttf\", 20)\n",
    "x, y = (img.width, img.height)\n",
    "text = caption\n",
    "w, h = font.getsize(text)\n",
    "num_lines = len(text.split('\\n'))\n",
    "print(num_lines, w, h)\n",
    "x, y = 10, img.height - (num_lines-0.001*num_lines)*h\n",
    "#draw.rectangle((x+w, y+h, x + w, y + h), fill='black')\n",
    "#draw.rectangle((x, y, x + w, y + 4*h), fill=TINT_COLOR+(OPACITY,))\n",
    "draw.rectangle((x, y, x + img.width*3, y + img.height*3), fill=TINT_COLOR+(OPACITY,))\n",
    "draw.text((x, y), text, fill=(225, 255, 255), font=font)\n",
    "\n",
    "# Alpha composite these two images together to obtain the desired result.\n",
    "img = pili.alpha_composite(img, overlay)\n",
    "img = img.convert(\"RGB\") # Remove alpha for saving in jpg format.\n",
    "\n",
    "img.save('ipynb.images/comic book 2/edited comic book 2 with captions/55.PNG')"
   ]
  },
  {
   "cell_type": "code",
   "execution_count": 95,
   "metadata": {},
   "outputs": [
    {
     "name": "stdout",
     "output_type": "stream",
     "text": [
      "2 899 27\n"
     ]
    }
   ],
   "source": [
    " from IPython.display import Image\n",
    "from PIL import Image as pili, ImageOps as piliops\n",
    "from PIL import Image as pili, ImageDraw as pild, ImageFont as pilf \n",
    "\n",
    "piliops.expand(pili.open('ipynb.images/comic book 2/56.png'), border=(10,10),fill='black').save('ipynb.images/comic book 2/edited comic book 2/56.PNG')\n",
    "Image(filename='ipynb.images/comic book 2/edited comic book 2/56.PNG', width=400)\n",
    "\n",
    "caption = \"\"\" शांति की सुरक्षा सुनिश्चित करने के लिए, मोगली ने खुद को बाघ के रूप में प्रकट किया,\n",
    "जो तुरंत उस पर हमला करता है \"\"\"\n",
    "\n",
    "TINT_COLOR = (0, 0, 0)  # Black\n",
    "TRANSPARENCY = .90  # Degree of transparency, 0-100%\n",
    "OPACITY = int(255 * TRANSPARENCY)\n",
    "\n",
    "from PIL import Image, ImageFont, ImageDraw\n",
    "\n",
    "img = pili.open('ipynb.images/comic book 2/edited comic book 2/56.PNG').convert('RGBA')\n",
    "\n",
    "overlay = pili.new('RGBA', img.size, TINT_COLOR+(0,))\n",
    "draw = pild.Draw(overlay)\n",
    "font = pilf.truetype(\"C:/Windows/Fonts/Nirmalas.ttf\", 20)\n",
    "x, y = (img.width, img.height)\n",
    "text = caption\n",
    "w, h = font.getsize(text)\n",
    "num_lines = len(text.split('\\n'))\n",
    "print(num_lines, w, h)\n",
    "x, y = 10, img.height - (num_lines-0.001*num_lines)*h\n",
    "#draw.rectangle((x+w, y+h, x + w, y + h), fill='black')\n",
    "#draw.rectangle((x, y, x + w, y + 4*h), fill=TINT_COLOR+(OPACITY,))\n",
    "draw.rectangle((x, y, x + img.width*3, y + img.height*3), fill=TINT_COLOR+(OPACITY,))\n",
    "draw.text((x, y), text, fill=(225, 255, 255), font=font)\n",
    "\n",
    "# Alpha composite these two images together to obtain the desired result.\n",
    "img = pili.alpha_composite(img, overlay)\n",
    "img = img.convert(\"RGB\") # Remove alpha for saving in jpg format.\n",
    "\n",
    "img.save('ipynb.images/comic book 2/edited comic book 2 with captions/56.PNG')"
   ]
  },
  {
   "cell_type": "code",
   "execution_count": 96,
   "metadata": {},
   "outputs": [
    {
     "name": "stdout",
     "output_type": "stream",
     "text": [
      "2 816 27\n"
     ]
    }
   ],
   "source": [
    " from IPython.display import Image\n",
    "from PIL import Image as pili, ImageOps as piliops\n",
    "from PIL import Image as pili, ImageDraw as pild, ImageFont as pilf \n",
    "\n",
    "piliops.expand(pili.open('ipynb.images/comic book 2/57.png'), border=(10,10),fill='black').save('ipynb.images/comic book 2/edited comic book 2/57.PNG')\n",
    "Image(filename='ipynb.images/comic book 2/edited comic book 2/57.PNG', width=400)\n",
    "\n",
    "caption = \"\"\"शांति के दौड़ते ही बल्लू शेर खान को रोकने की कोशिश करता है\n",
    "मोगली और दोनों इसके लिए एक रन बनाते हैं \"\"\"\n",
    "\n",
    "TINT_COLOR = (0, 0, 0)  # Black\n",
    "TRANSPARENCY = .90  # Degree of transparency, 0-100%\n",
    "OPACITY = int(255 * TRANSPARENCY)\n",
    "\n",
    "from PIL import Image, ImageFont, ImageDraw\n",
    "\n",
    "img = pili.open('ipynb.images/comic book 2/edited comic book 2/57.PNG').convert('RGBA')\n",
    "\n",
    "overlay = pili.new('RGBA', img.size, TINT_COLOR+(0,))\n",
    "draw = pild.Draw(overlay)\n",
    "font = pilf.truetype(\"C:/Windows/Fonts/Nirmalas.ttf\", 20)\n",
    "x, y = (img.width, img.height)\n",
    "text = caption\n",
    "w, h = font.getsize(text)\n",
    "num_lines = len(text.split('\\n'))\n",
    "print(num_lines, w, h)\n",
    "x, y = 10, img.height - (num_lines-0.001*num_lines)*h\n",
    "#draw.rectangle((x+w, y+h, x + w, y + h), fill='black')\n",
    "#draw.rectangle((x, y, x + w, y + 4*h), fill=TINT_COLOR+(OPACITY,))\n",
    "draw.rectangle((x, y, x + img.width*3, y + img.height*3), fill=TINT_COLOR+(OPACITY,))\n",
    "draw.text((x, y), text, fill=(225, 255, 255), font=font)\n",
    "\n",
    "# Alpha composite these two images together to obtain the desired result.\n",
    "img = pili.alpha_composite(img, overlay)\n",
    "img = img.convert(\"RGB\") # Remove alpha for saving in jpg format.\n",
    "\n",
    "img.save('ipynb.images/comic book 2/edited comic book 2 with captions/57.PNG')"
   ]
  },
  {
   "cell_type": "code",
   "execution_count": 97,
   "metadata": {},
   "outputs": [
    {
     "name": "stderr",
     "output_type": "stream",
     "text": [
      "<ipython-input-97-0cfcafd8c9d3>:12: FutureWarning: arrays to stack must be passed as a \"sequence\" type such as list or tuple. Support for non-sequence iterables such as generators is deprecated as of NumPy 1.16 and will raise an error in the future.\n",
      "  imgs_comb = np.hstack( (np.asarray( i.resize(min_shape) ) for i in imgs ) )\n"
     ]
    }
   ],
   "source": [
    "import numpy as np\n",
    "import PIL\n",
    "\n",
    "list_im = ['ipynb.images/comic book 2/edited comic book 2 with captions/55.PNG',\n",
    "            'ipynb.images/comic book 2/edited comic book 2 with captions/56.PNG',\n",
    "            'ipynb.images/comic book 2/edited comic book 2 with captions/57.PNG'\n",
    "          ]\n",
    "imgs    = [ PIL.Image.open(i) for i in list_im ]\n",
    "\n",
    "# pick the image which is the smallest, and resize the others to match it (can be arbitrary image shape here)\n",
    "min_shape = sorted( [(np.sum(i.size), i.size ) for i in imgs])[0][1]\n",
    "imgs_comb = np.hstack( (np.asarray( i.resize(min_shape) ) for i in imgs ) )\n",
    "\n",
    "# save that beautiful picture\n",
    "imgs_comb = PIL.Image.fromarray( imgs_comb)\n",
    "imgs_comb.save( 'ipynb.images\\comic book 2\\combined comic book 2.3\\Strip20.png' )"
   ]
  },
  {
   "cell_type": "code",
   "execution_count": 98,
   "metadata": {},
   "outputs": [
    {
     "name": "stdout",
     "output_type": "stream",
     "text": [
      "2 974 27\n"
     ]
    }
   ],
   "source": [
    " from IPython.display import Image\n",
    "from PIL import Image as pili, ImageOps as piliops\n",
    "from PIL import Image as pili, ImageDraw as pild, ImageFont as pilf \n",
    "\n",
    "piliops.expand(pili.open('ipynb.images/comic book 2/58.png'), border=(10,10),fill='black').save('ipynb.images/comic book 2/edited comic book 2/58.PNG')\n",
    "Image(filename='ipynb.images/comic book 2/edited comic book 2/58.PNG', width=400)\n",
    "\n",
    "caption = \"\"\"शेर खान बालू से मुक्त हो जाता है और उसके बाद भागता है\n",
    "बच्चे, जो एक लावा झील के ऊपर एक विशाल पत्थर से छलांग लगाते हैं \"\"\"\n",
    "\n",
    "TINT_COLOR = (0, 0, 0)  # Black\n",
    "TRANSPARENCY = .90  # Degree of transparency, 0-100%\n",
    "OPACITY = int(255 * TRANSPARENCY)\n",
    "\n",
    "from PIL import Image, ImageFont, ImageDraw\n",
    "\n",
    "img = pili.open('ipynb.images/comic book 2/edited comic book 2/58.PNG').convert('RGBA')\n",
    "\n",
    "overlay = pili.new('RGBA', img.size, TINT_COLOR+(0,))\n",
    "draw = pild.Draw(overlay)\n",
    "font = pilf.truetype(\"C:/Windows/Fonts/Nirmalas.ttf\", 20)\n",
    "x, y = (img.width, img.height)\n",
    "text = caption\n",
    "w, h = font.getsize(text)\n",
    "num_lines = len(text.split('\\n'))\n",
    "print(num_lines, w, h)\n",
    "x, y = 10, img.height - (num_lines-0.001*num_lines)*h\n",
    "#draw.rectangle((x+w, y+h, x + w, y + h), fill='black')\n",
    "#draw.rectangle((x, y, x + w, y + 4*h), fill=TINT_COLOR+(OPACITY,))\n",
    "draw.rectangle((x, y, x + img.width*3, y + img.height*3), fill=TINT_COLOR+(OPACITY,))\n",
    "draw.text((x, y), text, fill=(225, 255, 255), font=font)\n",
    "\n",
    "# Alpha composite these two images together to obtain the desired result.\n",
    "img = pili.alpha_composite(img, overlay)\n",
    "img = img.convert(\"RGB\") # Remove alpha for saving in jpg format.\n",
    "\n",
    "img.save('ipynb.images/comic book 2/edited comic book 2 with captions/58.PNG')"
   ]
  },
  {
   "cell_type": "code",
   "execution_count": 99,
   "metadata": {},
   "outputs": [
    {
     "name": "stdout",
     "output_type": "stream",
     "text": [
      "1 344 26\n"
     ]
    }
   ],
   "source": [
    " from IPython.display import Image\n",
    "from PIL import Image as pili, ImageOps as piliops\n",
    "from PIL import Image as pili, ImageDraw as pild, ImageFont as pilf \n",
    "\n",
    "piliops.expand(pili.open('ipynb.images/comic book 2/59.png'), border=(10,10),fill='black').save('ipynb.images/comic book 2/edited comic book 2/59.PNG')\n",
    "Image(filename='ipynb.images/comic book 2/edited comic book 2/59.PNG', width=400)\n",
    "\n",
    "caption = \"\"\"जैसे ही वे चढ़ते हैं, शेर खान उनके पीछे जाते हैं \"\"\"\n",
    "\n",
    "TINT_COLOR = (0, 0, 0)  # Black\n",
    "TRANSPARENCY = .90  # Degree of transparency, 0-100%\n",
    "OPACITY = int(255 * TRANSPARENCY)\n",
    "\n",
    "from PIL import Image, ImageFont, ImageDraw\n",
    "\n",
    "img = pili.open('ipynb.images/comic book 2/edited comic book 2/59.PNG').convert('RGBA')\n",
    "\n",
    "overlay = pili.new('RGBA', img.size, TINT_COLOR+(0,))\n",
    "draw = pild.Draw(overlay)\n",
    "font = pilf.truetype(\"C:/Windows/Fonts/Nirmalas.ttf\", 20)\n",
    "x, y = (img.width, img.height)\n",
    "text = caption\n",
    "w, h = font.getsize(text)\n",
    "num_lines = len(text.split('\\n'))\n",
    "print(num_lines, w, h)\n",
    "x, y = 10, img.height - (num_lines-0.001*num_lines)*h\n",
    "#draw.rectangle((x+w, y+h, x + w, y + h), fill='black')\n",
    "#draw.rectangle((x, y, x + w, y + 4*h), fill=TINT_COLOR+(OPACITY,))\n",
    "draw.rectangle((x, y, x + img.width*3, y + img.height*3), fill=TINT_COLOR+(OPACITY,))\n",
    "draw.text((x, y), text, fill=(225, 255, 255), font=font)\n",
    "\n",
    "# Alpha composite these two images together to obtain the desired result.\n",
    "img = pili.alpha_composite(img, overlay)\n",
    "img = img.convert(\"RGB\") # Remove alpha for saving in jpg format.\n",
    "\n",
    "img.save('ipynb.images/comic book 2/edited comic book 2 with captions/59.PNG')"
   ]
  },
  {
   "cell_type": "code",
   "execution_count": 100,
   "metadata": {},
   "outputs": [
    {
     "name": "stdout",
     "output_type": "stream",
     "text": [
      "2 665 27\n"
     ]
    }
   ],
   "source": [
    " from IPython.display import Image\n",
    "from PIL import Image as pili, ImageOps as piliops\n",
    "from PIL import Image as pili, ImageDraw as pild, ImageFont as pilf \n",
    "\n",
    "piliops.expand(pili.open('ipynb.images/comic book 2/60.png'), border=(10,10),fill='black').save('ipynb.images/comic book 2/edited comic book 2/60.PNG')\n",
    "Image(filename='ipynb.images/comic book 2/edited comic book 2/60.PNG', width=400)\n",
    "\n",
    "caption = \"\"\"हालांकि, पत्थर का सिर ढह जाता है और मोगली, शेरे खान के साथ गिर जाता है\n",
    "और शांति \"\"\"\n",
    "\n",
    "TINT_COLOR = (0, 0, 0)  # Black\n",
    "TRANSPARENCY = .90  # Degree of transparency, 0-100%\n",
    "OPACITY = int(255 * TRANSPARENCY)\n",
    "\n",
    "from PIL import Image, ImageFont, ImageDraw\n",
    "\n",
    "img = pili.open('ipynb.images/comic book 2/edited comic book 2/60.PNG').convert('RGBA')\n",
    "\n",
    "overlay = pili.new('RGBA', img.size, TINT_COLOR+(0,))\n",
    "draw = pild.Draw(overlay)\n",
    "font = pilf.truetype(\"C:/Windows/Fonts/Nirmalas.ttf\", 20)\n",
    "x, y = (img.width, img.height)\n",
    "text = caption\n",
    "w, h = font.getsize(text)\n",
    "num_lines = len(text.split('\\n'))\n",
    "print(num_lines, w, h)\n",
    "x, y = 10, img.height - (num_lines-0.001*num_lines)*h\n",
    "#draw.rectangle((x+w, y+h, x + w, y + h), fill='black')\n",
    "#draw.rectangle((x, y, x + w, y + 4*h), fill=TINT_COLOR+(OPACITY,))\n",
    "draw.rectangle((x, y, x + img.width*3, y + img.height*3), fill=TINT_COLOR+(OPACITY,))\n",
    "draw.text((x, y), text, fill=(225, 255, 255), font=font)\n",
    "\n",
    "# Alpha composite these two images together to obtain the desired result.\n",
    "img = pili.alpha_composite(img, overlay)\n",
    "img = img.convert(\"RGB\") # Remove alpha for saving in jpg format.\n",
    "\n",
    "img.save('ipynb.images/comic book 2/edited comic book 2 with captions/60.PNG')"
   ]
  },
  {
   "cell_type": "code",
   "execution_count": 101,
   "metadata": {},
   "outputs": [
    {
     "name": "stderr",
     "output_type": "stream",
     "text": [
      "<ipython-input-101-e83eaad2fa7d>:12: FutureWarning: arrays to stack must be passed as a \"sequence\" type such as list or tuple. Support for non-sequence iterables such as generators is deprecated as of NumPy 1.16 and will raise an error in the future.\n",
      "  imgs_comb = np.hstack( (np.asarray( i.resize(min_shape) ) for i in imgs ) )\n"
     ]
    }
   ],
   "source": [
    "import numpy as np\n",
    "import PIL\n",
    "\n",
    "list_im = ['ipynb.images/comic book 2/edited comic book 2 with captions/58.PNG',\n",
    "            'ipynb.images/comic book 2/edited comic book 2 with captions/59.PNG',\n",
    "            'ipynb.images/comic book 2/edited comic book 2 with captions/60.PNG'\n",
    "          ]\n",
    "imgs    = [ PIL.Image.open(i) for i in list_im ]\n",
    "\n",
    "# pick the image which is the smallest, and resize the others to match it (can be arbitrary image shape here)\n",
    "min_shape = sorted( [(np.sum(i.size), i.size ) for i in imgs])[0][1]\n",
    "imgs_comb = np.hstack( (np.asarray( i.resize(min_shape) ) for i in imgs ) )\n",
    "\n",
    "# save that beautiful picture\n",
    "imgs_comb = PIL.Image.fromarray( imgs_comb)\n",
    "imgs_comb.save( 'ipynb.images\\comic book 2\\combined comic book 2.3\\Strip21.png' )"
   ]
  },
  {
   "cell_type": "code",
   "execution_count": 102,
   "metadata": {},
   "outputs": [
    {
     "name": "stdout",
     "output_type": "stream",
     "text": [
      "2 300 27\n"
     ]
    }
   ],
   "source": [
    " from IPython.display import Image\n",
    "from PIL import Image as pili, ImageOps as piliops\n",
    "from PIL import Image as pili, ImageDraw as pild, ImageFont as pilf \n",
    "\n",
    "piliops.expand(pili.open('ipynb.images/comic book 2/61.png'), border=(10,10),fill='black').save('ipynb.images/comic book 2/edited comic book 2/61.PNG')\n",
    "Image(filename='ipynb.images/comic book 2/edited comic book 2/61.PNG', width=400)\n",
    "\n",
    "caption = \"\"\"सौभाग्य से, बालू बच्चों को पकड़ता है..\n",
    "\"\"\"\n",
    "\n",
    "TINT_COLOR = (0, 0, 0)  # Black\n",
    "TRANSPARENCY = .90  # Degree of transparency, 0-100%\n",
    "OPACITY = int(255 * TRANSPARENCY)\n",
    "\n",
    "from PIL import Image, ImageFont, ImageDraw\n",
    "\n",
    "img = pili.open('ipynb.images/comic book 2/edited comic book 2/61.PNG').convert('RGBA')\n",
    "\n",
    "overlay = pili.new('RGBA', img.size, TINT_COLOR+(0,))\n",
    "draw = pild.Draw(overlay)\n",
    "font = pilf.truetype(\"C:/Windows/Fonts/Nirmalas.ttf\", 20)\n",
    "x, y = (img.width, img.height)\n",
    "text = caption\n",
    "w, h = font.getsize(text)\n",
    "num_lines = len(text.split('\\n'))\n",
    "print(num_lines, w, h)\n",
    "x, y = 10, img.height - (num_lines-0.001*num_lines)*h\n",
    "#draw.rectangle((x+w, y+h, x + w, y + h), fill='black')\n",
    "#draw.rectangle((x, y, x + w, y + 4*h), fill=TINT_COLOR+(OPACITY,))\n",
    "draw.rectangle((x, y, x + img.width*3, y + img.height*3), fill=TINT_COLOR+(OPACITY,))\n",
    "draw.text((x, y), text, fill=(225, 255, 255), font=font)\n",
    "\n",
    "# Alpha composite these two images together to obtain the desired result.\n",
    "img = pili.alpha_composite(img, overlay)\n",
    "img = img.convert(\"RGB\") # Remove alpha for saving in jpg format.\n",
    "\n",
    "img.save('ipynb.images/comic book 2/edited comic book 2 with captions/61.PNG')"
   ]
  },
  {
   "cell_type": "code",
   "execution_count": 103,
   "metadata": {},
   "outputs": [
    {
     "name": "stdout",
     "output_type": "stream",
     "text": [
      "2 278 27\n"
     ]
    }
   ],
   "source": [
    " from IPython.display import Image\n",
    "from PIL import Image as pili, ImageOps as piliops\n",
    "from PIL import Image as pili, ImageDraw as pild, ImageFont as pilf \n",
    "\n",
    "piliops.expand(pili.open('ipynb.images/comic book 2/62.png'), border=(10,10),fill='black').save('ipynb.images/comic book 2/edited comic book 2/62.PNG')\n",
    "Image(filename='ipynb.images/comic book 2/edited comic book 2/62.PNG', width=400)\n",
    "\n",
    "caption = \"\"\"शेर खान गर्म लावा झील में गिरता है\n",
    "\"\"\"\n",
    "\n",
    "TINT_COLOR = (0, 0, 0)  # Black\n",
    "TRANSPARENCY = .90  # Degree of transparency, 0-100%\n",
    "OPACITY = int(255 * TRANSPARENCY)\n",
    "\n",
    "from PIL import Image, ImageFont, ImageDraw\n",
    "\n",
    "img = pili.open('ipynb.images/comic book 2/edited comic book 2/62.PNG').convert('RGBA')\n",
    "\n",
    "overlay = pili.new('RGBA', img.size, TINT_COLOR+(0,))\n",
    "draw = pild.Draw(overlay)\n",
    "font = pilf.truetype(\"C:/Windows/Fonts/Nirmalas.ttf\", 20)\n",
    "x, y = (img.width, img.height)\n",
    "text = caption\n",
    "w, h = font.getsize(text)\n",
    "num_lines = len(text.split('\\n'))\n",
    "print(num_lines, w, h)\n",
    "x, y = 10, img.height - (num_lines-0.001*num_lines)*h\n",
    "#draw.rectangle((x+w, y+h, x + w, y + h), fill='black')\n",
    "#draw.rectangle((x, y, x + w, y + 4*h), fill=TINT_COLOR+(OPACITY,))\n",
    "draw.rectangle((x, y, x + img.width*3, y + img.height*3), fill=TINT_COLOR+(OPACITY,))\n",
    "draw.text((x, y), text, fill=(225, 255, 255), font=font)\n",
    "\n",
    "# Alpha composite these two images together to obtain the desired result.\n",
    "img = pili.alpha_composite(img, overlay)\n",
    "img = img.convert(\"RGB\") # Remove alpha for saving in jpg format.\n",
    "\n",
    "img.save('ipynb.images/comic book 2/edited comic book 2 with captions/62.PNG')"
   ]
  },
  {
   "cell_type": "code",
   "execution_count": 106,
   "metadata": {},
   "outputs": [
    {
     "name": "stdout",
     "output_type": "stream",
     "text": [
      "4 2211 27\n"
     ]
    }
   ],
   "source": [
    " from IPython.display import Image\n",
    "from PIL import Image as pili, ImageOps as piliops\n",
    "from PIL import Image as pili, ImageDraw as pild, ImageFont as pilf \n",
    "\n",
    "piliops.expand(pili.open('ipynb.images/comic book 2/63.png'), border=(10,10),fill='black').save('ipynb.images/comic book 2/edited comic book 2/63.PNG')\n",
    "Image(filename='ipynb.images/comic book 2/edited comic book 2/63.PNG', width=400)\n",
    "\n",
    "caption = \"\"\"बालू, बघीरा और बच्चे एकजुट हो गए। मोगली का एक हिस्सा चाहता है\n",
    "जंगल में रहने के लिए। शांति मोगली के साथ दोस्ती करती है और उसे फैसला करने के\n",
    "लिए कहती है स्वयं उसके लिए। बालू उसे उसके बाद आदमी गांव जाने के लिए \n",
    "प्रोत्साहित करता है आश्वस्त है कि मोगली अच्छे हाथों में है \"\"\"\n",
    "\n",
    "TINT_COLOR = (0, 0, 0)  # Black\n",
    "TRANSPARENCY = .90  # Degree of transparency, 0-100%\n",
    "OPACITY = int(255 * TRANSPARENCY)\n",
    "\n",
    "from PIL import Image, ImageFont, ImageDraw\n",
    "\n",
    "img = pili.open('ipynb.images/comic book 2/edited comic book 2/63.PNG').convert('RGBA')\n",
    "\n",
    "overlay = pili.new('RGBA', img.size, TINT_COLOR+(0,))\n",
    "draw = pild.Draw(overlay)\n",
    "font = pilf.truetype(\"C:/Windows/Fonts/Nirmalas.ttf\", 20)\n",
    "x, y = (img.width, img.height)\n",
    "text = caption\n",
    "w, h = font.getsize(text)\n",
    "num_lines = len(text.split('\\n'))\n",
    "print(num_lines, w, h)\n",
    "x, y = 10, img.height - (num_lines-0.001*num_lines)*h\n",
    "#draw.rectangle((x+w, y+h, x + w, y + h), fill='black')\n",
    "#draw.rectangle((x, y, x + w, y + 4*h), fill=TINT_COLOR+(OPACITY,))\n",
    "draw.rectangle((x, y, x + img.width*3, y + img.height*3), fill=TINT_COLOR+(OPACITY,))\n",
    "draw.text((x, y), text, fill=(225, 255, 255), font=font)\n",
    "\n",
    "# Alpha composite these two images together to obtain the desired result.\n",
    "img = pili.alpha_composite(img, overlay)\n",
    "img = img.convert(\"RGB\") # Remove alpha for saving in jpg format.\n",
    "\n",
    "img.save('ipynb.images/comic book 2/edited comic book 2 with captions/63.PNG')"
   ]
  },
  {
   "cell_type": "code",
   "execution_count": 107,
   "metadata": {},
   "outputs": [
    {
     "name": "stderr",
     "output_type": "stream",
     "text": [
      "<ipython-input-107-dd1d849ac965>:12: FutureWarning: arrays to stack must be passed as a \"sequence\" type such as list or tuple. Support for non-sequence iterables such as generators is deprecated as of NumPy 1.16 and will raise an error in the future.\n",
      "  imgs_comb = np.hstack( (np.asarray( i.resize(min_shape) ) for i in imgs ) )\n"
     ]
    }
   ],
   "source": [
    "import numpy as np\n",
    "import PIL\n",
    "\n",
    "list_im = ['ipynb.images/comic book 2/edited comic book 2 with captions/61.PNG',\n",
    "            'ipynb.images/comic book 2/edited comic book 2 with captions/62.PNG',\n",
    "            'ipynb.images/comic book 2/edited comic book 2 with captions/63.PNG'\n",
    "          ]\n",
    "imgs    = [ PIL.Image.open(i) for i in list_im ]\n",
    "\n",
    "# pick the image which is the smallest, and resize the others to match it (can be arbitrary image shape here)\n",
    "min_shape = sorted( [(np.sum(i.size), i.size ) for i in imgs])[0][1]\n",
    "imgs_comb = np.hstack( (np.asarray( i.resize(min_shape) ) for i in imgs ) )\n",
    "\n",
    "# save that beautiful picture\n",
    "imgs_comb = PIL.Image.fromarray( imgs_comb)\n",
    "imgs_comb.save( 'ipynb.images\\comic book 2\\combined comic book 2.3\\Strip22.png' )"
   ]
  },
  {
   "cell_type": "code",
   "execution_count": 108,
   "metadata": {},
   "outputs": [
    {
     "name": "stdout",
     "output_type": "stream",
     "text": [
      "2 359 27\n"
     ]
    }
   ],
   "source": [
    " from IPython.display import Image\n",
    "from PIL import Image as pili, ImageOps as piliops\n",
    "from PIL import Image as pili, ImageDraw as pild, ImageFont as pilf \n",
    "\n",
    "piliops.expand(pili.open('ipynb.images/comic book 2/64.png'), border=(10,10),fill='black').save('ipynb.images/comic book 2/edited comic book 2/64.PNG')\n",
    "Image(filename='ipynb.images/comic book 2/edited comic book 2/64.PNG', width=400)\n",
    "\n",
    "caption = \"\"\"बच्चे अपने परिवारों के साथ पुनर्मिलन करते हैं\n",
    "\"\"\"\n",
    "\n",
    "TINT_COLOR = (0, 0, 0)  # Black\n",
    "TRANSPARENCY = .90  # Degree of transparency, 0-100%\n",
    "OPACITY = int(255 * TRANSPARENCY)\n",
    "\n",
    "from PIL import Image, ImageFont, ImageDraw\n",
    "\n",
    "img = pili.open('ipynb.images/comic book 2/edited comic book 2/64.PNG').convert('RGBA')\n",
    "\n",
    "overlay = pili.new('RGBA', img.size, TINT_COLOR+(0,))\n",
    "draw = pild.Draw(overlay)\n",
    "font = pilf.truetype(\"C:/Windows/Fonts/Nirmalas.ttf\", 20)\n",
    "x, y = (img.width, img.height)\n",
    "text = caption\n",
    "w, h = font.getsize(text)\n",
    "num_lines = len(text.split('\\n'))\n",
    "print(num_lines, w, h)\n",
    "x, y = 10, img.height - (num_lines-0.001*num_lines)*h\n",
    "#draw.rectangle((x+w, y+h, x + w, y + h), fill='black')\n",
    "#draw.rectangle((x, y, x + w, y + 4*h), fill=TINT_COLOR+(OPACITY,))\n",
    "draw.rectangle((x, y, x + img.width*3, y + img.height*3), fill=TINT_COLOR+(OPACITY,))\n",
    "draw.text((x, y), text, fill=(225, 255, 255), font=font)\n",
    "\n",
    "# Alpha composite these two images together to obtain the desired result.\n",
    "img = pili.alpha_composite(img, overlay)\n",
    "img = img.convert(\"RGB\") # Remove alpha for saving in jpg format.\n",
    "\n",
    "img.save('ipynb.images/comic book 2/edited comic book 2 with captions/64.PNG')"
   ]
  },
  {
   "cell_type": "code",
   "execution_count": 109,
   "metadata": {},
   "outputs": [
    {
     "name": "stdout",
     "output_type": "stream",
     "text": [
      "2 703 27\n"
     ]
    }
   ],
   "source": [
    " from IPython.display import Image\n",
    "from PIL import Image as pili, ImageOps as piliops\n",
    "from PIL import Image as pili, ImageDraw as pild, ImageFont as pilf \n",
    "\n",
    "piliops.expand(pili.open('ipynb.images/comic book 2/65.png'), border=(10,10),fill='black').save('ipynb.images/comic book 2/edited comic book 2/65.PNG')\n",
    "Image(filename='ipynb.images/comic book 2/edited comic book 2/65.PNG', width=400)\n",
    "\n",
    "caption = \"\"\"मोगली अपने दत्तक पिता के साथ सुलह कर लेता है और वे सभी वापस आ जाते हैं\n",
    "आदमी-गाँव \"\"\"\n",
    "\n",
    "TINT_COLOR = (0, 0, 0)  # Black\n",
    "TRANSPARENCY = .90  # Degree of transparency, 0-100%\n",
    "OPACITY = int(255 * TRANSPARENCY)\n",
    "\n",
    "from PIL import Image, ImageFont, ImageDraw\n",
    "\n",
    "img = pili.open('ipynb.images/comic book 2/edited comic book 2/65.PNG').convert('RGBA')\n",
    "\n",
    "overlay = pili.new('RGBA', img.size, TINT_COLOR+(0,))\n",
    "draw = pild.Draw(overlay)\n",
    "font = pilf.truetype(\"C:/Windows/Fonts/Nirmalas.ttf\", 20)\n",
    "x, y = (img.width, img.height)\n",
    "text = caption\n",
    "w, h = font.getsize(text)\n",
    "num_lines = len(text.split('\\n'))\n",
    "print(num_lines, w, h)\n",
    "x, y = 10, img.height - (num_lines-0.001*num_lines)*h\n",
    "#draw.rectangle((x+w, y+h, x + w, y + h), fill='black')\n",
    "#draw.rectangle((x, y, x + w, y + 4*h), fill=TINT_COLOR+(OPACITY,))\n",
    "draw.rectangle((x, y, x + img.width*3, y + img.height*3), fill=TINT_COLOR+(OPACITY,))\n",
    "draw.text((x, y), text, fill=(225, 255, 255), font=font)\n",
    "\n",
    "# Alpha composite these two images together to obtain the desired result.\n",
    "img = pili.alpha_composite(img, overlay)\n",
    "img = img.convert(\"RGB\") # Remove alpha for saving in jpg format.\n",
    "\n",
    "img.save('ipynb.images/comic book 2/edited comic book 2 with captions/65.PNG')"
   ]
  },
  {
   "cell_type": "code",
   "execution_count": 110,
   "metadata": {},
   "outputs": [
    {
     "name": "stdout",
     "output_type": "stream",
     "text": [
      "2 600 27\n"
     ]
    }
   ],
   "source": [
    " from IPython.display import Image\n",
    "from PIL import Image as pili, ImageOps as piliops\n",
    "from PIL import Image as pili, ImageDraw as pild, ImageFont as pilf \n",
    "\n",
    "piliops.expand(pili.open('ipynb.images/comic book 2/65.1.png'), border=(10,10),fill='black').save('ipynb.images/comic book 2/edited comic book 2/65.1.PNG')\n",
    "Image(filename='ipynb.images/comic book 2/edited comic book 2/65.1.PNG', width=400)\n",
    "\n",
    "caption = \"\"\"कुछ दिनों बाद मोगली, शांति और रंजन बाहर चले जाते हैं\n",
    "पानी पाने के लिए नदी... \"\"\"\n",
    "\n",
    "TINT_COLOR = (0, 0, 0)  # Black\n",
    "TRANSPARENCY = .90  # Degree of transparency, 0-100%\n",
    "OPACITY = int(255 * TRANSPARENCY)\n",
    "\n",
    "from PIL import Image, ImageFont, ImageDraw\n",
    "\n",
    "img = pili.open('ipynb.images/comic book 2/edited comic book 2/65.1.PNG').convert('RGBA')\n",
    "\n",
    "overlay = pili.new('RGBA', img.size, TINT_COLOR+(0,))\n",
    "draw = pild.Draw(overlay)\n",
    "font = pilf.truetype(\"C:/Windows/Fonts/Nirmalas.ttf\", 20)\n",
    "x, y = (img.width, img.height)\n",
    "text = caption\n",
    "w, h = font.getsize(text)\n",
    "num_lines = len(text.split('\\n'))\n",
    "print(num_lines, w, h)\n",
    "x, y = 10, img.height - (num_lines-0.001*num_lines)*h\n",
    "#draw.rectangle((x+w, y+h, x + w, y + h), fill='black')\n",
    "#draw.rectangle((x, y, x + w, y + 4*h), fill=TINT_COLOR+(OPACITY,))\n",
    "draw.rectangle((x, y, x + img.width*3, y + img.height*3), fill=TINT_COLOR+(OPACITY,))\n",
    "draw.text((x, y), text, fill=(225, 255, 255), font=font)\n",
    "\n",
    "# Alpha composite these two images together to obtain the desired result.\n",
    "img = pili.alpha_composite(img, overlay)\n",
    "img = img.convert(\"RGB\") # Remove alpha for saving in jpg format.\n",
    "\n",
    "img.save('ipynb.images/comic book 2/edited comic book 2 with captions/65.1.PNG')"
   ]
  },
  {
   "cell_type": "code",
   "execution_count": 111,
   "metadata": {},
   "outputs": [
    {
     "name": "stderr",
     "output_type": "stream",
     "text": [
      "<ipython-input-111-1cb73e23aca6>:12: FutureWarning: arrays to stack must be passed as a \"sequence\" type such as list or tuple. Support for non-sequence iterables such as generators is deprecated as of NumPy 1.16 and will raise an error in the future.\n",
      "  imgs_comb = np.hstack( (np.asarray( i.resize(min_shape) ) for i in imgs ) )\n"
     ]
    }
   ],
   "source": [
    "import numpy as np\n",
    "import PIL\n",
    "\n",
    "list_im = ['ipynb.images/comic book 2/edited comic book 2 with captions/64.PNG',\n",
    "            'ipynb.images/comic book 2/edited comic book 2 with captions/65.PNG',\n",
    "            'ipynb.images/comic book 2/edited comic book 2 with captions/65.1.PNG'\n",
    "          ]\n",
    "imgs    = [ PIL.Image.open(i) for i in list_im ]\n",
    "\n",
    "# pick the image which is the smallest, and resize the others to match it (can be arbitrary image shape here)\n",
    "min_shape = sorted( [(np.sum(i.size), i.size ) for i in imgs])[0][1]\n",
    "imgs_comb = np.hstack( (np.asarray( i.resize(min_shape) ) for i in imgs ) )\n",
    "\n",
    "# save that beautiful picture\n",
    "imgs_comb = PIL.Image.fromarray( imgs_comb)\n",
    "imgs_comb.save( 'ipynb.images\\comic book 2\\combined comic book 2.3\\Strip23.png' )"
   ]
  },
  {
   "cell_type": "code",
   "execution_count": 112,
   "metadata": {},
   "outputs": [
    {
     "name": "stdout",
     "output_type": "stream",
     "text": [
      "2 397 27\n"
     ]
    }
   ],
   "source": [
    " from IPython.display import Image\n",
    "from PIL import Image as pili, ImageOps as piliops\n",
    "from PIL import Image as pili, ImageDraw as pild, ImageFont as pilf \n",
    "\n",
    "piliops.expand(pili.open('ipynb.images/comic book 2/65.2.png'), border=(10,10),fill='black').save('ipynb.images/comic book 2/edited comic book 2/65.2.PNG')\n",
    "Image(filename='ipynb.images/comic book 2/edited comic book 2/65.2.PNG', width=400)\n",
    "\n",
    "caption = \"\"\"..बालू और बघीरा से मिलना उनका मुख्य मकसद था!\n",
    "\"\"\"\n",
    "\n",
    "TINT_COLOR = (0, 0, 0)  # Black\n",
    "TRANSPARENCY = .90  # Degree of transparency, 0-100%\n",
    "OPACITY = int(255 * TRANSPARENCY)\n",
    "\n",
    "from PIL import Image, ImageFont, ImageDraw\n",
    "\n",
    "img = pili.open('ipynb.images/comic book 2/edited comic book 2/65.2.PNG').convert('RGBA')\n",
    "\n",
    "overlay = pili.new('RGBA', img.size, TINT_COLOR+(0,))\n",
    "draw = pild.Draw(overlay)\n",
    "font = pilf.truetype(\"C:/Windows/Fonts/Nirmalas.ttf\", 20)\n",
    "x, y = (img.width, img.height)\n",
    "text = caption\n",
    "w, h = font.getsize(text)\n",
    "num_lines = len(text.split('\\n'))\n",
    "print(num_lines, w, h)\n",
    "x, y = 10, img.height - (num_lines-0.001*num_lines)*h\n",
    "#draw.rectangle((x+w, y+h, x + w, y + h), fill='black')\n",
    "#draw.rectangle((x, y, x + w, y + 4*h), fill=TINT_COLOR+(OPACITY,))\n",
    "draw.rectangle((x, y, x + img.width*3, y + img.height*3), fill=TINT_COLOR+(OPACITY,))\n",
    "draw.text((x, y), text, fill=(225, 255, 255), font=font)\n",
    "\n",
    "# Alpha composite these two images together to obtain the desired result.\n",
    "img = pili.alpha_composite(img, overlay)\n",
    "img = img.convert(\"RGB\") # Remove alpha for saving in jpg format.\n",
    "\n",
    "img.save('ipynb.images/comic book 2/edited comic book 2 with captions/65.2.PNG')"
   ]
  },
  {
   "cell_type": "code",
   "execution_count": 113,
   "metadata": {},
   "outputs": [
    {
     "name": "stdout",
     "output_type": "stream",
     "text": [
      "2 543 27\n"
     ]
    }
   ],
   "source": [
    " from IPython.display import Image\n",
    "from PIL import Image as pili, ImageOps as piliops\n",
    "from PIL import Image as pili, ImageDraw as pild, ImageFont as pilf \n",
    "\n",
    "piliops.expand(pili.open('ipynb.images/comic book 2/67.png'), border=(10,10),fill='black').save('ipynb.images/comic book 2/edited comic book 2/67.PNG')\n",
    "Image(filename='ipynb.images/comic book 2/edited comic book 2/67.PNG', width=400)\n",
    "\n",
    "caption = \"\"\"तीनों उनसे मिलते हैं और वे खुशी से जंगल में चले जाते हैं\n",
    "गायन और नृत्य \"\"\"\n",
    "\n",
    "TINT_COLOR = (0, 0, 0)  # Black\n",
    "TRANSPARENCY = .90  # Degree of transparency, 0-100%\n",
    "OPACITY = int(255 * TRANSPARENCY)\n",
    "\n",
    "from PIL import Image, ImageFont, ImageDraw\n",
    "\n",
    "img = pili.open('ipynb.images/comic book 2/edited comic book 2/67.PNG').convert('RGBA')\n",
    "\n",
    "overlay = pili.new('RGBA', img.size, TINT_COLOR+(0,))\n",
    "draw = pild.Draw(overlay)\n",
    "font = pilf.truetype(\"C:/Windows/Fonts/Nirmalas.ttf\", 20)\n",
    "x, y = (img.width, img.height)\n",
    "text = caption\n",
    "w, h = font.getsize(text)\n",
    "num_lines = len(text.split('\\n'))\n",
    "print(num_lines, w, h)\n",
    "x, y = 10, img.height - (num_lines-0.001*num_lines)*h\n",
    "#draw.rectangle((x+w, y+h, x + w, y + h), fill='black')\n",
    "#draw.rectangle((x, y, x + w, y + 4*h), fill=TINT_COLOR+(OPACITY,))\n",
    "draw.rectangle((x, y, x + img.width*3, y + img.height*3), fill=TINT_COLOR+(OPACITY,))\n",
    "draw.text((x, y), text, fill=(225, 255, 255), font=font)\n",
    "\n",
    "# Alpha composite these two images together to obtain the desired result.\n",
    "img = pili.alpha_composite(img, overlay)\n",
    "img = img.convert(\"RGB\") # Remove alpha for saving in jpg format.\n",
    "\n",
    "img.save('ipynb.images/comic book 2/edited comic book 2 with captions/67.PNG')"
   ]
  },
  {
   "cell_type": "code",
   "execution_count": 114,
   "metadata": {},
   "outputs": [
    {
     "name": "stdout",
     "output_type": "stream",
     "text": [
      "2 362 27\n"
     ]
    }
   ],
   "source": [
    " from IPython.display import Image\n",
    "from PIL import Image as pili, ImageOps as piliops\n",
    "from PIL import Image as pili, ImageDraw as pild, ImageFont as pilf \n",
    "\n",
    "piliops.expand(pili.open('ipynb.images/comic book 2/66.png'), border=(10,10),fill='black').save('ipynb.images/comic book 2/edited comic book 2/66.PNG')\n",
    "Image(filename='ipynb.images/comic book 2/edited comic book 2/66.PNG', width=400)\n",
    "\n",
    "caption = \"\"\"                                                 ---समाप्त---\n",
    "\"\"\"\n",
    "\n",
    "TINT_COLOR = (0, 0, 0)  # Black\n",
    "TRANSPARENCY = .90  # Degree of transparency, 0-100%\n",
    "OPACITY = int(255 * TRANSPARENCY)\n",
    "\n",
    "from PIL import Image, ImageFont, ImageDraw\n",
    "\n",
    "img = pili.open('ipynb.images/comic book 2/edited comic book 2/66.PNG').convert('RGBA')\n",
    "\n",
    "overlay = pili.new('RGBA', img.size, TINT_COLOR+(0,))\n",
    "draw = pild.Draw(overlay)\n",
    "font = pilf.truetype(\"C:/Windows/Fonts/Nirmalas.ttf\", 20)\n",
    "x, y = (img.width, img.height)\n",
    "text = caption\n",
    "w, h = font.getsize(text)\n",
    "num_lines = len(text.split('\\n'))\n",
    "print(num_lines, w, h)\n",
    "x, y = 10, img.height - (num_lines-0.001*num_lines)*h\n",
    "#draw.rectangle((x+w, y+h, x + w, y + h), fill='black')\n",
    "#draw.rectangle((x, y, x + w, y + 4*h), fill=TINT_COLOR+(OPACITY,))\n",
    "draw.rectangle((x, y, x + img.width*3, y + img.height*3), fill=TINT_COLOR+(OPACITY,))\n",
    "draw.text((x, y), text, fill=(225, 255, 255), font=font)\n",
    "\n",
    "# Alpha composite these two images together to obtain the desired result.\n",
    "img = pili.alpha_composite(img, overlay)\n",
    "img = img.convert(\"RGB\") # Remove alpha for saving in jpg format.\n",
    "\n",
    "img.save('ipynb.images/comic book 2/edited comic book 2 with captions/66.PNG')"
   ]
  },
  {
   "cell_type": "code",
   "execution_count": 115,
   "metadata": {},
   "outputs": [
    {
     "name": "stderr",
     "output_type": "stream",
     "text": [
      "<ipython-input-115-174e68ec373a>:12: FutureWarning: arrays to stack must be passed as a \"sequence\" type such as list or tuple. Support for non-sequence iterables such as generators is deprecated as of NumPy 1.16 and will raise an error in the future.\n",
      "  imgs_comb = np.hstack( (np.asarray( i.resize(min_shape) ) for i in imgs ) )\n"
     ]
    }
   ],
   "source": [
    "import numpy as np\n",
    "import PIL\n",
    "\n",
    "list_im = ['ipynb.images/comic book 2/edited comic book 2 with captions/65.2.PNG',\n",
    "            'ipynb.images/comic book 2/edited comic book 2 with captions/67.PNG',\n",
    "            'ipynb.images/comic book 2/edited comic book 2 with captions/66.PNG'\n",
    "          ]\n",
    "imgs    = [ PIL.Image.open(i) for i in list_im ]\n",
    "\n",
    "# pick the image which is the smallest, and resize the others to match it (can be arbitrary image shape here)\n",
    "min_shape = sorted( [(np.sum(i.size), i.size ) for i in imgs])[0][1]\n",
    "imgs_comb = np.hstack( (np.asarray( i.resize(min_shape) ) for i in imgs ) )\n",
    "\n",
    "# save that beautiful picture\n",
    "imgs_comb = PIL.Image.fromarray( imgs_comb)\n",
    "imgs_comb.save( 'ipynb.images\\comic book 2\\combined comic book 2.3\\Strip24.png' )"
   ]
  },
  {
   "cell_type": "code",
   "execution_count": 116,
   "metadata": {},
   "outputs": [
    {
     "name": "stderr",
     "output_type": "stream",
     "text": [
      "<ipython-input-116-f2292bb35598>:12: FutureWarning: arrays to stack must be passed as a \"sequence\" type such as list or tuple. Support for non-sequence iterables such as generators is deprecated as of NumPy 1.16 and will raise an error in the future.\n",
      "  imgs_comb = np.vstack( (np.asarray( i.resize(min_shape) ) for i in imgs ) )\n"
     ]
    }
   ],
   "source": [
    "list_im = ['ipynb.images\\comic book 2\\combined comic book 2.3\\Strip1.png',\n",
    "            'ipynb.images\\comic book 2\\combined comic book 2.3\\Strip2.png',\n",
    "            'ipynb.images\\comic book 2\\combined comic book 2.3\\Strip3.png',\n",
    "            'ipynb.images\\comic book 2\\combined comic book 2.3\\Strip4.png',\n",
    "            'ipynb.images\\comic book 2\\combined comic book 2.3\\Strip5.png',\n",
    "            'ipynb.images\\comic book 2\\combined comic book 2.3\\Strip6.png',\n",
    "          ]\n",
    "imgs    = [ PIL.Image.open(i) for i in list_im ]\n",
    "\n",
    "# pick the image which is the smallest, and resize the others to match it (can be arbitrary image shape here)\n",
    "min_shape = sorted( [(np.sum(i.size), i.size ) for i in imgs])[0][1]\n",
    "imgs_comb = np.vstack( (np.asarray( i.resize(min_shape) ) for i in imgs ) )\n",
    "\n",
    "# save that beautiful picture\n",
    "imgs_comb = PIL.Image.fromarray( imgs_comb)\n",
    "imgs_comb.save( 'ipynb.images/comic book 2/combined final comic book 2.3/superfinal-Strip1.png' ) "
   ]
  },
  {
   "cell_type": "code",
   "execution_count": 117,
   "metadata": {},
   "outputs": [
    {
     "name": "stderr",
     "output_type": "stream",
     "text": [
      "<ipython-input-117-e9bf850aed4f>:12: FutureWarning: arrays to stack must be passed as a \"sequence\" type such as list or tuple. Support for non-sequence iterables such as generators is deprecated as of NumPy 1.16 and will raise an error in the future.\n",
      "  imgs_comb = np.vstack( (np.asarray( i.resize(min_shape) ) for i in imgs ) )\n"
     ]
    }
   ],
   "source": [
    "list_im = ['ipynb.images/comic book 2/combined comic book 2.3/Strip7.png',\n",
    "            'ipynb.images/comic book 2/combined comic book 2.3/Strip8.png',\n",
    "            'ipynb.images/comic book 2/combined comic book 2.3/Strip9.png',\n",
    "            'ipynb.images/comic book 2/combined comic book 2.3/Strip10.png',\n",
    "            'ipynb.images/comic book 2/combined comic book 2.3/Strip11.png',\n",
    "            'ipynb.images/comic book 2/combined comic book 2.3/Strip12.png'\n",
    "          ]\n",
    "imgs    = [ PIL.Image.open(i) for i in list_im ]\n",
    "\n",
    "# pick the image which is the smallest, and resize the others to match it (can be arbitrary image shape here)\n",
    "min_shape = sorted( [(np.sum(i.size), i.size ) for i in imgs])[0][1]\n",
    "imgs_comb = np.vstack( (np.asarray( i.resize(min_shape) ) for i in imgs ) )\n",
    "\n",
    "# save that beautiful picture\n",
    "imgs_comb = PIL.Image.fromarray( imgs_comb)\n",
    "imgs_comb.save( 'ipynb.images/comic book 2/combined final comic book 2.3/superfinal-Strip2.png' ) "
   ]
  },
  {
   "cell_type": "code",
   "execution_count": 118,
   "metadata": {},
   "outputs": [
    {
     "name": "stderr",
     "output_type": "stream",
     "text": [
      "<ipython-input-118-d2508d04ac54>:12: FutureWarning: arrays to stack must be passed as a \"sequence\" type such as list or tuple. Support for non-sequence iterables such as generators is deprecated as of NumPy 1.16 and will raise an error in the future.\n",
      "  imgs_comb = np.vstack( (np.asarray( i.resize(min_shape) ) for i in imgs ) )\n"
     ]
    }
   ],
   "source": [
    "list_im = ['ipynb.images/comic book 2/combined comic book 2.3/Strip13.png',\n",
    "            'ipynb.images/comic book 2/combined comic book 2.3/Strip14.png',\n",
    "            'ipynb.images/comic book 2/combined comic book 2.3/Strip15.png',\n",
    "            'ipynb.images/comic book 2/combined comic book 2.3/Strip16.png',\n",
    "            'ipynb.images/comic book 2/combined comic book 2.3/Strip17.png',\n",
    "            'ipynb.images/comic book 2/combined comic book 2.3/Strip18.png'\n",
    "          ]\n",
    "imgs    = [ PIL.Image.open(i) for i in list_im ]\n",
    "\n",
    "# pick the image which is the smallest, and resize the others to match it (can be arbitrary image shape here)\n",
    "min_shape = sorted( [(np.sum(i.size), i.size ) for i in imgs])[0][1]\n",
    "imgs_comb = np.vstack( (np.asarray( i.resize(min_shape) ) for i in imgs ) )\n",
    "\n",
    "# save that beautiful picture\n",
    "imgs_comb = PIL.Image.fromarray( imgs_comb)\n",
    "imgs_comb.save( 'ipynb.images/comic book 2/combined final comic book 2.3/superfinal-Strip3.png' ) "
   ]
  },
  {
   "cell_type": "code",
   "execution_count": 119,
   "metadata": {},
   "outputs": [
    {
     "name": "stderr",
     "output_type": "stream",
     "text": [
      "<ipython-input-119-6b4e0b0a22dd>:12: FutureWarning: arrays to stack must be passed as a \"sequence\" type such as list or tuple. Support for non-sequence iterables such as generators is deprecated as of NumPy 1.16 and will raise an error in the future.\n",
      "  imgs_comb = np.vstack( (np.asarray( i.resize(min_shape) ) for i in imgs ) )\n"
     ]
    }
   ],
   "source": [
    "list_im = ['ipynb.images/comic book 2/combined comic book 2.3/Strip19.png',\n",
    "            'ipynb.images/comic book 2/combined comic book 2.3/Strip20.png',\n",
    "            'ipynb.images/comic book 2/combined comic book 2.3/Strip21.png',\n",
    "            'ipynb.images/comic book 2/combined comic book 2.3/Strip22.png',\n",
    "            'ipynb.images/comic book 2/combined comic book 2.3/Strip23.png',\n",
    "            'ipynb.images/comic book 2/combined comic book 2.3/Strip24.png'\n",
    "          ]\n",
    "imgs    = [ PIL.Image.open(i) for i in list_im ]\n",
    "\n",
    "# pick the image which is the smallest, and resize the others to match it (can be arbitrary image shape here)\n",
    "min_shape = sorted( [(np.sum(i.size), i.size ) for i in imgs])[0][1]\n",
    "imgs_comb = np.vstack( (np.asarray( i.resize(min_shape) ) for i in imgs ) )\n",
    "\n",
    "# save that beautiful picture\n",
    "imgs_comb = PIL.Image.fromarray( imgs_comb)\n",
    "imgs_comb.save( 'ipynb.images/comic book 2/combined final comic book 2.3/superfinal-Strip4.png' ) "
   ]
  },
  {
   "cell_type": "code",
   "execution_count": 124,
   "metadata": {},
   "outputs": [
    {
     "name": "stdout",
     "output_type": "stream",
     "text": [
      "done!\n"
     ]
    }
   ],
   "source": [
    "from PIL import Image\n",
    "from fpdf import FPDF\n",
    "from PIL import Image as pili, ImageOps as piliops\n",
    "\n",
    "piliops.expand(pili.open('ipynb.images/comic book 2/cover-hindi1.jpg'), border=(5,5),fill='black').save('ipynb.images/comic book 2/cover-hindi1_final.jpg')\n",
    "\n",
    "pdf = FPDF()\n",
    "cover = Image.open('ipynb.images\\comic book 2\\cover-hindi1_final.jpg')\n",
    "width, height = cover.size\n",
    "pdf = FPDF(unit = \"pt\", format = [width, height])\n",
    "    \n",
    "# imagelist is the list with all image filenames\n",
    "imagelist = ['ipynb.images/comic book 2/cover-hindi1_final.jpg',\n",
    "             'ipynb.images/comic book 2/combined final comic book 2.3/superfinal-Strip1.png', \n",
    "             'ipynb.images/comic book 2/combined final comic book 2.3/superfinal-Strip2.png', \n",
    "             'ipynb.images/comic book 2/combined final comic book 2.3/superfinal-Strip3.png',\n",
    "             'ipynb.images/comic book 2/combined final comic book 2.3/superfinal-Strip4.png'\n",
    "            ]\n",
    "\n",
    "for image in imagelist:\n",
    "    pdf.add_page()\n",
    "    pdf.image(image, 0, 0, width, height)\n",
    "pdf.output(\"ipynb.images\\junglebook_hindi.pdf\", \"F\")\n",
    "print(\"done!\")"
   ]
  },
  {
   "cell_type": "code",
   "execution_count": 290,
   "metadata": {},
   "outputs": [
    {
     "name": "stdout",
     "output_type": "stream",
     "text": [
      "new page!\n",
      "['0', '1', '2', '3']\n",
      "['4', '5', '6']\n",
      "['7', '8', '9', '10', '11']\n",
      "['12', '13', '14', '15']\n",
      "['16', '17', '18']\n",
      "['19', '20', '21', '22', '23']\n",
      "new page!\n",
      "['24', '25', '26']\n",
      "['27', '28', '29', '30', '31']\n",
      "['32', '33', '34', '35']\n",
      "['36', '37', '38']\n",
      "['39', '40', '41', '42']\n",
      "['43', '44', '45', '46', '47']\n",
      "new page!\n",
      "['48', '49', '50', '51']\n",
      "['52', '53', '54']\n",
      "['55', '56', '57', '58']\n",
      "['59', '60', '61']\n",
      "['62', '63', '64', '65', '66']\n",
      "['67', '68', '69', '70']\n",
      "new page!\n",
      "['71', '72', '73', '74']\n",
      "['75', '76', '77']\n",
      "['78', '79', '80', '81', '82']\n",
      "['83', '84', '85', '86']\n",
      "['87', '88', '89']\n",
      "['90', '91', '92', '93']\n",
      "new page!\n",
      "['94', '95', '96', '97', '98']\n",
      "['99']\n"
     ]
    }
   ],
   "source": [
    "list_im = [str(x) for x in range(100)]\n",
    "   \n",
    "while 0 < len(list_im):\n",
    "    lines = 0\n",
    "    print(\"new page!\")\n",
    "    num_cols = old_num_cols = 0\n",
    "    while lines < 6 and 0 < len(list_im):\n",
    "        lines += 1\n",
    "        while num_cols == old_num_cols:\n",
    "            num_cols = np.random.randint(3, 6)\n",
    "        old_num_cols = num_cols\n",
    "        window = list_im[:num_cols]\n",
    "        print(window)\n",
    "        list_im = list_im[num_cols:]"
   ]
  },
  {
   "cell_type": "code",
   "execution_count": 291,
   "metadata": {},
   "outputs": [
    {
     "name": "stdout",
     "output_type": "stream",
     "text": [
      "new page!\n",
      "['algae2.jpg', 'container.png', 'crossovers.webp', 'dna.gif']\n",
      "['exponential-smoothing.png', 'funny-fish.gif', 'john-stuart-mill.jpg', 'junglebook.pdf', 'kungfu-panda.png']\n",
      "['LysozymeRock.gif', 'minion-wow.gif', 'neuron.webp', 'oh-no.png']\n",
      "['pretty-forest.jpeg', 'RocketSnail.png', 'science.png']\n",
      "['sunspots.jpg', 'tree-sloth.jpg', 'will-smith-aladin-2.jpg', 'will-smith-aladin.jpg']\n",
      "['wolf-wall-street.jpg']\n"
     ]
    }
   ],
   "source": [
    "from os import listdir\n",
    "from os.path import isfile, join\n",
    "\n",
    "mypath = 'ipynb.images'\n",
    "onlyfiles = [f for f in listdir(mypath) if isfile(join(mypath, f))]\n",
    "\n",
    "lines = 0\n",
    "print(\"new page!\")\n",
    "num_cols = old_num_cols = 0\n",
    "while lines < 6 and 0 < len(onlyfiles):\n",
    "    lines += 1\n",
    "    while num_cols == old_num_cols:\n",
    "        num_cols = np.random.randint(3, 6)\n",
    "    old_num_cols = num_cols\n",
    "    window = onlyfiles[:num_cols]\n",
    "    print(window)   \n",
    "    onlyfiles = onlyfiles[num_cols:]"
   ]
  },
  {
   "cell_type": "code",
   "execution_count": null,
   "metadata": {},
   "outputs": [],
   "source": []
  }
 ],
 "metadata": {
  "kernelspec": {
   "display_name": "Python 3",
   "language": "python",
   "name": "python3"
  },
  "language_info": {
   "codemirror_mode": {
    "name": "ipython",
    "version": 3
   },
   "file_extension": ".py",
   "mimetype": "text/x-python",
   "name": "python",
   "nbconvert_exporter": "python",
   "pygments_lexer": "ipython3",
   "version": "3.8.5"
  }
 },
 "nbformat": 4,
 "nbformat_minor": 4
}
