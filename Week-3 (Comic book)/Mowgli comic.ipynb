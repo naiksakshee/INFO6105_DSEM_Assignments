{
 "cells": [
  {
   "cell_type": "code",
   "execution_count": 70,
   "metadata": {},
   "outputs": [
    {
     "name": "stdout",
     "output_type": "stream",
     "text": [
      "1 377 23\n"
     ]
    }
   ],
   "source": [
    "from IPython.display import Image\n",
    "from PIL import Image as pili, ImageOps as piliops\n",
    "from PIL import Image as pili, ImageDraw as pild, ImageFont as pilf \n",
    "\n",
    "piliops.expand(pili.open('ipynb.images/comic book 2/0.png'), border=(10,10),fill='black').save('ipynb.images/comic book 2/edited comic book 2/0.PNG')\n",
    "Image(filename='ipynb.images/comic book 2/edited comic book 2/0.PNG', width=400)\n",
    "\n",
    "caption = \"\"\"One beautiful morning in the man-village.. \"\"\"\n",
    "\n",
    "TINT_COLOR = (0, 0, 0)  # Black\n",
    "TRANSPARENCY = .90  # Degree of transparency, 0-100%\n",
    "OPACITY = int(255 * TRANSPARENCY)\n",
    "\n",
    "from PIL import Image, ImageFont, ImageDraw\n",
    "\n",
    "img = pili.open('ipynb.images/comic book 2/edited comic book 2/0.PNG').convert('RGBA')\n",
    "\n",
    "overlay = pili.new('RGBA', img.size, TINT_COLOR+(0,))\n",
    "draw = pild.Draw(overlay)\n",
    "font = pilf.truetype(\"arial.ttf\", 20)\n",
    "x, y = (img.width, img.height)\n",
    "text = caption\n",
    "w, h = font.getsize(text)\n",
    "num_lines = len(text.split('\\n'))\n",
    "print(num_lines, w, h)\n",
    "x, y = 10, img.height - (num_lines-0.001*num_lines)*h\n",
    "#draw.rectangle((x, y, x + w, y + h), fill='black')\n",
    "draw.rectangle((x, y, x + img.width*3, y + img.height*3), fill=TINT_COLOR+(OPACITY,))\n",
    "draw.text((x, y), text, fill=(225, 255, 255), font=font)\n",
    "\n",
    "# Alpha composite these two images together to obtain the desired result.\n",
    "img = pili.alpha_composite(img, overlay)\n",
    "img = img.convert(\"RGB\") # Remove alpha for saving in jpg format.\n",
    "\n",
    "img.save('ipynb.images/comic book 2/edited comic book 2 with captions/0.PNG')"
   ]
  },
  {
   "cell_type": "code",
   "execution_count": 214,
   "metadata": {},
   "outputs": [
    {
     "name": "stdout",
     "output_type": "stream",
     "text": [
      "1 424 23\n"
     ]
    }
   ],
   "source": [
    "from IPython.display import Image\n",
    "from PIL import Image as pili, ImageOps as piliops\n",
    "from PIL import Image as pili, ImageDraw as pild, ImageFont as pilf \n",
    "\n",
    "piliops.expand(pili.open('ipynb.images/comic book 2/1.png'), border=(10,10),fill='black').save('ipynb.images/comic book 2/edited comic book 2/1.PNG')\n",
    "Image(filename='ipynb.images/comic book 2/edited comic book 2/1.PNG', width=400)\n",
    "\n",
    "caption = \"\"\"Mowgli convinces Ranjan to sneak out with him \"\"\"\n",
    "\n",
    "TINT_COLOR = (0, 0, 0)  # Black\n",
    "TRANSPARENCY = .90  # Degree of transparency, 0-100%\n",
    "OPACITY = int(255 * TRANSPARENCY)\n",
    "\n",
    "from PIL import Image, ImageFont, ImageDraw\n",
    "\n",
    "img = pili.open('ipynb.images/comic book 2/edited comic book 2/1.PNG').convert('RGBA')\n",
    "\n",
    "overlay = pili.new('RGBA', img.size, TINT_COLOR+(0,))\n",
    "draw = pild.Draw(overlay)\n",
    "font = pilf.truetype(\"arial.ttf\", 20)\n",
    "x, y = (img.width, img.height)\n",
    "text = caption\n",
    "w, h = font.getsize(text)\n",
    "num_lines = len(text.split('\\n'))\n",
    "print(num_lines, w, h)\n",
    "x, y = 10, img.height - (num_lines-0.001*num_lines)*h\n",
    "#draw.rectangle((x, y, x + w, y + h), fill='black')\n",
    "#draw.rectangle((x, y, x + w, y + 4*h), fill=TINT_COLOR+(OPACITY,))\n",
    "draw.rectangle((x, y, x + img.width*3, y + img.height*3), fill=TINT_COLOR+(OPACITY,))\n",
    "draw.text((x, y), text, fill=(225, 255, 255), font=font)\n",
    "\n",
    "# Alpha composite these two images together to obtain the desired result.\n",
    "img = pili.alpha_composite(img, overlay)\n",
    "img = img.convert(\"RGB\") # Remove alpha for saving in jpg format.\n",
    "\n",
    "img.save('ipynb.images/comic book 2/edited comic book 2 with captions/1.PNG')"
   ]
  },
  {
   "cell_type": "code",
   "execution_count": 215,
   "metadata": {},
   "outputs": [
    {
     "name": "stdout",
     "output_type": "stream",
     "text": [
      "1 502 23\n"
     ]
    }
   ],
   "source": [
    "from IPython.display import Image\n",
    "from PIL import Image as pili, ImageOps as piliops\n",
    "from PIL import Image as pili, ImageDraw as pild, ImageFont as pilf \n",
    "\n",
    "piliops.expand(pili.open('ipynb.images/comic book 2/2.png'), border=(10,10),fill='black').save('ipynb.images/comic book 2/edited comic book 2/2.PNG')\n",
    "Image(filename='ipynb.images/comic book 2/edited comic book 2/2.PNG', width=400)\n",
    "\n",
    "caption = \"\"\" In order to prank Shanti who is out to fetch some water \"\"\"\n",
    "\n",
    "TINT_COLOR = (0, 0, 0)  # Black\n",
    "TRANSPARENCY = .90  # Degree of transparency, 0-100%\n",
    "OPACITY = int(255 * TRANSPARENCY)\n",
    "\n",
    "from PIL import Image, ImageFont, ImageDraw\n",
    "\n",
    "img = pili.open('ipynb.images/comic book 2/edited comic book 2/2.PNG').convert('RGBA')\n",
    "\n",
    "overlay = pili.new('RGBA', img.size, TINT_COLOR+(0,))\n",
    "draw = pild.Draw(overlay)\n",
    "font = pilf.truetype(\"arial.ttf\", 20)\n",
    "x, y = (img.width, img.height)\n",
    "text = caption\n",
    "w, h = font.getsize(text)\n",
    "num_lines = len(text.split('\\n'))\n",
    "print(num_lines, w, h)\n",
    "x, y = 10, img.height - (num_lines-0.001*num_lines)*h\n",
    "#draw.rectangle((x, y, x + w, y + h), fill='black')\n",
    "#draw.rectangle((x, y, x + w, y + 4*h), fill=TINT_COLOR+(OPACITY,))\n",
    "draw.rectangle((x, y, x + img.width*3, y + img.height*3), fill=TINT_COLOR+(OPACITY,))\n",
    "draw.text((x, y), text, fill=(225, 255, 255), font=font)\n",
    "\n",
    "# Alpha composite these two images together to obtain the desired result.\n",
    "img = pili.alpha_composite(img, overlay)\n",
    "img = img.convert(\"RGB\") # Remove alpha for saving in jpg format.\n",
    "\n",
    "img.save('ipynb.images/comic book 2/edited comic book 2 with captions/2.PNG')"
   ]
  },
  {
   "cell_type": "code",
   "execution_count": 71,
   "metadata": {},
   "outputs": [
    {
     "name": "stderr",
     "output_type": "stream",
     "text": [
      "<ipython-input-71-322be348b546>:12: FutureWarning: arrays to stack must be passed as a \"sequence\" type such as list or tuple. Support for non-sequence iterables such as generators is deprecated as of NumPy 1.16 and will raise an error in the future.\n",
      "  imgs_comb = np.hstack( (np.asarray( i.resize(min_shape) ) for i in imgs ) )\n"
     ]
    }
   ],
   "source": [
    "import numpy as np\n",
    "import PIL\n",
    "\n",
    "list_im = ['ipynb.images/comic book 2/edited comic book 2 with captions/0.PNG',\n",
    "            'ipynb.images/comic book 2/edited comic book 2 with captions/1.PNG',\n",
    "            'ipynb.images/comic book 2/edited comic book 2 with captions/2.PNG',\n",
    "          ]\n",
    "imgs    = [ PIL.Image.open(i) for i in list_im ]\n",
    "\n",
    "# pick the image which is the smallest, and resize the others to match it (can be arbitrary image shape here)\n",
    "min_shape = sorted( [(np.sum(i.size), i.size ) for i in imgs])[0][1]\n",
    "imgs_comb = np.hstack( (np.asarray( i.resize(min_shape) ) for i in imgs ) )\n",
    "\n",
    "# save that beautiful picture\n",
    "imgs_comb = PIL.Image.fromarray( imgs_comb)\n",
    "imgs_comb.save( 'ipynb.images\\comic book 2\\combined comic book 2.3\\Strip1.png' ) "
   ]
  },
  {
   "cell_type": "code",
   "execution_count": 217,
   "metadata": {},
   "outputs": [
    {
     "name": "stdout",
     "output_type": "stream",
     "text": [
      "2 911 23\n"
     ]
    }
   ],
   "source": [
    "from IPython.display import Image\n",
    "from PIL import Image as pili, ImageOps as piliops\n",
    "from PIL import Image as pili, ImageDraw as pild, ImageFont as pilf \n",
    "\n",
    "piliops.expand(pili.open('ipynb.images/comic book 2/3.png'), border=(10,10),fill='black').save('ipynb.images/comic book 2/edited comic book 2/3.PNG')\n",
    "Image(filename='ipynb.images/comic book 2/edited comic book 2/3.PNG', width=400)\n",
    "\n",
    "caption = \"\"\"Shanti is happily humming her favourite tune getting water by the river \n",
    "in her vessel when suddenly.. \"\"\"\n",
    "\n",
    "TINT_COLOR = (0, 0, 0)  # Black\n",
    "TRANSPARENCY = .90  # Degree of transparency, 0-100%\n",
    "OPACITY = int(255 * TRANSPARENCY)\n",
    "\n",
    "from PIL import Image, ImageFont, ImageDraw\n",
    "\n",
    "img = pili.open('ipynb.images/comic book 2/edited comic book 2/3.PNG').convert('RGBA')\n",
    "\n",
    "overlay = pili.new('RGBA', img.size, TINT_COLOR+(0,))\n",
    "draw = pild.Draw(overlay)\n",
    "font = pilf.truetype(\"arial.ttf\", 20)\n",
    "x, y = (img.width, img.height)\n",
    "text = caption\n",
    "w, h = font.getsize(text)\n",
    "num_lines = len(text.split('\\n'))\n",
    "print(num_lines, w, h)\n",
    "x, y = 10, img.height - (num_lines-0.001*num_lines)*h\n",
    "#draw.rectangle((x, y, x + w, y + h), fill='black')\n",
    "#draw.rectangle((x, y, x + w, y + 4*h), fill=TINT_COLOR+(OPACITY,))\n",
    "draw.rectangle((x, y, x + img.width*3, y + img.height*3), fill=TINT_COLOR+(OPACITY,))\n",
    "draw.text((x, y), text, fill=(225, 255, 255), font=font)\n",
    "\n",
    "# Alpha composite these two images together to obtain the desired result.\n",
    "img = pili.alpha_composite(img, overlay)\n",
    "img = img.convert(\"RGB\") # Remove alpha for saving in jpg format.\n",
    "\n",
    "img.save('ipynb.images/comic book 2/edited comic book 2 with captions/3.PNG')"
   ]
  },
  {
   "cell_type": "code",
   "execution_count": 218,
   "metadata": {},
   "outputs": [
    {
     "name": "stdout",
     "output_type": "stream",
     "text": [
      "2 428 23\n"
     ]
    }
   ],
   "source": [
    "from IPython.display import Image\n",
    "from PIL import Image as pili, ImageOps as piliops\n",
    "from PIL import Image as pili, ImageDraw as pild, ImageFont as pilf \n",
    "\n",
    "piliops.expand(pili.open('ipynb.images/comic book 2/5.png'), border=(10,10),fill='black').save('ipynb.images/comic book 2/edited comic book 2/5.PNG')\n",
    "Image(filename='ipynb.images/comic book 2/edited comic book 2/5.PNG', width=400)\n",
    "\n",
    "caption = \"\"\"                                    Mowgli startles her!\n",
    "    \"\"\"\n",
    "\n",
    "TINT_COLOR = (0, 0, 0)  # Black\n",
    "TRANSPARENCY = .90  # Degree of transparency, 0-100%\n",
    "OPACITY = int(255 * TRANSPARENCY)\n",
    "\n",
    "from PIL import Image, ImageFont, ImageDraw\n",
    "\n",
    "img = pili.open('ipynb.images/comic book 2/edited comic book 2/5.PNG').convert('RGBA')\n",
    "\n",
    "overlay = pili.new('RGBA', img.size, TINT_COLOR+(0,))\n",
    "draw = pild.Draw(overlay)\n",
    "font = pilf.truetype(\"arial.ttf\", 20)\n",
    "x, y = (img.width, img.height)\n",
    "text = caption\n",
    "w, h = font.getsize(text)\n",
    "num_lines = len(text.split('\\n'))\n",
    "print(num_lines, w, h)\n",
    "x, y = 10, img.height - (num_lines-0.001*num_lines)*h\n",
    "#draw.rectangle((x, y, x + w, y + h), fill='black')\n",
    "#draw.rectangle((x, y, x + w, y + 4*h), fill=TINT_COLOR+(OPACITY,))\n",
    "draw.rectangle((x, y, x + img.width*3, y + img.height*3), fill=TINT_COLOR+(OPACITY,))\n",
    "draw.text((x, y), text, fill=(225, 255, 255), font=font)\n",
    "\n",
    "# Alpha composite these two images together to obtain the desired result.\n",
    "img = pili.alpha_composite(img, overlay)\n",
    "img = img.convert(\"RGB\") # Remove alpha for saving in jpg format.\n",
    "\n",
    "img.save('ipynb.images/comic book 2/edited comic book 2 with captions/5.PNG')"
   ]
  },
  {
   "cell_type": "code",
   "execution_count": 219,
   "metadata": {},
   "outputs": [
    {
     "name": "stdout",
     "output_type": "stream",
     "text": [
      "4 1317 23\n"
     ]
    }
   ],
   "source": [
    "from IPython.display import Image\n",
    "from PIL import Image as pili, ImageOps as piliops\n",
    "from PIL import Image as pili, ImageDraw as pild, ImageFont as pilf \n",
    "\n",
    "piliops.expand(pili.open('ipynb.images/comic book 2/6.png'), border=(10,10),fill='black').save('ipynb.images/comic book 2/edited comic book 2/6.PNG')\n",
    "Image(filename='ipynb.images/comic book 2/edited comic book 2/6.PNG', width=400)\n",
    "\n",
    "caption = \"\"\" Mowgli: \"You shouldn't be wandering alone in the jungle.\n",
    "There's a tiger on the loose, he has big fangs and they \n",
    "say he loves eating children\"\n",
    "    \"\"\"\n",
    "\n",
    "TINT_COLOR = (0, 0, 0)  # Black\n",
    "TRANSPARENCY = .90  # Degree of transparency, 0-100%\n",
    "OPACITY = int(255 * TRANSPARENCY)\n",
    "\n",
    "from PIL import Image, ImageFont, ImageDraw\n",
    "\n",
    "img = pili.open('ipynb.images/comic book 2/edited comic book 2/6.PNG').convert('RGBA')\n",
    "\n",
    "overlay = pili.new('RGBA', img.size, TINT_COLOR+(0,))\n",
    "draw = pild.Draw(overlay)\n",
    "font = pilf.truetype(\"arial.ttf\", 20)\n",
    "x, y = (img.width, img.height)\n",
    "text = caption\n",
    "w, h = font.getsize(text)\n",
    "num_lines = len(text.split('\\n'))\n",
    "print(num_lines, w, h)\n",
    "x, y = 10, img.height - (num_lines-0.001*num_lines)*h\n",
    "#draw.rectangle((x, y, x + w, y + h), fill='black')\n",
    "#draw.rectangle((x, y, x + w, y + 4*h), fill=TINT_COLOR+(OPACITY,))\n",
    "draw.rectangle((x, y, x + img.width*3, y + img.height*3), fill=TINT_COLOR+(OPACITY,))\n",
    "draw.text((x, y), text, fill=(225, 255, 255), font=font)\n",
    "\n",
    "# Alpha composite these two images together to obtain the desired result.\n",
    "img = pili.alpha_composite(img, overlay)\n",
    "img = img.convert(\"RGB\") # Remove alpha for saving in jpg format.\n",
    "\n",
    "img.save('ipynb.images/comic book 2/edited comic book 2 with captions/6.PNG')"
   ]
  },
  {
   "cell_type": "code",
   "execution_count": 220,
   "metadata": {},
   "outputs": [
    {
     "name": "stderr",
     "output_type": "stream",
     "text": [
      "<ipython-input-220-18b3fc5feba4>:12: FutureWarning: arrays to stack must be passed as a \"sequence\" type such as list or tuple. Support for non-sequence iterables such as generators is deprecated as of NumPy 1.16 and will raise an error in the future.\n",
      "  imgs_comb = np.hstack( (np.asarray( i.resize(min_shape) ) for i in imgs ) )\n"
     ]
    }
   ],
   "source": [
    "import numpy as np\n",
    "import PIL\n",
    "\n",
    "list_im = ['ipynb.images/comic book 2/edited comic book 2 with captions/3.PNG',\n",
    "            'ipynb.images/comic book 2/edited comic book 2 with captions/5.PNG',\n",
    "            'ipynb.images/comic book 2/edited comic book 2 with captions/6.PNG'\n",
    "          ]\n",
    "imgs    = [ PIL.Image.open(i) for i in list_im ]\n",
    "\n",
    "# pick the image which is the smallest, and resize the others to match it (can be arbitrary image shape here)\n",
    "min_shape = sorted( [(np.sum(i.size), i.size ) for i in imgs])[0][1]\n",
    "imgs_comb = np.hstack( (np.asarray( i.resize(min_shape) ) for i in imgs ) )\n",
    "\n",
    "# save that beautiful picture\n",
    "imgs_comb = PIL.Image.fromarray( imgs_comb)\n",
    "imgs_comb.save( 'ipynb.images\\comic book 2\\combined comic book 2.3\\Strip2.png' ) "
   ]
  },
  {
   "cell_type": "code",
   "execution_count": 221,
   "metadata": {},
   "outputs": [
    {
     "name": "stdout",
     "output_type": "stream",
     "text": [
      "3 760 23\n"
     ]
    }
   ],
   "source": [
    "from IPython.display import Image\n",
    "from PIL import Image as pili, ImageOps as piliops\n",
    "from PIL import Image as pili, ImageDraw as pild, ImageFont as pilf \n",
    "\n",
    "piliops.expand(pili.open('ipynb.images/comic book 2/7.png'), border=(10,10),fill='black').save('ipynb.images/comic book 2/edited comic book 2/7.PNG')\n",
    "Image(filename='ipynb.images/comic book 2/edited comic book 2/7.PNG', width=200)\n",
    "\n",
    "caption = \"\"\"There is some rustling of leaves behind Shanti\n",
    "Ranjan: \"*RAWWWWWRRRRR*\"\n",
    "    \"\"\"\n",
    "\n",
    "TINT_COLOR = (0, 0, 0)  # Black\n",
    "TRANSPARENCY = .90  # Degree of transparency, 0-100%\n",
    "OPACITY = int(255 * TRANSPARENCY)\n",
    "\n",
    "from PIL import Image, ImageFont, ImageDraw\n",
    "\n",
    "img = pili.open('ipynb.images/comic book 2/edited comic book 2/7.PNG').convert('RGBA')\n",
    "\n",
    "overlay = pili.new('RGBA', img.size, TINT_COLOR+(0,))\n",
    "draw = pild.Draw(overlay)\n",
    "font = pilf.truetype(\"arial.ttf\", 20)\n",
    "x, y = (img.width, img.height)\n",
    "text = caption\n",
    "w, h = font.getsize(text)\n",
    "num_lines = len(text.split('\\n'))\n",
    "print(num_lines, w, h)\n",
    "x, y = 10, img.height - (num_lines-0.001*num_lines)*h\n",
    "#draw.rectangle((x, y, x + w, y + h), fill='black')\n",
    "#draw.rectangle((x, y, x + w, y + 4*h), fill=TINT_COLOR+(OPACITY,))\n",
    "draw.rectangle((x, y, x + img.width*3, y + img.height*3), fill=TINT_COLOR+(OPACITY,))\n",
    "draw.text((x, y), text, fill=(225, 255, 255), font=font)\n",
    "\n",
    "# Alpha composite these two images together to obtain the desired result.\n",
    "img = pili.alpha_composite(img, overlay)\n",
    "img = img.convert(\"RGB\") # Remove alpha for saving in jpg format.\n",
    "\n",
    "img.save('ipynb.images/comic book 2/edited comic book 2 with captions/7.PNG')"
   ]
  },
  {
   "cell_type": "code",
   "execution_count": 222,
   "metadata": {},
   "outputs": [
    {
     "name": "stdout",
     "output_type": "stream",
     "text": [
      "2 501 23\n"
     ]
    }
   ],
   "source": [
    "from IPython.display import Image\n",
    "from PIL import Image as pili, ImageOps as piliops\n",
    "from PIL import Image as pili, ImageDraw as pild, ImageFont as pilf \n",
    "\n",
    "piliops.expand(pili.open('ipynb.images/comic book 2/8.png'), border=(10,10),fill='black').save('ipynb.images/comic book 2/edited comic book 2/8.PNG')\n",
    "Image(filename='ipynb.images/comic book 2/edited comic book 2/8.PNG', width=400)\n",
    "\n",
    "caption = \"\"\"                                                    *gasps in horror*\n",
    "    \"\"\"\n",
    "\n",
    "TINT_COLOR = (0, 0, 0)  # Black\n",
    "TRANSPARENCY = .90  # Degree of transparency, 0-100%\n",
    "OPACITY = int(255 * TRANSPARENCY)\n",
    "\n",
    "from PIL import Image, ImageFont, ImageDraw\n",
    "\n",
    "img = pili.open('ipynb.images/comic book 2/edited comic book 2/8.PNG').convert('RGBA')\n",
    "\n",
    "overlay = pili.new('RGBA', img.size, TINT_COLOR+(0,))\n",
    "draw = pild.Draw(overlay)\n",
    "font = pilf.truetype(\"arial.ttf\", 20)\n",
    "x, y = (img.width, img.height)\n",
    "text = caption\n",
    "w, h = font.getsize(text)\n",
    "num_lines = len(text.split('\\n'))\n",
    "print(num_lines, w, h)\n",
    "x, y = 10, img.height - (num_lines-0.001*num_lines)*h\n",
    "#draw.rectangle((x, y, x + w, y + h), fill='black')\n",
    "#draw.rectangle((x, y, x + w, y + 4*h), fill=TINT_COLOR+(OPACITY,))\n",
    "draw.rectangle((x, y, x + img.width*3, y + img.height*3), fill=TINT_COLOR+(OPACITY,))\n",
    "draw.text((x, y), text, fill=(225, 255, 255), font=font)\n",
    "\n",
    "# Alpha composite these two images together to obtain the desired result.\n",
    "img = pili.alpha_composite(img, overlay)\n",
    "img = img.convert(\"RGB\") # Remove alpha for saving in jpg format.\n",
    "\n",
    "img.save('ipynb.images/comic book 2/edited comic book 2 with captions/8.PNG')"
   ]
  },
  {
   "cell_type": "code",
   "execution_count": 223,
   "metadata": {},
   "outputs": [
    {
     "name": "stdout",
     "output_type": "stream",
     "text": [
      "2 498 23\n"
     ]
    }
   ],
   "source": [
    "from IPython.display import Image\n",
    "from PIL import Image as pili, ImageOps as piliops\n",
    "from PIL import Image as pili, ImageDraw as pild, ImageFont as pilf \n",
    "\n",
    "piliops.expand(pili.open('ipynb.images/comic book 2/9.png'), border=(10,10),fill='black').save('ipynb.images/comic book 2/edited comic book 2/9.PNG')\n",
    "Image(filename='ipynb.images/comic book 2/edited comic book 2/9.PNG', width=400)\n",
    "\n",
    "caption = \"\"\"                                                    *Splaaasshhhh!*\n",
    "    \"\"\"\n",
    "\n",
    "TINT_COLOR = (0, 0, 0)  # Black\n",
    "TRANSPARENCY = .90  # Degree of transparency, 0-100%\n",
    "OPACITY = int(255 * TRANSPARENCY)\n",
    "\n",
    "from PIL import Image, ImageFont, ImageDraw\n",
    "\n",
    "img = pili.open('ipynb.images/comic book 2/edited comic book 2/9.PNG').convert('RGBA')\n",
    "\n",
    "overlay = pili.new('RGBA', img.size, TINT_COLOR+(0,))\n",
    "draw = pild.Draw(overlay)\n",
    "font = pilf.truetype(\"arial.ttf\", 20)\n",
    "x, y = (img.width, img.height)\n",
    "text = caption\n",
    "w, h = font.getsize(text)\n",
    "num_lines = len(text.split('\\n'))\n",
    "print(num_lines, w, h)\n",
    "x, y = 10, img.height - (num_lines-0.001*num_lines)*h\n",
    "#draw.rectangle((x, y, x + w, y + h), fill='black')\n",
    "#draw.rectangle((x, y, x + w, y + 4*h), fill=TINT_COLOR+(OPACITY,))\n",
    "draw.rectangle((x, y, x + img.width*3, y + img.height*3), fill=TINT_COLOR+(OPACITY,))\n",
    "draw.text((x, y), text, fill=(225, 255, 255), font=font)\n",
    "\n",
    "# Alpha composite these two images together to obtain the desired result.\n",
    "img = pili.alpha_composite(img, overlay)\n",
    "img = img.convert(\"RGB\") # Remove alpha for saving in jpg format.\n",
    "\n",
    "img.save('ipynb.images/comic book 2/edited comic book 2 with captions/9.PNG')"
   ]
  },
  {
   "cell_type": "code",
   "execution_count": 224,
   "metadata": {},
   "outputs": [
    {
     "name": "stderr",
     "output_type": "stream",
     "text": [
      "<ipython-input-224-568bc19ef284>:12: FutureWarning: arrays to stack must be passed as a \"sequence\" type such as list or tuple. Support for non-sequence iterables such as generators is deprecated as of NumPy 1.16 and will raise an error in the future.\n",
      "  imgs_comb = np.hstack( (np.asarray( i.resize(min_shape) ) for i in imgs ) )\n"
     ]
    }
   ],
   "source": [
    "import numpy as np\n",
    "import PIL\n",
    "\n",
    "list_im = ['ipynb.images/comic book 2/edited comic book 2 with captions/7.PNG',\n",
    "            'ipynb.images/comic book 2/edited comic book 2 with captions/8.PNG',\n",
    "            'ipynb.images/comic book 2/edited comic book 2 with captions/9.PNG'\n",
    "          ]\n",
    "imgs    = [ PIL.Image.open(i) for i in list_im ]\n",
    "\n",
    "# pick the image which is the smallest, and resize the others to match it (can be arbitrary image shape here)\n",
    "min_shape = sorted( [(np.sum(i.size), i.size ) for i in imgs])[0][1]\n",
    "imgs_comb = np.hstack( (np.asarray( i.resize(min_shape) ) for i in imgs ) )\n",
    "\n",
    "# save that beautiful picture\n",
    "imgs_comb = PIL.Image.fromarray( imgs_comb)\n",
    "imgs_comb.save( 'ipynb.images\\comic book 2\\combined comic book 2.3\\Strip3.png' ) "
   ]
  },
  {
   "cell_type": "code",
   "execution_count": 225,
   "metadata": {},
   "outputs": [
    {
     "name": "stdout",
     "output_type": "stream",
     "text": [
      "2 395 23\n"
     ]
    }
   ],
   "source": [
    "from IPython.display import Image\n",
    "from PIL import Image as pili, ImageOps as piliops\n",
    "from PIL import Image as pili, ImageDraw as pild, ImageFont as pilf \n",
    "\n",
    "piliops.expand(pili.open('ipynb.images/comic book 2/10.png'), border=(10,10),fill='black').save('ipynb.images/comic book 2/edited comic book 2/10.PNG')\n",
    "Image(filename='ipynb.images/comic book 2/edited comic book 2/10.PNG', width=400)\n",
    "\n",
    "caption = \"\"\"Mowgli and Ranjan laugh uncontrollably!\n",
    "    \"\"\"\n",
    "\n",
    "TINT_COLOR = (0, 0, 0)  # Black\n",
    "TRANSPARENCY = .90  # Degree of transparency, 0-100%\n",
    "OPACITY = int(255 * TRANSPARENCY)\n",
    "\n",
    "from PIL import Image, ImageFont, ImageDraw\n",
    "\n",
    "img = pili.open('ipynb.images/comic book 2/edited comic book 2/10.PNG').convert('RGBA')\n",
    "\n",
    "overlay = pili.new('RGBA', img.size, TINT_COLOR+(0,))\n",
    "draw = pild.Draw(overlay)\n",
    "font = pilf.truetype(\"arial.ttf\", 20)\n",
    "x, y = (img.width, img.height)\n",
    "text = caption\n",
    "w, h = font.getsize(text)\n",
    "num_lines = len(text.split('\\n'))\n",
    "print(num_lines, w, h)\n",
    "x, y = 10, img.height - (num_lines-0.001*num_lines)*h\n",
    "#draw.rectangle((x, y, x + w, y + h), fill='black')\n",
    "#draw.rectangle((x, y, x + w, y + 4*h), fill=TINT_COLOR+(OPACITY,))\n",
    "draw.rectangle((x, y, x + img.width*3, y + img.height*3), fill=TINT_COLOR+(OPACITY,))\n",
    "draw.text((x, y), text, fill=(225, 255, 255), font=font)\n",
    "\n",
    "# Alpha composite these two images together to obtain the desired result.\n",
    "img = pili.alpha_composite(img, overlay)\n",
    "img = img.convert(\"RGB\") # Remove alpha for saving in jpg format.\n",
    "\n",
    "img.save('ipynb.images/comic book 2/edited comic book 2 with captions/10.PNG')"
   ]
  },
  {
   "cell_type": "code",
   "execution_count": 226,
   "metadata": {},
   "outputs": [
    {
     "name": "stdout",
     "output_type": "stream",
     "text": [
      "2 362 23\n"
     ]
    }
   ],
   "source": [
    "from IPython.display import Image\n",
    "from PIL import Image as pili, ImageOps as piliops\n",
    "from PIL import Image as pili, ImageDraw as pild, ImageFont as pilf \n",
    "\n",
    "piliops.expand(pili.open('ipynb.images/comic book 2/11.png'), border=(10,10),fill='black').save('ipynb.images/comic book 2/edited comic book 2/11.PNG')\n",
    "Image(filename='ipynb.images/comic book 2/edited comic book 2/11.PNG', width=400)\n",
    "\n",
    "caption = \"\"\"Shanti stares at both of them angrily\n",
    "    \"\"\"\n",
    "\n",
    "TINT_COLOR = (0, 0, 0)  # Black\n",
    "TRANSPARENCY = .90  # Degree of transparency, 0-100%\n",
    "OPACITY = int(255 * TRANSPARENCY)\n",
    "\n",
    "from PIL import Image, ImageFont, ImageDraw\n",
    "\n",
    "img = pili.open('ipynb.images/comic book 2/edited comic book 2/11.PNG').convert('RGBA')\n",
    "\n",
    "overlay = pili.new('RGBA', img.size, TINT_COLOR+(0,))\n",
    "draw = pild.Draw(overlay)\n",
    "font = pilf.truetype(\"arial.ttf\", 20)\n",
    "x, y = (img.width, img.height)\n",
    "text = caption\n",
    "w, h = font.getsize(text)\n",
    "num_lines = len(text.split('\\n'))\n",
    "print(num_lines, w, h)\n",
    "x, y = 10, img.height - (num_lines-0.001*num_lines)*h\n",
    "#draw.rectangle((x, y, x + w, y + h), fill='black')\n",
    "#draw.rectangle((x, y, x + w, y + 4*h), fill=TINT_COLOR+(OPACITY,))\n",
    "draw.rectangle((x, y, x + img.width*3, y + img.height*3), fill=TINT_COLOR+(OPACITY,))\n",
    "draw.text((x, y), text, fill=(225, 255, 255), font=font)\n",
    "\n",
    "# Alpha composite these two images together to obtain the desired result.\n",
    "img = pili.alpha_composite(img, overlay)\n",
    "img = img.convert(\"RGB\") # Remove alpha for saving in jpg format.\n",
    "\n",
    "img.save('ipynb.images/comic book 2/edited comic book 2 with captions/11.PNG')"
   ]
  },
  {
   "cell_type": "code",
   "execution_count": 227,
   "metadata": {},
   "outputs": [
    {
     "name": "stdout",
     "output_type": "stream",
     "text": [
      "2 673 23\n"
     ]
    }
   ],
   "source": [
    "from IPython.display import Image\n",
    "from PIL import Image as pili, ImageOps as piliops\n",
    "from PIL import Image as pili, ImageDraw as pild, ImageFont as pilf \n",
    "\n",
    "piliops.expand(pili.open('ipynb.images/comic book 2/12.png'), border=(10,10),fill='black').save('ipynb.images/comic book 2/edited comic book 2/12.PNG')\n",
    "Image(filename='ipynb.images/comic book 2/edited comic book 2/12.PNG', width=400)\n",
    "\n",
    "caption = \"\"\"Shanti scolds Mowgli and Ranjan and hurriedly carries the latter away   \n",
    "    \"\"\"\n",
    "\n",
    "TINT_COLOR = (0, 0, 0)  # Black\n",
    "TRANSPARENCY = .90  # Degree of transparency, 0-100%\n",
    "OPACITY = int(255 * TRANSPARENCY)\n",
    "\n",
    "from PIL import Image, ImageFont, ImageDraw\n",
    "\n",
    "img = pili.open('ipynb.images/comic book 2/edited comic book 2/12.PNG').convert('RGBA')\n",
    "\n",
    "overlay = pili.new('RGBA', img.size, TINT_COLOR+(0,))\n",
    "draw = pild.Draw(overlay)\n",
    "font = pilf.truetype(\"arial.ttf\", 20)\n",
    "x, y = (img.width, img.height)\n",
    "text = caption\n",
    "w, h = font.getsize(text)\n",
    "num_lines = len(text.split('\\n'))\n",
    "print(num_lines, w, h)\n",
    "x, y = 10, img.height - (num_lines-0.001*num_lines)*h\n",
    "#draw.rectangle((x, y, x + w, y + h), fill='black')\n",
    "#draw.rectangle((x, y, x + w, y + 4*h), fill=TINT_COLOR+(OPACITY,))\n",
    "draw.rectangle((x, y, x + img.width*3, y + img.height*3), fill=TINT_COLOR+(OPACITY,))\n",
    "draw.text((x, y), text, fill=(225, 255, 255), font=font)\n",
    "\n",
    "# Alpha composite these two images together to obtain the desired result.\n",
    "img = pili.alpha_composite(img, overlay)\n",
    "img = img.convert(\"RGB\") # Remove alpha for saving in jpg format.\n",
    "\n",
    "img.save('ipynb.images/comic book 2/edited comic book 2 with captions/12.PNG')"
   ]
  },
  {
   "cell_type": "code",
   "execution_count": 228,
   "metadata": {},
   "outputs": [
    {
     "name": "stderr",
     "output_type": "stream",
     "text": [
      "<ipython-input-228-16e84b6831a4>:12: FutureWarning: arrays to stack must be passed as a \"sequence\" type such as list or tuple. Support for non-sequence iterables such as generators is deprecated as of NumPy 1.16 and will raise an error in the future.\n",
      "  imgs_comb = np.hstack( (np.asarray( i.resize(min_shape) ) for i in imgs ) )\n"
     ]
    }
   ],
   "source": [
    "import numpy as np\n",
    "import PIL\n",
    "\n",
    "list_im = ['ipynb.images/comic book 2/edited comic book 2 with captions/10.PNG',\n",
    "            'ipynb.images/comic book 2/edited comic book 2 with captions/11.PNG',\n",
    "            'ipynb.images/comic book 2/edited comic book 2 with captions/12.PNG'\n",
    "          ]\n",
    "imgs    = [ PIL.Image.open(i) for i in list_im ]\n",
    "\n",
    "# pick the image which is the smallest, and resize the others to match it (can be arbitrary image shape here)\n",
    "min_shape = sorted( [(np.sum(i.size), i.size ) for i in imgs])[0][1]\n",
    "imgs_comb = np.hstack( (np.asarray( i.resize(min_shape) ) for i in imgs ) )\n",
    "\n",
    "# save that beautiful picture\n",
    "imgs_comb = PIL.Image.fromarray( imgs_comb)\n",
    "imgs_comb.save( 'ipynb.images\\comic book 2\\combined comic book 2.3\\Strip4.png' ) "
   ]
  },
  {
   "cell_type": "code",
   "execution_count": 229,
   "metadata": {},
   "outputs": [
    {
     "name": "stdout",
     "output_type": "stream",
     "text": [
      "2 674 23\n"
     ]
    }
   ],
   "source": [
    "from IPython.display import Image\n",
    "from PIL import Image as pili, ImageOps as piliops\n",
    "from PIL import Image as pili, ImageDraw as pild, ImageFont as pilf \n",
    "\n",
    "piliops.expand(pili.open('ipynb.images/comic book 2/13.png'), border=(10,10),fill='black').save('ipynb.images/comic book 2/edited comic book 2/13.PNG')\n",
    "Image(filename='ipynb.images/comic book 2/edited comic book 2/13.PNG', width=400)\n",
    "\n",
    "caption = \"\"\"She asks Ranjan to not follow Mowgli as he is a bad influence over him \n",
    "    \"\"\"\n",
    "\n",
    "TINT_COLOR = (0, 0, 0)  # Black\n",
    "TRANSPARENCY = .90  # Degree of transparency, 0-100%\n",
    "OPACITY = int(255 * TRANSPARENCY)\n",
    "\n",
    "from PIL import Image, ImageFont, ImageDraw\n",
    "\n",
    "img = pili.open('ipynb.images/comic book 2/edited comic book 2/13.PNG').convert('RGBA')\n",
    "\n",
    "overlay = pili.new('RGBA', img.size, TINT_COLOR+(0,))\n",
    "draw = pild.Draw(overlay)\n",
    "font = pilf.truetype(\"arial.ttf\", 20)\n",
    "x, y = (img.width, img.height)\n",
    "text = caption\n",
    "w, h = font.getsize(text)\n",
    "num_lines = len(text.split('\\n'))\n",
    "print(num_lines, w, h)\n",
    "x, y = 10, img.height - (num_lines-0.001*num_lines)*h\n",
    "#draw.rectangle((x, y, x + w, y + h), fill='black')\n",
    "#draw.rectangle((x, y, x + w, y + 4*h), fill=TINT_COLOR+(OPACITY,))\n",
    "draw.rectangle((x, y, x + img.width*3, y + img.height*3), fill=TINT_COLOR+(OPACITY,))\n",
    "draw.text((x, y), text, fill=(225, 255, 255), font=font)\n",
    "\n",
    "# Alpha composite these two images together to obtain the desired result.\n",
    "img = pili.alpha_composite(img, overlay)\n",
    "img = img.convert(\"RGB\") # Remove alpha for saving in jpg format.\n",
    "\n",
    "img.save('ipynb.images/comic book 2/edited comic book 2 with captions/13.PNG')"
   ]
  },
  {
   "cell_type": "code",
   "execution_count": 230,
   "metadata": {},
   "outputs": [
    {
     "name": "stdout",
     "output_type": "stream",
     "text": [
      "3 860 23\n"
     ]
    }
   ],
   "source": [
    "from IPython.display import Image\n",
    "from PIL import Image as pili, ImageOps as piliops\n",
    "from PIL import Image as pili, ImageDraw as pild, ImageFont as pilf \n",
    "\n",
    "piliops.expand(pili.open('ipynb.images/comic book 2/14.png'), border=(10,10),fill='black').save('ipynb.images/comic book 2/edited comic book 2/14.PNG')\n",
    "Image(filename='ipynb.images/comic book 2/edited comic book 2/14.PNG', width=400)\n",
    "\n",
    "caption = \"\"\"Mowgli tries to apologise to Shanti, he explains to her how the jungle is a fun \n",
    "place to be!   \n",
    "    \"\"\"\n",
    "\n",
    "TINT_COLOR = (0, 0, 0)  # Black\n",
    "TRANSPARENCY = .90  # Degree of transparency, 0-100%\n",
    "OPACITY = int(255 * TRANSPARENCY)\n",
    "\n",
    "from PIL import Image, ImageFont, ImageDraw\n",
    "\n",
    "img = pili.open('ipynb.images/comic book 2/edited comic book 2/14.PNG').convert('RGBA')\n",
    "\n",
    "overlay = pili.new('RGBA', img.size, TINT_COLOR+(0,))\n",
    "draw = pild.Draw(overlay)\n",
    "font = pilf.truetype(\"arial.ttf\", 20)\n",
    "x, y = (img.width, img.height)\n",
    "text = caption\n",
    "w, h = font.getsize(text)\n",
    "num_lines = len(text.split('\\n'))\n",
    "print(num_lines, w, h)\n",
    "x, y = 10, img.height - (num_lines-0.001*num_lines)*h\n",
    "#draw.rectangle((x+w, y+h, x + w, y + h), fill='black')\n",
    "#draw.rectangle((x, y, x + w, y + 4*h), fill=TINT_COLOR+(OPACITY,))\n",
    "draw.rectangle((x, y, x + img.width*3, y + img.height*3), fill=TINT_COLOR+(OPACITY,))\n",
    "draw.text((x, y), text, fill=(225, 255, 255), font=font)\n",
    "\n",
    "# Alpha composite these two images together to obtain the desired result.\n",
    "img = pili.alpha_composite(img, overlay)\n",
    "img = img.convert(\"RGB\") # Remove alpha for saving in jpg format.\n",
    "\n",
    "img.save('ipynb.images/comic book 2/edited comic book 2 with captions/14.PNG')"
   ]
  },
  {
   "cell_type": "code",
   "execution_count": 231,
   "metadata": {},
   "outputs": [
    {
     "name": "stdout",
     "output_type": "stream",
     "text": [
      "3 1159 23\n"
     ]
    }
   ],
   "source": [
    "from IPython.display import Image\n",
    "from PIL import Image as pili, ImageOps as piliops\n",
    "from PIL import Image as pili, ImageDraw as pild, ImageFont as pilf \n",
    "\n",
    "piliops.expand(pili.open('ipynb.images/comic book 2/15.png'), border=(10,10),fill='black').save('ipynb.images/comic book 2/edited comic book 2/15.PNG')\n",
    "Image(filename='ipynb.images/comic book 2/edited comic book 2/15.PNG', width=400)\n",
    "\n",
    "caption = \"\"\" In no time, the other village children gather around to hear as Mowgli \n",
    "narrates stories of how beautiful and fun the jungle is  \n",
    "    \"\"\"\n",
    "\n",
    "TINT_COLOR = (0, 0, 0)  # Black\n",
    "TRANSPARENCY = .90  # Degree of transparency, 0-100%\n",
    "OPACITY = int(255 * TRANSPARENCY)\n",
    "\n",
    "from PIL import Image, ImageFont, ImageDraw\n",
    "\n",
    "img = pili.open('ipynb.images/comic book 2/edited comic book 2/15.PNG').convert('RGBA')\n",
    "\n",
    "overlay = pili.new('RGBA', img.size, TINT_COLOR+(0,))\n",
    "draw = pild.Draw(overlay)\n",
    "font = pilf.truetype(\"arial.ttf\", 20)\n",
    "x, y = (img.width, img.height)\n",
    "text = caption\n",
    "w, h = font.getsize(text)\n",
    "num_lines = len(text.split('\\n'))\n",
    "print(num_lines, w, h)\n",
    "x, y = 10, img.height - (num_lines-0.001*num_lines)*h\n",
    "#draw.rectangle((x+w, y+h, x + w, y + h), fill='black')\n",
    "#draw.rectangle((x, y, x + w, y + 4*h), fill=TINT_COLOR+(OPACITY,))\n",
    "draw.rectangle((x, y, x + img.width*3, y + img.height*3), fill=TINT_COLOR+(OPACITY,))\n",
    "draw.text((x, y), text, fill=(225, 255, 255), font=font)\n",
    "\n",
    "# Alpha composite these two images together to obtain the desired result.\n",
    "img = pili.alpha_composite(img, overlay)\n",
    "img = img.convert(\"RGB\") # Remove alpha for saving in jpg format.\n",
    "\n",
    "img.save('ipynb.images/comic book 2/edited comic book 2 with captions/15.PNG')"
   ]
  },
  {
   "cell_type": "code",
   "execution_count": 232,
   "metadata": {},
   "outputs": [
    {
     "name": "stderr",
     "output_type": "stream",
     "text": [
      "<ipython-input-232-0fe27a5114e9>:12: FutureWarning: arrays to stack must be passed as a \"sequence\" type such as list or tuple. Support for non-sequence iterables such as generators is deprecated as of NumPy 1.16 and will raise an error in the future.\n",
      "  imgs_comb = np.hstack( (np.asarray( i.resize(min_shape) ) for i in imgs ) )\n"
     ]
    }
   ],
   "source": [
    "import numpy as np\n",
    "import PIL\n",
    "\n",
    "list_im = ['ipynb.images/comic book 2/edited comic book 2 with captions/13.PNG',\n",
    "            'ipynb.images/comic book 2/edited comic book 2 with captions/14.PNG',\n",
    "            'ipynb.images/comic book 2/edited comic book 2 with captions/15.PNG'\n",
    "          ]\n",
    "imgs    = [ PIL.Image.open(i) for i in list_im ]\n",
    "\n",
    "# pick the image which is the smallest, and resize the others to match it (can be arbitrary image shape here)\n",
    "min_shape = sorted( [(np.sum(i.size), i.size ) for i in imgs])[0][1]\n",
    "imgs_comb = np.hstack( (np.asarray( i.resize(min_shape) ) for i in imgs ) )\n",
    "\n",
    "# save that beautiful picture\n",
    "imgs_comb = PIL.Image.fromarray( imgs_comb)\n",
    "imgs_comb.save( 'ipynb.images\\comic book 2\\combined comic book 2.3\\Strip5.png' ) "
   ]
  },
  {
   "cell_type": "code",
   "execution_count": 233,
   "metadata": {},
   "outputs": [
    {
     "name": "stdout",
     "output_type": "stream",
     "text": [
      "2 599 23\n"
     ]
    }
   ],
   "source": [
    "from IPython.display import Image\n",
    "from PIL import Image as pili, ImageOps as piliops\n",
    "from PIL import Image as pili, ImageDraw as pild, ImageFont as pilf \n",
    "\n",
    "piliops.expand(pili.open('ipynb.images/comic book 2/16.png'), border=(10,10),fill='black').save('ipynb.images/comic book 2/edited comic book 2/16.PNG')\n",
    "Image(filename='ipynb.images/comic book 2/edited comic book 2/16.PNG', width=400)\n",
    "\n",
    "caption = \"\"\"Singing and dancing, they start following Mowgli into the jungle!\n",
    "    \"\"\"\n",
    "\n",
    "TINT_COLOR = (0, 0, 0)  # Black\n",
    "TRANSPARENCY = .90  # Degree of transparency, 0-100%\n",
    "OPACITY = int(255 * TRANSPARENCY)\n",
    "\n",
    "from PIL import Image, ImageFont, ImageDraw\n",
    "\n",
    "img = pili.open('ipynb.images/comic book 2/edited comic book 2/16.PNG').convert('RGBA')\n",
    "\n",
    "overlay = pili.new('RGBA', img.size, TINT_COLOR+(0,))\n",
    "draw = pild.Draw(overlay)\n",
    "font = pilf.truetype(\"arial.ttf\", 20)\n",
    "x, y = (img.width, img.height)\n",
    "text = caption\n",
    "w, h = font.getsize(text)\n",
    "num_lines = len(text.split('\\n'))\n",
    "print(num_lines, w, h)\n",
    "x, y = 10, img.height - (num_lines-0.001*num_lines)*h\n",
    "#draw.rectangle((x+w, y+h, x + w, y + h), fill='black')\n",
    "#draw.rectangle((x, y, x + w, y + 4*h), fill=TINT_COLOR+(OPACITY,))\n",
    "draw.rectangle((x, y, x + img.width*3, y + img.height*3), fill=TINT_COLOR+(OPACITY,))\n",
    "draw.text((x, y), text, fill=(225, 255, 255), font=font)\n",
    "\n",
    "# Alpha composite these two images together to obtain the desired result.\n",
    "img = pili.alpha_composite(img, overlay)\n",
    "img = img.convert(\"RGB\") # Remove alpha for saving in jpg format.\n",
    "\n",
    "img.save('ipynb.images/comic book 2/edited comic book 2 with captions/16.PNG')"
   ]
  },
  {
   "cell_type": "code",
   "execution_count": 234,
   "metadata": {},
   "outputs": [
    {
     "name": "stdout",
     "output_type": "stream",
     "text": [
      "2 706 23\n"
     ]
    }
   ],
   "source": [
    "from IPython.display import Image\n",
    "from PIL import Image as pili, ImageOps as piliops\n",
    "from PIL import Image as pili, ImageDraw as pild, ImageFont as pilf \n",
    "\n",
    "piliops.expand(pili.open('ipynb.images/comic book 2/17.png'), border=(10,10),fill='black').save('ipynb.images/comic book 2/edited comic book 2/17.PNG')\n",
    "Image(filename='ipynb.images/comic book 2/edited comic book 2/17.PNG', width=400)\n",
    "\n",
    "caption = \"\"\"The Sarpanch sees them just in time and orders them inside the gate \n",
    "angrily  \"\"\"\n",
    "\n",
    "TINT_COLOR = (0, 0, 0)  # Black\n",
    "TRANSPARENCY = .90  # Degree of transparency, 0-100%\n",
    "OPACITY = int(255 * TRANSPARENCY)\n",
    "\n",
    "from PIL import Image, ImageFont, ImageDraw\n",
    "\n",
    "img = pili.open('ipynb.images/comic book 2/edited comic book 2/17.PNG').convert('RGBA')\n",
    "\n",
    "overlay = pili.new('RGBA', img.size, TINT_COLOR+(0,))\n",
    "draw = pild.Draw(overlay)\n",
    "font = pilf.truetype(\"arial.ttf\", 20)\n",
    "x, y = (img.width, img.height)\n",
    "text = caption\n",
    "w, h = font.getsize(text)\n",
    "num_lines = len(text.split('\\n'))\n",
    "print(num_lines, w, h)\n",
    "x, y = 10, img.height - (num_lines-0.001*num_lines)*h\n",
    "#draw.rectangle((x+w, y+h, x + w, y + h), fill='black')\n",
    "#draw.rectangle((x, y, x + w, y + 4*h), fill=TINT_COLOR+(OPACITY,))\n",
    "draw.rectangle((x, y, x + img.width*3, y + img.height*3), fill=TINT_COLOR+(OPACITY,))\n",
    "draw.text((x, y), text, fill=(225, 255, 255), font=font)\n",
    "\n",
    "# Alpha composite these two images together to obtain the desired result.\n",
    "img = pili.alpha_composite(img, overlay)\n",
    "img = img.convert(\"RGB\") # Remove alpha for saving in jpg format.\n",
    "\n",
    "img.save('ipynb.images/comic book 2/edited comic book 2 with captions/17.PNG')"
   ]
  },
  {
   "cell_type": "code",
   "execution_count": 235,
   "metadata": {},
   "outputs": [
    {
     "name": "stdout",
     "output_type": "stream",
     "text": [
      "2 1047 23\n"
     ]
    }
   ],
   "source": [
    "from IPython.display import Image\n",
    "from PIL import Image as pili, ImageOps as piliops\n",
    "from PIL import Image as pili, ImageDraw as pild, ImageFont as pilf \n",
    "\n",
    "piliops.expand(pili.open('ipynb.images/comic book 2/19.png'), border=(10,10),fill='black').save('ipynb.images/comic book 2/edited comic book 2/19.PNG')\n",
    "Image(filename='ipynb.images/comic book 2/edited comic book 2/19.PNG', width=200)\n",
    "\n",
    "caption = \"\"\"He reprimands Mowgli for his careless behaviour and punishes him for risking the \n",
    "lives of other children in the village\"\"\"\n",
    "\n",
    "TINT_COLOR = (0, 0, 0)  # Black\n",
    "TRANSPARENCY = .90  # Degree of transparency, 0-100%\n",
    "OPACITY = int(255 * TRANSPARENCY)\n",
    "\n",
    "from PIL import Image, ImageFont, ImageDraw\n",
    "\n",
    "img = pili.open('ipynb.images/comic book 2/edited comic book 2/19.PNG').convert('RGBA')\n",
    "\n",
    "overlay = pili.new('RGBA', img.size, TINT_COLOR+(0,))\n",
    "draw = pild.Draw(overlay)\n",
    "font = pilf.truetype(\"arial.ttf\", 20)\n",
    "x, y = (img.width, img.height)\n",
    "text = caption\n",
    "w, h = font.getsize(text)\n",
    "num_lines = len(text.split('\\n'))\n",
    "print(num_lines, w, h)\n",
    "x, y = 10, img.height - (num_lines-0.001*num_lines)*h\n",
    "#draw.rectangle((x+w, y+h, x + w, y + h), fill='black')\n",
    "#draw.rectangle((x, y, x + w, y + 4*h), fill=TINT_COLOR+(OPACITY,))\n",
    "draw.rectangle((x, y, x + img.width*3, y + img.height*3), fill=TINT_COLOR+(OPACITY,))\n",
    "draw.text((x, y), text, fill=(225, 255, 255), font=font)\n",
    "\n",
    "# Alpha composite these two images together to obtain the desired result.\n",
    "img = pili.alpha_composite(img, overlay)\n",
    "img = img.convert(\"RGB\") # Remove alpha for saving in jpg format.\n",
    "\n",
    "img.save('ipynb.images/comic book 2/edited comic book 2 with captions/19.PNG')"
   ]
  },
  {
   "cell_type": "code",
   "execution_count": 236,
   "metadata": {},
   "outputs": [
    {
     "name": "stderr",
     "output_type": "stream",
     "text": [
      "<ipython-input-236-8274089a11b5>:12: FutureWarning: arrays to stack must be passed as a \"sequence\" type such as list or tuple. Support for non-sequence iterables such as generators is deprecated as of NumPy 1.16 and will raise an error in the future.\n",
      "  imgs_comb = np.hstack( (np.asarray( i.resize(min_shape) ) for i in imgs ) )\n"
     ]
    }
   ],
   "source": [
    "import numpy as np\n",
    "import PIL\n",
    "\n",
    "list_im = ['ipynb.images/comic book 2/edited comic book 2 with captions/16.PNG',\n",
    "            'ipynb.images/comic book 2/edited comic book 2 with captions/17.PNG',\n",
    "            'ipynb.images/comic book 2/edited comic book 2 with captions/19.PNG'\n",
    "          ]\n",
    "imgs    = [ PIL.Image.open(i) for i in list_im ]\n",
    "\n",
    "# pick the image which is the smallest, and resize the others to match it (can be arbitrary image shape here)\n",
    "min_shape = sorted( [(np.sum(i.size), i.size ) for i in imgs])[0][1]\n",
    "imgs_comb = np.hstack( (np.asarray( i.resize(min_shape) ) for i in imgs ) )\n",
    "\n",
    "# save that beautiful picture\n",
    "imgs_comb = PIL.Image.fromarray( imgs_comb)\n",
    "imgs_comb.save( 'ipynb.images\\comic book 2\\combined comic book 2.3\\Strip6.png' ) "
   ]
  },
  {
   "cell_type": "code",
   "execution_count": 237,
   "metadata": {},
   "outputs": [
    {
     "name": "stdout",
     "output_type": "stream",
     "text": [
      "3 1407 23\n"
     ]
    }
   ],
   "source": [
    "from IPython.display import Image\n",
    "from PIL import Image as pili, ImageOps as piliops\n",
    "from PIL import Image as pili, ImageDraw as pild, ImageFont as pilf \n",
    "\n",
    "piliops.expand(pili.open('ipynb.images/comic book 2/20.png'), border=(10,10),fill='black').save('ipynb.images/comic book 2/edited comic book 2/20.PNG')\n",
    "Image(filename='ipynb.images/comic book 2/edited comic book 2/20.PNG', width=400)\n",
    "\n",
    "caption = \"\"\"Meanwhile back in the jungle, Baloo misses his best friend. Nothing seems \n",
    "the same without Mowgli.. \n",
    "He decides to sneak Mowgli into the jungle that night!\"\"\"\n",
    "\n",
    "TINT_COLOR = (0, 0, 0)  # Black\n",
    "TRANSPARENCY = .90  # Degree of transparency, 0-100%\n",
    "OPACITY = int(255 * TRANSPARENCY)\n",
    "\n",
    "from PIL import Image, ImageFont, ImageDraw\n",
    "\n",
    "img = pili.open('ipynb.images/comic book 2/edited comic book 2/20.PNG').convert('RGBA')\n",
    "\n",
    "overlay = pili.new('RGBA', img.size, TINT_COLOR+(0,))\n",
    "draw = pild.Draw(overlay)\n",
    "font = pilf.truetype(\"arial.ttf\", 20)\n",
    "x, y = (img.width, img.height)\n",
    "text = caption\n",
    "w, h = font.getsize(text)\n",
    "num_lines = len(text.split('\\n'))\n",
    "print(num_lines, w, h)\n",
    "x, y = 10, img.height - (num_lines-0.001*num_lines)*h\n",
    "#draw.rectangle((x+w, y+h, x + w, y + h), fill='black')\n",
    "#draw.rectangle((x, y, x + w, y + 4*h), fill=TINT_COLOR+(OPACITY,))\n",
    "draw.rectangle((x, y, x + img.width*3, y + img.height*3), fill=TINT_COLOR+(OPACITY,))\n",
    "draw.text((x, y), text, fill=(225, 255, 255), font=font)\n",
    "\n",
    "# Alpha composite these two images together to obtain the desired result.\n",
    "img = pili.alpha_composite(img, overlay)\n",
    "img = img.convert(\"RGB\") # Remove alpha for saving in jpg format.\n",
    "\n",
    "img.save('ipynb.images/comic book 2/edited comic book 2 with captions/20.PNG')"
   ]
  },
  {
   "cell_type": "code",
   "execution_count": 238,
   "metadata": {},
   "outputs": [
    {
     "name": "stdout",
     "output_type": "stream",
     "text": [
      "2 735 23\n"
     ]
    }
   ],
   "source": [
    "from IPython.display import Image\n",
    "from PIL import Image as pili, ImageOps as piliops\n",
    "from PIL import Image as pili, ImageDraw as pild, ImageFont as pilf \n",
    "\n",
    "piliops.expand(pili.open('ipynb.images/comic book 2/20.2.png'), border=(10,10),fill='black').save('ipynb.images/comic book 2/edited comic book 2/20.2.PNG')\n",
    "Image(filename='ipynb.images/comic book 2/edited comic book 2/20.2.PNG', width=400)\n",
    "\n",
    "caption = \"\"\"Baloo tells his plan of picking up Mowgli to Bagheera, who is \n",
    "completely against it\"\"\"\n",
    "\n",
    "TINT_COLOR = (0, 0, 0)  # Black\n",
    "TRANSPARENCY = .90  # Degree of transparency, 0-100%\n",
    "OPACITY = int(255 * TRANSPARENCY)\n",
    "\n",
    "from PIL import Image, ImageFont, ImageDraw\n",
    "\n",
    "img = pili.open('ipynb.images/comic book 2/edited comic book 2/20.2.PNG').convert('RGBA')\n",
    "\n",
    "overlay = pili.new('RGBA', img.size, TINT_COLOR+(0,))\n",
    "draw = pild.Draw(overlay)\n",
    "font = pilf.truetype(\"arial.ttf\", 20)\n",
    "x, y = (img.width, img.height)\n",
    "text = caption\n",
    "w, h = font.getsize(text)\n",
    "num_lines = len(text.split('\\n'))\n",
    "print(num_lines, w, h)\n",
    "x, y = 10, img.height - (num_lines-0.001*num_lines)*h\n",
    "#draw.rectangle((x+w, y+h, x + w, y + h), fill='black')\n",
    "#draw.rectangle((x, y, x + w, y + 4*h), fill=TINT_COLOR+(OPACITY,))\n",
    "draw.rectangle((x, y, x + img.width*3, y + img.height*3), fill=TINT_COLOR+(OPACITY,))\n",
    "draw.text((x, y), text, fill=(225, 255, 255), font=font)\n",
    "\n",
    "# Alpha composite these two images together to obtain the desired result.\n",
    "img = pili.alpha_composite(img, overlay)\n",
    "img = img.convert(\"RGB\") # Remove alpha for saving in jpg format.\n",
    "\n",
    "img.save('ipynb.images/comic book 2/edited comic book 2 with captions/20.2.PNG')"
   ]
  },
  {
   "cell_type": "code",
   "execution_count": 239,
   "metadata": {},
   "outputs": [
    {
     "name": "stdout",
     "output_type": "stream",
     "text": [
      "2 978 23\n"
     ]
    }
   ],
   "source": [
    "from IPython.display import Image\n",
    "from PIL import Image as pili, ImageOps as piliops\n",
    "from PIL import Image as pili, ImageDraw as pild, ImageFont as pilf \n",
    "\n",
    "piliops.expand(pili.open('ipynb.images/comic book 2/20.3.png'), border=(10,10),fill='black').save('ipynb.images/comic book 2/edited comic book 2/20.3.PNG')\n",
    "Image(filename='ipynb.images/comic book 2/edited comic book 2/20.3.PNG', width=400)\n",
    "\n",
    "caption = \"\"\"Little do they know, that Shere Khan overhears the entire plan...\n",
    "He plots to get to Mowgli before Baloo does.\"\"\"\n",
    "\n",
    "TINT_COLOR = (0, 0, 0)  # Black\n",
    "TRANSPARENCY = .90  # Degree of transparency, 0-100%\n",
    "OPACITY = int(255 * TRANSPARENCY)\n",
    "\n",
    "from PIL import Image, ImageFont, ImageDraw\n",
    "\n",
    "img = pili.open('ipynb.images/comic book 2/edited comic book 2/20.3.PNG').convert('RGBA')\n",
    "\n",
    "overlay = pili.new('RGBA', img.size, TINT_COLOR+(0,))\n",
    "draw = pild.Draw(overlay)\n",
    "font = pilf.truetype(\"arial.ttf\", 20)\n",
    "x, y = (img.width, img.height)\n",
    "text = caption\n",
    "w, h = font.getsize(text)\n",
    "num_lines = len(text.split('\\n'))\n",
    "print(num_lines, w, h)\n",
    "x, y = 10, img.height - (num_lines-0.001*num_lines)*h\n",
    "#draw.rectangle((x+w, y+h, x + w, y + h), fill='black')\n",
    "#draw.rectangle((x, y, x + w, y + 4*h), fill=TINT_COLOR+(OPACITY,))\n",
    "draw.rectangle((x, y, x + img.width*3, y + img.height*3), fill=TINT_COLOR+(OPACITY,))\n",
    "draw.text((x, y), text, fill=(225, 255, 255), font=font)\n",
    "\n",
    "# Alpha composite these two images together to obtain the desired result.\n",
    "img = pili.alpha_composite(img, overlay)\n",
    "img = img.convert(\"RGB\") # Remove alpha for saving in jpg format.\n",
    "\n",
    "img.save('ipynb.images/comic book 2/edited comic book 2 with captions/20.3.PNG')"
   ]
  },
  {
   "cell_type": "code",
   "execution_count": 240,
   "metadata": {},
   "outputs": [
    {
     "name": "stderr",
     "output_type": "stream",
     "text": [
      "<ipython-input-240-ec6b6682936f>:12: FutureWarning: arrays to stack must be passed as a \"sequence\" type such as list or tuple. Support for non-sequence iterables such as generators is deprecated as of NumPy 1.16 and will raise an error in the future.\n",
      "  imgs_comb = np.hstack( (np.asarray( i.resize(min_shape) ) for i in imgs ) )\n"
     ]
    }
   ],
   "source": [
    "import numpy as np\n",
    "import PIL\n",
    "\n",
    "list_im = ['ipynb.images/comic book 2/edited comic book 2 with captions/20.PNG',\n",
    "            'ipynb.images/comic book 2/edited comic book 2 with captions/20.2.PNG',\n",
    "            'ipynb.images/comic book 2/edited comic book 2 with captions/20.3.PNG'\n",
    "          ]\n",
    "imgs    = [ PIL.Image.open(i) for i in list_im ]\n",
    "\n",
    "# pick the image which is the smallest, and resize the others to match it (can be arbitrary image shape here)\n",
    "min_shape = sorted( [(np.sum(i.size), i.size ) for i in imgs])[0][1]\n",
    "imgs_comb = np.hstack( (np.asarray( i.resize(min_shape) ) for i in imgs ) )\n",
    "\n",
    "# save that beautiful picture\n",
    "imgs_comb = PIL.Image.fromarray( imgs_comb)\n",
    "imgs_comb.save( 'ipynb.images\\comic book 2\\combined comic book 2.3\\Strip7.png' )"
   ]
  },
  {
   "cell_type": "code",
   "execution_count": 241,
   "metadata": {},
   "outputs": [
    {
     "name": "stdout",
     "output_type": "stream",
     "text": [
      "2 825 23\n"
     ]
    }
   ],
   "source": [
    "from IPython.display import Image\n",
    "from PIL import Image as pili, ImageOps as piliops\n",
    "from PIL import Image as pili, ImageDraw as pild, ImageFont as pilf \n",
    "\n",
    "piliops.expand(pili.open('ipynb.images/comic book 2/21.png'), border=(10,10),fill='black').save('ipynb.images/comic book 2/edited comic book 2/21.PNG')\n",
    "Image(filename='ipynb.images/comic book 2/edited comic book 2/21.PNG', width=400)\n",
    "\n",
    "caption = \"\"\"As planned, Baloo sneaks into the man village to meet Mowgli \n",
    "after everyone goes to sleep\"\"\"\n",
    "\n",
    "TINT_COLOR = (0, 0, 0)  # Black\n",
    "TRANSPARENCY = .90  # Degree of transparency, 0-100%\n",
    "OPACITY = int(255 * TRANSPARENCY)\n",
    "\n",
    "from PIL import Image, ImageFont, ImageDraw\n",
    "\n",
    "img = pili.open('ipynb.images/comic book 2/edited comic book 2/21.PNG').convert('RGBA')\n",
    "\n",
    "overlay = pili.new('RGBA', img.size, TINT_COLOR+(0,))\n",
    "draw = pild.Draw(overlay)\n",
    "font = pilf.truetype(\"arial.ttf\", 20)\n",
    "x, y = (img.width, img.height)\n",
    "text = caption\n",
    "w, h = font.getsize(text)\n",
    "num_lines = len(text.split('\\n'))\n",
    "print(num_lines, w, h)\n",
    "x, y = 10, img.height - (num_lines-0.001*num_lines)*h\n",
    "#draw.rectangle((x+w, y+h, x + w, y + h), fill='black')\n",
    "#draw.rectangle((x, y, x + w, y + 4*h), fill=TINT_COLOR+(OPACITY,))\n",
    "draw.rectangle((x, y, x + img.width*3, y + img.height*3), fill=TINT_COLOR+(OPACITY,))\n",
    "draw.text((x, y), text, fill=(225, 255, 255), font=font)\n",
    "\n",
    "# Alpha composite these two images together to obtain the desired result.\n",
    "img = pili.alpha_composite(img, overlay)\n",
    "img = img.convert(\"RGB\") # Remove alpha for saving in jpg format.\n",
    "\n",
    "img.save('ipynb.images/comic book 2/edited comic book 2 with captions/21.PNG')"
   ]
  },
  {
   "cell_type": "code",
   "execution_count": 242,
   "metadata": {},
   "outputs": [
    {
     "name": "stdout",
     "output_type": "stream",
     "text": [
      "2 678 23\n"
     ]
    }
   ],
   "source": [
    "from IPython.display import Image\n",
    "from PIL import Image as pili, ImageOps as piliops\n",
    "from PIL import Image as pili, ImageDraw as pild, ImageFont as pilf \n",
    "\n",
    "piliops.expand(pili.open('ipynb.images/comic book 2/23.png'), border=(10,10),fill='black').save('ipynb.images/comic book 2/edited comic book 2/23.PNG')\n",
    "Image(filename='ipynb.images/comic book 2/edited comic book 2/23.PNG', width=400)\n",
    "\n",
    "caption = \"\"\"Shanti sees them together and thinks that Baloo is trying to kidnap Mowgli!\n",
    "\"\"\"\n",
    "\n",
    "TINT_COLOR = (0, 0, 0)  # Black\n",
    "TRANSPARENCY = .90  # Degree of transparency, 0-100%\n",
    "OPACITY = int(255 * TRANSPARENCY)\n",
    "\n",
    "from PIL import Image, ImageFont, ImageDraw\n",
    "\n",
    "img = pili.open('ipynb.images/comic book 2/edited comic book 2/23.PNG').convert('RGBA')\n",
    "\n",
    "overlay = pili.new('RGBA', img.size, TINT_COLOR+(0,))\n",
    "draw = pild.Draw(overlay)\n",
    "font = pilf.truetype(\"arial.ttf\", 20)\n",
    "x, y = (img.width, img.height)\n",
    "text = caption\n",
    "w, h = font.getsize(text)\n",
    "num_lines = len(text.split('\\n'))\n",
    "print(num_lines, w, h)\n",
    "x, y = 10, img.height - (num_lines-0.001*num_lines)*h\n",
    "#draw.rectangle((x+w, y+h, x + w, y + h), fill='black')\n",
    "#draw.rectangle((x, y, x + w, y + 4*h), fill=TINT_COLOR+(OPACITY,))\n",
    "draw.rectangle((x, y, x + img.width*3, y + img.height*3), fill=TINT_COLOR+(OPACITY,))\n",
    "draw.text((x, y), text, fill=(225, 255, 255), font=font)\n",
    "\n",
    "# Alpha composite these two images together to obtain the desired result.\n",
    "img = pili.alpha_composite(img, overlay)\n",
    "img = img.convert(\"RGB\") # Remove alpha for saving in jpg format.\n",
    "\n",
    "img.save('ipynb.images/comic book 2/edited comic book 2 with captions/23.PNG')"
   ]
  },
  {
   "cell_type": "code",
   "execution_count": 243,
   "metadata": {},
   "outputs": [
    {
     "name": "stdout",
     "output_type": "stream",
     "text": [
      "2 709 23\n"
     ]
    }
   ],
   "source": [
    "from IPython.display import Image\n",
    "from PIL import Image as pili, ImageOps as piliops\n",
    "from PIL import Image as pili, ImageDraw as pild, ImageFont as pilf \n",
    "\n",
    "piliops.expand(pili.open('ipynb.images/comic book 2/24.png'), border=(10,10),fill='black').save('ipynb.images/comic book 2/edited comic book 2/24.PNG')\n",
    "Image(filename='ipynb.images/comic book 2/edited comic book 2/24.PNG', width=400)\n",
    "\n",
    "caption = \"\"\"She shrieks and shouts loudly,\"There is a wild animal in the village, HELPPP!\" \n",
    "\"\"\"\n",
    "\n",
    "TINT_COLOR = (0, 0, 0)  # Black\n",
    "TRANSPARENCY = .90  # Degree of transparency, 0-100%\n",
    "OPACITY = int(255 * TRANSPARENCY)\n",
    "\n",
    "from PIL import Image, ImageFont, ImageDraw\n",
    "\n",
    "img = pili.open('ipynb.images/comic book 2/edited comic book 2/24.PNG').convert('RGBA')\n",
    "\n",
    "overlay = pili.new('RGBA', img.size, TINT_COLOR+(0,))\n",
    "draw = pild.Draw(overlay)\n",
    "font = pilf.truetype(\"arial.ttf\", 20)\n",
    "x, y = (img.width, img.height)\n",
    "text = caption\n",
    "w, h = font.getsize(text)\n",
    "num_lines = len(text.split('\\n'))\n",
    "print(num_lines, w, h)\n",
    "x, y = 10, img.height - (num_lines-0.001*num_lines)*h\n",
    "#draw.rectangle((x+w, y+h, x + w, y + h), fill='black')\n",
    "#draw.rectangle((x, y, x + w, y + 4*h), fill=TINT_COLOR+(OPACITY,))\n",
    "draw.rectangle((x, y, x + img.width*3, y + img.height*3), fill=TINT_COLOR+(OPACITY,))\n",
    "draw.text((x, y), text, fill=(225, 255, 255), font=font)\n",
    "\n",
    "# Alpha composite these two images together to obtain the desired result.\n",
    "img = pili.alpha_composite(img, overlay)\n",
    "img = img.convert(\"RGB\") # Remove alpha for saving in jpg format.\n",
    "\n",
    "img.save('ipynb.images/comic book 2/edited comic book 2 with captions/24.PNG')"
   ]
  },
  {
   "cell_type": "code",
   "execution_count": 244,
   "metadata": {},
   "outputs": [
    {
     "name": "stderr",
     "output_type": "stream",
     "text": [
      "<ipython-input-244-dfa176ce6bd5>:12: FutureWarning: arrays to stack must be passed as a \"sequence\" type such as list or tuple. Support for non-sequence iterables such as generators is deprecated as of NumPy 1.16 and will raise an error in the future.\n",
      "  imgs_comb = np.hstack( (np.asarray( i.resize(min_shape) ) for i in imgs ) )\n"
     ]
    }
   ],
   "source": [
    "import numpy as np\n",
    "import PIL\n",
    "\n",
    "list_im = ['ipynb.images/comic book 2/edited comic book 2 with captions/21.PNG',\n",
    "            'ipynb.images/comic book 2/edited comic book 2 with captions/23.PNG',\n",
    "            'ipynb.images/comic book 2/edited comic book 2 with captions/24.PNG'\n",
    "          ]\n",
    "imgs    = [ PIL.Image.open(i) for i in list_im ]\n",
    "\n",
    "# pick the image which is the smallest, and resize the others to match it (can be arbitrary image shape here)\n",
    "min_shape = sorted( [(np.sum(i.size), i.size ) for i in imgs])[0][1]\n",
    "imgs_comb = np.hstack( (np.asarray( i.resize(min_shape) ) for i in imgs ) )\n",
    "\n",
    "# save that beautiful picture\n",
    "imgs_comb = PIL.Image.fromarray( imgs_comb)\n",
    "imgs_comb.save( 'ipynb.images\\comic book 2\\combined comic book 2.3\\Strip8.png' )"
   ]
  },
  {
   "cell_type": "code",
   "execution_count": 245,
   "metadata": {},
   "outputs": [
    {
     "name": "stdout",
     "output_type": "stream",
     "text": [
      "3 1926 23\n"
     ]
    }
   ],
   "source": [
    "from IPython.display import Image\n",
    "from PIL import Image as pili, ImageOps as piliops\n",
    "from PIL import Image as pili, ImageDraw as pild, ImageFont as pilf \n",
    "\n",
    "piliops.expand(pili.open('ipynb.images/comic book 2/25.png'), border=(10,10),fill='black').save('ipynb.images/comic book 2/edited comic book 2/25.PNG')\n",
    "Image(filename='ipynb.images/comic book 2/edited comic book 2/25.PNG', width=400)\n",
    "\n",
    "caption = \"\"\"A villager hears her cries and rushes out of the door, and he sees Shere \n",
    "Khan quietly crouching near a tree. Assuming that Shere Khan is the wild \n",
    "animal Shanti is referring to, he runs after him with a flaming torch!\"\"\"\n",
    "\n",
    "TINT_COLOR = (0, 0, 0)  # Black\n",
    "TRANSPARENCY = .90  # Degree of transparency, 0-100%\n",
    "OPACITY = int(255 * TRANSPARENCY)\n",
    "\n",
    "from PIL import Image, ImageFont, ImageDraw\n",
    "\n",
    "img = pili.open('ipynb.images/comic book 2/edited comic book 2/25.PNG').convert('RGBA')\n",
    "\n",
    "overlay = pili.new('RGBA', img.size, TINT_COLOR+(0,))\n",
    "draw = pild.Draw(overlay)\n",
    "font = pilf.truetype(\"arial.ttf\", 20)\n",
    "x, y = (img.width, img.height)\n",
    "text = caption\n",
    "w, h = font.getsize(text)\n",
    "num_lines = len(text.split('\\n'))\n",
    "print(num_lines, w, h)\n",
    "x, y = 10, img.height - (num_lines-0.001*num_lines)*h\n",
    "#draw.rectangle((x+w, y+h, x + w, y + h), fill='black')\n",
    "#draw.rectangle((x, y, x + w, y + 4*h), fill=TINT_COLOR+(OPACITY,))\n",
    "draw.rectangle((x, y, x + img.width*3, y + img.height*3), fill=TINT_COLOR+(OPACITY,))\n",
    "draw.text((x, y), text, fill=(225, 255, 255), font=font)\n",
    "\n",
    "# Alpha composite these two images together to obtain the desired result.\n",
    "img = pili.alpha_composite(img, overlay)\n",
    "img = img.convert(\"RGB\") # Remove alpha for saving in jpg format.\n",
    "\n",
    "img.save('ipynb.images/comic book 2/edited comic book 2 with captions/25.PNG')"
   ]
  },
  {
   "cell_type": "code",
   "execution_count": 246,
   "metadata": {},
   "outputs": [
    {
     "name": "stdout",
     "output_type": "stream",
     "text": [
      "2 658 23\n"
     ]
    }
   ],
   "source": [
    "from IPython.display import Image\n",
    "from PIL import Image as pili, ImageOps as piliops\n",
    "from PIL import Image as pili, ImageDraw as pild, ImageFont as pilf \n",
    "\n",
    "piliops.expand(pili.open('ipynb.images/comic book 2/26.png'), border=(10,10),fill='black').save('ipynb.images/comic book 2/edited comic book 2/26.PNG')\n",
    "Image(filename='ipynb.images/comic book 2/edited comic book 2/26.PNG', width=400)\n",
    "\n",
    "caption = \"\"\"Soon, the other villagers join him and go after the evil \n",
    "tiger with torches! \"\"\"\n",
    "\n",
    "TINT_COLOR = (0, 0, 0)  # Black\n",
    "TRANSPARENCY = .90  # Degree of transparency, 0-100%\n",
    "OPACITY = int(255 * TRANSPARENCY)\n",
    "\n",
    "from PIL import Image, ImageFont, ImageDraw\n",
    "\n",
    "img = pili.open('ipynb.images/comic book 2/edited comic book 2/26.PNG').convert('RGBA')\n",
    "\n",
    "overlay = pili.new('RGBA', img.size, TINT_COLOR+(0,))\n",
    "draw = pild.Draw(overlay)\n",
    "font = pilf.truetype(\"arial.ttf\", 20)\n",
    "x, y = (img.width, img.height)\n",
    "text = caption\n",
    "w, h = font.getsize(text)\n",
    "num_lines = len(text.split('\\n'))\n",
    "print(num_lines, w, h)\n",
    "x, y = 10, img.height - (num_lines-0.001*num_lines)*h\n",
    "#draw.rectangle((x+w, y+h, x + w, y + h), fill='black')\n",
    "#draw.rectangle((x, y, x + w, y + 4*h), fill=TINT_COLOR+(OPACITY,))\n",
    "draw.rectangle((x, y, x + img.width*3, y + img.height*3), fill=TINT_COLOR+(OPACITY,))\n",
    "draw.text((x, y), text, fill=(225, 255, 255), font=font)\n",
    "\n",
    "# Alpha composite these two images together to obtain the desired result.\n",
    "img = pili.alpha_composite(img, overlay)\n",
    "img = img.convert(\"RGB\") # Remove alpha for saving in jpg format.\n",
    "\n",
    "img.save('ipynb.images/comic book 2/edited comic book 2 with captions/26.PNG')"
   ]
  },
  {
   "cell_type": "code",
   "execution_count": 247,
   "metadata": {},
   "outputs": [
    {
     "name": "stdout",
     "output_type": "stream",
     "text": [
      "2 1113 23\n"
     ]
    }
   ],
   "source": [
    "from IPython.display import Image\n",
    "from PIL import Image as pili, ImageOps as piliops\n",
    "from PIL import Image as pili, ImageDraw as pild, ImageFont as pilf \n",
    "\n",
    "piliops.expand(pili.open('ipynb.images/comic book 2/27.png'), border=(10,10),fill='black').save('ipynb.images/comic book 2/edited comic book 2/27.PNG')\n",
    "Image(filename='ipynb.images/comic book 2/edited comic book 2/27.PNG', width=400)\n",
    "\n",
    "caption = \"\"\"Meanwhile, Shanti, still thinking Baloo kidnapped Mowgli starts \n",
    "looking for him alone and sees them head towards the jungle\"\"\"\n",
    "\n",
    "TINT_COLOR = (0, 0, 0)  # Black\n",
    "TRANSPARENCY = .90  # Degree of transparency, 0-100%\n",
    "OPACITY = int(255 * TRANSPARENCY)\n",
    "\n",
    "from PIL import Image, ImageFont, ImageDraw\n",
    "\n",
    "img = pili.open('ipynb.images/comic book 2/edited comic book 2/27.PNG').convert('RGBA')\n",
    "\n",
    "overlay = pili.new('RGBA', img.size, TINT_COLOR+(0,))\n",
    "draw = pild.Draw(overlay)\n",
    "font = pilf.truetype(\"arial.ttf\", 20)\n",
    "x, y = (img.width, img.height)\n",
    "text = caption\n",
    "w, h = font.getsize(text)\n",
    "num_lines = len(text.split('\\n'))\n",
    "print(num_lines, w, h)\n",
    "x, y = 10, img.height - (num_lines-0.001*num_lines)*h\n",
    "#draw.rectangle((x+w, y+h, x + w, y + h), fill='black')\n",
    "#draw.rectangle((x, y, x + w, y + 4*h), fill=TINT_COLOR+(OPACITY,))\n",
    "draw.rectangle((x, y, x + img.width*3, y + img.height*3), fill=TINT_COLOR+(OPACITY,))\n",
    "draw.text((x, y), text, fill=(225, 255, 255), font=font)\n",
    "\n",
    "# Alpha composite these two images together to obtain the desired result.\n",
    "img = pili.alpha_composite(img, overlay)\n",
    "img = img.convert(\"RGB\") # Remove alpha for saving in jpg format.\n",
    "\n",
    "img.save('ipynb.images/comic book 2/edited comic book 2 with captions/27.PNG')"
   ]
  },
  {
   "cell_type": "code",
   "execution_count": 248,
   "metadata": {},
   "outputs": [
    {
     "name": "stderr",
     "output_type": "stream",
     "text": [
      "<ipython-input-248-6fecf83b5419>:12: FutureWarning: arrays to stack must be passed as a \"sequence\" type such as list or tuple. Support for non-sequence iterables such as generators is deprecated as of NumPy 1.16 and will raise an error in the future.\n",
      "  imgs_comb = np.hstack( (np.asarray( i.resize(min_shape) ) for i in imgs ) )\n"
     ]
    }
   ],
   "source": [
    "import numpy as np\n",
    "import PIL\n",
    "\n",
    "list_im = ['ipynb.images/comic book 2/edited comic book 2 with captions/25.PNG',\n",
    "            'ipynb.images/comic book 2/edited comic book 2 with captions/26.PNG',\n",
    "            'ipynb.images/comic book 2/edited comic book 2 with captions/27.PNG'\n",
    "          ]\n",
    "imgs    = [ PIL.Image.open(i) for i in list_im ]\n",
    "\n",
    "# pick the image which is the smallest, and resize the others to match it (can be arbitrary image shape here)\n",
    "min_shape = sorted( [(np.sum(i.size), i.size ) for i in imgs])[0][1]\n",
    "imgs_comb = np.hstack( (np.asarray( i.resize(min_shape) ) for i in imgs ) )\n",
    "\n",
    "# save that beautiful picture\n",
    "imgs_comb = PIL.Image.fromarray( imgs_comb)\n",
    "imgs_comb.save( 'ipynb.images\\comic book 2\\combined comic book 2.3\\Strip9.png' )"
   ]
  },
  {
   "cell_type": "code",
   "execution_count": 249,
   "metadata": {},
   "outputs": [
    {
     "name": "stdout",
     "output_type": "stream",
     "text": [
      "2 745 23\n"
     ]
    }
   ],
   "source": [
    "from IPython.display import Image\n",
    "from PIL import Image as pili, ImageOps as piliops\n",
    "from PIL import Image as pili, ImageDraw as pild, ImageFont as pilf \n",
    "\n",
    "piliops.expand(pili.open('ipynb.images/comic book 2/28.png'), border=(10,10),fill='black').save('ipynb.images/comic book 2/edited comic book 2/28.PNG')\n",
    "Image(filename='ipynb.images/comic book 2/edited comic book 2/28.PNG', width=400)\n",
    "\n",
    "caption = \"\"\"Though initially hesitant, Shanti runs deeper into the wilderness for \n",
    "Mowgli's sake! \"\"\"\n",
    "\n",
    "TINT_COLOR = (0, 0, 0)  # Black\n",
    "TRANSPARENCY = .90  # Degree of transparency, 0-100%\n",
    "OPACITY = int(255 * TRANSPARENCY)\n",
    "\n",
    "from PIL import Image, ImageFont, ImageDraw\n",
    "\n",
    "img = pili.open('ipynb.images/comic book 2/edited comic book 2/28.PNG').convert('RGBA')\n",
    "\n",
    "overlay = pili.new('RGBA', img.size, TINT_COLOR+(0,))\n",
    "draw = pild.Draw(overlay)\n",
    "font = pilf.truetype(\"arial.ttf\", 20)\n",
    "x, y = (img.width, img.height)\n",
    "text = caption\n",
    "w, h = font.getsize(text)\n",
    "num_lines = len(text.split('\\n'))\n",
    "print(num_lines, w, h)\n",
    "x, y = 10, img.height - (num_lines-0.001*num_lines)*h\n",
    "#draw.rectangle((x+w, y+h, x + w, y + h), fill='black')\n",
    "#draw.rectangle((x, y, x + w, y + 4*h), fill=TINT_COLOR+(OPACITY,))\n",
    "draw.rectangle((x, y, x + img.width*3, y + img.height*3), fill=TINT_COLOR+(OPACITY,))\n",
    "draw.text((x, y), text, fill=(225, 255, 255), font=font)\n",
    "\n",
    "# Alpha composite these two images together to obtain the desired result.\n",
    "img = pili.alpha_composite(img, overlay)\n",
    "img = img.convert(\"RGB\") # Remove alpha for saving in jpg format.\n",
    "\n",
    "img.save('ipynb.images/comic book 2/edited comic book 2 with captions/28.PNG')"
   ]
  },
  {
   "cell_type": "code",
   "execution_count": 250,
   "metadata": {},
   "outputs": [
    {
     "name": "stdout",
     "output_type": "stream",
     "text": [
      "2 813 23\n"
     ]
    }
   ],
   "source": [
    "from IPython.display import Image\n",
    "from PIL import Image as pili, ImageOps as piliops\n",
    "from PIL import Image as pili, ImageDraw as pild, ImageFont as pilf \n",
    "\n",
    "piliops.expand(pili.open('ipynb.images/comic book 2/29.png'), border=(10,10),fill='black').save('ipynb.images/comic book 2/edited comic book 2/29.PNG')\n",
    "Image(filename='ipynb.images/comic book 2/edited comic book 2/29.PNG', width=400)\n",
    "\n",
    "caption = \"\"\"'Kaa', the ravenous python sees her trotting through the jungle and \n",
    "decides to prey on her\"\"\"\n",
    "\n",
    "TINT_COLOR = (0, 0, 0)  # Black\n",
    "TRANSPARENCY = .90  # Degree of transparency, 0-100%\n",
    "OPACITY = int(255 * TRANSPARENCY)\n",
    "\n",
    "from PIL import Image, ImageFont, ImageDraw\n",
    "\n",
    "img = pili.open('ipynb.images/comic book 2/edited comic book 2/29.PNG').convert('RGBA')\n",
    "\n",
    "overlay = pili.new('RGBA', img.size, TINT_COLOR+(0,))\n",
    "draw = pild.Draw(overlay)\n",
    "font = pilf.truetype(\"arial.ttf\", 20)\n",
    "x, y = (img.width, img.height)\n",
    "text = caption\n",
    "w, h = font.getsize(text)\n",
    "num_lines = len(text.split('\\n'))\n",
    "print(num_lines, w, h)\n",
    "x, y = 10, img.height - (num_lines-0.001*num_lines)*h\n",
    "#draw.rectangle((x+w, y+h, x + w, y + h), fill='black')\n",
    "#draw.rectangle((x, y, x + w, y + 4*h), fill=TINT_COLOR+(OPACITY,))\n",
    "draw.rectangle((x, y, x + img.width*3, y + img.height*3), fill=TINT_COLOR+(OPACITY,))\n",
    "draw.text((x, y), text, fill=(225, 255, 255), font=font)\n",
    "\n",
    "# Alpha composite these two images together to obtain the desired result.\n",
    "img = pili.alpha_composite(img, overlay)\n",
    "img = img.convert(\"RGB\") # Remove alpha for saving in jpg format.\n",
    "\n",
    "img.save('ipynb.images/comic book 2/edited comic book 2 with captions/29.PNG')"
   ]
  },
  {
   "cell_type": "code",
   "execution_count": 251,
   "metadata": {},
   "outputs": [
    {
     "name": "stdout",
     "output_type": "stream",
     "text": [
      "2 530 23\n"
     ]
    }
   ],
   "source": [
    "from IPython.display import Image\n",
    "from PIL import Image as pili, ImageOps as piliops\n",
    "from PIL import Image as pili, ImageDraw as pild, ImageFont as pilf \n",
    "\n",
    "piliops.expand(pili.open('ipynb.images/comic book 2/30.png'), border=(10,10),fill='black').save('ipynb.images/comic book 2/edited comic book 2/30.PNG')\n",
    "Image(filename='ipynb.images/comic book 2/edited comic book 2/30.PNG', width=400)\n",
    "\n",
    "caption = \"\"\"He reveals himself to her and immediately hypnotizes her!\n",
    "\"\"\"\n",
    "\n",
    "TINT_COLOR = (0, 0, 0)  # Black\n",
    "TRANSPARENCY = .90  # Degree of transparency, 0-100%\n",
    "OPACITY = int(255 * TRANSPARENCY)\n",
    "\n",
    "from PIL import Image, ImageFont, ImageDraw\n",
    "\n",
    "img = pili.open('ipynb.images/comic book 2/edited comic book 2/30.PNG').convert('RGBA')\n",
    "\n",
    "overlay = pili.new('RGBA', img.size, TINT_COLOR+(0,))\n",
    "draw = pild.Draw(overlay)\n",
    "font = pilf.truetype(\"arial.ttf\", 20)\n",
    "x, y = (img.width, img.height)\n",
    "text = caption\n",
    "w, h = font.getsize(text)\n",
    "num_lines = len(text.split('\\n'))\n",
    "print(num_lines, w, h)\n",
    "x, y = 10, img.height - (num_lines-0.001*num_lines)*h\n",
    "#draw.rectangle((x+w, y+h, x + w, y + h), fill='black')\n",
    "#draw.rectangle((x, y, x + w, y + 4*h), fill=TINT_COLOR+(OPACITY,))\n",
    "draw.rectangle((x, y, x + img.width*3, y + img.height*3), fill=TINT_COLOR+(OPACITY,))\n",
    "draw.text((x, y), text, fill=(225, 255, 255), font=font)\n",
    "\n",
    "# Alpha composite these two images together to obtain the desired result.\n",
    "img = pili.alpha_composite(img, overlay)\n",
    "img = img.convert(\"RGB\") # Remove alpha for saving in jpg format.\n",
    "\n",
    "img.save('ipynb.images/comic book 2/edited comic book 2 with captions/30.PNG')"
   ]
  },
  {
   "cell_type": "code",
   "execution_count": 252,
   "metadata": {},
   "outputs": [
    {
     "name": "stderr",
     "output_type": "stream",
     "text": [
      "<ipython-input-252-c0a2a103dcd3>:12: FutureWarning: arrays to stack must be passed as a \"sequence\" type such as list or tuple. Support for non-sequence iterables such as generators is deprecated as of NumPy 1.16 and will raise an error in the future.\n",
      "  imgs_comb = np.hstack( (np.asarray( i.resize(min_shape) ) for i in imgs ) )\n"
     ]
    }
   ],
   "source": [
    "import numpy as np\n",
    "import PIL\n",
    "\n",
    "list_im = ['ipynb.images/comic book 2/edited comic book 2 with captions/28.PNG',\n",
    "            'ipynb.images/comic book 2/edited comic book 2 with captions/29.PNG',\n",
    "            'ipynb.images/comic book 2/edited comic book 2 with captions/30.PNG'\n",
    "          ]\n",
    "imgs    = [ PIL.Image.open(i) for i in list_im ]\n",
    "\n",
    "# pick the image which is the smallest, and resize the others to match it (can be arbitrary image shape here)\n",
    "min_shape = sorted( [(np.sum(i.size), i.size ) for i in imgs])[0][1]\n",
    "imgs_comb = np.hstack( (np.asarray( i.resize(min_shape) ) for i in imgs ) )\n",
    "\n",
    "# save that beautiful picture\n",
    "imgs_comb = PIL.Image.fromarray( imgs_comb)\n",
    "imgs_comb.save( 'ipynb.images\\comic book 2\\combined comic book 2.3\\Strip10.png' )"
   ]
  },
  {
   "cell_type": "code",
   "execution_count": 253,
   "metadata": {},
   "outputs": [
    {
     "name": "stdout",
     "output_type": "stream",
     "text": [
      "2 1136 23\n"
     ]
    }
   ],
   "source": [
    "from IPython.display import Image\n",
    "from PIL import Image as pili, ImageOps as piliops\n",
    "from PIL import Image as pili, ImageDraw as pild, ImageFont as pilf \n",
    "\n",
    "piliops.expand(pili.open('ipynb.images/comic book 2/31.png'), border=(10,10),fill='black').save('ipynb.images/comic book 2/edited comic book 2/31.PNG')\n",
    "Image(filename='ipynb.images/comic book 2/edited comic book 2/31.PNG', width=400)\n",
    "\n",
    "caption = \"\"\"Kaa manages to frighten the little girl and puts her in a trance as \n",
    "he slowly coils himself around her to squeeze the life off her\" \"\"\"\n",
    "\n",
    "TINT_COLOR = (0, 0, 0)  # Black\n",
    "TRANSPARENCY = .90  # Degree of transparency, 0-100%\n",
    "OPACITY = int(255 * TRANSPARENCY)\n",
    "\n",
    "from PIL import Image, ImageFont, ImageDraw\n",
    "\n",
    "img = pili.open('ipynb.images/comic book 2/edited comic book 2/31.PNG').convert('RGBA')\n",
    "\n",
    "overlay = pili.new('RGBA', img.size, TINT_COLOR+(0,))\n",
    "draw = pild.Draw(overlay)\n",
    "font = pilf.truetype(\"arial.ttf\", 20)\n",
    "x, y = (img.width, img.height)\n",
    "text = caption\n",
    "w, h = font.getsize(text)\n",
    "num_lines = len(text.split('\\n'))\n",
    "print(num_lines, w, h)\n",
    "x, y = 10, img.height - (num_lines-0.001*num_lines)*h\n",
    "#draw.rectangle((x+w, y+h, x + w, y + h), fill='black')\n",
    "#draw.rectangle((x, y, x + w, y + 4*h), fill=TINT_COLOR+(OPACITY,))\n",
    "draw.rectangle((x, y, x + img.width*3, y + img.height*3), fill=TINT_COLOR+(OPACITY,))\n",
    "draw.text((x, y), text, fill=(225, 255, 255), font=font)\n",
    "\n",
    "# Alpha composite these two images together to obtain the desired result.\n",
    "img = pili.alpha_composite(img, overlay)\n",
    "img = img.convert(\"RGB\") # Remove alpha for saving in jpg format.\n",
    "\n",
    "img.save('ipynb.images/comic book 2/edited comic book 2 with captions/31.PNG')"
   ]
  },
  {
   "cell_type": "code",
   "execution_count": 254,
   "metadata": {},
   "outputs": [
    {
     "name": "stdout",
     "output_type": "stream",
     "text": [
      "2 906 23\n"
     ]
    }
   ],
   "source": [
    "from IPython.display import Image\n",
    "from PIL import Image as pili, ImageOps as piliops\n",
    "from PIL import Image as pili, ImageDraw as pild, ImageFont as pilf \n",
    "\n",
    "piliops.expand(pili.open('ipynb.images/comic book 2/32.png'), border=(10,10),fill='black').save('ipynb.images/comic book 2/edited comic book 2/32.PNG')\n",
    "Image(filename='ipynb.images/comic book 2/edited comic book 2/32.PNG', width=400)\n",
    "\n",
    "caption = \"\"\"Kaa makes her stand on a boulder as he prepares to strike.\n",
    "But just as he is about to consume her...\"\"\"\n",
    "\n",
    "TINT_COLOR = (0, 0, 0)  # Black\n",
    "TRANSPARENCY = .90  # Degree of transparency, 0-100%\n",
    "OPACITY = int(255 * TRANSPARENCY)\n",
    "\n",
    "from PIL import Image, ImageFont, ImageDraw\n",
    "\n",
    "img = pili.open('ipynb.images/comic book 2/edited comic book 2/32.PNG').convert('RGBA')\n",
    "\n",
    "overlay = pili.new('RGBA', img.size, TINT_COLOR+(0,))\n",
    "draw = pild.Draw(overlay)\n",
    "font = pilf.truetype(\"arial.ttf\", 20)\n",
    "x, y = (img.width, img.height)\n",
    "text = caption\n",
    "w, h = font.getsize(text)\n",
    "num_lines = len(text.split('\\n'))\n",
    "print(num_lines, w, h)\n",
    "x, y = 10, img.height - (num_lines-0.001*num_lines)*h\n",
    "#draw.rectangle((x+w, y+h, x + w, y + h), fill='black')\n",
    "#draw.rectangle((x, y, x + w, y + 4*h), fill=TINT_COLOR+(OPACITY,))\n",
    "draw.rectangle((x, y, x + img.width*3, y + img.height*3), fill=TINT_COLOR+(OPACITY,))\n",
    "draw.text((x, y), text, fill=(225, 255, 255), font=font)\n",
    "\n",
    "# Alpha composite these two images together to obtain the desired result.\n",
    "img = pili.alpha_composite(img, overlay)\n",
    "img = img.convert(\"RGB\") # Remove alpha for saving in jpg format.\n",
    "\n",
    "img.save('ipynb.images/comic book 2/edited comic book 2 with captions/32.PNG')"
   ]
  },
  {
   "cell_type": "code",
   "execution_count": 255,
   "metadata": {},
   "outputs": [
    {
     "name": "stdout",
     "output_type": "stream",
     "text": [
      "2 952 23\n"
     ]
    }
   ],
   "source": [
    "from IPython.display import Image\n",
    "from PIL import Image as pili, ImageOps as piliops\n",
    "from PIL import Image as pili, ImageDraw as pild, ImageFont as pilf \n",
    "\n",
    "piliops.expand(pili.open('ipynb.images/comic book 2/33.png'), border=(10,10),fill='black').save('ipynb.images/comic book 2/edited comic book 2/33.PNG')\n",
    "Image(filename='ipynb.images/comic book 2/edited comic book 2/33.PNG', width=400)\n",
    "\n",
    "caption = \"\"\"Shanti is saved by none other than.....Ranjan! \n",
    "He secretly followed as Shanti ran towards the jungle alone\"\"\"\n",
    "\n",
    "TINT_COLOR = (0, 0, 0)  # Black\n",
    "TRANSPARENCY = .90  # Degree of transparency, 0-100%\n",
    "OPACITY = int(255 * TRANSPARENCY)\n",
    "\n",
    "from PIL import Image, ImageFont, ImageDraw\n",
    "\n",
    "img = pili.open('ipynb.images/comic book 2/edited comic book 2/33.PNG').convert('RGBA')\n",
    "\n",
    "overlay = pili.new('RGBA', img.size, TINT_COLOR+(0,))\n",
    "draw = pild.Draw(overlay)\n",
    "font = pilf.truetype(\"arial.ttf\", 20)\n",
    "x, y = (img.width, img.height)\n",
    "text = caption\n",
    "w, h = font.getsize(text)\n",
    "num_lines = len(text.split('\\n'))\n",
    "print(num_lines, w, h)\n",
    "x, y = 10, img.height - (num_lines-0.001*num_lines)*h\n",
    "#draw.rectangle((x+w, y+h, x + w, y + h), fill='black')\n",
    "#draw.rectangle((x, y, x + w, y + 4*h), fill=TINT_COLOR+(OPACITY,))\n",
    "draw.rectangle((x, y, x + img.width*3, y + img.height*3), fill=TINT_COLOR+(OPACITY,))\n",
    "draw.text((x, y), text, fill=(225, 255, 255), font=font)\n",
    "\n",
    "# Alpha composite these two images together to obtain the desired result.\n",
    "img = pili.alpha_composite(img, overlay)\n",
    "img = img.convert(\"RGB\") # Remove alpha for saving in jpg format.\n",
    "\n",
    "img.save('ipynb.images/comic book 2/edited comic book 2 with captions/33.PNG')"
   ]
  },
  {
   "cell_type": "code",
   "execution_count": 256,
   "metadata": {},
   "outputs": [
    {
     "name": "stderr",
     "output_type": "stream",
     "text": [
      "<ipython-input-256-f6295050a139>:12: FutureWarning: arrays to stack must be passed as a \"sequence\" type such as list or tuple. Support for non-sequence iterables such as generators is deprecated as of NumPy 1.16 and will raise an error in the future.\n",
      "  imgs_comb = np.hstack( (np.asarray( i.resize(min_shape) ) for i in imgs ) )\n"
     ]
    }
   ],
   "source": [
    "import numpy as np\n",
    "import PIL\n",
    "\n",
    "list_im = ['ipynb.images/comic book 2/edited comic book 2 with captions/31.PNG',\n",
    "            'ipynb.images/comic book 2/edited comic book 2 with captions/32.PNG',\n",
    "            'ipynb.images/comic book 2/edited comic book 2 with captions/33.PNG'\n",
    "          ]\n",
    "imgs    = [ PIL.Image.open(i) for i in list_im ]\n",
    "\n",
    "# pick the image which is the smallest, and resize the others to match it (can be arbitrary image shape here)\n",
    "min_shape = sorted( [(np.sum(i.size), i.size ) for i in imgs])[0][1]\n",
    "imgs_comb = np.hstack( (np.asarray( i.resize(min_shape) ) for i in imgs ) )\n",
    "\n",
    "# save that beautiful picture\n",
    "imgs_comb = PIL.Image.fromarray( imgs_comb)\n",
    "imgs_comb.save( 'ipynb.images\\comic book 2\\combined comic book 2.3\\Strip11.png' )"
   ]
  },
  {
   "cell_type": "code",
   "execution_count": 257,
   "metadata": {},
   "outputs": [
    {
     "name": "stdout",
     "output_type": "stream",
     "text": [
      "4 1940 23\n"
     ]
    }
   ],
   "source": [
    "from IPython.display import Image\n",
    "from PIL import Image as pili, ImageOps as piliops\n",
    "from PIL import Image as pili, ImageDraw as pild, ImageFont as pilf \n",
    "\n",
    "piliops.expand(pili.open('ipynb.images/comic book 2/34.png'), border=(10,10),fill='black').save('ipynb.images/comic book 2/edited comic book 2/34.PNG')\n",
    "Image(filename='ipynb.images/comic book 2/edited comic book 2/34.PNG', width=400)\n",
    "\n",
    "caption = \"\"\"The cunning snake instead gobbles up a huge rock and gets \n",
    "beat up by Ranjan\n",
    "Ranjan: \"How dare you attack my sister, you ugly snake! *Whack whack!*\"\n",
    "Shanti hits the ground and instantly snaps out of her trance \"\"\"\n",
    "\n",
    "TINT_COLOR = (0, 0, 0)  # Black\n",
    "TRANSPARENCY = .90  # Degree of transparency, 0-100%\n",
    "OPACITY = int(255 * TRANSPARENCY)\n",
    "\n",
    "from PIL import Image, ImageFont, ImageDraw\n",
    "\n",
    "img = pili.open('ipynb.images/comic book 2/edited comic book 2/34.PNG').convert('RGBA')\n",
    "\n",
    "overlay = pili.new('RGBA', img.size, TINT_COLOR+(0,))\n",
    "draw = pild.Draw(overlay)\n",
    "font = pilf.truetype(\"arial.ttf\", 20)\n",
    "x, y = (img.width, img.height)\n",
    "text = caption\n",
    "w, h = font.getsize(text)\n",
    "num_lines = len(text.split('\\n'))\n",
    "print(num_lines, w, h)\n",
    "x, y = 10, img.height - (num_lines-0.001*num_lines)*h\n",
    "#draw.rectangle((x+w, y+h, x + w, y + h), fill='black')\n",
    "#draw.rectangle((x, y, x + w, y + 4*h), fill=TINT_COLOR+(OPACITY,))\n",
    "draw.rectangle((x, y, x + img.width*3, y + img.height*3), fill=TINT_COLOR+(OPACITY,))\n",
    "draw.text((x, y), text, fill=(225, 255, 255), font=font)\n",
    "\n",
    "# Alpha composite these two images together to obtain the desired result.\n",
    "img = pili.alpha_composite(img, overlay)\n",
    "img = img.convert(\"RGB\") # Remove alpha for saving in jpg format.\n",
    "\n",
    "img.save('ipynb.images/comic book 2/edited comic book 2 with captions/34.PNG')"
   ]
  },
  {
   "cell_type": "code",
   "execution_count": 258,
   "metadata": {},
   "outputs": [
    {
     "name": "stdout",
     "output_type": "stream",
     "text": [
      "2 778 23\n"
     ]
    }
   ],
   "source": [
    "from IPython.display import Image\n",
    "from PIL import Image as pili, ImageOps as piliops\n",
    "from PIL import Image as pili, ImageDraw as pild, ImageFont as pilf \n",
    "\n",
    "piliops.expand(pili.open('ipynb.images/comic book 2/35.png'), border=(10,10),fill='black').save('ipynb.images/comic book 2/edited comic book 2/35.PNG')\n",
    "Image(filename='ipynb.images/comic book 2/edited comic book 2/35.PNG', width=400)\n",
    "\n",
    "caption = \"\"\"Shanti thanks Ranjan for saving her life and they both set out to \n",
    "find Mowgli together! \"\"\"\n",
    "\n",
    "TINT_COLOR = (0, 0, 0)  # Black\n",
    "TRANSPARENCY = .90  # Degree of transparency, 0-100%\n",
    "OPACITY = int(255 * TRANSPARENCY)\n",
    "\n",
    "from PIL import Image, ImageFont, ImageDraw\n",
    "\n",
    "img = pili.open('ipynb.images/comic book 2/edited comic book 2/35.PNG').convert('RGBA')\n",
    "\n",
    "overlay = pili.new('RGBA', img.size, TINT_COLOR+(0,))\n",
    "draw = pild.Draw(overlay)\n",
    "font = pilf.truetype(\"arial.ttf\", 20)\n",
    "x, y = (img.width, img.height)\n",
    "text = caption\n",
    "w, h = font.getsize(text)\n",
    "num_lines = len(text.split('\\n'))\n",
    "print(num_lines, w, h)\n",
    "x, y = 10, img.height - (num_lines-0.001*num_lines)*h\n",
    "#draw.rectangle((x+w, y+h, x + w, y + h), fill='black')\n",
    "#draw.rectangle((x, y, x + w, y + 4*h), fill=TINT_COLOR+(OPACITY,))\n",
    "draw.rectangle((x, y, x + img.width*3, y + img.height*3), fill=TINT_COLOR+(OPACITY,))\n",
    "draw.text((x, y), text, fill=(225, 255, 255), font=font)\n",
    "\n",
    "# Alpha composite these two images together to obtain the desired result.\n",
    "img = pili.alpha_composite(img, overlay)\n",
    "img = img.convert(\"RGB\") # Remove alpha for saving in jpg format.\n",
    "\n",
    "img.save('ipynb.images/comic book 2/edited comic book 2 with captions/35.PNG')"
   ]
  },
  {
   "cell_type": "code",
   "execution_count": 259,
   "metadata": {},
   "outputs": [
    {
     "name": "stdout",
     "output_type": "stream",
     "text": [
      "3 1745 23\n"
     ]
    }
   ],
   "source": [
    "from IPython.display import Image\n",
    "from PIL import Image as pili, ImageOps as piliops\n",
    "from PIL import Image as pili, ImageDraw as pild, ImageFont as pilf \n",
    "\n",
    "piliops.expand(pili.open('ipynb.images/comic book 2/36.png'), border=(10,10),fill='black').save('ipynb.images/comic book 2/edited comic book 2/36.PNG')\n",
    "Image(filename='ipynb.images/comic book 2/edited comic book 2/36.PNG', width=400)\n",
    "\n",
    "caption = \"\"\"Shere Khan, who escaped the village unharmed coerces the snake to give \n",
    "up Shanti, Ranjan and Mowgli's locations! \n",
    "Shere Khan: \"I will kill them and have my revenge for what they did to me! \" \"\"\"\n",
    "\n",
    "TINT_COLOR = (0, 0, 0)  # Black\n",
    "TRANSPARENCY = .90  # Degree of transparency, 0-100%\n",
    "OPACITY = int(255 * TRANSPARENCY)\n",
    "\n",
    "from PIL import Image, ImageFont, ImageDraw\n",
    "\n",
    "img = pili.open('ipynb.images/comic book 2/edited comic book 2/36.PNG').convert('RGBA')\n",
    "\n",
    "overlay = pili.new('RGBA', img.size, TINT_COLOR+(0,))\n",
    "draw = pild.Draw(overlay)\n",
    "font = pilf.truetype(\"arial.ttf\", 20)\n",
    "x, y = (img.width, img.height)\n",
    "text = caption\n",
    "w, h = font.getsize(text)\n",
    "num_lines = len(text.split('\\n'))\n",
    "print(num_lines, w, h)\n",
    "x, y = 10, img.height - (num_lines-0.001*num_lines)*h\n",
    "#draw.rectangle((x+w, y+h, x + w, y + h), fill='black')\n",
    "#draw.rectangle((x, y, x + w, y + 4*h), fill=TINT_COLOR+(OPACITY,))\n",
    "draw.rectangle((x, y, x + img.width*3, y + img.height*3), fill=TINT_COLOR+(OPACITY,))\n",
    "draw.text((x, y), text, fill=(225, 255, 255), font=font)\n",
    "\n",
    "# Alpha composite these two images together to obtain the desired result.\n",
    "img = pili.alpha_composite(img, overlay)\n",
    "img = img.convert(\"RGB\") # Remove alpha for saving in jpg format.\n",
    "\n",
    "img.save('ipynb.images/comic book 2/edited comic book 2 with captions/36.PNG')"
   ]
  },
  {
   "cell_type": "code",
   "execution_count": 260,
   "metadata": {},
   "outputs": [
    {
     "name": "stderr",
     "output_type": "stream",
     "text": [
      "<ipython-input-260-1b58ecb62fd6>:12: FutureWarning: arrays to stack must be passed as a \"sequence\" type such as list or tuple. Support for non-sequence iterables such as generators is deprecated as of NumPy 1.16 and will raise an error in the future.\n",
      "  imgs_comb = np.hstack( (np.asarray( i.resize(min_shape) ) for i in imgs ) )\n"
     ]
    }
   ],
   "source": [
    "import numpy as np\n",
    "import PIL\n",
    "\n",
    "list_im = ['ipynb.images/comic book 2/edited comic book 2 with captions/34.PNG',\n",
    "            'ipynb.images/comic book 2/edited comic book 2 with captions/35.PNG',\n",
    "            'ipynb.images/comic book 2/edited comic book 2 with captions/36.PNG'\n",
    "          ]\n",
    "imgs    = [ PIL.Image.open(i) for i in list_im ]\n",
    "\n",
    "# pick the image which is the smallest, and resize the others to match it (can be arbitrary image shape here)\n",
    "min_shape = sorted( [(np.sum(i.size), i.size ) for i in imgs])[0][1]\n",
    "imgs_comb = np.hstack( (np.asarray( i.resize(min_shape) ) for i in imgs ) )\n",
    "\n",
    "# save that beautiful picture\n",
    "imgs_comb = PIL.Image.fromarray( imgs_comb)\n",
    "imgs_comb.save( 'ipynb.images\\comic book 2\\combined comic book 2.3\\Strip12.png' )"
   ]
  },
  {
   "cell_type": "code",
   "execution_count": 261,
   "metadata": {},
   "outputs": [
    {
     "name": "stdout",
     "output_type": "stream",
     "text": [
      "4 2238 23\n"
     ]
    }
   ],
   "source": [
    "from IPython.display import Image\n",
    "from PIL import Image as pili, ImageOps as piliops\n",
    "from PIL import Image as pili, ImageDraw as pild, ImageFont as pilf \n",
    "\n",
    "piliops.expand(pili.open('ipynb.images/comic book 2/37.png'), border=(10,10),fill='black').save('ipynb.images/comic book 2/edited comic book 2/37.PNG')\n",
    "Image(filename='ipynb.images/comic book 2/edited comic book 2/37.PNG', width=400)\n",
    "\n",
    "caption = \"\"\"Bagheera finds out that Baloo went ahead with his plan and brought \n",
    "Mowgli into the jungle despite all his warnings. \n",
    "Bagheera: \"You foolish bear! This is exactly what Shere Khan wanted, you \n",
    "have put his life into grave danger by bringing him here!\" \"\"\"\n",
    "\n",
    "TINT_COLOR = (0, 0, 0)  # Black\n",
    "TRANSPARENCY = .90  # Degree of transparency, 0-100%\n",
    "OPACITY = int(255 * TRANSPARENCY)\n",
    "\n",
    "from PIL import Image, ImageFont, ImageDraw\n",
    "\n",
    "img = pili.open('ipynb.images/comic book 2/edited comic book 2/37.PNG').convert('RGBA')\n",
    "\n",
    "overlay = pili.new('RGBA', img.size, TINT_COLOR+(0,))\n",
    "draw = pild.Draw(overlay)\n",
    "font = pilf.truetype(\"arial.ttf\", 20)\n",
    "x, y = (img.width, img.height)\n",
    "text = caption\n",
    "w, h = font.getsize(text)\n",
    "num_lines = len(text.split('\\n'))\n",
    "print(num_lines, w, h)\n",
    "x, y = 10, img.height - (num_lines-0.001*num_lines)*h\n",
    "#draw.rectangle((x+w, y+h, x + w, y + h), fill='black')\n",
    "#draw.rectangle((x, y, x + w, y + 4*h), fill=TINT_COLOR+(OPACITY,))\n",
    "draw.rectangle((x, y, x + img.width*3, y + img.height*3), fill=TINT_COLOR+(OPACITY,))\n",
    "draw.text((x, y), text, fill=(225, 255, 255), font=font)\n",
    "\n",
    "# Alpha composite these two images together to obtain the desired result.\n",
    "img = pili.alpha_composite(img, overlay)\n",
    "img = img.convert(\"RGB\") # Remove alpha for saving in jpg format.\n",
    "\n",
    "img.save('ipynb.images/comic book 2/edited comic book 2 with captions/37.PNG')"
   ]
  },
  {
   "cell_type": "code",
   "execution_count": 262,
   "metadata": {},
   "outputs": [
    {
     "name": "stdout",
     "output_type": "stream",
     "text": [
      "3 1312 23\n"
     ]
    }
   ],
   "source": [
    "from IPython.display import Image\n",
    "from PIL import Image as pili, ImageOps as piliops\n",
    "from PIL import Image as pili, ImageDraw as pild, ImageFont as pilf \n",
    "\n",
    "piliops.expand(pili.open('ipynb.images/comic book 2/38.png'), border=(10,10),fill='black').save('ipynb.images/comic book 2/edited comic book 2/38.PNG')\n",
    "Image(filename='ipynb.images/comic book 2/edited comic book 2/38.PNG', width=400)\n",
    "\n",
    "caption = \"\"\"Shanti still looking for Mowgli finds the mango peeled exactly \n",
    "identical to a trick she had taught him, she immediately deduces that \n",
    "he is close!    \"\"\"\n",
    "\n",
    "TINT_COLOR = (0, 0, 0)  # Black\n",
    "TRANSPARENCY = .90  # Degree of transparency, 0-100%\n",
    "OPACITY = int(255 * TRANSPARENCY)\n",
    "\n",
    "from PIL import Image, ImageFont, ImageDraw\n",
    "\n",
    "img = pili.open('ipynb.images/comic book 2/edited comic book 2/38.PNG').convert('RGBA')\n",
    "\n",
    "overlay = pili.new('RGBA', img.size, TINT_COLOR+(0,))\n",
    "draw = pild.Draw(overlay)\n",
    "font = pilf.truetype(\"arial.ttf\", 20)\n",
    "x, y = (img.width, img.height)\n",
    "text = caption\n",
    "w, h = font.getsize(text)\n",
    "num_lines = len(text.split('\\n'))\n",
    "print(num_lines, w, h)\n",
    "x, y = 10, img.height - (num_lines-0.001*num_lines)*h\n",
    "#draw.rectangle((x+w, y+h, x + w, y + h), fill='black')\n",
    "#draw.rectangle((x, y, x + w, y + 4*h), fill=TINT_COLOR+(OPACITY,))\n",
    "draw.rectangle((x, y, x + img.width*3, y + img.height*3), fill=TINT_COLOR+(OPACITY,))\n",
    "draw.text((x, y), text, fill=(225, 255, 255), font=font)\n",
    "\n",
    "# Alpha composite these two images together to obtain the desired result.\n",
    "img = pili.alpha_composite(img, overlay)\n",
    "img = img.convert(\"RGB\") # Remove alpha for saving in jpg format.\n",
    "\n",
    "img.save('ipynb.images/comic book 2/edited comic book 2 with captions/38.PNG')"
   ]
  },
  {
   "cell_type": "code",
   "execution_count": 263,
   "metadata": {},
   "outputs": [
    {
     "name": "stdout",
     "output_type": "stream",
     "text": [
      "1 437 23\n"
     ]
    }
   ],
   "source": [
    "from IPython.display import Image\n",
    "from PIL import Image as pili, ImageOps as piliops\n",
    "from PIL import Image as pili, ImageDraw as pild, ImageFont as pilf \n",
    "\n",
    "piliops.expand(pili.open('ipynb.images/comic book 2/39.png'), border=(10,10),fill='black').save('ipynb.images/comic book 2/edited comic book 2/39.PNG')\n",
    "Image(filename='ipynb.images/comic book 2/edited comic book 2/39.PNG', width=400)\n",
    "\n",
    "caption = \"\"\"She frantically searches the surrounding areas    \"\"\"\n",
    "\n",
    "TINT_COLOR = (0, 0, 0)  # Black\n",
    "TRANSPARENCY = .90  # Degree of transparency, 0-100%\n",
    "OPACITY = int(255 * TRANSPARENCY)\n",
    "\n",
    "from PIL import Image, ImageFont, ImageDraw\n",
    "\n",
    "img = pili.open('ipynb.images/comic book 2/edited comic book 2/39.PNG').convert('RGBA')\n",
    "\n",
    "overlay = pili.new('RGBA', img.size, TINT_COLOR+(0,))\n",
    "draw = pild.Draw(overlay)\n",
    "font = pilf.truetype(\"arial.ttf\", 20)\n",
    "x, y = (img.width, img.height)\n",
    "text = caption\n",
    "w, h = font.getsize(text)\n",
    "num_lines = len(text.split('\\n'))\n",
    "print(num_lines, w, h)\n",
    "x, y = 10, img.height - (num_lines-0.001*num_lines)*h\n",
    "#draw.rectangle((x+w, y+h, x + w, y + h), fill='black')\n",
    "#draw.rectangle((x, y, x + w, y + 4*h), fill=TINT_COLOR+(OPACITY,))\n",
    "draw.rectangle((x, y, x + img.width*3, y + img.height*3), fill=TINT_COLOR+(OPACITY,))\n",
    "draw.text((x, y), text, fill=(225, 255, 255), font=font)\n",
    "\n",
    "# Alpha composite these two images together to obtain the desired result.\n",
    "img = pili.alpha_composite(img, overlay)\n",
    "img = img.convert(\"RGB\") # Remove alpha for saving in jpg format.\n",
    "\n",
    "img.save('ipynb.images/comic book 2/edited comic book 2 with captions/39.PNG')"
   ]
  },
  {
   "cell_type": "code",
   "execution_count": 264,
   "metadata": {},
   "outputs": [
    {
     "name": "stderr",
     "output_type": "stream",
     "text": [
      "<ipython-input-264-4e9729152f93>:12: FutureWarning: arrays to stack must be passed as a \"sequence\" type such as list or tuple. Support for non-sequence iterables such as generators is deprecated as of NumPy 1.16 and will raise an error in the future.\n",
      "  imgs_comb = np.hstack( (np.asarray( i.resize(min_shape) ) for i in imgs ) )\n"
     ]
    }
   ],
   "source": [
    "import numpy as np\n",
    "import PIL\n",
    "\n",
    "list_im = ['ipynb.images/comic book 2/edited comic book 2 with captions/37.PNG',\n",
    "            'ipynb.images/comic book 2/edited comic book 2 with captions/38.PNG',\n",
    "            'ipynb.images/comic book 2/edited comic book 2 with captions/39.PNG'\n",
    "          ]\n",
    "imgs    = [ PIL.Image.open(i) for i in list_im ]\n",
    "\n",
    "# pick the image which is the smallest, and resize the others to match it (can be arbitrary image shape here)\n",
    "min_shape = sorted( [(np.sum(i.size), i.size ) for i in imgs])[0][1]\n",
    "imgs_comb = np.hstack( (np.asarray( i.resize(min_shape) ) for i in imgs ) )\n",
    "\n",
    "# save that beautiful picture\n",
    "imgs_comb = PIL.Image.fromarray( imgs_comb)\n",
    "imgs_comb.save( 'ipynb.images\\comic book 2\\combined comic book 2.3\\Strip13.png' )"
   ]
  },
  {
   "cell_type": "code",
   "execution_count": 265,
   "metadata": {},
   "outputs": [
    {
     "name": "stdout",
     "output_type": "stream",
     "text": [
      "2 808 23\n"
     ]
    }
   ],
   "source": [
    "from IPython.display import Image\n",
    "from PIL import Image as pili, ImageOps as piliops\n",
    "from PIL import Image as pili, ImageDraw as pild, ImageFont as pilf \n",
    "\n",
    "piliops.expand(pili.open('ipynb.images/comic book 2/40.png'), border=(10,10),fill='black').save('ipynb.images/comic book 2/edited comic book 2/40.PNG')\n",
    "Image(filename='ipynb.images/comic book 2/edited comic book 2/40.PNG', width=400)\n",
    "\n",
    "caption = \"\"\"and lo! Mowgli suprises her hanging inverted by a \n",
    "branch of a tree, overjoyed to see her! \"\"\"\n",
    "\n",
    "TINT_COLOR = (0, 0, 0)  # Black\n",
    "TRANSPARENCY = .90  # Degree of transparency, 0-100%\n",
    "OPACITY = int(255 * TRANSPARENCY)\n",
    "\n",
    "from PIL import Image, ImageFont, ImageDraw\n",
    "\n",
    "img = pili.open('ipynb.images/comic book 2/edited comic book 2/40.PNG').convert('RGBA')\n",
    "\n",
    "overlay = pili.new('RGBA', img.size, TINT_COLOR+(0,))\n",
    "draw = pild.Draw(overlay)\n",
    "font = pilf.truetype(\"arial.ttf\", 20)\n",
    "x, y = (img.width, img.height)\n",
    "text = caption\n",
    "w, h = font.getsize(text)\n",
    "num_lines = len(text.split('\\n'))\n",
    "print(num_lines, w, h)\n",
    "x, y = 10, img.height - (num_lines-0.001*num_lines)*h\n",
    "#draw.rectangle((x+w, y+h, x + w, y + h), fill='black')\n",
    "#draw.rectangle((x, y, x + w, y + 4*h), fill=TINT_COLOR+(OPACITY,))\n",
    "draw.rectangle((x, y, x + img.width*3, y + img.height*3), fill=TINT_COLOR+(OPACITY,))\n",
    "draw.text((x, y), text, fill=(225, 255, 255), font=font)\n",
    "\n",
    "# Alpha composite these two images together to obtain the desired result.\n",
    "img = pili.alpha_composite(img, overlay)\n",
    "img = img.convert(\"RGB\") # Remove alpha for saving in jpg format.\n",
    "\n",
    "img.save('ipynb.images/comic book 2/edited comic book 2 with captions/40.PNG')"
   ]
  },
  {
   "cell_type": "code",
   "execution_count": 266,
   "metadata": {},
   "outputs": [
    {
     "name": "stdout",
     "output_type": "stream",
     "text": [
      "3 1484 23\n"
     ]
    }
   ],
   "source": [
    "from IPython.display import Image\n",
    "from PIL import Image as pili, ImageOps as piliops\n",
    "from PIL import Image as pili, ImageDraw as pild, ImageFont as pilf \n",
    "\n",
    "piliops.expand(pili.open('ipynb.images/comic book 2/42.png'), border=(10,10),fill='black').save('ipynb.images/comic book 2/edited comic book 2/42.PNG')\n",
    "Image(filename='ipynb.images/comic book 2/edited comic book 2/42.PNG', width=400)\n",
    "\n",
    "caption = \"\"\"Meanwhile, Baloo, instructed by Mowgli to scare off Shanti before \n",
    "(when he was angry with her for telling the Sarpanch on him) unknowingly \n",
    "scares Ranjan and her!\"\"\"\n",
    "\n",
    "TINT_COLOR = (0, 0, 0)  # Black\n",
    "TRANSPARENCY = .90  # Degree of transparency, 0-100%\n",
    "OPACITY = int(255 * TRANSPARENCY)\n",
    "\n",
    "from PIL import Image, ImageFont, ImageDraw\n",
    "\n",
    "img = pili.open('ipynb.images/comic book 2/edited comic book 2/42.PNG').convert('RGBA')\n",
    "\n",
    "overlay = pili.new('RGBA', img.size, TINT_COLOR+(0,))\n",
    "draw = pild.Draw(overlay)\n",
    "font = pilf.truetype(\"arial.ttf\", 20)\n",
    "x, y = (img.width, img.height)\n",
    "text = caption\n",
    "w, h = font.getsize(text)\n",
    "num_lines = len(text.split('\\n'))\n",
    "print(num_lines, w, h)\n",
    "x, y = 10, img.height - (num_lines-0.001*num_lines)*h\n",
    "#draw.rectangle((x+w, y+h, x + w, y + h), fill='black')\n",
    "#draw.rectangle((x, y, x + w, y + 4*h), fill=TINT_COLOR+(OPACITY,))\n",
    "draw.rectangle((x, y, x + img.width*3, y + img.height*3), fill=TINT_COLOR+(OPACITY,))\n",
    "draw.text((x, y), text, fill=(225, 255, 255), font=font)\n",
    "\n",
    "# Alpha composite these two images together to obtain the desired result.\n",
    "img = pili.alpha_composite(img, overlay)\n",
    "img = img.convert(\"RGB\") # Remove alpha for saving in jpg format.\n",
    "\n",
    "img.save('ipynb.images/comic book 2/edited comic book 2 with captions/42.PNG')"
   ]
  },
  {
   "cell_type": "code",
   "execution_count": 267,
   "metadata": {},
   "outputs": [
    {
     "name": "stdout",
     "output_type": "stream",
     "text": [
      "3 1049 23\n"
     ]
    }
   ],
   "source": [
    "from IPython.display import Image\n",
    "from PIL import Image as pili, ImageOps as piliops\n",
    "from PIL import Image as pili, ImageDraw as pild, ImageFont as pilf \n",
    "\n",
    "piliops.expand(pili.open('ipynb.images/comic book 2/41.1.png'), border=(10,10),fill='black').save('ipynb.images/comic book 2/edited comic book 2/41.1.PNG')\n",
    "Image(filename='ipynb.images/comic book 2/edited comic book 2/41.1.PNG', width=400)\n",
    "\n",
    "caption = \"\"\"Shanti and Ranjan are absolutely terrified by Baloo!\n",
    "Mowgli intervenes and chastises Baloo for scaring his friends\n",
    "    \"\"\"\n",
    "\n",
    "TINT_COLOR = (0, 0, 0)  # Black\n",
    "TRANSPARENCY = .90  # Degree of transparency, 0-100%\n",
    "OPACITY = int(255 * TRANSPARENCY)\n",
    "\n",
    "from PIL import Image, ImageFont, ImageDraw\n",
    "\n",
    "img = pili.open('ipynb.images/comic book 2/edited comic book 2/41.1.PNG').convert('RGBA')\n",
    "\n",
    "overlay = pili.new('RGBA', img.size, TINT_COLOR+(0,))\n",
    "draw = pild.Draw(overlay)\n",
    "font = pilf.truetype(\"arial.ttf\", 20)\n",
    "x, y = (img.width, img.height)\n",
    "text = caption\n",
    "w, h = font.getsize(text)\n",
    "num_lines = len(text.split('\\n'))\n",
    "print(num_lines, w, h)\n",
    "x, y = 10, img.height - (num_lines-0.001*num_lines)*h\n",
    "#draw.rectangle((x+w, y+h, x + w, y + h), fill='black')\n",
    "#draw.rectangle((x, y, x + w, y + 4*h), fill=TINT_COLOR+(OPACITY,))\n",
    "draw.rectangle((x, y, x + img.width*3, y + img.height*3), fill=TINT_COLOR+(OPACITY,))\n",
    "draw.text((x, y), text, fill=(225, 255, 255), font=font)\n",
    "\n",
    "# Alpha composite these two images together to obtain the desired result.\n",
    "img = pili.alpha_composite(img, overlay)\n",
    "img = img.convert(\"RGB\") # Remove alpha for saving in jpg format.\n",
    "\n",
    "img.save('ipynb.images/comic book 2/edited comic book 2 with captions/41.1.PNG')"
   ]
  },
  {
   "cell_type": "code",
   "execution_count": 268,
   "metadata": {},
   "outputs": [
    {
     "name": "stderr",
     "output_type": "stream",
     "text": [
      "<ipython-input-268-e56d9722858c>:12: FutureWarning: arrays to stack must be passed as a \"sequence\" type such as list or tuple. Support for non-sequence iterables such as generators is deprecated as of NumPy 1.16 and will raise an error in the future.\n",
      "  imgs_comb = np.hstack( (np.asarray( i.resize(min_shape) ) for i in imgs ) )\n"
     ]
    }
   ],
   "source": [
    "import numpy as np\n",
    "import PIL\n",
    "\n",
    "list_im = ['ipynb.images/comic book 2/edited comic book 2 with captions/40.PNG',\n",
    "            'ipynb.images/comic book 2/edited comic book 2 with captions/42.PNG',\n",
    "            'ipynb.images/comic book 2/edited comic book 2 with captions/41.1.PNG'\n",
    "          ]\n",
    "imgs    = [ PIL.Image.open(i) for i in list_im ]\n",
    "\n",
    "# pick the image which is the smallest, and resize the others to match it (can be arbitrary image shape here)\n",
    "min_shape = sorted( [(np.sum(i.size), i.size ) for i in imgs])[0][1]\n",
    "imgs_comb = np.hstack( (np.asarray( i.resize(min_shape) ) for i in imgs ) )\n",
    "\n",
    "# save that beautiful picture\n",
    "imgs_comb = PIL.Image.fromarray( imgs_comb)\n",
    "imgs_comb.save( 'ipynb.images\\comic book 2\\combined comic book 2.3\\Strip14.png' )"
   ]
  },
  {
   "cell_type": "code",
   "execution_count": 26,
   "metadata": {},
   "outputs": [
    {
     "name": "stdout",
     "output_type": "stream",
     "text": [
      "4 2188 23\n"
     ]
    }
   ],
   "source": [
    "from IPython.display import Image\n",
    "from PIL import Image as pili, ImageOps as piliops\n",
    "from PIL import Image as pili, ImageDraw as pild, ImageFont as pilf \n",
    "\n",
    "piliops.expand(pili.open('ipynb.images/comic book 2/43.png'), border=(10,10),fill='black').save('ipynb.images/comic book 2/edited comic book 2/43.PNG')\n",
    "Image(filename='ipynb.images/comic book 2/edited comic book 2/43.PNG', width=400)\n",
    "\n",
    "caption = \"\"\"Baloo, confused recalls being asked by Mowgli to do so, much to \n",
    "Shanti's and Ranjan's surprise!\n",
    "Mowgli: *regrettably tries to diffuse the sitution* \"Shanti, Ranjan, this is a \n",
    "misunderstanding, I am very happy to see you two! Please forgive me!\" \"\"\"\n",
    "\n",
    "TINT_COLOR = (0, 0, 0)  # Black\n",
    "TRANSPARENCY = .90  # Degree of transparency, 0-100%\n",
    "OPACITY = int(255 * TRANSPARENCY)\n",
    "\n",
    "from PIL import Image, ImageFont, ImageDraw\n",
    "\n",
    "img = pili.open('ipynb.images/comic book 2/edited comic book 2/43.PNG').convert('RGBA')\n",
    "\n",
    "overlay = pili.new('RGBA', img.size, TINT_COLOR+(0,))\n",
    "draw = pild.Draw(overlay)\n",
    "font = pilf.truetype(\"arial.ttf\", 20)\n",
    "x, y = (img.width, img.height)\n",
    "text = caption\n",
    "w, h = font.getsize(text)\n",
    "num_lines = len(text.split('\\n'))\n",
    "print(num_lines, w, h)\n",
    "x, y = 10, img.height - (num_lines-0.001*num_lines)*h\n",
    "#draw.rectangle((x+w, y+h, x + w, y + h), fill='black')\n",
    "#draw.rectangle((x, y, x + w, y + 4*h), fill=TINT_COLOR+(OPACITY,))\n",
    "draw.rectangle((x, y, x + img.width*3, y + img.height*3), fill=TINT_COLOR+(OPACITY,))\n",
    "draw.text((x, y), text, fill=(225, 255, 255), font=font)\n",
    "\n",
    "# Alpha composite these two images together to obtain the desired result.\n",
    "img = pili.alpha_composite(img, overlay)\n",
    "img = img.convert(\"RGB\") # Remove alpha for saving in jpg format.\n",
    "\n",
    "img.save('ipynb.images/comic book 2/edited comic book 2 with captions/43.PNG')"
   ]
  },
  {
   "cell_type": "code",
   "execution_count": 27,
   "metadata": {},
   "outputs": [
    {
     "name": "stdout",
     "output_type": "stream",
     "text": [
      "2 896 23\n"
     ]
    }
   ],
   "source": [
    "from IPython.display import Image\n",
    "from PIL import Image as pili, ImageOps as piliops\n",
    "from PIL import Image as pili, ImageDraw as pild, ImageFont as pilf \n",
    "\n",
    "piliops.expand(pili.open('ipynb.images/comic book 2/44.png'), border=(10,10),fill='black').save('ipynb.images/comic book 2/edited comic book 2/44.PNG')\n",
    "Image(filename='ipynb.images/comic book 2/edited comic book 2/44.PNG', width=400)\n",
    "\n",
    "caption = \"\"\"Shanti, heartbroken, furiously walks away with Ranjan in her tow \n",
    "before Mowgli can explain himself \"\"\"\n",
    "\n",
    "TINT_COLOR = (0, 0, 0)  # Black\n",
    "TRANSPARENCY = .90  # Degree of transparency, 0-100%\n",
    "OPACITY = int(255 * TRANSPARENCY)\n",
    "\n",
    "from PIL import Image, ImageFont, ImageDraw\n",
    "\n",
    "img = pili.open('ipynb.images/comic book 2/edited comic book 2/44.PNG').convert('RGBA')\n",
    "\n",
    "overlay = pili.new('RGBA', img.size, TINT_COLOR+(0,))\n",
    "draw = pild.Draw(overlay)\n",
    "font = pilf.truetype(\"arial.ttf\", 20)\n",
    "x, y = (img.width, img.height)\n",
    "text = caption\n",
    "w, h = font.getsize(text)\n",
    "num_lines = len(text.split('\\n'))\n",
    "print(num_lines, w, h)\n",
    "x, y = 10, img.height - (num_lines-0.001*num_lines)*h\n",
    "#draw.rectangle((x+w, y+h, x + w, y + h), fill='black')\n",
    "#draw.rectangle((x, y, x + w, y + 4*h), fill=TINT_COLOR+(OPACITY,))\n",
    "draw.rectangle((x, y, x + img.width*3, y + img.height*3), fill=TINT_COLOR+(OPACITY,))\n",
    "draw.text((x, y), text, fill=(225, 255, 255), font=font)\n",
    "\n",
    "# Alpha composite these two images together to obtain the desired result.\n",
    "img = pili.alpha_composite(img, overlay)\n",
    "img = img.convert(\"RGB\") # Remove alpha for saving in jpg format.\n",
    "\n",
    "img.save('ipynb.images/comic book 2/edited comic book 2 with captions/44.PNG')"
   ]
  },
  {
   "cell_type": "code",
   "execution_count": 28,
   "metadata": {},
   "outputs": [
    {
     "name": "stdout",
     "output_type": "stream",
     "text": [
      "3 918 23\n"
     ]
    }
   ],
   "source": [
    "from IPython.display import Image\n",
    "from PIL import Image as pili, ImageOps as piliops\n",
    "from PIL import Image as pili, ImageDraw as pild, ImageFont as pilf \n",
    "\n",
    "piliops.expand(pili.open('ipynb.images/comic book 2/45.png'), border=(10,10),fill='black').save('ipynb.images/comic book 2/edited comic book 2/45.PNG')\n",
    "Image(filename='ipynb.images/comic book 2/edited comic book 2/45.PNG', width=400)\n",
    "\n",
    "caption = \"\"\"Mowgli: \"Shanti! Wait!\"\n",
    "*Sighs as he loses sight of her*\n",
    "He goes after Shanti and Ranjan to apologise \"\"\"\n",
    "\n",
    "TINT_COLOR = (0, 0, 0)  # Black\n",
    "TRANSPARENCY = .90  # Degree of transparency, 0-100%\n",
    "OPACITY = int(255 * TRANSPARENCY)\n",
    "\n",
    "from PIL import Image, ImageFont, ImageDraw\n",
    "\n",
    "img = pili.open('ipynb.images/comic book 2/edited comic book 2/45.PNG').convert('RGBA')\n",
    "\n",
    "overlay = pili.new('RGBA', img.size, TINT_COLOR+(0,))\n",
    "draw = pild.Draw(overlay)\n",
    "font = pilf.truetype(\"arial.ttf\", 20)\n",
    "x, y = (img.width, img.height)\n",
    "text = caption\n",
    "w, h = font.getsize(text)\n",
    "num_lines = len(text.split('\\n'))\n",
    "print(num_lines, w, h)\n",
    "x, y = 10, img.height - (num_lines-0.001*num_lines)*h\n",
    "#draw.rectangle((x+w, y+h, x + w, y + h), fill='black')\n",
    "#draw.rectangle((x, y, x + w, y + 4*h), fill=TINT_COLOR+(OPACITY,))\n",
    "draw.rectangle((x, y, x + img.width*3, y + img.height*3), fill=TINT_COLOR+(OPACITY,))\n",
    "draw.text((x, y), text, fill=(225, 255, 255), font=font)\n",
    "\n",
    "# Alpha composite these two images together to obtain the desired result.\n",
    "img = pili.alpha_composite(img, overlay)\n",
    "img = img.convert(\"RGB\") # Remove alpha for saving in jpg format.\n",
    "\n",
    "img.save('ipynb.images/comic book 2/edited comic book 2 with captions/45.PNG')"
   ]
  },
  {
   "cell_type": "code",
   "execution_count": 29,
   "metadata": {},
   "outputs": [
    {
     "name": "stderr",
     "output_type": "stream",
     "text": [
      "<ipython-input-29-8878d521e5ea>:12: FutureWarning: arrays to stack must be passed as a \"sequence\" type such as list or tuple. Support for non-sequence iterables such as generators is deprecated as of NumPy 1.16 and will raise an error in the future.\n",
      "  imgs_comb = np.hstack( (np.asarray( i.resize(min_shape) ) for i in imgs ) )\n"
     ]
    }
   ],
   "source": [
    "import numpy as np\n",
    "import PIL\n",
    "\n",
    "list_im = ['ipynb.images/comic book 2/edited comic book 2 with captions/43.PNG',\n",
    "            'ipynb.images/comic book 2/edited comic book 2 with captions/44.PNG',\n",
    "            'ipynb.images/comic book 2/edited comic book 2 with captions/45.PNG'\n",
    "          ]\n",
    "imgs    = [ PIL.Image.open(i) for i in list_im ]\n",
    "\n",
    "# pick the image which is the smallest, and resize the others to match it (can be arbitrary image shape here)\n",
    "min_shape = sorted( [(np.sum(i.size), i.size ) for i in imgs])[0][1]\n",
    "imgs_comb = np.hstack( (np.asarray( i.resize(min_shape) ) for i in imgs ) )\n",
    "\n",
    "# save that beautiful picture\n",
    "imgs_comb = PIL.Image.fromarray( imgs_comb)\n",
    "imgs_comb.save( 'ipynb.images\\comic book 2\\combined comic book 2.3\\Strip15.png' )"
   ]
  },
  {
   "cell_type": "code",
   "execution_count": 30,
   "metadata": {},
   "outputs": [
    {
     "name": "stdout",
     "output_type": "stream",
     "text": [
      "2 859 23\n"
     ]
    }
   ],
   "source": [
    "from IPython.display import Image\n",
    "from PIL import Image as pili, ImageOps as piliops\n",
    "from PIL import Image as pili, ImageDraw as pild, ImageFont as pilf \n",
    "\n",
    "piliops.expand(pili.open('ipynb.images/comic book 2/46.png'), border=(10,10),fill='black').save('ipynb.images/comic book 2/edited comic book 2/46.PNG')\n",
    "Image(filename='ipynb.images/comic book 2/edited comic book 2/46.PNG', width=400)\n",
    "\n",
    "caption = \"\"\"Not long after Shanti and Ranjan leave, they are confronted by none \n",
    "other than.. Shere Khan!! \"\"\"\n",
    "\n",
    "TINT_COLOR = (0, 0, 0)  # Black\n",
    "TRANSPARENCY = .90  # Degree of transparency, 0-100%\n",
    "OPACITY = int(255 * TRANSPARENCY)\n",
    "\n",
    "from PIL import Image, ImageFont, ImageDraw\n",
    "\n",
    "img = pili.open('ipynb.images/comic book 2/edited comic book 2/46.PNG').convert('RGBA')\n",
    "\n",
    "overlay = pili.new('RGBA', img.size, TINT_COLOR+(0,))\n",
    "draw = pild.Draw(overlay)\n",
    "font = pilf.truetype(\"arial.ttf\", 20)\n",
    "x, y = (img.width, img.height)\n",
    "text = caption\n",
    "w, h = font.getsize(text)\n",
    "num_lines = len(text.split('\\n'))\n",
    "print(num_lines, w, h)\n",
    "x, y = 10, img.height - (num_lines-0.001*num_lines)*h\n",
    "#draw.rectangle((x+w, y+h, x + w, y + h), fill='black')\n",
    "#draw.rectangle((x, y, x + w, y + 4*h), fill=TINT_COLOR+(OPACITY,))\n",
    "draw.rectangle((x, y, x + img.width*3, y + img.height*3), fill=TINT_COLOR+(OPACITY,))\n",
    "draw.text((x, y), text, fill=(225, 255, 255), font=font)\n",
    "\n",
    "# Alpha composite these two images together to obtain the desired result.\n",
    "img = pili.alpha_composite(img, overlay)\n",
    "img = img.convert(\"RGB\") # Remove alpha for saving in jpg format.\n",
    "\n",
    "img.save('ipynb.images/comic book 2/edited comic book 2 with captions/46.PNG')"
   ]
  },
  {
   "cell_type": "code",
   "execution_count": 31,
   "metadata": {},
   "outputs": [
    {
     "name": "stdout",
     "output_type": "stream",
     "text": [
      "2 839 23\n"
     ]
    }
   ],
   "source": [
    "from IPython.display import Image\n",
    "from PIL import Image as pili, ImageOps as piliops\n",
    "from PIL import Image as pili, ImageDraw as pild, ImageFont as pilf \n",
    "\n",
    "piliops.expand(pili.open('ipynb.images/comic book 2/447.png'), border=(10,10),fill='black').save('ipynb.images/comic book 2/edited comic book 2/447.PNG')\n",
    "Image(filename='ipynb.images/comic book 2/edited comic book 2/46.PNG', width=400)\n",
    "\n",
    "caption = \"\"\"Mowgli arrives just in time to find his friends standing in fear as \n",
    "Shere Khan approches them \"\"\"\n",
    "\n",
    "TINT_COLOR = (0, 0, 0)  # Black\n",
    "TRANSPARENCY = .90  # Degree of transparency, 0-100%\n",
    "OPACITY = int(255 * TRANSPARENCY)\n",
    "\n",
    "from PIL import Image, ImageFont, ImageDraw\n",
    "\n",
    "img = pili.open('ipynb.images/comic book 2/edited comic book 2/447.PNG').convert('RGBA')\n",
    "\n",
    "overlay = pili.new('RGBA', img.size, TINT_COLOR+(0,))\n",
    "draw = pild.Draw(overlay)\n",
    "font = pilf.truetype(\"arial.ttf\", 20)\n",
    "x, y = (img.width, img.height)\n",
    "text = caption\n",
    "w, h = font.getsize(text)\n",
    "num_lines = len(text.split('\\n'))\n",
    "print(num_lines, w, h)\n",
    "x, y = 10, img.height - (num_lines-0.001*num_lines)*h\n",
    "#draw.rectangle((x+w, y+h, x + w, y + h), fill='black')\n",
    "#draw.rectangle((x, y, x + w, y + 4*h), fill=TINT_COLOR+(OPACITY,))\n",
    "draw.rectangle((x, y, x + img.width*3, y + img.height*3), fill=TINT_COLOR+(OPACITY,))\n",
    "draw.text((x, y), text, fill=(225, 255, 255), font=font)\n",
    "\n",
    "# Alpha composite these two images together to obtain the desired result.\n",
    "img = pili.alpha_composite(img, overlay)\n",
    "img = img.convert(\"RGB\") # Remove alpha for saving in jpg format.\n",
    "\n",
    "img.save('ipynb.images/comic book 2/edited comic book 2 with captions/447.PNG')"
   ]
  },
  {
   "cell_type": "code",
   "execution_count": 32,
   "metadata": {},
   "outputs": [
    {
     "name": "stdout",
     "output_type": "stream",
     "text": [
      "2 531 23\n"
     ]
    }
   ],
   "source": [
    "from IPython.display import Image\n",
    "from PIL import Image as pili, ImageOps as piliops\n",
    "from PIL import Image as pili, ImageDraw as pild, ImageFont as pilf \n",
    "\n",
    "piliops.expand(pili.open('ipynb.images/comic book 2/47.1.png'), border=(10,10),fill='black').save('ipynb.images/comic book 2/edited comic book 2/47.1.PNG')\n",
    "Image(filename='ipynb.images/comic book 2/edited comic book 2/47.1.PNG', width=400)\n",
    "\n",
    "caption = \"\"\"Mowgli asks them to run to safety as the tiger approaches\n",
    "\"\"\"\n",
    "\n",
    "TINT_COLOR = (0, 0, 0)  # Black\n",
    "TRANSPARENCY = .90  # Degree of transparency, 0-100%\n",
    "OPACITY = int(255 * TRANSPARENCY)\n",
    "\n",
    "from PIL import Image, ImageFont, ImageDraw\n",
    "\n",
    "img = pili.open('ipynb.images/comic book 2/edited comic book 2/47.1.PNG').convert('RGBA')\n",
    "\n",
    "overlay = pili.new('RGBA', img.size, TINT_COLOR+(0,))\n",
    "draw = pild.Draw(overlay)\n",
    "font = pilf.truetype(\"arial.ttf\", 20)\n",
    "x, y = (img.width, img.height)\n",
    "text = caption\n",
    "w, h = font.getsize(text)\n",
    "num_lines = len(text.split('\\n'))\n",
    "print(num_lines, w, h)\n",
    "x, y = 10, img.height - (num_lines-0.001*num_lines)*h\n",
    "#draw.rectangle((x+w, y+h, x + w, y + h), fill='black')\n",
    "#draw.rectangle((x, y, x + w, y + 4*h), fill=TINT_COLOR+(OPACITY,))\n",
    "draw.rectangle((x, y, x + img.width*3, y + img.height*3), fill=TINT_COLOR+(OPACITY,))\n",
    "draw.text((x, y), text, fill=(225, 255, 255), font=font)\n",
    "\n",
    "# Alpha composite these two images together to obtain the desired result.\n",
    "img = pili.alpha_composite(img, overlay)\n",
    "img = img.convert(\"RGB\") # Remove alpha for saving in jpg format.\n",
    "\n",
    "img.save('ipynb.images/comic book 2/edited comic book 2 with captions/47.1.PNG')"
   ]
  },
  {
   "cell_type": "code",
   "execution_count": 33,
   "metadata": {},
   "outputs": [
    {
     "name": "stderr",
     "output_type": "stream",
     "text": [
      "<ipython-input-33-da8a4afa87dd>:12: FutureWarning: arrays to stack must be passed as a \"sequence\" type such as list or tuple. Support for non-sequence iterables such as generators is deprecated as of NumPy 1.16 and will raise an error in the future.\n",
      "  imgs_comb = np.hstack( (np.asarray( i.resize(min_shape) ) for i in imgs ) )\n"
     ]
    }
   ],
   "source": [
    "import numpy as np\n",
    "import PIL\n",
    "\n",
    "list_im = ['ipynb.images/comic book 2/edited comic book 2 with captions/46.PNG',\n",
    "            'ipynb.images/comic book 2/edited comic book 2 with captions/447.PNG',\n",
    "            'ipynb.images/comic book 2/edited comic book 2 with captions/47.1.PNG'\n",
    "          ]\n",
    "imgs    = [ PIL.Image.open(i) for i in list_im ]\n",
    "\n",
    "# pick the image which is the smallest, and resize the others to match it (can be arbitrary image shape here)\n",
    "min_shape = sorted( [(np.sum(i.size), i.size ) for i in imgs])[0][1]\n",
    "imgs_comb = np.hstack( (np.asarray( i.resize(min_shape) ) for i in imgs ) )\n",
    "\n",
    "# save that beautiful picture\n",
    "imgs_comb = PIL.Image.fromarray( imgs_comb)\n",
    "imgs_comb.save( 'ipynb.images\\comic book 2\\combined comic book 2.3\\Strip16.png' )"
   ]
  },
  {
   "cell_type": "code",
   "execution_count": 34,
   "metadata": {},
   "outputs": [
    {
     "name": "stdout",
     "output_type": "stream",
     "text": [
      "2 410 23\n"
     ]
    }
   ],
   "source": [
    "from IPython.display import Image\n",
    "from PIL import Image as pili, ImageOps as piliops\n",
    "from PIL import Image as pili, ImageDraw as pild, ImageFont as pilf \n",
    "\n",
    "piliops.expand(pili.open('ipynb.images/comic book 2/47.2.png'), border=(10,10),fill='black').save('ipynb.images/comic book 2/edited comic book 2/47.2.PNG')\n",
    "Image(filename='ipynb.images/comic book 2/edited comic book 2/47.2.PNG', width=400)\n",
    "\n",
    "caption = \"\"\"He then throws dust at his eyes, and runs\n",
    "    \"\"\"\n",
    "\n",
    "TINT_COLOR = (0, 0, 0)  # Black\n",
    "TRANSPARENCY = .90  # Degree of transparency, 0-100%\n",
    "OPACITY = int(255 * TRANSPARENCY)\n",
    "\n",
    "from PIL import Image, ImageFont, ImageDraw\n",
    "\n",
    "img = pili.open('ipynb.images/comic book 2/edited comic book 2/47.2.PNG').convert('RGBA')\n",
    "\n",
    "overlay = pili.new('RGBA', img.size, TINT_COLOR+(0,))\n",
    "draw = pild.Draw(overlay)\n",
    "font = pilf.truetype(\"arial.ttf\", 20)\n",
    "x, y = (img.width, img.height)\n",
    "text = caption\n",
    "w, h = font.getsize(text)\n",
    "num_lines = len(text.split('\\n'))\n",
    "print(num_lines, w, h)\n",
    "x, y = 10, img.height - (num_lines-0.001*num_lines)*h\n",
    "#draw.rectangle((x+w, y+h, x + w, y + h), fill='black')\n",
    "#draw.rectangle((x, y, x + w, y + 4*h), fill=TINT_COLOR+(OPACITY,))\n",
    "draw.rectangle((x, y, x + img.width*3, y + img.height*3), fill=TINT_COLOR+(OPACITY,))\n",
    "draw.text((x, y), text, fill=(225, 255, 255), font=font)\n",
    "\n",
    "# Alpha composite these two images together to obtain the desired result.\n",
    "img = pili.alpha_composite(img, overlay)\n",
    "img = img.convert(\"RGB\") # Remove alpha for saving in jpg format.\n",
    "\n",
    "img.save('ipynb.images/comic book 2/edited comic book 2 with captions/47.2.PNG')"
   ]
  },
  {
   "cell_type": "code",
   "execution_count": 35,
   "metadata": {},
   "outputs": [
    {
     "name": "stdout",
     "output_type": "stream",
     "text": [
      "2 352 22\n"
     ]
    }
   ],
   "source": [
    "from IPython.display import Image\n",
    "from PIL import Image as pili, ImageOps as piliops\n",
    "from PIL import Image as pili, ImageDraw as pild, ImageFont as pilf \n",
    "\n",
    "piliops.expand(pili.open('ipynb.images/comic book 2/47.4.png'), border=(10,10),fill='black').save('ipynb.images/comic book 2/edited comic book 2/47.4.PNG')\n",
    "Image(filename='ipynb.images/comic book 2/edited comic book 2/47.4.PNG', width=400)\n",
    "\n",
    "caption = \"\"\"Shere Khan, hazed at first follows him\n",
    "\"\"\"\n",
    "\n",
    "TINT_COLOR = (0, 0, 0)  # Black\n",
    "TRANSPARENCY = .90  # Degree of transparency, 0-100%\n",
    "OPACITY = int(255 * TRANSPARENCY)\n",
    "\n",
    "from PIL import Image, ImageFont, ImageDraw\n",
    "\n",
    "img = pili.open('ipynb.images/comic book 2/edited comic book 2/47.4.PNG').convert('RGBA')\n",
    "\n",
    "overlay = pili.new('RGBA', img.size, TINT_COLOR+(0,))\n",
    "draw = pild.Draw(overlay)\n",
    "font = pilf.truetype(\"arial.ttf\", 20)\n",
    "x, y = (img.width, img.height)\n",
    "text = caption\n",
    "w, h = font.getsize(text)\n",
    "num_lines = len(text.split('\\n'))\n",
    "print(num_lines, w, h)\n",
    "x, y = 10, img.height - (num_lines-0.001*num_lines)*h\n",
    "#draw.rectangle((x+w, y+h, x + w, y + h), fill='black')\n",
    "#draw.rectangle((x, y, x + w, y + 4*h), fill=TINT_COLOR+(OPACITY,))\n",
    "draw.rectangle((x, y, x + img.width*3, y + img.height*3), fill=TINT_COLOR+(OPACITY,))\n",
    "draw.text((x, y), text, fill=(225, 255, 255), font=font)\n",
    "\n",
    "# Alpha composite these two images together to obtain the desired result.\n",
    "img = pili.alpha_composite(img, overlay)\n",
    "img = img.convert(\"RGB\") # Remove alpha for saving in jpg format.\n",
    "\n",
    "img.save('ipynb.images/comic book 2/edited comic book 2 with captions/47.4.PNG')"
   ]
  },
  {
   "cell_type": "code",
   "execution_count": 36,
   "metadata": {},
   "outputs": [
    {
     "name": "stdout",
     "output_type": "stream",
     "text": [
      "2 610 23\n"
     ]
    }
   ],
   "source": [
    "from IPython.display import Image\n",
    "from PIL import Image as pili, ImageOps as piliops\n",
    "from PIL import Image as pili, ImageDraw as pild, ImageFont as pilf \n",
    "\n",
    "piliops.expand(pili.open('ipynb.images/comic book 2/47.5.png'), border=(10,10),fill='black').save('ipynb.images/comic book 2/edited comic book 2/47.5.PNG')\n",
    "Image(filename='ipynb.images/comic book 2/edited comic book 2/47.5.PNG', width=400)\n",
    "\n",
    "caption = \"\"\"Mowgli asks Shanti and Rajan to stay hidden and continues to runs\n",
    "\"\"\"\n",
    "\n",
    "TINT_COLOR = (0, 0, 0)  # Black\n",
    "TRANSPARENCY = .90  # Degree of transparency, 0-100%\n",
    "OPACITY = int(255 * TRANSPARENCY)\n",
    "\n",
    "from PIL import Image, ImageFont, ImageDraw\n",
    "\n",
    "img = pili.open('ipynb.images/comic book 2/edited comic book 2/47.5.PNG').convert('RGBA')\n",
    "\n",
    "overlay = pili.new('RGBA', img.size, TINT_COLOR+(0,))\n",
    "draw = pild.Draw(overlay)\n",
    "font = pilf.truetype(\"arial.ttf\", 20)\n",
    "x, y = (img.width, img.height)\n",
    "text = caption\n",
    "w, h = font.getsize(text)\n",
    "num_lines = len(text.split('\\n'))\n",
    "print(num_lines, w, h)\n",
    "x, y = 10, img.height - (num_lines-0.001*num_lines)*h\n",
    "#draw.rectangle((x+w, y+h, x + w, y + h), fill='black')\n",
    "#draw.rectangle((x, y, x + w, y + 4*h), fill=TINT_COLOR+(OPACITY,))\n",
    "draw.rectangle((x, y, x + img.width*3, y + img.height*3), fill=TINT_COLOR+(OPACITY,))\n",
    "draw.text((x, y), text, fill=(225, 255, 255), font=font)\n",
    "\n",
    "# Alpha composite these two images together to obtain the desired result.\n",
    "img = pili.alpha_composite(img, overlay)\n",
    "img = img.convert(\"RGB\") # Remove alpha for saving in jpg format.\n",
    "\n",
    "img.save('ipynb.images/comic book 2/edited comic book 2 with captions/47.5.PNG')"
   ]
  },
  {
   "cell_type": "code",
   "execution_count": 37,
   "metadata": {},
   "outputs": [
    {
     "name": "stderr",
     "output_type": "stream",
     "text": [
      "<ipython-input-37-e281dbd43c0b>:12: FutureWarning: arrays to stack must be passed as a \"sequence\" type such as list or tuple. Support for non-sequence iterables such as generators is deprecated as of NumPy 1.16 and will raise an error in the future.\n",
      "  imgs_comb = np.hstack( (np.asarray( i.resize(min_shape) ) for i in imgs ) )\n"
     ]
    }
   ],
   "source": [
    "import numpy as np\n",
    "import PIL\n",
    "\n",
    "list_im = ['ipynb.images/comic book 2/edited comic book 2 with captions/47.2.PNG',\n",
    "            'ipynb.images/comic book 2/edited comic book 2 with captions/47.4.PNG',\n",
    "            'ipynb.images/comic book 2/edited comic book 2 with captions/47.5.PNG'\n",
    "          ]\n",
    "imgs    = [ PIL.Image.open(i) for i in list_im ]\n",
    "\n",
    "# pick the image which is the smallest, and resize the others to match it (can be arbitrary image shape here)\n",
    "min_shape = sorted( [(np.sum(i.size), i.size ) for i in imgs])[0][1]\n",
    "imgs_comb = np.hstack( (np.asarray( i.resize(min_shape) ) for i in imgs ) )\n",
    "\n",
    "# save that beautiful picture\n",
    "imgs_comb = PIL.Image.fromarray( imgs_comb)\n",
    "imgs_comb.save( 'ipynb.images\\comic book 2\\combined comic book 2.3\\Strip17.png' )"
   ]
  },
  {
   "cell_type": "code",
   "execution_count": 38,
   "metadata": {},
   "outputs": [
    {
     "name": "stdout",
     "output_type": "stream",
     "text": [
      "2 1238 23\n"
     ]
    }
   ],
   "source": [
    "from IPython.display import Image\n",
    "from PIL import Image as pili, ImageOps as piliops\n",
    "from PIL import Image as pili, ImageDraw as pild, ImageFont as pilf \n",
    "\n",
    "piliops.expand(pili.open('ipynb.images/comic book 2/47.7.png'), border=(10,10),fill='black').save('ipynb.images/comic book 2/edited comic book 2/47.7.PNG')\n",
    "Image(filename='ipynb.images/comic book 2/edited comic book 2/47.7.PNG', width=400)\n",
    "\n",
    "caption = \"\"\"Shanti's concern for Mowgli overpowers her fear of the jungle \n",
    "as she asks Ranjan to stay in one place as she chases after Mowgli to help \"\"\"\n",
    "\n",
    "TINT_COLOR = (0, 0, 0)  # Black\n",
    "TRANSPARENCY = .90  # Degree of transparency, 0-100%\n",
    "OPACITY = int(255 * TRANSPARENCY)\n",
    "\n",
    "from PIL import Image, ImageFont, ImageDraw\n",
    "\n",
    "img = pili.open('ipynb.images/comic book 2/edited comic book 2/47.7.PNG').convert('RGBA')\n",
    "\n",
    "overlay = pili.new('RGBA', img.size, TINT_COLOR+(0,))\n",
    "draw = pild.Draw(overlay)\n",
    "font = pilf.truetype(\"arial.ttf\", 20)\n",
    "x, y = (img.width, img.height)\n",
    "text = caption\n",
    "w, h = font.getsize(text)\n",
    "num_lines = len(text.split('\\n'))\n",
    "print(num_lines, w, h)\n",
    "x, y = 10, img.height - (num_lines-0.001*num_lines)*h\n",
    "#draw.rectangle((x+w, y+h, x + w, y + h), fill='black')\n",
    "#draw.rectangle((x, y, x + w, y + 4*h), fill=TINT_COLOR+(OPACITY,))\n",
    "draw.rectangle((x, y, x + img.width*3, y + img.height*3), fill=TINT_COLOR+(OPACITY,))\n",
    "draw.text((x, y), text, fill=(225, 255, 255), font=font)\n",
    "\n",
    "# Alpha composite these two images together to obtain the desired result.\n",
    "img = pili.alpha_composite(img, overlay)\n",
    "img = img.convert(\"RGB\") # Remove alpha for saving in jpg format.\n",
    "\n",
    "img.save('ipynb.images/comic book 2/edited comic book 2 with captions/47.7.PNG')"
   ]
  },
  {
   "cell_type": "code",
   "execution_count": 39,
   "metadata": {},
   "outputs": [
    {
     "name": "stdout",
     "output_type": "stream",
     "text": [
      "3 884 23\n"
     ]
    }
   ],
   "source": [
    "from IPython.display import Image\n",
    "from PIL import Image as pili, ImageOps as piliops\n",
    "from PIL import Image as pili, ImageDraw as pild, ImageFont as pilf \n",
    "\n",
    "piliops.expand(pili.open('ipynb.images/comic book 2/47.6.png'), border=(10,10),fill='black').save('ipynb.images/comic book 2/edited comic book 2/47.6.PNG')\n",
    "Image(filename='ipynb.images/comic book 2/edited comic book 2/47.6.PNG', width=400)\n",
    "\n",
    "caption = \"\"\"At first Ranjan tries to follow her but soon encounters Baloo and \n",
    "warns him of what is happening\n",
    "\"\"\"\n",
    "\n",
    "TINT_COLOR = (0, 0, 0)  # Black\n",
    "TRANSPARENCY = .90  # Degree of transparency, 0-100%\n",
    "OPACITY = int(255 * TRANSPARENCY)\n",
    "\n",
    "from PIL import Image, ImageFont, ImageDraw\n",
    "\n",
    "img = pili.open('ipynb.images/comic book 2/edited comic book 2/47.6.PNG').convert('RGBA')\n",
    "\n",
    "overlay = pili.new('RGBA', img.size, TINT_COLOR+(0,))\n",
    "draw = pild.Draw(overlay)\n",
    "font = pilf.truetype(\"arial.ttf\", 20)\n",
    "x, y = (img.width, img.height)\n",
    "text = caption\n",
    "w, h = font.getsize(text)\n",
    "num_lines = len(text.split('\\n'))\n",
    "print(num_lines, w, h)\n",
    "x, y = 10, img.height - (num_lines-0.001*num_lines)*h\n",
    "#draw.rectangle((x+w, y+h, x + w, y + h), fill='black')\n",
    "#draw.rectangle((x, y, x + w, y + 4*h), fill=TINT_COLOR+(OPACITY,))\n",
    "draw.rectangle((x, y, x + img.width*3, y + img.height*3), fill=TINT_COLOR+(OPACITY,))\n",
    "draw.text((x, y), text, fill=(225, 255, 255), font=font)\n",
    "\n",
    "# Alpha composite these two images together to obtain the desired result.\n",
    "img = pili.alpha_composite(img, overlay)\n",
    "img = img.convert(\"RGB\") # Remove alpha for saving in jpg format.\n",
    "\n",
    "img.save('ipynb.images/comic book 2/edited comic book 2 with captions/47.6.PNG')"
   ]
  },
  {
   "cell_type": "code",
   "execution_count": 40,
   "metadata": {},
   "outputs": [
    {
     "name": "stdout",
     "output_type": "stream",
     "text": [
      "3 816 23\n"
     ]
    }
   ],
   "source": [
    "from IPython.display import Image\n",
    "from PIL import Image as pili, ImageOps as piliops\n",
    "from PIL import Image as pili, ImageDraw as pild, ImageFont as pilf \n",
    "\n",
    "piliops.expand(pili.open('ipynb.images/comic book 2/49.png'), border=(10,10),fill='black').save('ipynb.images/comic book 2/edited comic book 2/49.PNG')\n",
    "Image(filename='ipynb.images/comic book 2/edited comic book 2/49.PNG', width=400)\n",
    "\n",
    "caption = \"\"\"Bagheera looks after Ranjan while Baloo rushes to the temple \n",
    "in order to aid the children\n",
    "\"\"\"\n",
    "\n",
    "TINT_COLOR = (0, 0, 0)  # Black\n",
    "TRANSPARENCY = .90  # Degree of transparency, 0-100%\n",
    "OPACITY = int(255 * TRANSPARENCY)\n",
    "\n",
    "from PIL import Image, ImageFont, ImageDraw\n",
    "\n",
    "img = pili.open('ipynb.images/comic book 2/edited comic book 2/49.PNG').convert('RGBA')\n",
    "\n",
    "overlay = pili.new('RGBA', img.size, TINT_COLOR+(0,))\n",
    "draw = pild.Draw(overlay)\n",
    "font = pilf.truetype(\"arial.ttf\", 20)\n",
    "x, y = (img.width, img.height)\n",
    "text = caption\n",
    "w, h = font.getsize(text)\n",
    "num_lines = len(text.split('\\n'))\n",
    "print(num_lines, w, h)\n",
    "x, y = 10, img.height - (num_lines-0.001*num_lines)*h\n",
    "#draw.rectangle((x+w, y+h, x + w, y + h), fill='black')\n",
    "#draw.rectangle((x, y, x + w, y + 4*h), fill=TINT_COLOR+(OPACITY,))\n",
    "draw.rectangle((x, y, x + img.width*3, y + img.height*3), fill=TINT_COLOR+(OPACITY,))\n",
    "draw.text((x, y), text, fill=(225, 255, 255), font=font)\n",
    "\n",
    "# Alpha composite these two images together to obtain the desired result.\n",
    "img = pili.alpha_composite(img, overlay)\n",
    "img = img.convert(\"RGB\") # Remove alpha for saving in jpg format.\n",
    "\n",
    "img.save('ipynb.images/comic book 2/edited comic book 2 with captions/49.PNG')"
   ]
  },
  {
   "cell_type": "code",
   "execution_count": 41,
   "metadata": {},
   "outputs": [
    {
     "name": "stderr",
     "output_type": "stream",
     "text": [
      "<ipython-input-41-5bb7d911b1a2>:12: FutureWarning: arrays to stack must be passed as a \"sequence\" type such as list or tuple. Support for non-sequence iterables such as generators is deprecated as of NumPy 1.16 and will raise an error in the future.\n",
      "  imgs_comb = np.hstack( (np.asarray( i.resize(min_shape) ) for i in imgs ) )\n"
     ]
    }
   ],
   "source": [
    "import numpy as np\n",
    "import PIL\n",
    "\n",
    "list_im = ['ipynb.images/comic book 2/edited comic book 2 with captions/47.7.PNG',\n",
    "            'ipynb.images/comic book 2/edited comic book 2 with captions/47.6.PNG',\n",
    "            'ipynb.images/comic book 2/edited comic book 2 with captions/49.PNG'\n",
    "          ]\n",
    "imgs    = [ PIL.Image.open(i) for i in list_im ]\n",
    "\n",
    "# pick the image which is the smallest, and resize the others to match it (can be arbitrary image shape here)\n",
    "min_shape = sorted( [(np.sum(i.size), i.size ) for i in imgs])[0][1]\n",
    "imgs_comb = np.hstack( (np.asarray( i.resize(min_shape) ) for i in imgs ) )\n",
    "\n",
    "# save that beautiful picture\n",
    "imgs_comb = PIL.Image.fromarray( imgs_comb)\n",
    "imgs_comb.save( 'ipynb.images\\comic book 2\\combined comic book 2.3\\Strip18.png' )"
   ]
  },
  {
   "cell_type": "code",
   "execution_count": 42,
   "metadata": {},
   "outputs": [
    {
     "name": "stdout",
     "output_type": "stream",
     "text": [
      "2 1010 23\n"
     ]
    }
   ],
   "source": [
    "from IPython.display import Image\n",
    "from PIL import Image as pili, ImageOps as piliops\n",
    "from PIL import Image as pili, ImageDraw as pild, ImageFont as pilf \n",
    "\n",
    "piliops.expand(pili.open('ipynb.images/comic book 2/48.png'), border=(10,10),fill='black').save('ipynb.images/comic book 2/edited comic book 2/48.PNG')\n",
    "Image(filename='ipynb.images/comic book 2/edited comic book 2/48.PNG', width=400)\n",
    "\n",
    "caption = \"\"\"Shanti follows as Shere Khan chases Mowgli to an ancient \n",
    "temple where they are forced to hide in the shadows \"\"\"\n",
    "\n",
    "TINT_COLOR = (0, 0, 0)  # Black\n",
    "TRANSPARENCY = .90  # Degree of transparency, 0-100%\n",
    "OPACITY = int(255 * TRANSPARENCY)\n",
    "\n",
    "from PIL import Image, ImageFont, ImageDraw\n",
    "\n",
    "img = pili.open('ipynb.images/comic book 2/edited comic book 2/48.PNG').convert('RGBA')\n",
    "\n",
    "overlay = pili.new('RGBA', img.size, TINT_COLOR+(0,))\n",
    "draw = pild.Draw(overlay)\n",
    "font = pilf.truetype(\"arial.ttf\", 20)\n",
    "x, y = (img.width, img.height)\n",
    "text = caption\n",
    "w, h = font.getsize(text)\n",
    "num_lines = len(text.split('\\n'))\n",
    "print(num_lines, w, h)\n",
    "x, y = 10, img.height - (num_lines-0.001*num_lines)*h\n",
    "#draw.rectangle((x+w, y+h, x + w, y + h), fill='black')\n",
    "#draw.rectangle((x, y, x + w, y + 4*h), fill=TINT_COLOR+(OPACITY,))\n",
    "draw.rectangle((x, y, x + img.width*3, y + img.height*3), fill=TINT_COLOR+(OPACITY,))\n",
    "draw.text((x, y), text, fill=(225, 255, 255), font=font)\n",
    "\n",
    "# Alpha composite these two images together to obtain the desired result.\n",
    "img = pili.alpha_composite(img, overlay)\n",
    "img = img.convert(\"RGB\") # Remove alpha for saving in jpg format.\n",
    "\n",
    "img.save('ipynb.images/comic book 2/edited comic book 2 with captions/48.PNG')"
   ]
  },
  {
   "cell_type": "code",
   "execution_count": 43,
   "metadata": {},
   "outputs": [
    {
     "name": "stdout",
     "output_type": "stream",
     "text": [
      "5 2905 23\n"
     ]
    }
   ],
   "source": [
    "from IPython.display import Image\n",
    "from PIL import Image as pili, ImageOps as piliops\n",
    "from PIL import Image as pili, ImageDraw as pild, ImageFont as pilf \n",
    "\n",
    "piliops.expand(pili.open('ipynb.images/comic book 2/51.png'), border=(10,10),fill='black').save('ipynb.images/comic book 2/edited comic book 2/51.PNG')\n",
    "Image(filename='ipynb.images/comic book 2/edited comic book 2/51.PNG', width=400)\n",
    "\n",
    "caption = \"\"\"She runs into Baloo and they quickly recognize each other \n",
    "(Baloo recognizes Shanti as the girl who lured Mowgli into the village \n",
    "2 years ago, and Shanti recognizes Baloo as the wild bear who carried \n",
    "off Mowgli into the jungle and scared her and Ranjan), and start arguing \n",
    "until they realize their mutual goal to help Mowgli \"\"\"\n",
    "\n",
    "TINT_COLOR = (0, 0, 0)  # Black\n",
    "TRANSPARENCY = .90  # Degree of transparency, 0-100%\n",
    "OPACITY = int(255 * TRANSPARENCY)\n",
    "\n",
    "from PIL import Image, ImageFont, ImageDraw\n",
    "\n",
    "img = pili.open('ipynb.images/comic book 2/edited comic book 2/51.PNG').convert('RGBA')\n",
    "\n",
    "overlay = pili.new('RGBA', img.size, TINT_COLOR+(0,))\n",
    "draw = pild.Draw(overlay)\n",
    "font = pilf.truetype(\"arial.ttf\", 20)\n",
    "x, y = (img.width, img.height)\n",
    "text = caption\n",
    "w, h = font.getsize(text)\n",
    "num_lines = len(text.split('\\n'))\n",
    "print(num_lines, w, h)\n",
    "x, y = 10, img.height - (num_lines-0.001*num_lines)*h\n",
    "#draw.rectangle((x+w, y+h, x + w, y + h), fill='black')\n",
    "#draw.rectangle((x, y, x + w, y + 4*h), fill=TINT_COLOR+(OPACITY,))\n",
    "draw.rectangle((x, y, x + img.width*3, y + img.height*3), fill=TINT_COLOR+(OPACITY,))\n",
    "draw.text((x, y), text, fill=(225, 255, 255), font=font)\n",
    "\n",
    "# Alpha composite these two images together to obtain the desired result.\n",
    "img = pili.alpha_composite(img, overlay)\n",
    "img = img.convert(\"RGB\") # Remove alpha for saving in jpg format.\n",
    "\n",
    "img.save('ipynb.images/comic book 2/edited comic book 2 with captions/51.PNG')"
   ]
  },
  {
   "cell_type": "code",
   "execution_count": 44,
   "metadata": {},
   "outputs": [
    {
     "name": "stdout",
     "output_type": "stream",
     "text": [
      "3 1332 23\n"
     ]
    }
   ],
   "source": [
    "from IPython.display import Image\n",
    "from PIL import Image as pili, ImageOps as piliops\n",
    "from PIL import Image as pili, ImageDraw as pild, ImageFont as pilf \n",
    "\n",
    "piliops.expand(pili.open('ipynb.images/comic book 2/53.png'), border=(10,10),fill='black').save('ipynb.images/comic book 2/edited comic book 2/53.PNG')\n",
    "Image(filename='ipynb.images/comic book 2/edited comic book 2/53.PNG', width=400)\n",
    "\n",
    "caption = \"\"\"Baloo suggests they co-operate and they hide behind \n",
    "gongs and bang them to confuse Shere Khan, diverting his \n",
    "attention in order to save Mowgli \"\"\"\n",
    "\n",
    "TINT_COLOR = (0, 0, 0)  # Black\n",
    "TRANSPARENCY = .90  # Degree of transparency, 0-100%\n",
    "OPACITY = int(255 * TRANSPARENCY)\n",
    "\n",
    "from PIL import Image, ImageFont, ImageDraw\n",
    "\n",
    "img = pili.open('ipynb.images/comic book 2/edited comic book 2/53.PNG').convert('RGBA')\n",
    "\n",
    "overlay = pili.new('RGBA', img.size, TINT_COLOR+(0,))\n",
    "draw = pild.Draw(overlay)\n",
    "font = pilf.truetype(\"arial.ttf\", 20)\n",
    "x, y = (img.width, img.height)\n",
    "text = caption\n",
    "w, h = font.getsize(text)\n",
    "num_lines = len(text.split('\\n'))\n",
    "print(num_lines, w, h)\n",
    "x, y = 10, img.height - (num_lines-0.001*num_lines)*h\n",
    "#draw.rectangle((x+w, y+h, x + w, y + h), fill='black')\n",
    "#draw.rectangle((x, y, x + w, y + 4*h), fill=TINT_COLOR+(OPACITY,))\n",
    "draw.rectangle((x, y, x + img.width*3, y + img.height*3), fill=TINT_COLOR+(OPACITY,))\n",
    "draw.text((x, y), text, fill=(225, 255, 255), font=font)\n",
    "\n",
    "# Alpha composite these two images together to obtain the desired result.\n",
    "img = pili.alpha_composite(img, overlay)\n",
    "img = img.convert(\"RGB\") # Remove alpha for saving in jpg format.\n",
    "\n",
    "img.save('ipynb.images/comic book 2/edited comic book 2 with captions/53.PNG')"
   ]
  },
  {
   "cell_type": "code",
   "execution_count": 45,
   "metadata": {},
   "outputs": [
    {
     "name": "stderr",
     "output_type": "stream",
     "text": [
      "<ipython-input-45-01f2d367ec76>:12: FutureWarning: arrays to stack must be passed as a \"sequence\" type such as list or tuple. Support for non-sequence iterables such as generators is deprecated as of NumPy 1.16 and will raise an error in the future.\n",
      "  imgs_comb = np.hstack( (np.asarray( i.resize(min_shape) ) for i in imgs ) )\n"
     ]
    }
   ],
   "source": [
    "import numpy as np\n",
    "import PIL\n",
    "\n",
    "list_im = ['ipynb.images/comic book 2/edited comic book 2 with captions/48.PNG',\n",
    "            'ipynb.images/comic book 2/edited comic book 2 with captions/51.PNG',\n",
    "            'ipynb.images/comic book 2/edited comic book 2 with captions/53.PNG'\n",
    "          ]\n",
    "imgs    = [ PIL.Image.open(i) for i in list_im ]\n",
    "\n",
    "# pick the image which is the smallest, and resize the others to match it (can be arbitrary image shape here)\n",
    "min_shape = sorted( [(np.sum(i.size), i.size ) for i in imgs])[0][1]\n",
    "imgs_comb = np.hstack( (np.asarray( i.resize(min_shape) ) for i in imgs ) )\n",
    "\n",
    "# save that beautiful picture\n",
    "imgs_comb = PIL.Image.fromarray( imgs_comb)\n",
    "imgs_comb.save( 'ipynb.images\\comic book 2\\combined comic book 2.3\\Strip19.png' )"
   ]
  },
  {
   "cell_type": "code",
   "execution_count": 46,
   "metadata": {},
   "outputs": [
    {
     "name": "stdout",
     "output_type": "stream",
     "text": [
      "2 1251 23\n"
     ]
    }
   ],
   "source": [
    "from IPython.display import Image\n",
    "from PIL import Image as pili, ImageOps as piliops\n",
    "from PIL import Image as pili, ImageDraw as pild, ImageFont as pilf \n",
    "\n",
    "piliops.expand(pili.open('ipynb.images/comic book 2/55.png'), border=(10,10),fill='black').save('ipynb.images/comic book 2/edited comic book 2/55.PNG')\n",
    "Image(filename='ipynb.images/comic book 2/edited comic book 2/55.PNG', width=400)\n",
    "\n",
    "caption = \"\"\"Unfortunately, Shanti's gong falls, showing herself to Shere Khan. \n",
    "He calls to Mowgli and threatens to kill Shanti unless he gives himself up \"\"\"\n",
    "\n",
    "TINT_COLOR = (0, 0, 0)  # Black\n",
    "TRANSPARENCY = .90  # Degree of transparency, 0-100%\n",
    "OPACITY = int(255 * TRANSPARENCY)\n",
    "\n",
    "from PIL import Image, ImageFont, ImageDraw\n",
    "\n",
    "img = pili.open('ipynb.images/comic book 2/edited comic book 2/55.PNG').convert('RGBA')\n",
    "\n",
    "overlay = pili.new('RGBA', img.size, TINT_COLOR+(0,))\n",
    "draw = pild.Draw(overlay)\n",
    "font = pilf.truetype(\"arial.ttf\", 20)\n",
    "x, y = (img.width, img.height)\n",
    "text = caption\n",
    "w, h = font.getsize(text)\n",
    "num_lines = len(text.split('\\n'))\n",
    "print(num_lines, w, h)\n",
    "x, y = 10, img.height - (num_lines-0.001*num_lines)*h\n",
    "#draw.rectangle((x+w, y+h, x + w, y + h), fill='black')\n",
    "#draw.rectangle((x, y, x + w, y + 4*h), fill=TINT_COLOR+(OPACITY,))\n",
    "draw.rectangle((x, y, x + img.width*3, y + img.height*3), fill=TINT_COLOR+(OPACITY,))\n",
    "draw.text((x, y), text, fill=(225, 255, 255), font=font)\n",
    "\n",
    "# Alpha composite these two images together to obtain the desired result.\n",
    "img = pili.alpha_composite(img, overlay)\n",
    "img = img.convert(\"RGB\") # Remove alpha for saving in jpg format.\n",
    "\n",
    "img.save('ipynb.images/comic book 2/edited comic book 2 with captions/55.PNG')"
   ]
  },
  {
   "cell_type": "code",
   "execution_count": 47,
   "metadata": {},
   "outputs": [
    {
     "name": "stdout",
     "output_type": "stream",
     "text": [
      "2 794 23\n"
     ]
    }
   ],
   "source": [
    " from IPython.display import Image\n",
    "from PIL import Image as pili, ImageOps as piliops\n",
    "from PIL import Image as pili, ImageDraw as pild, ImageFont as pilf \n",
    "\n",
    "piliops.expand(pili.open('ipynb.images/comic book 2/56.png'), border=(10,10),fill='black').save('ipynb.images/comic book 2/edited comic book 2/56.PNG')\n",
    "Image(filename='ipynb.images/comic book 2/edited comic book 2/56.PNG', width=400)\n",
    "\n",
    "caption = \"\"\" To ensure her safety, Mowgli reveals himself to the tiger, \n",
    "who immediately attacks him \"\"\"\n",
    "\n",
    "TINT_COLOR = (0, 0, 0)  # Black\n",
    "TRANSPARENCY = .90  # Degree of transparency, 0-100%\n",
    "OPACITY = int(255 * TRANSPARENCY)\n",
    "\n",
    "from PIL import Image, ImageFont, ImageDraw\n",
    "\n",
    "img = pili.open('ipynb.images/comic book 2/edited comic book 2/56.PNG').convert('RGBA')\n",
    "\n",
    "overlay = pili.new('RGBA', img.size, TINT_COLOR+(0,))\n",
    "draw = pild.Draw(overlay)\n",
    "font = pilf.truetype(\"arial.ttf\", 20)\n",
    "x, y = (img.width, img.height)\n",
    "text = caption\n",
    "w, h = font.getsize(text)\n",
    "num_lines = len(text.split('\\n'))\n",
    "print(num_lines, w, h)\n",
    "x, y = 10, img.height - (num_lines-0.001*num_lines)*h\n",
    "#draw.rectangle((x+w, y+h, x + w, y + h), fill='black')\n",
    "#draw.rectangle((x, y, x + w, y + 4*h), fill=TINT_COLOR+(OPACITY,))\n",
    "draw.rectangle((x, y, x + img.width*3, y + img.height*3), fill=TINT_COLOR+(OPACITY,))\n",
    "draw.text((x, y), text, fill=(225, 255, 255), font=font)\n",
    "\n",
    "# Alpha composite these two images together to obtain the desired result.\n",
    "img = pili.alpha_composite(img, overlay)\n",
    "img = img.convert(\"RGB\") # Remove alpha for saving in jpg format.\n",
    "\n",
    "img.save('ipynb.images/comic book 2/edited comic book 2 with captions/56.PNG')"
   ]
  },
  {
   "cell_type": "code",
   "execution_count": 48,
   "metadata": {},
   "outputs": [
    {
     "name": "stdout",
     "output_type": "stream",
     "text": [
      "2 830 23\n"
     ]
    }
   ],
   "source": [
    " from IPython.display import Image\n",
    "from PIL import Image as pili, ImageOps as piliops\n",
    "from PIL import Image as pili, ImageDraw as pild, ImageFont as pilf \n",
    "\n",
    "piliops.expand(pili.open('ipynb.images/comic book 2/57.png'), border=(10,10),fill='black').save('ipynb.images/comic book 2/edited comic book 2/57.PNG')\n",
    "Image(filename='ipynb.images/comic book 2/edited comic book 2/57.PNG', width=400)\n",
    "\n",
    "caption = \"\"\"Baloo tries to restrain Shere Khan as Shanti rushes \n",
    "to Mowgli and the two make a run for it \"\"\"\n",
    "\n",
    "TINT_COLOR = (0, 0, 0)  # Black\n",
    "TRANSPARENCY = .90  # Degree of transparency, 0-100%\n",
    "OPACITY = int(255 * TRANSPARENCY)\n",
    "\n",
    "from PIL import Image, ImageFont, ImageDraw\n",
    "\n",
    "img = pili.open('ipynb.images/comic book 2/edited comic book 2/57.PNG').convert('RGBA')\n",
    "\n",
    "overlay = pili.new('RGBA', img.size, TINT_COLOR+(0,))\n",
    "draw = pild.Draw(overlay)\n",
    "font = pilf.truetype(\"arial.ttf\", 20)\n",
    "x, y = (img.width, img.height)\n",
    "text = caption\n",
    "w, h = font.getsize(text)\n",
    "num_lines = len(text.split('\\n'))\n",
    "print(num_lines, w, h)\n",
    "x, y = 10, img.height - (num_lines-0.001*num_lines)*h\n",
    "#draw.rectangle((x+w, y+h, x + w, y + h), fill='black')\n",
    "#draw.rectangle((x, y, x + w, y + 4*h), fill=TINT_COLOR+(OPACITY,))\n",
    "draw.rectangle((x, y, x + img.width*3, y + img.height*3), fill=TINT_COLOR+(OPACITY,))\n",
    "draw.text((x, y), text, fill=(225, 255, 255), font=font)\n",
    "\n",
    "# Alpha composite these two images together to obtain the desired result.\n",
    "img = pili.alpha_composite(img, overlay)\n",
    "img = img.convert(\"RGB\") # Remove alpha for saving in jpg format.\n",
    "\n",
    "img.save('ipynb.images/comic book 2/edited comic book 2 with captions/57.PNG')"
   ]
  },
  {
   "cell_type": "code",
   "execution_count": 49,
   "metadata": {},
   "outputs": [
    {
     "name": "stderr",
     "output_type": "stream",
     "text": [
      "<ipython-input-49-0cfcafd8c9d3>:12: FutureWarning: arrays to stack must be passed as a \"sequence\" type such as list or tuple. Support for non-sequence iterables such as generators is deprecated as of NumPy 1.16 and will raise an error in the future.\n",
      "  imgs_comb = np.hstack( (np.asarray( i.resize(min_shape) ) for i in imgs ) )\n"
     ]
    }
   ],
   "source": [
    "import numpy as np\n",
    "import PIL\n",
    "\n",
    "list_im = ['ipynb.images/comic book 2/edited comic book 2 with captions/55.PNG',\n",
    "            'ipynb.images/comic book 2/edited comic book 2 with captions/56.PNG',\n",
    "            'ipynb.images/comic book 2/edited comic book 2 with captions/57.PNG'\n",
    "          ]\n",
    "imgs    = [ PIL.Image.open(i) for i in list_im ]\n",
    "\n",
    "# pick the image which is the smallest, and resize the others to match it (can be arbitrary image shape here)\n",
    "min_shape = sorted( [(np.sum(i.size), i.size ) for i in imgs])[0][1]\n",
    "imgs_comb = np.hstack( (np.asarray( i.resize(min_shape) ) for i in imgs ) )\n",
    "\n",
    "# save that beautiful picture\n",
    "imgs_comb = PIL.Image.fromarray( imgs_comb)\n",
    "imgs_comb.save( 'ipynb.images\\comic book 2\\combined comic book 2.3\\Strip20.png' )"
   ]
  },
  {
   "cell_type": "code",
   "execution_count": 50,
   "metadata": {},
   "outputs": [
    {
     "name": "stdout",
     "output_type": "stream",
     "text": [
      "2 1047 23\n"
     ]
    }
   ],
   "source": [
    " from IPython.display import Image\n",
    "from PIL import Image as pili, ImageOps as piliops\n",
    "from PIL import Image as pili, ImageDraw as pild, ImageFont as pilf \n",
    "\n",
    "piliops.expand(pili.open('ipynb.images/comic book 2/58.png'), border=(10,10),fill='black').save('ipynb.images/comic book 2/edited comic book 2/58.PNG')\n",
    "Image(filename='ipynb.images/comic book 2/edited comic book 2/58.PNG', width=400)\n",
    "\n",
    "caption = \"\"\"Shere Khan breaks free from Baloo and runs after the \n",
    "children, who leap upon a huge stone overlooking a lava lake \"\"\"\n",
    "\n",
    "TINT_COLOR = (0, 0, 0)  # Black\n",
    "TRANSPARENCY = .90  # Degree of transparency, 0-100%\n",
    "OPACITY = int(255 * TRANSPARENCY)\n",
    "\n",
    "from PIL import Image, ImageFont, ImageDraw\n",
    "\n",
    "img = pili.open('ipynb.images/comic book 2/edited comic book 2/58.PNG').convert('RGBA')\n",
    "\n",
    "overlay = pili.new('RGBA', img.size, TINT_COLOR+(0,))\n",
    "draw = pild.Draw(overlay)\n",
    "font = pilf.truetype(\"arial.ttf\", 20)\n",
    "x, y = (img.width, img.height)\n",
    "text = caption\n",
    "w, h = font.getsize(text)\n",
    "num_lines = len(text.split('\\n'))\n",
    "print(num_lines, w, h)\n",
    "x, y = 10, img.height - (num_lines-0.001*num_lines)*h\n",
    "#draw.rectangle((x+w, y+h, x + w, y + h), fill='black')\n",
    "#draw.rectangle((x, y, x + w, y + 4*h), fill=TINT_COLOR+(OPACITY,))\n",
    "draw.rectangle((x, y, x + img.width*3, y + img.height*3), fill=TINT_COLOR+(OPACITY,))\n",
    "draw.text((x, y), text, fill=(225, 255, 255), font=font)\n",
    "\n",
    "# Alpha composite these two images together to obtain the desired result.\n",
    "img = pili.alpha_composite(img, overlay)\n",
    "img = img.convert(\"RGB\") # Remove alpha for saving in jpg format.\n",
    "\n",
    "img.save('ipynb.images/comic book 2/edited comic book 2 with captions/58.PNG')"
   ]
  },
  {
   "cell_type": "code",
   "execution_count": 51,
   "metadata": {},
   "outputs": [
    {
     "name": "stdout",
     "output_type": "stream",
     "text": [
      "1 390 23\n"
     ]
    }
   ],
   "source": [
    " from IPython.display import Image\n",
    "from PIL import Image as pili, ImageOps as piliops\n",
    "from PIL import Image as pili, ImageDraw as pild, ImageFont as pilf \n",
    "\n",
    "piliops.expand(pili.open('ipynb.images/comic book 2/59.png'), border=(10,10),fill='black').save('ipynb.images/comic book 2/edited comic book 2/59.PNG')\n",
    "Image(filename='ipynb.images/comic book 2/edited comic book 2/59.PNG', width=400)\n",
    "\n",
    "caption = \"\"\"As they climb, Shere Khan goes after them \"\"\"\n",
    "\n",
    "TINT_COLOR = (0, 0, 0)  # Black\n",
    "TRANSPARENCY = .90  # Degree of transparency, 0-100%\n",
    "OPACITY = int(255 * TRANSPARENCY)\n",
    "\n",
    "from PIL import Image, ImageFont, ImageDraw\n",
    "\n",
    "img = pili.open('ipynb.images/comic book 2/edited comic book 2/59.PNG').convert('RGBA')\n",
    "\n",
    "overlay = pili.new('RGBA', img.size, TINT_COLOR+(0,))\n",
    "draw = pild.Draw(overlay)\n",
    "font = pilf.truetype(\"arial.ttf\", 20)\n",
    "x, y = (img.width, img.height)\n",
    "text = caption\n",
    "w, h = font.getsize(text)\n",
    "num_lines = len(text.split('\\n'))\n",
    "print(num_lines, w, h)\n",
    "x, y = 10, img.height - (num_lines-0.001*num_lines)*h\n",
    "#draw.rectangle((x+w, y+h, x + w, y + h), fill='black')\n",
    "#draw.rectangle((x, y, x + w, y + 4*h), fill=TINT_COLOR+(OPACITY,))\n",
    "draw.rectangle((x, y, x + img.width*3, y + img.height*3), fill=TINT_COLOR+(OPACITY,))\n",
    "draw.text((x, y), text, fill=(225, 255, 255), font=font)\n",
    "\n",
    "# Alpha composite these two images together to obtain the desired result.\n",
    "img = pili.alpha_composite(img, overlay)\n",
    "img = img.convert(\"RGB\") # Remove alpha for saving in jpg format.\n",
    "\n",
    "img.save('ipynb.images/comic book 2/edited comic book 2 with captions/59.PNG')"
   ]
  },
  {
   "cell_type": "code",
   "execution_count": 52,
   "metadata": {},
   "outputs": [
    {
     "name": "stdout",
     "output_type": "stream",
     "text": [
      "2 754 23\n"
     ]
    }
   ],
   "source": [
    " from IPython.display import Image\n",
    "from PIL import Image as pili, ImageOps as piliops\n",
    "from PIL import Image as pili, ImageDraw as pild, ImageFont as pilf \n",
    "\n",
    "piliops.expand(pili.open('ipynb.images/comic book 2/60.png'), border=(10,10),fill='black').save('ipynb.images/comic book 2/edited comic book 2/60.PNG')\n",
    "Image(filename='ipynb.images/comic book 2/edited comic book 2/60.PNG', width=400)\n",
    "\n",
    "caption = \"\"\"However, the stone head collapses and it falls with Mowgli, Shere Khan \n",
    "and Shanti \"\"\"\n",
    "\n",
    "TINT_COLOR = (0, 0, 0)  # Black\n",
    "TRANSPARENCY = .90  # Degree of transparency, 0-100%\n",
    "OPACITY = int(255 * TRANSPARENCY)\n",
    "\n",
    "from PIL import Image, ImageFont, ImageDraw\n",
    "\n",
    "img = pili.open('ipynb.images/comic book 2/edited comic book 2/60.PNG').convert('RGBA')\n",
    "\n",
    "overlay = pili.new('RGBA', img.size, TINT_COLOR+(0,))\n",
    "draw = pild.Draw(overlay)\n",
    "font = pilf.truetype(\"arial.ttf\", 20)\n",
    "x, y = (img.width, img.height)\n",
    "text = caption\n",
    "w, h = font.getsize(text)\n",
    "num_lines = len(text.split('\\n'))\n",
    "print(num_lines, w, h)\n",
    "x, y = 10, img.height - (num_lines-0.001*num_lines)*h\n",
    "#draw.rectangle((x+w, y+h, x + w, y + h), fill='black')\n",
    "#draw.rectangle((x, y, x + w, y + 4*h), fill=TINT_COLOR+(OPACITY,))\n",
    "draw.rectangle((x, y, x + img.width*3, y + img.height*3), fill=TINT_COLOR+(OPACITY,))\n",
    "draw.text((x, y), text, fill=(225, 255, 255), font=font)\n",
    "\n",
    "# Alpha composite these two images together to obtain the desired result.\n",
    "img = pili.alpha_composite(img, overlay)\n",
    "img = img.convert(\"RGB\") # Remove alpha for saving in jpg format.\n",
    "\n",
    "img.save('ipynb.images/comic book 2/edited comic book 2 with captions/60.PNG')"
   ]
  },
  {
   "cell_type": "code",
   "execution_count": 53,
   "metadata": {},
   "outputs": [
    {
     "name": "stderr",
     "output_type": "stream",
     "text": [
      "<ipython-input-53-e83eaad2fa7d>:12: FutureWarning: arrays to stack must be passed as a \"sequence\" type such as list or tuple. Support for non-sequence iterables such as generators is deprecated as of NumPy 1.16 and will raise an error in the future.\n",
      "  imgs_comb = np.hstack( (np.asarray( i.resize(min_shape) ) for i in imgs ) )\n"
     ]
    }
   ],
   "source": [
    "import numpy as np\n",
    "import PIL\n",
    "\n",
    "list_im = ['ipynb.images/comic book 2/edited comic book 2 with captions/58.PNG',\n",
    "            'ipynb.images/comic book 2/edited comic book 2 with captions/59.PNG',\n",
    "            'ipynb.images/comic book 2/edited comic book 2 with captions/60.PNG'\n",
    "          ]\n",
    "imgs    = [ PIL.Image.open(i) for i in list_im ]\n",
    "\n",
    "# pick the image which is the smallest, and resize the others to match it (can be arbitrary image shape here)\n",
    "min_shape = sorted( [(np.sum(i.size), i.size ) for i in imgs])[0][1]\n",
    "imgs_comb = np.hstack( (np.asarray( i.resize(min_shape) ) for i in imgs ) )\n",
    "\n",
    "# save that beautiful picture\n",
    "imgs_comb = PIL.Image.fromarray( imgs_comb)\n",
    "imgs_comb.save( 'ipynb.images\\comic book 2\\combined comic book 2.3\\Strip21.png' )"
   ]
  },
  {
   "cell_type": "code",
   "execution_count": 54,
   "metadata": {},
   "outputs": [
    {
     "name": "stdout",
     "output_type": "stream",
     "text": [
      "2 333 23\n"
     ]
    }
   ],
   "source": [
    " from IPython.display import Image\n",
    "from PIL import Image as pili, ImageOps as piliops\n",
    "from PIL import Image as pili, ImageDraw as pild, ImageFont as pilf \n",
    "\n",
    "piliops.expand(pili.open('ipynb.images/comic book 2/61.png'), border=(10,10),fill='black').save('ipynb.images/comic book 2/edited comic book 2/61.PNG')\n",
    "Image(filename='ipynb.images/comic book 2/edited comic book 2/61.PNG', width=400)\n",
    "\n",
    "caption = \"\"\"Luckily, Baloo catches the children..\n",
    "\"\"\"\n",
    "\n",
    "TINT_COLOR = (0, 0, 0)  # Black\n",
    "TRANSPARENCY = .90  # Degree of transparency, 0-100%\n",
    "OPACITY = int(255 * TRANSPARENCY)\n",
    "\n",
    "from PIL import Image, ImageFont, ImageDraw\n",
    "\n",
    "img = pili.open('ipynb.images/comic book 2/edited comic book 2/61.PNG').convert('RGBA')\n",
    "\n",
    "overlay = pili.new('RGBA', img.size, TINT_COLOR+(0,))\n",
    "draw = pild.Draw(overlay)\n",
    "font = pilf.truetype(\"arial.ttf\", 20)\n",
    "x, y = (img.width, img.height)\n",
    "text = caption\n",
    "w, h = font.getsize(text)\n",
    "num_lines = len(text.split('\\n'))\n",
    "print(num_lines, w, h)\n",
    "x, y = 10, img.height - (num_lines-0.001*num_lines)*h\n",
    "#draw.rectangle((x+w, y+h, x + w, y + h), fill='black')\n",
    "#draw.rectangle((x, y, x + w, y + 4*h), fill=TINT_COLOR+(OPACITY,))\n",
    "draw.rectangle((x, y, x + img.width*3, y + img.height*3), fill=TINT_COLOR+(OPACITY,))\n",
    "draw.text((x, y), text, fill=(225, 255, 255), font=font)\n",
    "\n",
    "# Alpha composite these two images together to obtain the desired result.\n",
    "img = pili.alpha_composite(img, overlay)\n",
    "img = img.convert(\"RGB\") # Remove alpha for saving in jpg format.\n",
    "\n",
    "img.save('ipynb.images/comic book 2/edited comic book 2 with captions/61.PNG')"
   ]
  },
  {
   "cell_type": "code",
   "execution_count": 55,
   "metadata": {},
   "outputs": [
    {
     "name": "stdout",
     "output_type": "stream",
     "text": [
      "2 468 23\n"
     ]
    }
   ],
   "source": [
    " from IPython.display import Image\n",
    "from PIL import Image as pili, ImageOps as piliops\n",
    "from PIL import Image as pili, ImageDraw as pild, ImageFont as pilf \n",
    "\n",
    "piliops.expand(pili.open('ipynb.images/comic book 2/62.png'), border=(10,10),fill='black').save('ipynb.images/comic book 2/edited comic book 2/62.PNG')\n",
    "Image(filename='ipynb.images/comic book 2/edited comic book 2/62.PNG', width=400)\n",
    "\n",
    "caption = \"\"\"Shere Khan falls off the ledge into the hot lava lake\n",
    "\"\"\"\n",
    "\n",
    "TINT_COLOR = (0, 0, 0)  # Black\n",
    "TRANSPARENCY = .90  # Degree of transparency, 0-100%\n",
    "OPACITY = int(255 * TRANSPARENCY)\n",
    "\n",
    "from PIL import Image, ImageFont, ImageDraw\n",
    "\n",
    "img = pili.open('ipynb.images/comic book 2/edited comic book 2/62.PNG').convert('RGBA')\n",
    "\n",
    "overlay = pili.new('RGBA', img.size, TINT_COLOR+(0,))\n",
    "draw = pild.Draw(overlay)\n",
    "font = pilf.truetype(\"arial.ttf\", 20)\n",
    "x, y = (img.width, img.height)\n",
    "text = caption\n",
    "w, h = font.getsize(text)\n",
    "num_lines = len(text.split('\\n'))\n",
    "print(num_lines, w, h)\n",
    "x, y = 10, img.height - (num_lines-0.001*num_lines)*h\n",
    "#draw.rectangle((x+w, y+h, x + w, y + h), fill='black')\n",
    "#draw.rectangle((x, y, x + w, y + 4*h), fill=TINT_COLOR+(OPACITY,))\n",
    "draw.rectangle((x, y, x + img.width*3, y + img.height*3), fill=TINT_COLOR+(OPACITY,))\n",
    "draw.text((x, y), text, fill=(225, 255, 255), font=font)\n",
    "\n",
    "# Alpha composite these two images together to obtain the desired result.\n",
    "img = pili.alpha_composite(img, overlay)\n",
    "img = img.convert(\"RGB\") # Remove alpha for saving in jpg format.\n",
    "\n",
    "img.save('ipynb.images/comic book 2/edited comic book 2 with captions/62.PNG')"
   ]
  },
  {
   "cell_type": "code",
   "execution_count": 56,
   "metadata": {},
   "outputs": [
    {
     "name": "stdout",
     "output_type": "stream",
     "text": [
      "4 2266 23\n"
     ]
    }
   ],
   "source": [
    " from IPython.display import Image\n",
    "from PIL import Image as pili, ImageOps as piliops\n",
    "from PIL import Image as pili, ImageDraw as pild, ImageFont as pilf \n",
    "\n",
    "piliops.expand(pili.open('ipynb.images/comic book 2/63.png'), border=(10,10),fill='black').save('ipynb.images/comic book 2/edited comic book 2/63.PNG')\n",
    "Image(filename='ipynb.images/comic book 2/edited comic book 2/63.PNG', width=400)\n",
    "\n",
    "caption = \"\"\"Baloo, Bagheera and the children unite. A part of Mowgli wants \n",
    "to stay in the jungle. Shanti emphathizes with Mowgli and asks him to decide \n",
    "for himself. Baloo encourages him to go to the man village after he \n",
    "is convinced that Mowgli is in good hands \"\"\"\n",
    "\n",
    "TINT_COLOR = (0, 0, 0)  # Black\n",
    "TRANSPARENCY = .90  # Degree of transparency, 0-100%\n",
    "OPACITY = int(255 * TRANSPARENCY)\n",
    "\n",
    "from PIL import Image, ImageFont, ImageDraw\n",
    "\n",
    "img = pili.open('ipynb.images/comic book 2/edited comic book 2/63.PNG').convert('RGBA')\n",
    "\n",
    "overlay = pili.new('RGBA', img.size, TINT_COLOR+(0,))\n",
    "draw = pild.Draw(overlay)\n",
    "font = pilf.truetype(\"arial.ttf\", 20)\n",
    "x, y = (img.width, img.height)\n",
    "text = caption\n",
    "w, h = font.getsize(text)\n",
    "num_lines = len(text.split('\\n'))\n",
    "print(num_lines, w, h)\n",
    "x, y = 10, img.height - (num_lines-0.001*num_lines)*h\n",
    "#draw.rectangle((x+w, y+h, x + w, y + h), fill='black')\n",
    "#draw.rectangle((x, y, x + w, y + 4*h), fill=TINT_COLOR+(OPACITY,))\n",
    "draw.rectangle((x, y, x + img.width*3, y + img.height*3), fill=TINT_COLOR+(OPACITY,))\n",
    "draw.text((x, y), text, fill=(225, 255, 255), font=font)\n",
    "\n",
    "# Alpha composite these two images together to obtain the desired result.\n",
    "img = pili.alpha_composite(img, overlay)\n",
    "img = img.convert(\"RGB\") # Remove alpha for saving in jpg format.\n",
    "\n",
    "img.save('ipynb.images/comic book 2/edited comic book 2 with captions/63.PNG')"
   ]
  },
  {
   "cell_type": "code",
   "execution_count": 57,
   "metadata": {},
   "outputs": [
    {
     "name": "stderr",
     "output_type": "stream",
     "text": [
      "<ipython-input-57-dd1d849ac965>:12: FutureWarning: arrays to stack must be passed as a \"sequence\" type such as list or tuple. Support for non-sequence iterables such as generators is deprecated as of NumPy 1.16 and will raise an error in the future.\n",
      "  imgs_comb = np.hstack( (np.asarray( i.resize(min_shape) ) for i in imgs ) )\n"
     ]
    }
   ],
   "source": [
    "import numpy as np\n",
    "import PIL\n",
    "\n",
    "list_im = ['ipynb.images/comic book 2/edited comic book 2 with captions/61.PNG',\n",
    "            'ipynb.images/comic book 2/edited comic book 2 with captions/62.PNG',\n",
    "            'ipynb.images/comic book 2/edited comic book 2 with captions/63.PNG'\n",
    "          ]\n",
    "imgs    = [ PIL.Image.open(i) for i in list_im ]\n",
    "\n",
    "# pick the image which is the smallest, and resize the others to match it (can be arbitrary image shape here)\n",
    "min_shape = sorted( [(np.sum(i.size), i.size ) for i in imgs])[0][1]\n",
    "imgs_comb = np.hstack( (np.asarray( i.resize(min_shape) ) for i in imgs ) )\n",
    "\n",
    "# save that beautiful picture\n",
    "imgs_comb = PIL.Image.fromarray( imgs_comb)\n",
    "imgs_comb.save( 'ipynb.images\\comic book 2\\combined comic book 2.3\\Strip22.png' )"
   ]
  },
  {
   "cell_type": "code",
   "execution_count": 58,
   "metadata": {},
   "outputs": [
    {
     "name": "stdout",
     "output_type": "stream",
     "text": [
      "2 350 19\n"
     ]
    }
   ],
   "source": [
    " from IPython.display import Image\n",
    "from PIL import Image as pili, ImageOps as piliops\n",
    "from PIL import Image as pili, ImageDraw as pild, ImageFont as pilf \n",
    "\n",
    "piliops.expand(pili.open('ipynb.images/comic book 2/64.png'), border=(10,10),fill='black').save('ipynb.images/comic book 2/edited comic book 2/64.PNG')\n",
    "Image(filename='ipynb.images/comic book 2/edited comic book 2/64.PNG', width=400)\n",
    "\n",
    "caption = \"\"\"The children reunite with their families\n",
    "\"\"\"\n",
    "\n",
    "TINT_COLOR = (0, 0, 0)  # Black\n",
    "TRANSPARENCY = .90  # Degree of transparency, 0-100%\n",
    "OPACITY = int(255 * TRANSPARENCY)\n",
    "\n",
    "from PIL import Image, ImageFont, ImageDraw\n",
    "\n",
    "img = pili.open('ipynb.images/comic book 2/edited comic book 2/64.PNG').convert('RGBA')\n",
    "\n",
    "overlay = pili.new('RGBA', img.size, TINT_COLOR+(0,))\n",
    "draw = pild.Draw(overlay)\n",
    "font = pilf.truetype(\"arial.ttf\", 20)\n",
    "x, y = (img.width, img.height)\n",
    "text = caption\n",
    "w, h = font.getsize(text)\n",
    "num_lines = len(text.split('\\n'))\n",
    "print(num_lines, w, h)\n",
    "x, y = 10, img.height - (num_lines-0.001*num_lines)*h\n",
    "#draw.rectangle((x+w, y+h, x + w, y + h), fill='black')\n",
    "#draw.rectangle((x, y, x + w, y + 4*h), fill=TINT_COLOR+(OPACITY,))\n",
    "draw.rectangle((x, y, x + img.width*3, y + img.height*3), fill=TINT_COLOR+(OPACITY,))\n",
    "draw.text((x, y), text, fill=(225, 255, 255), font=font)\n",
    "\n",
    "# Alpha composite these two images together to obtain the desired result.\n",
    "img = pili.alpha_composite(img, overlay)\n",
    "img = img.convert(\"RGB\") # Remove alpha for saving in jpg format.\n",
    "\n",
    "img.save('ipynb.images/comic book 2/edited comic book 2 with captions/64.PNG')"
   ]
  },
  {
   "cell_type": "code",
   "execution_count": 59,
   "metadata": {},
   "outputs": [
    {
     "name": "stdout",
     "output_type": "stream",
     "text": [
      "2 758 23\n"
     ]
    }
   ],
   "source": [
    " from IPython.display import Image\n",
    "from PIL import Image as pili, ImageOps as piliops\n",
    "from PIL import Image as pili, ImageDraw as pild, ImageFont as pilf \n",
    "\n",
    "piliops.expand(pili.open('ipynb.images/comic book 2/65.png'), border=(10,10),fill='black').save('ipynb.images/comic book 2/edited comic book 2/65.PNG')\n",
    "Image(filename='ipynb.images/comic book 2/edited comic book 2/65.PNG', width=400)\n",
    "\n",
    "caption = \"\"\"Mowgli reconciles with his adoptive father and they all head back to the \n",
    "man-village \"\"\"\n",
    "\n",
    "TINT_COLOR = (0, 0, 0)  # Black\n",
    "TRANSPARENCY = .90  # Degree of transparency, 0-100%\n",
    "OPACITY = int(255 * TRANSPARENCY)\n",
    "\n",
    "from PIL import Image, ImageFont, ImageDraw\n",
    "\n",
    "img = pili.open('ipynb.images/comic book 2/edited comic book 2/65.PNG').convert('RGBA')\n",
    "\n",
    "overlay = pili.new('RGBA', img.size, TINT_COLOR+(0,))\n",
    "draw = pild.Draw(overlay)\n",
    "font = pilf.truetype(\"arial.ttf\", 20)\n",
    "x, y = (img.width, img.height)\n",
    "text = caption\n",
    "w, h = font.getsize(text)\n",
    "num_lines = len(text.split('\\n'))\n",
    "print(num_lines, w, h)\n",
    "x, y = 10, img.height - (num_lines-0.001*num_lines)*h\n",
    "#draw.rectangle((x+w, y+h, x + w, y + h), fill='black')\n",
    "#draw.rectangle((x, y, x + w, y + 4*h), fill=TINT_COLOR+(OPACITY,))\n",
    "draw.rectangle((x, y, x + img.width*3, y + img.height*3), fill=TINT_COLOR+(OPACITY,))\n",
    "draw.text((x, y), text, fill=(225, 255, 255), font=font)\n",
    "\n",
    "# Alpha composite these two images together to obtain the desired result.\n",
    "img = pili.alpha_composite(img, overlay)\n",
    "img = img.convert(\"RGB\") # Remove alpha for saving in jpg format.\n",
    "\n",
    "img.save('ipynb.images/comic book 2/edited comic book 2 with captions/65.PNG')"
   ]
  },
  {
   "cell_type": "code",
   "execution_count": 60,
   "metadata": {},
   "outputs": [
    {
     "name": "stdout",
     "output_type": "stream",
     "text": [
      "2 707 23\n"
     ]
    }
   ],
   "source": [
    " from IPython.display import Image\n",
    "from PIL import Image as pili, ImageOps as piliops\n",
    "from PIL import Image as pili, ImageDraw as pild, ImageFont as pilf \n",
    "\n",
    "piliops.expand(pili.open('ipynb.images/comic book 2/65.1.png'), border=(10,10),fill='black').save('ipynb.images/comic book 2/edited comic book 2/65.1.PNG')\n",
    "Image(filename='ipynb.images/comic book 2/edited comic book 2/65.1.PNG', width=400)\n",
    "\n",
    "caption = \"\"\"A few days later, Mowgli, Shanti and Ranjan go out to the \n",
    "river to get water... \"\"\"\n",
    "\n",
    "TINT_COLOR = (0, 0, 0)  # Black\n",
    "TRANSPARENCY = .90  # Degree of transparency, 0-100%\n",
    "OPACITY = int(255 * TRANSPARENCY)\n",
    "\n",
    "from PIL import Image, ImageFont, ImageDraw\n",
    "\n",
    "img = pili.open('ipynb.images/comic book 2/edited comic book 2/65.1.PNG').convert('RGBA')\n",
    "\n",
    "overlay = pili.new('RGBA', img.size, TINT_COLOR+(0,))\n",
    "draw = pild.Draw(overlay)\n",
    "font = pilf.truetype(\"arial.ttf\", 20)\n",
    "x, y = (img.width, img.height)\n",
    "text = caption\n",
    "w, h = font.getsize(text)\n",
    "num_lines = len(text.split('\\n'))\n",
    "print(num_lines, w, h)\n",
    "x, y = 10, img.height - (num_lines-0.001*num_lines)*h\n",
    "#draw.rectangle((x+w, y+h, x + w, y + h), fill='black')\n",
    "#draw.rectangle((x, y, x + w, y + 4*h), fill=TINT_COLOR+(OPACITY,))\n",
    "draw.rectangle((x, y, x + img.width*3, y + img.height*3), fill=TINT_COLOR+(OPACITY,))\n",
    "draw.text((x, y), text, fill=(225, 255, 255), font=font)\n",
    "\n",
    "# Alpha composite these two images together to obtain the desired result.\n",
    "img = pili.alpha_composite(img, overlay)\n",
    "img = img.convert(\"RGB\") # Remove alpha for saving in jpg format.\n",
    "\n",
    "img.save('ipynb.images/comic book 2/edited comic book 2 with captions/65.1.PNG')"
   ]
  },
  {
   "cell_type": "code",
   "execution_count": 61,
   "metadata": {},
   "outputs": [
    {
     "name": "stderr",
     "output_type": "stream",
     "text": [
      "<ipython-input-61-1cb73e23aca6>:12: FutureWarning: arrays to stack must be passed as a \"sequence\" type such as list or tuple. Support for non-sequence iterables such as generators is deprecated as of NumPy 1.16 and will raise an error in the future.\n",
      "  imgs_comb = np.hstack( (np.asarray( i.resize(min_shape) ) for i in imgs ) )\n"
     ]
    }
   ],
   "source": [
    "import numpy as np\n",
    "import PIL\n",
    "\n",
    "list_im = ['ipynb.images/comic book 2/edited comic book 2 with captions/64.PNG',\n",
    "            'ipynb.images/comic book 2/edited comic book 2 with captions/65.PNG',\n",
    "            'ipynb.images/comic book 2/edited comic book 2 with captions/65.1.PNG'\n",
    "          ]\n",
    "imgs    = [ PIL.Image.open(i) for i in list_im ]\n",
    "\n",
    "# pick the image which is the smallest, and resize the others to match it (can be arbitrary image shape here)\n",
    "min_shape = sorted( [(np.sum(i.size), i.size ) for i in imgs])[0][1]\n",
    "imgs_comb = np.hstack( (np.asarray( i.resize(min_shape) ) for i in imgs ) )\n",
    "\n",
    "# save that beautiful picture\n",
    "imgs_comb = PIL.Image.fromarray( imgs_comb)\n",
    "imgs_comb.save( 'ipynb.images\\comic book 2\\combined comic book 2.3\\Strip23.png' )"
   ]
  },
  {
   "cell_type": "code",
   "execution_count": 62,
   "metadata": {},
   "outputs": [
    {
     "name": "stdout",
     "output_type": "stream",
     "text": [
      "2 501 23\n"
     ]
    }
   ],
   "source": [
    " from IPython.display import Image\n",
    "from PIL import Image as pili, ImageOps as piliops\n",
    "from PIL import Image as pili, ImageDraw as pild, ImageFont as pilf \n",
    "\n",
    "piliops.expand(pili.open('ipynb.images/comic book 2/65.2.png'), border=(10,10),fill='black').save('ipynb.images/comic book 2/edited comic book 2/65.2.PNG')\n",
    "Image(filename='ipynb.images/comic book 2/edited comic book 2/65.2.PNG', width=400)\n",
    "\n",
    "caption = \"\"\"..their main motive being to meet Baloo and Bagheera!\n",
    "\"\"\"\n",
    "\n",
    "TINT_COLOR = (0, 0, 0)  # Black\n",
    "TRANSPARENCY = .90  # Degree of transparency, 0-100%\n",
    "OPACITY = int(255 * TRANSPARENCY)\n",
    "\n",
    "from PIL import Image, ImageFont, ImageDraw\n",
    "\n",
    "img = pili.open('ipynb.images/comic book 2/edited comic book 2/65.2.PNG').convert('RGBA')\n",
    "\n",
    "overlay = pili.new('RGBA', img.size, TINT_COLOR+(0,))\n",
    "draw = pild.Draw(overlay)\n",
    "font = pilf.truetype(\"arial.ttf\", 20)\n",
    "x, y = (img.width, img.height)\n",
    "text = caption\n",
    "w, h = font.getsize(text)\n",
    "num_lines = len(text.split('\\n'))\n",
    "print(num_lines, w, h)\n",
    "x, y = 10, img.height - (num_lines-0.001*num_lines)*h\n",
    "#draw.rectangle((x+w, y+h, x + w, y + h), fill='black')\n",
    "#draw.rectangle((x, y, x + w, y + 4*h), fill=TINT_COLOR+(OPACITY,))\n",
    "draw.rectangle((x, y, x + img.width*3, y + img.height*3), fill=TINT_COLOR+(OPACITY,))\n",
    "draw.text((x, y), text, fill=(225, 255, 255), font=font)\n",
    "\n",
    "# Alpha composite these two images together to obtain the desired result.\n",
    "img = pili.alpha_composite(img, overlay)\n",
    "img = img.convert(\"RGB\") # Remove alpha for saving in jpg format.\n",
    "\n",
    "img.save('ipynb.images/comic book 2/edited comic book 2 with captions/65.2.PNG')"
   ]
  },
  {
   "cell_type": "code",
   "execution_count": 63,
   "metadata": {},
   "outputs": [
    {
     "name": "stdout",
     "output_type": "stream",
     "text": [
      "2 754 23\n"
     ]
    }
   ],
   "source": [
    " from IPython.display import Image\n",
    "from PIL import Image as pili, ImageOps as piliops\n",
    "from PIL import Image as pili, ImageDraw as pild, ImageFont as pilf \n",
    "\n",
    "piliops.expand(pili.open('ipynb.images/comic book 2/67.png'), border=(10,10),fill='black').save('ipynb.images/comic book 2/edited comic book 2/67.PNG')\n",
    "Image(filename='ipynb.images/comic book 2/edited comic book 2/67.PNG', width=400)\n",
    "\n",
    "caption = \"\"\"The trio meets them and they meander into the forest, happily \n",
    "singing and dancing \"\"\"\n",
    "\n",
    "TINT_COLOR = (0, 0, 0)  # Black\n",
    "TRANSPARENCY = .90  # Degree of transparency, 0-100%\n",
    "OPACITY = int(255 * TRANSPARENCY)\n",
    "\n",
    "from PIL import Image, ImageFont, ImageDraw\n",
    "\n",
    "img = pili.open('ipynb.images/comic book 2/edited comic book 2/67.PNG').convert('RGBA')\n",
    "\n",
    "overlay = pili.new('RGBA', img.size, TINT_COLOR+(0,))\n",
    "draw = pild.Draw(overlay)\n",
    "font = pilf.truetype(\"arial.ttf\", 20)\n",
    "x, y = (img.width, img.height)\n",
    "text = caption\n",
    "w, h = font.getsize(text)\n",
    "num_lines = len(text.split('\\n'))\n",
    "print(num_lines, w, h)\n",
    "x, y = 10, img.height - (num_lines-0.001*num_lines)*h\n",
    "#draw.rectangle((x+w, y+h, x + w, y + h), fill='black')\n",
    "#draw.rectangle((x, y, x + w, y + 4*h), fill=TINT_COLOR+(OPACITY,))\n",
    "draw.rectangle((x, y, x + img.width*3, y + img.height*3), fill=TINT_COLOR+(OPACITY,))\n",
    "draw.text((x, y), text, fill=(225, 255, 255), font=font)\n",
    "\n",
    "# Alpha composite these two images together to obtain the desired result.\n",
    "img = pili.alpha_composite(img, overlay)\n",
    "img = img.convert(\"RGB\") # Remove alpha for saving in jpg format.\n",
    "\n",
    "img.save('ipynb.images/comic book 2/edited comic book 2 with captions/67.PNG')"
   ]
  },
  {
   "cell_type": "code",
   "execution_count": 64,
   "metadata": {},
   "outputs": [
    {
     "name": "stdout",
     "output_type": "stream",
     "text": [
      "2 437 19\n"
     ]
    }
   ],
   "source": [
    " from IPython.display import Image\n",
    "from PIL import Image as pili, ImageOps as piliops\n",
    "from PIL import Image as pili, ImageDraw as pild, ImageFont as pilf \n",
    "\n",
    "piliops.expand(pili.open('ipynb.images/comic book 2/66.png'), border=(10,10),fill='black').save('ipynb.images/comic book 2/edited comic book 2/66.PNG')\n",
    "Image(filename='ipynb.images/comic book 2/edited comic book 2/66.PNG', width=400)\n",
    "\n",
    "caption = \"\"\"                                                 ---THE END---\n",
    "\"\"\"\n",
    "\n",
    "TINT_COLOR = (0, 0, 0)  # Black\n",
    "TRANSPARENCY = .90  # Degree of transparency, 0-100%\n",
    "OPACITY = int(255 * TRANSPARENCY)\n",
    "\n",
    "from PIL import Image, ImageFont, ImageDraw\n",
    "\n",
    "img = pili.open('ipynb.images/comic book 2/edited comic book 2/66.PNG').convert('RGBA')\n",
    "\n",
    "overlay = pili.new('RGBA', img.size, TINT_COLOR+(0,))\n",
    "draw = pild.Draw(overlay)\n",
    "font = pilf.truetype(\"arial.ttf\", 20)\n",
    "x, y = (img.width, img.height)\n",
    "text = caption\n",
    "w, h = font.getsize(text)\n",
    "num_lines = len(text.split('\\n'))\n",
    "print(num_lines, w, h)\n",
    "x, y = 10, img.height - (num_lines-0.001*num_lines)*h\n",
    "#draw.rectangle((x+w, y+h, x + w, y + h), fill='black')\n",
    "#draw.rectangle((x, y, x + w, y + 4*h), fill=TINT_COLOR+(OPACITY,))\n",
    "draw.rectangle((x, y, x + img.width*3, y + img.height*3), fill=TINT_COLOR+(OPACITY,))\n",
    "draw.text((x, y), text, fill=(225, 255, 255), font=font)\n",
    "\n",
    "# Alpha composite these two images together to obtain the desired result.\n",
    "img = pili.alpha_composite(img, overlay)\n",
    "img = img.convert(\"RGB\") # Remove alpha for saving in jpg format.\n",
    "\n",
    "img.save('ipynb.images/comic book 2/edited comic book 2 with captions/66.PNG')"
   ]
  },
  {
   "cell_type": "code",
   "execution_count": 65,
   "metadata": {},
   "outputs": [
    {
     "name": "stderr",
     "output_type": "stream",
     "text": [
      "<ipython-input-65-174e68ec373a>:12: FutureWarning: arrays to stack must be passed as a \"sequence\" type such as list or tuple. Support for non-sequence iterables such as generators is deprecated as of NumPy 1.16 and will raise an error in the future.\n",
      "  imgs_comb = np.hstack( (np.asarray( i.resize(min_shape) ) for i in imgs ) )\n"
     ]
    }
   ],
   "source": [
    "import numpy as np\n",
    "import PIL\n",
    "\n",
    "list_im = ['ipynb.images/comic book 2/edited comic book 2 with captions/65.2.PNG',\n",
    "            'ipynb.images/comic book 2/edited comic book 2 with captions/67.PNG',\n",
    "            'ipynb.images/comic book 2/edited comic book 2 with captions/66.PNG'\n",
    "          ]\n",
    "imgs    = [ PIL.Image.open(i) for i in list_im ]\n",
    "\n",
    "# pick the image which is the smallest, and resize the others to match it (can be arbitrary image shape here)\n",
    "min_shape = sorted( [(np.sum(i.size), i.size ) for i in imgs])[0][1]\n",
    "imgs_comb = np.hstack( (np.asarray( i.resize(min_shape) ) for i in imgs ) )\n",
    "\n",
    "# save that beautiful picture\n",
    "imgs_comb = PIL.Image.fromarray( imgs_comb)\n",
    "imgs_comb.save( 'ipynb.images\\comic book 2\\combined comic book 2.3\\Strip24.png' )"
   ]
  },
  {
   "cell_type": "code",
   "execution_count": 66,
   "metadata": {},
   "outputs": [
    {
     "name": "stderr",
     "output_type": "stream",
     "text": [
      "<ipython-input-66-f2292bb35598>:12: FutureWarning: arrays to stack must be passed as a \"sequence\" type such as list or tuple. Support for non-sequence iterables such as generators is deprecated as of NumPy 1.16 and will raise an error in the future.\n",
      "  imgs_comb = np.vstack( (np.asarray( i.resize(min_shape) ) for i in imgs ) )\n"
     ]
    }
   ],
   "source": [
    "list_im = ['ipynb.images\\comic book 2\\combined comic book 2.3\\Strip1.png',\n",
    "            'ipynb.images\\comic book 2\\combined comic book 2.3\\Strip2.png',\n",
    "            'ipynb.images\\comic book 2\\combined comic book 2.3\\Strip3.png',\n",
    "            'ipynb.images\\comic book 2\\combined comic book 2.3\\Strip4.png',\n",
    "            'ipynb.images\\comic book 2\\combined comic book 2.3\\Strip5.png',\n",
    "            'ipynb.images\\comic book 2\\combined comic book 2.3\\Strip6.png',\n",
    "          ]\n",
    "imgs    = [ PIL.Image.open(i) for i in list_im ]\n",
    "\n",
    "# pick the image which is the smallest, and resize the others to match it (can be arbitrary image shape here)\n",
    "min_shape = sorted( [(np.sum(i.size), i.size ) for i in imgs])[0][1]\n",
    "imgs_comb = np.vstack( (np.asarray( i.resize(min_shape) ) for i in imgs ) )\n",
    "\n",
    "# save that beautiful picture\n",
    "imgs_comb = PIL.Image.fromarray( imgs_comb)\n",
    "imgs_comb.save( 'ipynb.images/comic book 2/combined final comic book 2.3/superfinal-Strip1.png' ) "
   ]
  },
  {
   "cell_type": "code",
   "execution_count": 67,
   "metadata": {},
   "outputs": [
    {
     "name": "stderr",
     "output_type": "stream",
     "text": [
      "<ipython-input-67-e9bf850aed4f>:12: FutureWarning: arrays to stack must be passed as a \"sequence\" type such as list or tuple. Support for non-sequence iterables such as generators is deprecated as of NumPy 1.16 and will raise an error in the future.\n",
      "  imgs_comb = np.vstack( (np.asarray( i.resize(min_shape) ) for i in imgs ) )\n"
     ]
    }
   ],
   "source": [
    "list_im = ['ipynb.images/comic book 2/combined comic book 2.3/Strip7.png',\n",
    "            'ipynb.images/comic book 2/combined comic book 2.3/Strip8.png',\n",
    "            'ipynb.images/comic book 2/combined comic book 2.3/Strip9.png',\n",
    "            'ipynb.images/comic book 2/combined comic book 2.3/Strip10.png',\n",
    "            'ipynb.images/comic book 2/combined comic book 2.3/Strip11.png',\n",
    "            'ipynb.images/comic book 2/combined comic book 2.3/Strip12.png'\n",
    "          ]\n",
    "imgs    = [ PIL.Image.open(i) for i in list_im ]\n",
    "\n",
    "# pick the image which is the smallest, and resize the others to match it (can be arbitrary image shape here)\n",
    "min_shape = sorted( [(np.sum(i.size), i.size ) for i in imgs])[0][1]\n",
    "imgs_comb = np.vstack( (np.asarray( i.resize(min_shape) ) for i in imgs ) )\n",
    "\n",
    "# save that beautiful picture\n",
    "imgs_comb = PIL.Image.fromarray( imgs_comb)\n",
    "imgs_comb.save( 'ipynb.images/comic book 2/combined final comic book 2.3/superfinal-Strip2.png' ) "
   ]
  },
  {
   "cell_type": "code",
   "execution_count": 68,
   "metadata": {},
   "outputs": [
    {
     "name": "stderr",
     "output_type": "stream",
     "text": [
      "<ipython-input-68-d2508d04ac54>:12: FutureWarning: arrays to stack must be passed as a \"sequence\" type such as list or tuple. Support for non-sequence iterables such as generators is deprecated as of NumPy 1.16 and will raise an error in the future.\n",
      "  imgs_comb = np.vstack( (np.asarray( i.resize(min_shape) ) for i in imgs ) )\n"
     ]
    }
   ],
   "source": [
    "list_im = ['ipynb.images/comic book 2/combined comic book 2.3/Strip13.png',\n",
    "            'ipynb.images/comic book 2/combined comic book 2.3/Strip14.png',\n",
    "            'ipynb.images/comic book 2/combined comic book 2.3/Strip15.png',\n",
    "            'ipynb.images/comic book 2/combined comic book 2.3/Strip16.png',\n",
    "            'ipynb.images/comic book 2/combined comic book 2.3/Strip17.png',\n",
    "            'ipynb.images/comic book 2/combined comic book 2.3/Strip18.png'\n",
    "          ]\n",
    "imgs    = [ PIL.Image.open(i) for i in list_im ]\n",
    "\n",
    "# pick the image which is the smallest, and resize the others to match it (can be arbitrary image shape here)\n",
    "min_shape = sorted( [(np.sum(i.size), i.size ) for i in imgs])[0][1]\n",
    "imgs_comb = np.vstack( (np.asarray( i.resize(min_shape) ) for i in imgs ) )\n",
    "\n",
    "# save that beautiful picture\n",
    "imgs_comb = PIL.Image.fromarray( imgs_comb)\n",
    "imgs_comb.save( 'ipynb.images/comic book 2/combined final comic book 2.3/superfinal-Strip3.png' ) "
   ]
  },
  {
   "cell_type": "code",
   "execution_count": 313,
   "metadata": {},
   "outputs": [
    {
     "name": "stderr",
     "output_type": "stream",
     "text": [
      "<ipython-input-313-6b4e0b0a22dd>:12: FutureWarning: arrays to stack must be passed as a \"sequence\" type such as list or tuple. Support for non-sequence iterables such as generators is deprecated as of NumPy 1.16 and will raise an error in the future.\n",
      "  imgs_comb = np.vstack( (np.asarray( i.resize(min_shape) ) for i in imgs ) )\n"
     ]
    }
   ],
   "source": [
    "list_im = ['ipynb.images/comic book 2/combined comic book 2.3/Strip19.png',\n",
    "            'ipynb.images/comic book 2/combined comic book 2.3/Strip20.png',\n",
    "            'ipynb.images/comic book 2/combined comic book 2.3/Strip21.png',\n",
    "            'ipynb.images/comic book 2/combined comic book 2.3/Strip22.png',\n",
    "            'ipynb.images/comic book 2/combined comic book 2.3/Strip23.png',\n",
    "            'ipynb.images/comic book 2/combined comic book 2.3/Strip24.png'\n",
    "          ]\n",
    "imgs    = [ PIL.Image.open(i) for i in list_im ]\n",
    "\n",
    "# pick the image which is the smallest, and resize the others to match it (can be arbitrary image shape here)\n",
    "min_shape = sorted( [(np.sum(i.size), i.size ) for i in imgs])[0][1]\n",
    "imgs_comb = np.vstack( (np.asarray( i.resize(min_shape) ) for i in imgs ) )\n",
    "\n",
    "# save that beautiful picture\n",
    "imgs_comb = PIL.Image.fromarray( imgs_comb)\n",
    "imgs_comb.save( 'ipynb.images/comic book 2/combined final comic book 2.3/superfinal-Strip4.png' ) "
   ]
  },
  {
   "cell_type": "code",
   "execution_count": 69,
   "metadata": {},
   "outputs": [
    {
     "name": "stdout",
     "output_type": "stream",
     "text": [
      "done!\n"
     ]
    }
   ],
   "source": [
    "from PIL import Image\n",
    "from fpdf import FPDF\n",
    "from PIL import Image as pili, ImageOps as piliops\n",
    "\n",
    "piliops.expand(pili.open('ipynb.images/comic book 2/cover.jpg'), border=(10,10),fill='black').save('ipynb.images/comic book 2/cover_final.jpg')\n",
    "\n",
    "pdf = FPDF()\n",
    "cover = Image.open('ipynb.images\\comic book 2\\cover.jpg')\n",
    "width, height = cover.size\n",
    "pdf = FPDF(unit = \"pt\", format = [width, height])\n",
    "    \n",
    "# imagelist is the list with all image filenames\n",
    "imagelist = ['ipynb.images/comic book 2/cover_final.jpg',\n",
    "             'ipynb.images/comic book 2/combined final comic book 2.3/superfinal-Strip1.png', \n",
    "             'ipynb.images/comic book 2/combined final comic book 2.3/superfinal-Strip2.png', \n",
    "             'ipynb.images/comic book 2/combined final comic book 2.3/superfinal-Strip3.png',\n",
    "             'ipynb.images/comic book 2/combined final comic book 2.3/superfinal-Strip4.png'\n",
    "            ]\n",
    "\n",
    "for image in imagelist:\n",
    "    pdf.add_page()\n",
    "    pdf.image(image, 0, 0, width, height)\n",
    "pdf.output(\"ipynb.images\\junglebook.pdf\", \"F\")\n",
    "print(\"done!\")"
   ]
  },
  {
   "cell_type": "code",
   "execution_count": 290,
   "metadata": {},
   "outputs": [
    {
     "name": "stdout",
     "output_type": "stream",
     "text": [
      "new page!\n",
      "['0', '1', '2', '3']\n",
      "['4', '5', '6']\n",
      "['7', '8', '9', '10', '11']\n",
      "['12', '13', '14', '15']\n",
      "['16', '17', '18']\n",
      "['19', '20', '21', '22', '23']\n",
      "new page!\n",
      "['24', '25', '26']\n",
      "['27', '28', '29', '30', '31']\n",
      "['32', '33', '34', '35']\n",
      "['36', '37', '38']\n",
      "['39', '40', '41', '42']\n",
      "['43', '44', '45', '46', '47']\n",
      "new page!\n",
      "['48', '49', '50', '51']\n",
      "['52', '53', '54']\n",
      "['55', '56', '57', '58']\n",
      "['59', '60', '61']\n",
      "['62', '63', '64', '65', '66']\n",
      "['67', '68', '69', '70']\n",
      "new page!\n",
      "['71', '72', '73', '74']\n",
      "['75', '76', '77']\n",
      "['78', '79', '80', '81', '82']\n",
      "['83', '84', '85', '86']\n",
      "['87', '88', '89']\n",
      "['90', '91', '92', '93']\n",
      "new page!\n",
      "['94', '95', '96', '97', '98']\n",
      "['99']\n"
     ]
    }
   ],
   "source": [
    "list_im = [str(x) for x in range(100)]\n",
    "   \n",
    "while 0 < len(list_im):\n",
    "    lines = 0\n",
    "    print(\"new page!\")\n",
    "    num_cols = old_num_cols = 0\n",
    "    while lines < 6 and 0 < len(list_im):\n",
    "        lines += 1\n",
    "        while num_cols == old_num_cols:\n",
    "            num_cols = np.random.randint(3, 6)\n",
    "        old_num_cols = num_cols\n",
    "        window = list_im[:num_cols]\n",
    "        print(window)\n",
    "        list_im = list_im[num_cols:]"
   ]
  },
  {
   "cell_type": "code",
   "execution_count": 291,
   "metadata": {},
   "outputs": [
    {
     "name": "stdout",
     "output_type": "stream",
     "text": [
      "new page!\n",
      "['algae2.jpg', 'container.png', 'crossovers.webp', 'dna.gif']\n",
      "['exponential-smoothing.png', 'funny-fish.gif', 'john-stuart-mill.jpg', 'junglebook.pdf', 'kungfu-panda.png']\n",
      "['LysozymeRock.gif', 'minion-wow.gif', 'neuron.webp', 'oh-no.png']\n",
      "['pretty-forest.jpeg', 'RocketSnail.png', 'science.png']\n",
      "['sunspots.jpg', 'tree-sloth.jpg', 'will-smith-aladin-2.jpg', 'will-smith-aladin.jpg']\n",
      "['wolf-wall-street.jpg']\n"
     ]
    }
   ],
   "source": [
    "from os import listdir\n",
    "from os.path import isfile, join\n",
    "\n",
    "mypath = 'ipynb.images'\n",
    "onlyfiles = [f for f in listdir(mypath) if isfile(join(mypath, f))]\n",
    "\n",
    "lines = 0\n",
    "print(\"new page!\")\n",
    "num_cols = old_num_cols = 0\n",
    "while lines < 6 and 0 < len(onlyfiles):\n",
    "    lines += 1\n",
    "    while num_cols == old_num_cols:\n",
    "        num_cols = np.random.randint(3, 6)\n",
    "    old_num_cols = num_cols\n",
    "    window = onlyfiles[:num_cols]\n",
    "    print(window)   \n",
    "    onlyfiles = onlyfiles[num_cols:]"
   ]
  },
  {
   "cell_type": "code",
   "execution_count": null,
   "metadata": {},
   "outputs": [],
   "source": []
  }
 ],
 "metadata": {
  "kernelspec": {
   "display_name": "Python 3",
   "language": "python",
   "name": "python3"
  },
  "language_info": {
   "codemirror_mode": {
    "name": "ipython",
    "version": 3
   },
   "file_extension": ".py",
   "mimetype": "text/x-python",
   "name": "python",
   "nbconvert_exporter": "python",
   "pygments_lexer": "ipython3",
   "version": "3.8.5"
  }
 },
 "nbformat": 4,
 "nbformat_minor": 4
}
